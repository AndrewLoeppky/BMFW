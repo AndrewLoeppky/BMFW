{
 "cells": [
  {
   "cell_type": "markdown",
   "id": "bd37e360-d885-4ea8-9623-c72813a68d27",
   "metadata": {},
   "source": [
    "# GDPS 🅱\n",
    "\n",
    "<style>\n",
    "  .beta-badge {\n",
    "    background-color: #f39c12;\n",
    "    color: white;\n",
    "    padding: 4px 8px;\n",
    "    border-radius: 4px;\n",
    "    font-weight: bold;\n",
    "  }\n",
    "</style>\n",
    "\n",
    "<span class=\"beta-badge\">BETA</span>\n",
    "<span class=\"beta-badge\">Requires MetPy >=1.6</span>\n",
    "\n",
    "This demonstrates using data from Canada's GEM Global or Global Deterministic Prediction System (GDPS).\n",
    "\n",
    "[GDPS Model Description](https://eccc-msc.github.io/open-data/msc-data/nwp_gdps/readme_gdps-datamart_en/#data-location)\n",
    "\n",
    "\n",
    "**Data Sources**\n",
    "\n",
    "|`prioriy=`|Data source| Archive Duration|\n",
    "|--|--|--|\n",
    "|`\"mcs\"` | [Meteorological Service of Canada](https://dd.weather.gc.ca/model_gem_global/) | Last 24 hours\n",
    "\n",
    "**Model Initialization**\n",
    "\n",
    "Model cyles every twelve hours.\n",
    "\n",
    "**Forecast Hour**\n",
    "\n",
    "For the most recent version of GDPS...\n",
    "\n",
    "|`fxx=`|Forecast lead time|\n",
    "|--|--|\n",
    "|`0` through `240`, step=3| 3-hourly forecasts available\n",
    "\n",
    "\n",
    "**Products**\n",
    "\n",
    "|`product=`| Product Description |    \n",
    "|--|--|\n",
    "|`\"15km/grib2/lat_lon\"`| Global domain\n",
    "\n",
    "**Variable and Level**\n",
    "\n",
    "You will need to specify the variable and level for each request. \n",
    "\n",
    "<br>\n",
    "\n",
    "\n",
    "> **NOTE:** The organization of these files is different than other NWP products.\n",
    ">\n",
    "> 1. There are no index files provided.\n",
    "> 1. Each GRIB2 file only contains one message. The variable name and level is in the file's name.\n",
    ">\n",
    "> Herbie requires you provide a keyword argument for both `variable` and `level`. Pay special attention to model description (linked above) to understand how the model data is organized. If you don't provide input for `variable` or `level`, Herbie will give you some ideas. For example, `variable=TMP` and `level=TGL_2` will give you the filename that contains\n",
    ">\n",
    "> ```\n",
    "> TMP_TGL_2\n",
    "> ```\n",
    "\n",
    "> **Note:** This requires MetPy version 1.6 or greater which has the capability to parse the _rotated latitude longitude_ map projection type (see [MetPy/#3123](https://github.com/Unidata/MetPy/pull/3123)).\n"
   ]
  },
  {
   "cell_type": "code",
   "execution_count": 1,
   "id": "056322b3",
   "metadata": {},
   "outputs": [
    {
     "name": "stdout",
     "output_type": "stream",
     "text": [
      " ╭─\u001b[48;2;255;255;255m\u001b[38;2;136;33;27m▌\u001b[0m\u001b[38;2;12;53;118m\u001b[48;2;240;234;210m▌\u001b[38;2;0;0;0m\u001b[1mHerbie\u001b[0m─────────────────────────────────────────────╮\n",
      " │ WARNING: Unable to create config file               │\n",
      " │ \u001b[38;2;255;153;0m     /Users/andrew/.config/herbie/config.toml     \u001b[0m   │\n",
      " │ Herbie will use standard default settings.           │\n",
      " │ Consider setting env variable HERBIE_CONFIG_PATH.    │\n",
      " ╰──────────────────────────────────────────────────────╯\n",
      "\n"
     ]
    }
   ],
   "source": [
    "from herbie import Herbie\n",
    "import xarray as xr\n",
    "import numpy as np\n",
    "\n",
    "import matplotlib.pyplot as plt\n",
    "from toolbox import EasyMap, pc\n",
    "import cartopy.crs as ccrs\n",
    "import cartopy.feature as feature\n",
    "import pandas as pd\n",
    "\n",
    "recent = pd.Timestamp(\"now\").floor(\"12h\") - pd.Timedelta(\"12h\")\n",
    "\n",
    "from numpy import ma\n",
    "import sys\n",
    "np.set_printoptions(threshold=sys.maxsize)"
   ]
  },
  {
   "cell_type": "code",
   "execution_count": 2,
   "id": "9b1b426b",
   "metadata": {},
   "outputs": [
    {
     "data": {
      "text/plain": [
       "Timestamp('2024-11-12 00:00:00')"
      ]
     },
     "execution_count": 2,
     "metadata": {},
     "output_type": "execute_result"
    }
   ],
   "source": [
    "recent"
   ]
  },
  {
   "cell_type": "code",
   "execution_count": 3,
   "id": "e03b7b67",
   "metadata": {},
   "outputs": [
    {
     "name": "stdout",
     "output_type": "stream",
     "text": [
      "💔 Did not find ┊ model=gdps ┊ \u001b[3mproduct=15km/grib2/lat_lon\u001b[0m ┊ \u001b[38;2;41;130;13m2024-Nov-12 00:00 UTC\u001b[92m F12\u001b[0m\n"
     ]
    }
   ],
   "source": [
    "H = Herbie(\n",
    "    recent,  # Datetime\n",
    "    model=\"gdps\",\n",
    "    fxx=12,\n",
    "    variable=\"PRATE\",\n",
    "    level=\"SFC_0\",\n",
    ")\n",
    "H.grib"
   ]
  },
  {
   "cell_type": "markdown",
   "id": "757609d6",
   "metadata": {},
   "source": [
    "## 500 hPa Geopotential Height and Surface Precipitation"
   ]
  },
  {
   "cell_type": "code",
   "execution_count": 4,
   "id": "1c994023",
   "metadata": {},
   "outputs": [
    {
     "name": "stdout",
     "output_type": "stream",
     "text": [
      "HGT ISBL_500\n"
     ]
    },
    {
     "name": "stderr",
     "output_type": "stream",
     "text": [
      "/opt/miniconda3/envs/herbie/lib/python3.13/site-packages/herbie/core.py:1117: UserWarning: Will not remove GRIB file because Herbie will only remove subsetted files (not full files).\n",
      "  warnings.warn(\n",
      "🦨 GRIB2 file not found: self.model='gdps' self.date=Timestamp('2024-11-12 00:00:00') self.fxx=6\n"
     ]
    },
    {
     "name": "stdout",
     "output_type": "stream",
     "text": [
      "💔 Did not find ┊ model=gdps ┊ \u001b[3mproduct=15km/grib2/lat_lon\u001b[0m ┊ \u001b[38;2;41;130;13m2024-Nov-12 00:00 UTC\u001b[92m F06\u001b[0m\n"
     ]
    },
    {
     "ename": "FileNotFoundError",
     "evalue": "[Errno 2] No such file or directory: '/Users/andrew/data/gdps/20241112/CMC_glb_HGT_ISBL_500_latlon.15x.15_2024111200_P006.grib2'",
     "output_type": "error",
     "traceback": [
      "\u001b[0;31m---------------------------------------------------------------------------\u001b[0m",
      "\u001b[0;31mFileNotFoundError\u001b[0m                         Traceback (most recent call last)",
      "Cell \u001b[0;32mIn[4], line 17\u001b[0m\n\u001b[1;32m      7\u001b[0m \u001b[38;5;28;01mfor\u001b[39;00m var, lev \u001b[38;5;129;01min\u001b[39;00m \u001b[38;5;28mzip\u001b[39m([\u001b[38;5;124m\"\u001b[39m\u001b[38;5;124mHGT\u001b[39m\u001b[38;5;124m\"\u001b[39m, \u001b[38;5;124m\"\u001b[39m\u001b[38;5;124mTCDC\u001b[39m\u001b[38;5;124m\"\u001b[39m, \u001b[38;5;124m\"\u001b[39m\u001b[38;5;124mAPCP\u001b[39m\u001b[38;5;124m\"\u001b[39m], [\u001b[38;5;124m\"\u001b[39m\u001b[38;5;124mISBL_500\u001b[39m\u001b[38;5;124m\"\u001b[39m, \u001b[38;5;124m\"\u001b[39m\u001b[38;5;124mSFC_0\u001b[39m\u001b[38;5;124m\"\u001b[39m, \u001b[38;5;124m\"\u001b[39m\u001b[38;5;124mSFC_0\u001b[39m\u001b[38;5;124m\"\u001b[39m]):\n\u001b[1;32m      8\u001b[0m \u001b[38;5;66;03m#for var, lev in zip([\"HGT\", \"APCP\"], [\"ISBL_500\", \"SFC_0\"]):\u001b[39;00m\n\u001b[1;32m      9\u001b[0m     \u001b[38;5;28mprint\u001b[39m(var, lev)\n\u001b[1;32m     10\u001b[0m     _ds \u001b[38;5;241m=\u001b[39m \u001b[43mHerbie\u001b[49m\u001b[43m(\u001b[49m\n\u001b[1;32m     11\u001b[0m \u001b[43m        \u001b[49m\u001b[43mrecent\u001b[49m\u001b[43m,\u001b[49m\n\u001b[1;32m     12\u001b[0m \u001b[43m        \u001b[49m\u001b[43mmodel\u001b[49m\u001b[38;5;241;43m=\u001b[39;49m\u001b[38;5;124;43m\"\u001b[39;49m\u001b[38;5;124;43mgdps\u001b[39;49m\u001b[38;5;124;43m\"\u001b[39;49m\u001b[43m,\u001b[49m\n\u001b[1;32m     13\u001b[0m \u001b[43m        \u001b[49m\u001b[43mfxx\u001b[49m\u001b[38;5;241;43m=\u001b[39;49m\u001b[38;5;241;43m6\u001b[39;49m\u001b[43m,\u001b[49m\n\u001b[1;32m     14\u001b[0m \u001b[43m        \u001b[49m\u001b[38;5;66;43;03m#product=\"15km/grib2/lat_lon\",\u001b[39;49;00m\n\u001b[1;32m     15\u001b[0m \u001b[43m        \u001b[49m\u001b[43mvariable\u001b[49m\u001b[38;5;241;43m=\u001b[39;49m\u001b[43mvar\u001b[49m\u001b[43m,\u001b[49m\n\u001b[1;32m     16\u001b[0m \u001b[43m        \u001b[49m\u001b[43mlevel\u001b[49m\u001b[38;5;241;43m=\u001b[39;49m\u001b[43mlev\u001b[49m\u001b[43m,\u001b[49m\n\u001b[0;32m---> 17\u001b[0m \u001b[43m    \u001b[49m\u001b[43m)\u001b[49m\u001b[38;5;241;43m.\u001b[39;49m\u001b[43mxarray\u001b[49m\u001b[43m(\u001b[49m\u001b[43m)\u001b[49m\n\u001b[1;32m     18\u001b[0m     \u001b[38;5;66;03m# if the variable name is unknown, assign it\u001b[39;00m\n\u001b[1;32m     19\u001b[0m     \u001b[38;5;28;01mif\u001b[39;00m \u001b[38;5;124m\"\u001b[39m\u001b[38;5;124munknown\u001b[39m\u001b[38;5;124m\"\u001b[39m \u001b[38;5;129;01min\u001b[39;00m _ds:\n",
      "File \u001b[0;32m/opt/miniconda3/envs/herbie/lib/python3.13/site-packages/herbie/core.py:1137\u001b[0m, in \u001b[0;36mHerbie.xarray\u001b[0;34m(self, search, searchString, backend_kwargs, remove_grib, **download_kwargs)\u001b[0m\n\u001b[1;32m   1133\u001b[0m backend_kwargs\u001b[38;5;241m.\u001b[39msetdefault(\u001b[38;5;124m\"\u001b[39m\u001b[38;5;124merrors\u001b[39m\u001b[38;5;124m\"\u001b[39m, \u001b[38;5;124m\"\u001b[39m\u001b[38;5;124mraise\u001b[39m\u001b[38;5;124m\"\u001b[39m)\n\u001b[1;32m   1135\u001b[0m \u001b[38;5;66;03m# Use cfgrib.open_datasets, just in case there are multiple \"hypercubes\"\u001b[39;00m\n\u001b[1;32m   1136\u001b[0m \u001b[38;5;66;03m# for what we requested.\u001b[39;00m\n\u001b[0;32m-> 1137\u001b[0m Hxr \u001b[38;5;241m=\u001b[39m \u001b[43mcfgrib\u001b[49m\u001b[38;5;241;43m.\u001b[39;49m\u001b[43mopen_datasets\u001b[49m\u001b[43m(\u001b[49m\n\u001b[1;32m   1138\u001b[0m \u001b[43m    \u001b[49m\u001b[43mlocal_file\u001b[49m\u001b[43m,\u001b[49m\n\u001b[1;32m   1139\u001b[0m \u001b[43m    \u001b[49m\u001b[43mbackend_kwargs\u001b[49m\u001b[38;5;241;43m=\u001b[39;49m\u001b[43mbackend_kwargs\u001b[49m\u001b[43m,\u001b[49m\n\u001b[1;32m   1140\u001b[0m \u001b[43m\u001b[49m\u001b[43m)\u001b[49m\n\u001b[1;32m   1142\u001b[0m \u001b[38;5;66;03m# Get CF grid projection information with pygrib and pyproj because\u001b[39;00m\n\u001b[1;32m   1143\u001b[0m \u001b[38;5;66;03m# this is something cfgrib doesn't do (https://github.com/ecmwf/cfgrib/issues/251)\u001b[39;00m\n\u001b[1;32m   1144\u001b[0m \u001b[38;5;66;03m# NOTE: Assumes the projection is the same for all variables\u001b[39;00m\n\u001b[1;32m   1145\u001b[0m \u001b[38;5;28;01mwith\u001b[39;00m pygrib\u001b[38;5;241m.\u001b[39mopen(\u001b[38;5;28mstr\u001b[39m(local_file)) \u001b[38;5;28;01mas\u001b[39;00m grb:\n",
      "File \u001b[0;32m/opt/miniconda3/envs/herbie/lib/python3.13/site-packages/cfgrib/xarray_store.py:119\u001b[0m, in \u001b[0;36mopen_datasets\u001b[0;34m(path, backend_kwargs, **kwargs)\u001b[0m\n\u001b[1;32m    117\u001b[0m backend_kwargs \u001b[38;5;241m=\u001b[39m backend_kwargs\u001b[38;5;241m.\u001b[39mcopy()\n\u001b[1;32m    118\u001b[0m backend_kwargs[\u001b[38;5;124m\"\u001b[39m\u001b[38;5;124msqueeze\u001b[39m\u001b[38;5;124m\"\u001b[39m] \u001b[38;5;241m=\u001b[39m \u001b[38;5;28;01mFalse\u001b[39;00m\n\u001b[0;32m--> 119\u001b[0m datasets \u001b[38;5;241m=\u001b[39m \u001b[43mopen_variable_datasets\u001b[49m\u001b[43m(\u001b[49m\u001b[43mpath\u001b[49m\u001b[43m,\u001b[49m\u001b[43m \u001b[49m\u001b[43mbackend_kwargs\u001b[49m\u001b[38;5;241;43m=\u001b[39;49m\u001b[43mbackend_kwargs\u001b[49m\u001b[43m,\u001b[49m\u001b[43m \u001b[49m\u001b[38;5;241;43m*\u001b[39;49m\u001b[38;5;241;43m*\u001b[39;49m\u001b[43mkwargs\u001b[49m\u001b[43m)\u001b[49m\n\u001b[1;32m    121\u001b[0m type_of_level_datasets \u001b[38;5;241m=\u001b[39m {}  \u001b[38;5;66;03m# type: T.Dict[str, T.List[xr.Dataset]]\u001b[39;00m\n\u001b[1;32m    122\u001b[0m \u001b[38;5;28;01mfor\u001b[39;00m ds \u001b[38;5;129;01min\u001b[39;00m datasets:\n",
      "File \u001b[0;32m/opt/miniconda3/envs/herbie/lib/python3.13/site-packages/cfgrib/xarray_store.py:101\u001b[0m, in \u001b[0;36mopen_variable_datasets\u001b[0;34m(path, backend_kwargs, **kwargs)\u001b[0m\n\u001b[1;32m     99\u001b[0m errors \u001b[38;5;241m=\u001b[39m backend_kwargs\u001b[38;5;241m.\u001b[39mget(\u001b[38;5;124m\"\u001b[39m\u001b[38;5;124merrors\u001b[39m\u001b[38;5;124m\"\u001b[39m, \u001b[38;5;124m\"\u001b[39m\u001b[38;5;124mwarn\u001b[39m\u001b[38;5;124m\"\u001b[39m)\n\u001b[1;32m    100\u001b[0m stream \u001b[38;5;241m=\u001b[39m messages\u001b[38;5;241m.\u001b[39mFileStream(path, errors\u001b[38;5;241m=\u001b[39merrors)\n\u001b[0;32m--> 101\u001b[0m index \u001b[38;5;241m=\u001b[39m \u001b[43mopen_fileindex\u001b[49m\u001b[43m(\u001b[49m\u001b[43mstream\u001b[49m\u001b[43m,\u001b[49m\u001b[43m \u001b[49m\u001b[43mcomputed_keys\u001b[49m\u001b[38;5;241;43m=\u001b[39;49m\u001b[43mcfmessage\u001b[49m\u001b[38;5;241;43m.\u001b[39;49m\u001b[43mCOMPUTED_KEYS\u001b[49m\u001b[43m,\u001b[49m\u001b[43m \u001b[49m\u001b[38;5;241;43m*\u001b[39;49m\u001b[38;5;241;43m*\u001b[39;49m\u001b[43mfileindex_kwargs\u001b[49m\u001b[43m)\u001b[49m\n\u001b[1;32m    102\u001b[0m datasets \u001b[38;5;241m=\u001b[39m []  \u001b[38;5;66;03m# type: T.List[xr.Dataset]\u001b[39;00m\n\u001b[1;32m    103\u001b[0m \u001b[38;5;28;01mfor\u001b[39;00m param_id \u001b[38;5;129;01min\u001b[39;00m \u001b[38;5;28msorted\u001b[39m(index[\u001b[38;5;124m\"\u001b[39m\u001b[38;5;124mparamId\u001b[39m\u001b[38;5;124m\"\u001b[39m]):\n",
      "File \u001b[0;32m/opt/miniconda3/envs/herbie/lib/python3.13/site-packages/cfgrib/dataset.py:802\u001b[0m, in \u001b[0;36mopen_fileindex\u001b[0;34m(stream, indexpath, index_keys, ignore_keys, filter_by_keys, computed_keys)\u001b[0m\n\u001b[1;32m    800\u001b[0m index_keys \u001b[38;5;241m=\u001b[39m \u001b[38;5;28msorted\u001b[39m(\u001b[38;5;28mset\u001b[39m(index_keys) \u001b[38;5;241m|\u001b[39m \u001b[38;5;28mset\u001b[39m(filter_by_keys))\n\u001b[1;32m    801\u001b[0m index_keys \u001b[38;5;241m=\u001b[39m [key \u001b[38;5;28;01mfor\u001b[39;00m key \u001b[38;5;129;01min\u001b[39;00m index_keys \u001b[38;5;28;01mif\u001b[39;00m key \u001b[38;5;129;01mnot\u001b[39;00m \u001b[38;5;129;01min\u001b[39;00m ignore_keys]\n\u001b[0;32m--> 802\u001b[0m index \u001b[38;5;241m=\u001b[39m \u001b[43mmessages\u001b[49m\u001b[38;5;241;43m.\u001b[39;49m\u001b[43mFileIndex\u001b[49m\u001b[38;5;241;43m.\u001b[39;49m\u001b[43mfrom_indexpath_or_filestream\u001b[49m\u001b[43m(\u001b[49m\n\u001b[1;32m    803\u001b[0m \u001b[43m    \u001b[49m\u001b[43mstream\u001b[49m\u001b[43m,\u001b[49m\u001b[43m \u001b[49m\u001b[43mindex_keys\u001b[49m\u001b[43m,\u001b[49m\u001b[43m \u001b[49m\u001b[43mindexpath\u001b[49m\u001b[38;5;241;43m=\u001b[39;49m\u001b[43mindexpath\u001b[49m\u001b[43m,\u001b[49m\u001b[43m \u001b[49m\u001b[43mcomputed_keys\u001b[49m\u001b[38;5;241;43m=\u001b[39;49m\u001b[43mcomputed_keys\u001b[49m\n\u001b[1;32m    804\u001b[0m \u001b[43m\u001b[49m\u001b[43m)\u001b[49m\n\u001b[1;32m    805\u001b[0m \u001b[38;5;28;01mreturn\u001b[39;00m index\u001b[38;5;241m.\u001b[39msubindex(filter_by_keys)\n",
      "File \u001b[0;32m/opt/miniconda3/envs/herbie/lib/python3.13/site-packages/cfgrib/messages.py:532\u001b[0m, in \u001b[0;36mFileIndex.from_indexpath_or_filestream\u001b[0;34m(cls, filestream, index_keys, indexpath, computed_keys, log)\u001b[0m\n\u001b[1;32m    524\u001b[0m \u001b[38;5;129m@classmethod\u001b[39m\n\u001b[1;32m    525\u001b[0m \u001b[38;5;28;01mdef\u001b[39;00m \u001b[38;5;21mfrom_indexpath_or_filestream\u001b[39m(\n\u001b[1;32m    526\u001b[0m     \u001b[38;5;28mcls\u001b[39m, filestream, index_keys, indexpath\u001b[38;5;241m=\u001b[39mDEFAULT_INDEXPATH, computed_keys\u001b[38;5;241m=\u001b[39m{}, log\u001b[38;5;241m=\u001b[39mLOG\n\u001b[0;32m   (...)\u001b[0m\n\u001b[1;32m    529\u001b[0m \n\u001b[1;32m    530\u001b[0m     \u001b[38;5;66;03m# Reading and writing the index can be explicitly suppressed by passing indexpath==''.\u001b[39;00m\n\u001b[1;32m    531\u001b[0m     \u001b[38;5;28;01mif\u001b[39;00m \u001b[38;5;129;01mnot\u001b[39;00m indexpath:\n\u001b[0;32m--> 532\u001b[0m         \u001b[38;5;28;01mreturn\u001b[39;00m \u001b[38;5;28;43mcls\u001b[39;49m\u001b[38;5;241;43m.\u001b[39;49m\u001b[43mfrom_fieldset\u001b[49m\u001b[43m(\u001b[49m\u001b[43mfilestream\u001b[49m\u001b[43m,\u001b[49m\u001b[43m \u001b[49m\u001b[43mindex_keys\u001b[49m\u001b[43m,\u001b[49m\u001b[43m \u001b[49m\u001b[43mcomputed_keys\u001b[49m\u001b[43m)\u001b[49m\n\u001b[1;32m    534\u001b[0m     \u001b[38;5;28mhash\u001b[39m \u001b[38;5;241m=\u001b[39m hashlib\u001b[38;5;241m.\u001b[39mmd5(\u001b[38;5;28mrepr\u001b[39m(index_keys)\u001b[38;5;241m.\u001b[39mencode(\u001b[38;5;124m\"\u001b[39m\u001b[38;5;124mutf-8\u001b[39m\u001b[38;5;124m\"\u001b[39m))\u001b[38;5;241m.\u001b[39mhexdigest()\n\u001b[1;32m    535\u001b[0m     indexpath \u001b[38;5;241m=\u001b[39m indexpath\u001b[38;5;241m.\u001b[39mformat(path\u001b[38;5;241m=\u001b[39mfilestream\u001b[38;5;241m.\u001b[39mpath, \u001b[38;5;28mhash\u001b[39m\u001b[38;5;241m=\u001b[39m\u001b[38;5;28mhash\u001b[39m, short_hash\u001b[38;5;241m=\u001b[39m\u001b[38;5;28mhash\u001b[39m[:\u001b[38;5;241m5\u001b[39m])\n",
      "File \u001b[0;32m/opt/miniconda3/envs/herbie/lib/python3.13/site-packages/cfgrib/messages.py:378\u001b[0m, in \u001b[0;36mFieldsetIndex.from_fieldset\u001b[0;34m(cls, fieldset, index_keys, computed_keys)\u001b[0m\n\u001b[1;32m    376\u001b[0m \u001b[38;5;28;01melse\u001b[39;00m:\n\u001b[1;32m    377\u001b[0m     iteritems \u001b[38;5;241m=\u001b[39m \u001b[38;5;28menumerate\u001b[39m(fieldset)\n\u001b[0;32m--> 378\u001b[0m \u001b[38;5;28;01mreturn\u001b[39;00m \u001b[38;5;28;43mcls\u001b[39;49m\u001b[38;5;241;43m.\u001b[39;49m\u001b[43mfrom_fieldset_and_iteritems\u001b[49m\u001b[43m(\u001b[49m\u001b[43mfieldset\u001b[49m\u001b[43m,\u001b[49m\u001b[43m \u001b[49m\u001b[43miteritems\u001b[49m\u001b[43m,\u001b[49m\u001b[43m \u001b[49m\u001b[43mindex_keys\u001b[49m\u001b[43m,\u001b[49m\u001b[43m \u001b[49m\u001b[43mcomputed_keys\u001b[49m\u001b[43m)\u001b[49m\n",
      "File \u001b[0;32m/opt/miniconda3/envs/herbie/lib/python3.13/site-packages/cfgrib/messages.py:391\u001b[0m, in \u001b[0;36mFieldsetIndex.from_fieldset_and_iteritems\u001b[0;34m(cls, fieldset, iteritems, index_keys, computed_keys)\u001b[0m\n\u001b[1;32m    389\u001b[0m index_keys \u001b[38;5;241m=\u001b[39m \u001b[38;5;28mlist\u001b[39m(index_keys)\n\u001b[1;32m    390\u001b[0m header_values_cache \u001b[38;5;241m=\u001b[39m {}  \u001b[38;5;66;03m# type: T.Dict[T.Tuple[T.Any, type], T.Any]\u001b[39;00m\n\u001b[0;32m--> 391\u001b[0m \u001b[43m\u001b[49m\u001b[38;5;28;43;01mfor\u001b[39;49;00m\u001b[43m \u001b[49m\u001b[43mfield_id\u001b[49m\u001b[43m,\u001b[49m\u001b[43m \u001b[49m\u001b[43mraw_field\u001b[49m\u001b[43m \u001b[49m\u001b[38;5;129;43;01min\u001b[39;49;00m\u001b[43m \u001b[49m\u001b[43miteritems\u001b[49m\u001b[43m:\u001b[49m\n\u001b[1;32m    392\u001b[0m \u001b[43m    \u001b[49m\u001b[43mfield\u001b[49m\u001b[43m \u001b[49m\u001b[38;5;241;43m=\u001b[39;49m\u001b[43m \u001b[49m\u001b[43mComputedKeysAdapter\u001b[49m\u001b[43m(\u001b[49m\u001b[43mraw_field\u001b[49m\u001b[43m,\u001b[49m\u001b[43m \u001b[49m\u001b[43mcomputed_keys\u001b[49m\u001b[43m)\u001b[49m\n\u001b[1;32m    393\u001b[0m \u001b[43m    \u001b[49m\u001b[43mheader_values\u001b[49m\u001b[43m \u001b[49m\u001b[38;5;241;43m=\u001b[39;49m\u001b[43m \u001b[49m\u001b[43m[\u001b[49m\u001b[43m]\u001b[49m\n",
      "File \u001b[0;32m/opt/miniconda3/envs/herbie/lib/python3.13/site-packages/cfgrib/messages.py:291\u001b[0m, in \u001b[0;36mFileStreamItems.__iter__\u001b[0;34m(self)\u001b[0m\n\u001b[1;32m    289\u001b[0m old_offset \u001b[38;5;241m=\u001b[39m \u001b[38;5;241m-\u001b[39m\u001b[38;5;241m1\u001b[39m\n\u001b[1;32m    290\u001b[0m count \u001b[38;5;241m=\u001b[39m \u001b[38;5;241m0\u001b[39m\n\u001b[0;32m--> 291\u001b[0m \u001b[43m\u001b[49m\u001b[38;5;28;43;01mfor\u001b[39;49;00m\u001b[43m \u001b[49m\u001b[43mmessage\u001b[49m\u001b[43m \u001b[49m\u001b[38;5;129;43;01min\u001b[39;49;00m\u001b[43m \u001b[49m\u001b[38;5;28;43mself\u001b[39;49m\u001b[38;5;241;43m.\u001b[39;49m\u001b[43mitervalues\u001b[49m\u001b[43m(\u001b[49m\u001b[43m)\u001b[49m\u001b[43m:\u001b[49m\n\u001b[1;32m    292\u001b[0m \u001b[43m    \u001b[49m\u001b[43moffset\u001b[49m\u001b[43m \u001b[49m\u001b[38;5;241;43m=\u001b[39;49m\u001b[43m \u001b[49m\u001b[43mmessage\u001b[49m\u001b[38;5;241;43m.\u001b[39;49m\u001b[43mmessage_get\u001b[49m\u001b[43m(\u001b[49m\u001b[38;5;124;43m\"\u001b[39;49m\u001b[38;5;124;43moffset\u001b[39;49m\u001b[38;5;124;43m\"\u001b[39;49m\u001b[43m,\u001b[49m\u001b[43m \u001b[49m\u001b[38;5;28;43mint\u001b[39;49m\u001b[43m)\u001b[49m\n\u001b[1;32m    293\u001b[0m \u001b[43m    \u001b[49m\u001b[38;5;28;43;01mif\u001b[39;49;00m\u001b[43m \u001b[49m\u001b[43moffset\u001b[49m\u001b[43m \u001b[49m\u001b[38;5;241;43m==\u001b[39;49m\u001b[43m \u001b[49m\u001b[43mold_offset\u001b[49m\u001b[43m:\u001b[49m\n",
      "File \u001b[0;32m/opt/miniconda3/envs/herbie/lib/python3.13/site-packages/cfgrib/messages.py:267\u001b[0m, in \u001b[0;36mFileStreamItems.itervalues\u001b[0;34m(self)\u001b[0m\n\u001b[1;32m    265\u001b[0m \u001b[38;5;28;01mdef\u001b[39;00m \u001b[38;5;21mitervalues\u001b[39m(\u001b[38;5;28mself\u001b[39m) \u001b[38;5;241m-\u001b[39m\u001b[38;5;241m>\u001b[39m T\u001b[38;5;241m.\u001b[39mIterator[Message]:\n\u001b[1;32m    266\u001b[0m     errors \u001b[38;5;241m=\u001b[39m \u001b[38;5;28mself\u001b[39m\u001b[38;5;241m.\u001b[39mfilestream\u001b[38;5;241m.\u001b[39merrors\n\u001b[0;32m--> 267\u001b[0m     \u001b[38;5;28;01mwith\u001b[39;00m \u001b[38;5;28;43mopen\u001b[39;49m\u001b[43m(\u001b[49m\u001b[38;5;28;43mself\u001b[39;49m\u001b[38;5;241;43m.\u001b[39;49m\u001b[43mfilestream\u001b[49m\u001b[38;5;241;43m.\u001b[39;49m\u001b[43mpath\u001b[49m\u001b[43m,\u001b[49m\u001b[43m \u001b[49m\u001b[38;5;124;43m\"\u001b[39;49m\u001b[38;5;124;43mrb\u001b[39;49m\u001b[38;5;124;43m\"\u001b[39;49m\u001b[43m)\u001b[49m \u001b[38;5;28;01mas\u001b[39;00m file:\n\u001b[1;32m    268\u001b[0m         \u001b[38;5;66;03m# enable MULTI-FIELD support on sequential reads (like when building the index)\u001b[39;00m\n\u001b[1;32m    269\u001b[0m         \u001b[38;5;28;01mwith\u001b[39;00m multi_enabled(file):\n\u001b[1;32m    270\u001b[0m             valid_message_found \u001b[38;5;241m=\u001b[39m \u001b[38;5;28;01mFalse\u001b[39;00m\n",
      "\u001b[0;31mFileNotFoundError\u001b[0m: [Errno 2] No such file or directory: '/Users/andrew/data/gdps/20241112/CMC_glb_HGT_ISBL_500_latlon.15x.15_2024111200_P006.grib2'"
     ]
    }
   ],
   "source": [
    "# loading more than one variable requires a loop, because the\n",
    "# data is stored in multiple files (and a Herbie object only\n",
    "# represents a single file).\n",
    "\n",
    "store = []\n",
    "# 500mb height, total cloud cover\n",
    "for var, lev in zip([\"HGT\", \"TCDC\", \"APCP\"], [\"ISBL_500\", \"SFC_0\", \"SFC_0\"]):\n",
    "#for var, lev in zip([\"HGT\", \"APCP\"], [\"ISBL_500\", \"SFC_0\"]):\n",
    "    print(var, lev)\n",
    "    _ds = Herbie(\n",
    "        recent,\n",
    "        model=\"gdps\",\n",
    "        fxx=6,\n",
    "        #product=\"15km/grib2/lat_lon\",\n",
    "        variable=var,\n",
    "        level=lev,\n",
    "    ).xarray()\n",
    "    # if the variable name is unknown, assign it\n",
    "    if \"unknown\" in _ds:\n",
    "        _ds = _ds.rename({\"unknown\":var})\n",
    "    \n",
    "    store.append(_ds)\n",
    "\n",
    "ds = xr.merge(store)\n",
    "ds"
   ]
  },
  {
   "cell_type": "code",
   "execution_count": null,
   "id": "42a234cf",
   "metadata": {},
   "outputs": [],
   "source": [
    "# slice out only the domain we care about\n",
    "ds = ds.sel(longitude=slice(-195, -97), latitude=slice(30, 73))"
   ]
  },
  {
   "cell_type": "code",
   "execution_count": null,
   "id": "3040a674",
   "metadata": {},
   "outputs": [],
   "source": [
    "fig = plt.figure(figsize=(20,20))\n",
    "ax = fig.add_subplot(1, 1, 1, projection=ccrs.LambertConformal(central_longitude=-150, central_latitude=39.0,))\n",
    "ax.set_extent([-170, -117, 40, 63])\n",
    "\n",
    "ax.add_feature(feature.LAND)\n",
    "ax.add_feature(feature.STATES)\n",
    "ax.add_feature(feature.OCEAN)\n",
    "ax.add_feature(feature.COASTLINE)\n",
    "\n",
    "# plot height contours\n",
    "ax.contour(\n",
    "    ds.longitude,\n",
    "    ds.latitude,\n",
    "    ds.gh,\n",
    "    colors=\"k\",\n",
    "    transform=pc,\n",
    "    levels=range(0, 6000, 50),\n",
    ")\n",
    "\n",
    "# plot cloud cover\n",
    "ax.pcolormesh(\n",
    "    ds.longitude,\n",
    "    ds.latitude,\n",
    "    ds.TCDC.where(ds.TCDC >= 60),\n",
    "    cmap=\"binary\",\n",
    "    vmin=60,\n",
    "    vmax=150,\n",
    "    antialiased=True,\n",
    "    transform=pc,\n",
    ")\n",
    "\n",
    "\n",
    "# plot precip rate\n",
    "ax.pcolormesh(\n",
    "    ds.longitude,\n",
    "    ds.latitude,\n",
    "    ds.APCP.where(ds.APCP >= 1),\n",
    "    cmap=\"summer\",\n",
    "    vmin=1,\n",
    "    vmax=50,\n",
    "    antialiased=True,\n",
    "    transform=pc,\n",
    ")\n"
   ]
  },
  {
   "cell_type": "code",
   "execution_count": null,
   "id": "6dbe1126",
   "metadata": {},
   "outputs": [],
   "source": []
  },
  {
   "cell_type": "code",
   "execution_count": null,
   "id": "768a986a",
   "metadata": {},
   "outputs": [],
   "source": []
  }
 ],
 "metadata": {
  "kernelspec": {
   "display_name": "Python 3 (ipykernel)",
   "language": "python",
   "name": "python3"
  },
  "language_info": {
   "codemirror_mode": {
    "name": "ipython",
    "version": 3
   },
   "file_extension": ".py",
   "mimetype": "text/x-python",
   "name": "python",
   "nbconvert_exporter": "python",
   "pygments_lexer": "ipython3",
   "version": "3.13.0"
  },
  "vscode": {
   "interpreter": {
    "hash": "ac511961bc6976a3d289cde8fc247e6b0e9298cf513cb762aa0a7df646d192ed"
   }
  }
 },
 "nbformat": 4,
 "nbformat_minor": 5
}
