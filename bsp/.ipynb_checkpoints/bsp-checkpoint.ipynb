{
 "cells": [
  {
   "cell_type": "markdown",
   "id": "b231f3fd",
   "metadata": {},
   "source": [
    "# Blondy's Soaring Prediction System"
   ]
  },
  {
   "cell_type": "code",
   "execution_count": 81,
   "id": "4f63b69f",
   "metadata": {},
   "outputs": [
    {
     "data": {
      "text/plain": [
       "Timestamp('2024-12-09 00:00:00')"
      ]
     },
     "execution_count": 81,
     "metadata": {},
     "output_type": "execute_result"
    }
   ],
   "source": [
    "import json\n",
    "import os\n",
    "import shutil\n",
    "from herbie import Herbie\n",
    "import xarray as xr\n",
    "import numpy as np\n",
    "\n",
    "import matplotlib.pyplot as plt\n",
    "from herbie.toolbox import EasyMap, pc\n",
    "import cartopy.crs as ccrs\n",
    "import cartopy.feature as feature\n",
    "import pandas as pd\n",
    "import matplotlib as mpl\n",
    "\n",
    "pd.set_option('display.max_rows', 500)\n",
    "\n",
    "recent = pd.Timestamp.utcnow().floor(\"6h\").tz_localize(None) #- pd.Timedelta(\"6h\")\n",
    "recent"
   ]
  },
  {
   "cell_type": "code",
   "execution_count": 2,
   "id": "834b6955",
   "metadata": {},
   "outputs": [],
   "source": [
    "data_dir = \"/Users/andrew/data/hrdps/\"\n",
    "#fig_dir = \"/Users/andrew/Repos/BMWF/plots/\"\n"
   ]
  },
  {
   "cell_type": "code",
   "execution_count": 10,
   "id": "7f1fa377",
   "metadata": {},
   "outputs": [],
   "source": [
    "# read in the config\n",
    "with open('bsp_config.json', 'r') as f:\n",
    "    config = json.load(f)"
   ]
  },
  {
   "cell_type": "markdown",
   "id": "d1301865",
   "metadata": {},
   "source": [
    "1) set up templates for each location\n",
    "\n",
    "2) grab a slice, punch out the locations, merge into template\n",
    "\n",
    "3) create a time-series for each level at a location, then concatenate the levels to generate a column model\n",
    "\n",
    "4) save each location dataset, purge the raw data directory"
   ]
  },
  {
   "cell_type": "code",
   "execution_count": 77,
   "id": "087c3860",
   "metadata": {},
   "outputs": [
    {
     "data": {
      "text/plain": [
       "[19, 20, 21, 22, 23, 24, 25, 26, 27, 28, 29, 30, 31, 32]"
      ]
     },
     "execution_count": 77,
     "metadata": {},
     "output_type": "execute_result"
    }
   ],
   "source": [
    "# make a list of the variables we need and at which levels\n",
    "df = pd.DataFrame(columns=[\"variable\", \"level\"])\n",
    "\n",
    "for variable in config[\"variables\"]:\n",
    "    for level in config[\"levels\"][config[\"variables\"][variable]]:\n",
    "        _df = pd.DataFrame({\"variable\":[variable], \"level\":[level]})\n",
    "        df = pd.concat([df, _df]) \n",
    "        \n",
    "df = df.reset_index(drop=True)\n",
    "\n",
    "# get indices of each variable\n",
    "list(df[df[\"variable\"] == \"TMP\"].index)"
   ]
  },
  {
   "cell_type": "code",
   "execution_count": 68,
   "id": "f3a4a48e",
   "metadata": {},
   "outputs": [
    {
     "name": "stdout",
     "output_type": "stream",
     "text": [
      "None\n"
     ]
    }
   ],
   "source": [
    "# set up templates for each location\n",
    "locations = {loc: [None]*len(df) for loc in config[\"locations\"].keys()}\n",
    "print(locations[\"revelstoke\"][0])"
   ]
  },
  {
   "cell_type": "code",
   "execution_count": 82,
   "id": "6e5c732d",
   "metadata": {},
   "outputs": [
    {
     "name": "stdout",
     "output_type": "stream",
     "text": [
      "✅ Found ┊ model=hrdps ┊ \u001b[3mproduct=continental/2.5km\u001b[0m ┊ \u001b[38;2;41;130;13m2024-Dec-09 00:00 UTC\u001b[92m F00\u001b[0m ┊ \u001b[38;2;255;153;0m\u001b[3mGRIB2 @ local\u001b[0m ┊ \u001b[38;2;255;153;0m\u001b[3mIDX @ None\u001b[0m\n"
     ]
    },
    {
     "name": "stderr",
     "output_type": "stream",
     "text": [
      "/opt/miniconda3/envs/herbie/lib/python3.13/site-packages/herbie/core.py:1112: UserWarning: Will not remove GRIB file because it previously existed.\n",
      "  warnings.warn(\"Will not remove GRIB file because it previously existed.\")\n"
     ]
    }
   ],
   "source": [
    "# grab a slice\n",
    "ds = Herbie(recent,\n",
    "            model=\"hrdps\",\n",
    "            fxx=0,\n",
    "            product=\"continental/2.5km\",\n",
    "            variable=df[\"variable\"].iloc[0],\n",
    "            level=df[\"level\"].iloc[0]\n",
    "           ).xarray()\n",
    "\n",
    "# if the variable name is unknown, assign it\n",
    "if \"unknown\" in ds:\n",
    "    ds = ds.rename({\"unknown\":df[\"variable\"].iloc[0]})\n",
    "    \n",
    "# punch out locations\n",
    "for loc in config[\"locations\"]:\n",
    "    locations[loc][0] = ds.sel((((ds.longitude - config[\"locations\"][loc][\"longitude\"]) ** 2 \n",
    "                        + (ds.latitude - config[\"locations\"][loc][\"latitude\"]) ** 2) ** 0.5).argmin(dim=[\"x\", \"y\"]))\n",
    "\n",
    "# purge the data directory\n",
    "for filename in os.listdir(data_dir):\n",
    "    file_path = os.path.join(data_dir, filename)\n",
    "    try:\n",
    "        if os.path.isfile(file_path) or os.path.islink(file_path):\n",
    "            os.unlink(file_path)\n",
    "        elif os.path.isdir(file_path):\n",
    "            shutil.rmtree(file_path)\n",
    "    except Exception as e:\n",
    "        print('Failed to delete %s. Reason: %s' % (file_path, e))"
   ]
  },
  {
   "cell_type": "code",
   "execution_count": 84,
   "id": "4f399928",
   "metadata": {},
   "outputs": [
    {
     "data": {
      "text/plain": [
       "[<xarray.Dataset> Size: 60B\n",
       " Dimensions:              ()\n",
       " Coordinates:\n",
       "     time                 datetime64[ns] 8B 2024-12-09\n",
       "     step                 timedelta64[ns] 8B 00:00:00\n",
       "     surface              float64 8B 0.0\n",
       "     latitude             float64 8B 50.96\n",
       "     longitude            float64 8B -118.1\n",
       "     valid_time           datetime64[ns] 8B ...\n",
       "     gribfile_projection  object 8B None\n",
       " Data variables:\n",
       "     TCDC                 float32 4B ...\n",
       " Attributes:\n",
       "     GRIB_edition:            2\n",
       "     GRIB_centre:             cwao\n",
       "     GRIB_centreDescription:  Canadian Meteorological Service - Montreal\n",
       "     GRIB_subCentre:          0\n",
       "     Conventions:             CF-1.7\n",
       "     institution:             Canadian Meteorological Service - Montreal\n",
       "     model:                   hrdps\n",
       "     product:                 continental/2.5km\n",
       "     description:             Canada's High Resolution Deterministic Predictio...\n",
       "     remote_grib:             /Users/andrew/data/hrdps/20241209/20241209T00Z_M...\n",
       "     local_grib:              /Users/andrew/data/hrdps/20241209/20241209T00Z_M...\n",
       "     search:                  None,\n",
       " None,\n",
       " None,\n",
       " None,\n",
       " None,\n",
       " None,\n",
       " None,\n",
       " None,\n",
       " None,\n",
       " None,\n",
       " None,\n",
       " None,\n",
       " None,\n",
       " None,\n",
       " None,\n",
       " None,\n",
       " None,\n",
       " None,\n",
       " None,\n",
       " None,\n",
       " None,\n",
       " None,\n",
       " None,\n",
       " None,\n",
       " None,\n",
       " None,\n",
       " None,\n",
       " None,\n",
       " None,\n",
       " None,\n",
       " None,\n",
       " None,\n",
       " None,\n",
       " None,\n",
       " None,\n",
       " None,\n",
       " None,\n",
       " None,\n",
       " None,\n",
       " None,\n",
       " None,\n",
       " None,\n",
       " None,\n",
       " None,\n",
       " None,\n",
       " None,\n",
       " None,\n",
       " None,\n",
       " None,\n",
       " None,\n",
       " None,\n",
       " None,\n",
       " None,\n",
       " None,\n",
       " None,\n",
       " None,\n",
       " None,\n",
       " None,\n",
       " None,\n",
       " None,\n",
       " None]"
      ]
     },
     "execution_count": 84,
     "metadata": {},
     "output_type": "execute_result"
    }
   ],
   "source": [
    "locations[\"revelstoke\"]"
   ]
  },
  {
   "cell_type": "code",
   "execution_count": null,
   "id": "4b71d191",
   "metadata": {},
   "outputs": [],
   "source": [
    "[variable for variable in config[\"variables\"] if config[\"variables\"][variable] == \"ISBL\"]"
   ]
  },
  {
   "cell_type": "code",
   "execution_count": null,
   "id": "946f7fad",
   "metadata": {},
   "outputs": [],
   "source": [
    "_ds = Herbie(recent,\n",
    "             model=\"hrdps\",\n",
    "             fxx=1,\n",
    "             product=\"continental/2.5km\",\n",
    "             variable=\"HGT\",\n",
    "             level=\"ISBL_0500\"\n",
    "            ).xarray()"
   ]
  },
  {
   "cell_type": "code",
   "execution_count": null,
   "id": "bf3fe744",
   "metadata": {},
   "outputs": [],
   "source": [
    "_ds"
   ]
  },
  {
   "cell_type": "code",
   "execution_count": null,
   "id": "af8ab17e",
   "metadata": {},
   "outputs": [],
   "source": [
    "df.reset_index(drop=True)"
   ]
  }
 ],
 "metadata": {
  "kernelspec": {
   "display_name": "Python 3 (ipykernel)",
   "language": "python",
   "name": "python3"
  },
  "language_info": {
   "codemirror_mode": {
    "name": "ipython",
    "version": 3
   },
   "file_extension": ".py",
   "mimetype": "text/x-python",
   "name": "python",
   "nbconvert_exporter": "python",
   "pygments_lexer": "ipython3",
   "version": "3.13.0"
  }
 },
 "nbformat": 4,
 "nbformat_minor": 5
}
