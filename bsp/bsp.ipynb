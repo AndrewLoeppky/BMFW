{
 "cells": [
  {
   "cell_type": "markdown",
   "id": "b231f3fd",
   "metadata": {},
   "source": [
    "# Blondy's Soaring Prediction System"
   ]
  },
  {
   "cell_type": "code",
   "execution_count": 1,
   "id": "4f63b69f",
   "metadata": {},
   "outputs": [
    {
     "name": "stdout",
     "output_type": "stream",
     "text": [
      " ╭─\u001b[48;2;255;255;255m\u001b[38;2;136;33;27m▌\u001b[0m\u001b[38;2;12;53;118m\u001b[48;2;240;234;210m▌\u001b[38;2;0;0;0m\u001b[1mHerbie\u001b[0m─────────────────────────────────────────────╮\n",
      " │ WARNING: Unable to create config file               │\n",
      " │ \u001b[38;2;255;153;0m     /Users/andrew/.config/herbie/config.toml     \u001b[0m   │\n",
      " │ Herbie will use standard default settings.           │\n",
      " │ Consider setting env variable HERBIE_CONFIG_PATH.    │\n",
      " ╰──────────────────────────────────────────────────────╯\n",
      "\n"
     ]
    },
    {
     "data": {
      "text/plain": [
       "Timestamp('2024-12-09 00:00:00')"
      ]
     },
     "execution_count": 1,
     "metadata": {},
     "output_type": "execute_result"
    }
   ],
   "source": [
    "import json\n",
    "import os\n",
    "import shutil\n",
    "from herbie import Herbie\n",
    "import xarray as xr\n",
    "import numpy as np\n",
    "\n",
    "import matplotlib.pyplot as plt\n",
    "from herbie.toolbox import EasyMap, pc\n",
    "import cartopy.crs as ccrs\n",
    "import cartopy.feature as feature\n",
    "import pandas as pd\n",
    "import matplotlib as mpl\n",
    "\n",
    "pd.set_option('display.max_rows', 500)\n",
    "\n",
    "recent = pd.Timestamp.utcnow().floor(\"6h\").tz_localize(None) #- pd.Timedelta(\"6h\")\n",
    "recent"
   ]
  },
  {
   "cell_type": "code",
   "execution_count": 2,
   "id": "834b6955",
   "metadata": {},
   "outputs": [],
   "source": [
    "data_dir = \"/Users/andrew/data/hrdps/\"\n",
    "#fig_dir = \"/Users/andrew/Repos/BMWF/plots/\"\n"
   ]
  },
  {
   "cell_type": "code",
   "execution_count": 3,
   "id": "7f1fa377",
   "metadata": {},
   "outputs": [],
   "source": [
    "# read in the config\n",
    "with open('bsp_config.json', 'r') as f:\n",
    "    config = json.load(f)"
   ]
  },
  {
   "cell_type": "markdown",
   "id": "d1301865",
   "metadata": {},
   "source": [
    "1) set up templates for each location\n",
    "\n",
    "2) grab a slice, punch out the locations, merge into template\n",
    "\n",
    "3) create a time-series for each level at a location, then concatenate the levels to generate a column model\n",
    "\n",
    "4) save each location dataset, purge the raw data directory"
   ]
  },
  {
   "cell_type": "code",
   "execution_count": 4,
   "id": "087c3860",
   "metadata": {},
   "outputs": [
    {
     "data": {
      "text/html": [
       "<div>\n",
       "<style scoped>\n",
       "    .dataframe tbody tr th:only-of-type {\n",
       "        vertical-align: middle;\n",
       "    }\n",
       "\n",
       "    .dataframe tbody tr th {\n",
       "        vertical-align: top;\n",
       "    }\n",
       "\n",
       "    .dataframe thead th {\n",
       "        text-align: right;\n",
       "    }\n",
       "</style>\n",
       "<table border=\"1\" class=\"dataframe\">\n",
       "  <thead>\n",
       "    <tr style=\"text-align: right;\">\n",
       "      <th></th>\n",
       "      <th>variable</th>\n",
       "      <th>level</th>\n",
       "    </tr>\n",
       "  </thead>\n",
       "  <tbody>\n",
       "    <tr>\n",
       "      <th>0</th>\n",
       "      <td>TCDC</td>\n",
       "      <td>Sfc</td>\n",
       "    </tr>\n",
       "    <tr>\n",
       "      <th>1</th>\n",
       "      <td>HPBL</td>\n",
       "      <td>Sfc</td>\n",
       "    </tr>\n",
       "    <tr>\n",
       "      <th>2</th>\n",
       "      <td>PRES</td>\n",
       "      <td>Sfc</td>\n",
       "    </tr>\n",
       "    <tr>\n",
       "      <th>3</th>\n",
       "      <td>HGT</td>\n",
       "      <td>ISBL_0550</td>\n",
       "    </tr>\n",
       "    <tr>\n",
       "      <th>4</th>\n",
       "      <td>HGT</td>\n",
       "      <td>ISBL_0600</td>\n",
       "    </tr>\n",
       "    <tr>\n",
       "      <th>5</th>\n",
       "      <td>HGT</td>\n",
       "      <td>ISBL_0650</td>\n",
       "    </tr>\n",
       "    <tr>\n",
       "      <th>6</th>\n",
       "      <td>HGT</td>\n",
       "      <td>ISBL_0700</td>\n",
       "    </tr>\n",
       "    <tr>\n",
       "      <th>7</th>\n",
       "      <td>HGT</td>\n",
       "      <td>ISBL_0750</td>\n",
       "    </tr>\n",
       "    <tr>\n",
       "      <th>8</th>\n",
       "      <td>HGT</td>\n",
       "      <td>ISBL_0800</td>\n",
       "    </tr>\n",
       "    <tr>\n",
       "      <th>9</th>\n",
       "      <td>HGT</td>\n",
       "      <td>ISBL_0850</td>\n",
       "    </tr>\n",
       "    <tr>\n",
       "      <th>10</th>\n",
       "      <td>HGT</td>\n",
       "      <td>ISBL_0875</td>\n",
       "    </tr>\n",
       "    <tr>\n",
       "      <th>11</th>\n",
       "      <td>HGT</td>\n",
       "      <td>ISBL_0900</td>\n",
       "    </tr>\n",
       "    <tr>\n",
       "      <th>12</th>\n",
       "      <td>HGT</td>\n",
       "      <td>ISBL_0925</td>\n",
       "    </tr>\n",
       "    <tr>\n",
       "      <th>13</th>\n",
       "      <td>HGT</td>\n",
       "      <td>ISBL_0950</td>\n",
       "    </tr>\n",
       "    <tr>\n",
       "      <th>14</th>\n",
       "      <td>HGT</td>\n",
       "      <td>ISBL_0970</td>\n",
       "    </tr>\n",
       "    <tr>\n",
       "      <th>15</th>\n",
       "      <td>HGT</td>\n",
       "      <td>ISBL_0985</td>\n",
       "    </tr>\n",
       "    <tr>\n",
       "      <th>16</th>\n",
       "      <td>HGT</td>\n",
       "      <td>ISBL_1015</td>\n",
       "    </tr>\n",
       "    <tr>\n",
       "      <th>17</th>\n",
       "      <td>TMP</td>\n",
       "      <td>ISBL_0550</td>\n",
       "    </tr>\n",
       "    <tr>\n",
       "      <th>18</th>\n",
       "      <td>TMP</td>\n",
       "      <td>ISBL_0600</td>\n",
       "    </tr>\n",
       "    <tr>\n",
       "      <th>19</th>\n",
       "      <td>TMP</td>\n",
       "      <td>ISBL_0650</td>\n",
       "    </tr>\n",
       "    <tr>\n",
       "      <th>20</th>\n",
       "      <td>TMP</td>\n",
       "      <td>ISBL_0700</td>\n",
       "    </tr>\n",
       "    <tr>\n",
       "      <th>21</th>\n",
       "      <td>TMP</td>\n",
       "      <td>ISBL_0750</td>\n",
       "    </tr>\n",
       "    <tr>\n",
       "      <th>22</th>\n",
       "      <td>TMP</td>\n",
       "      <td>ISBL_0800</td>\n",
       "    </tr>\n",
       "    <tr>\n",
       "      <th>23</th>\n",
       "      <td>TMP</td>\n",
       "      <td>ISBL_0850</td>\n",
       "    </tr>\n",
       "    <tr>\n",
       "      <th>24</th>\n",
       "      <td>TMP</td>\n",
       "      <td>ISBL_0875</td>\n",
       "    </tr>\n",
       "    <tr>\n",
       "      <th>25</th>\n",
       "      <td>TMP</td>\n",
       "      <td>ISBL_0900</td>\n",
       "    </tr>\n",
       "    <tr>\n",
       "      <th>26</th>\n",
       "      <td>TMP</td>\n",
       "      <td>ISBL_0925</td>\n",
       "    </tr>\n",
       "    <tr>\n",
       "      <th>27</th>\n",
       "      <td>TMP</td>\n",
       "      <td>ISBL_0950</td>\n",
       "    </tr>\n",
       "    <tr>\n",
       "      <th>28</th>\n",
       "      <td>TMP</td>\n",
       "      <td>ISBL_0970</td>\n",
       "    </tr>\n",
       "    <tr>\n",
       "      <th>29</th>\n",
       "      <td>TMP</td>\n",
       "      <td>ISBL_0985</td>\n",
       "    </tr>\n",
       "    <tr>\n",
       "      <th>30</th>\n",
       "      <td>TMP</td>\n",
       "      <td>ISBL_1015</td>\n",
       "    </tr>\n",
       "    <tr>\n",
       "      <th>31</th>\n",
       "      <td>WIND</td>\n",
       "      <td>ISBL_0550</td>\n",
       "    </tr>\n",
       "    <tr>\n",
       "      <th>32</th>\n",
       "      <td>WIND</td>\n",
       "      <td>ISBL_0600</td>\n",
       "    </tr>\n",
       "    <tr>\n",
       "      <th>33</th>\n",
       "      <td>WIND</td>\n",
       "      <td>ISBL_0650</td>\n",
       "    </tr>\n",
       "    <tr>\n",
       "      <th>34</th>\n",
       "      <td>WIND</td>\n",
       "      <td>ISBL_0700</td>\n",
       "    </tr>\n",
       "    <tr>\n",
       "      <th>35</th>\n",
       "      <td>WIND</td>\n",
       "      <td>ISBL_0750</td>\n",
       "    </tr>\n",
       "    <tr>\n",
       "      <th>36</th>\n",
       "      <td>WIND</td>\n",
       "      <td>ISBL_0800</td>\n",
       "    </tr>\n",
       "    <tr>\n",
       "      <th>37</th>\n",
       "      <td>WIND</td>\n",
       "      <td>ISBL_0850</td>\n",
       "    </tr>\n",
       "    <tr>\n",
       "      <th>38</th>\n",
       "      <td>WIND</td>\n",
       "      <td>ISBL_0875</td>\n",
       "    </tr>\n",
       "    <tr>\n",
       "      <th>39</th>\n",
       "      <td>WIND</td>\n",
       "      <td>ISBL_0900</td>\n",
       "    </tr>\n",
       "    <tr>\n",
       "      <th>40</th>\n",
       "      <td>WIND</td>\n",
       "      <td>ISBL_0925</td>\n",
       "    </tr>\n",
       "    <tr>\n",
       "      <th>41</th>\n",
       "      <td>WIND</td>\n",
       "      <td>ISBL_0950</td>\n",
       "    </tr>\n",
       "    <tr>\n",
       "      <th>42</th>\n",
       "      <td>WIND</td>\n",
       "      <td>ISBL_0970</td>\n",
       "    </tr>\n",
       "    <tr>\n",
       "      <th>43</th>\n",
       "      <td>WIND</td>\n",
       "      <td>ISBL_0985</td>\n",
       "    </tr>\n",
       "    <tr>\n",
       "      <th>44</th>\n",
       "      <td>WIND</td>\n",
       "      <td>ISBL_1015</td>\n",
       "    </tr>\n",
       "    <tr>\n",
       "      <th>45</th>\n",
       "      <td>WDIR</td>\n",
       "      <td>ISBL_0550</td>\n",
       "    </tr>\n",
       "    <tr>\n",
       "      <th>46</th>\n",
       "      <td>WDIR</td>\n",
       "      <td>ISBL_0600</td>\n",
       "    </tr>\n",
       "    <tr>\n",
       "      <th>47</th>\n",
       "      <td>WDIR</td>\n",
       "      <td>ISBL_0650</td>\n",
       "    </tr>\n",
       "    <tr>\n",
       "      <th>48</th>\n",
       "      <td>WDIR</td>\n",
       "      <td>ISBL_0700</td>\n",
       "    </tr>\n",
       "    <tr>\n",
       "      <th>49</th>\n",
       "      <td>WDIR</td>\n",
       "      <td>ISBL_0750</td>\n",
       "    </tr>\n",
       "    <tr>\n",
       "      <th>50</th>\n",
       "      <td>WDIR</td>\n",
       "      <td>ISBL_0800</td>\n",
       "    </tr>\n",
       "    <tr>\n",
       "      <th>51</th>\n",
       "      <td>WDIR</td>\n",
       "      <td>ISBL_0850</td>\n",
       "    </tr>\n",
       "    <tr>\n",
       "      <th>52</th>\n",
       "      <td>WDIR</td>\n",
       "      <td>ISBL_0875</td>\n",
       "    </tr>\n",
       "    <tr>\n",
       "      <th>53</th>\n",
       "      <td>WDIR</td>\n",
       "      <td>ISBL_0900</td>\n",
       "    </tr>\n",
       "    <tr>\n",
       "      <th>54</th>\n",
       "      <td>WDIR</td>\n",
       "      <td>ISBL_0925</td>\n",
       "    </tr>\n",
       "    <tr>\n",
       "      <th>55</th>\n",
       "      <td>WDIR</td>\n",
       "      <td>ISBL_0950</td>\n",
       "    </tr>\n",
       "    <tr>\n",
       "      <th>56</th>\n",
       "      <td>WDIR</td>\n",
       "      <td>ISBL_0970</td>\n",
       "    </tr>\n",
       "    <tr>\n",
       "      <th>57</th>\n",
       "      <td>WDIR</td>\n",
       "      <td>ISBL_0985</td>\n",
       "    </tr>\n",
       "    <tr>\n",
       "      <th>58</th>\n",
       "      <td>WDIR</td>\n",
       "      <td>ISBL_1015</td>\n",
       "    </tr>\n",
       "  </tbody>\n",
       "</table>\n",
       "</div>"
      ],
      "text/plain": [
       "   variable      level\n",
       "0      TCDC        Sfc\n",
       "1      HPBL        Sfc\n",
       "2      PRES        Sfc\n",
       "3       HGT  ISBL_0550\n",
       "4       HGT  ISBL_0600\n",
       "5       HGT  ISBL_0650\n",
       "6       HGT  ISBL_0700\n",
       "7       HGT  ISBL_0750\n",
       "8       HGT  ISBL_0800\n",
       "9       HGT  ISBL_0850\n",
       "10      HGT  ISBL_0875\n",
       "11      HGT  ISBL_0900\n",
       "12      HGT  ISBL_0925\n",
       "13      HGT  ISBL_0950\n",
       "14      HGT  ISBL_0970\n",
       "15      HGT  ISBL_0985\n",
       "16      HGT  ISBL_1015\n",
       "17      TMP  ISBL_0550\n",
       "18      TMP  ISBL_0600\n",
       "19      TMP  ISBL_0650\n",
       "20      TMP  ISBL_0700\n",
       "21      TMP  ISBL_0750\n",
       "22      TMP  ISBL_0800\n",
       "23      TMP  ISBL_0850\n",
       "24      TMP  ISBL_0875\n",
       "25      TMP  ISBL_0900\n",
       "26      TMP  ISBL_0925\n",
       "27      TMP  ISBL_0950\n",
       "28      TMP  ISBL_0970\n",
       "29      TMP  ISBL_0985\n",
       "30      TMP  ISBL_1015\n",
       "31     WIND  ISBL_0550\n",
       "32     WIND  ISBL_0600\n",
       "33     WIND  ISBL_0650\n",
       "34     WIND  ISBL_0700\n",
       "35     WIND  ISBL_0750\n",
       "36     WIND  ISBL_0800\n",
       "37     WIND  ISBL_0850\n",
       "38     WIND  ISBL_0875\n",
       "39     WIND  ISBL_0900\n",
       "40     WIND  ISBL_0925\n",
       "41     WIND  ISBL_0950\n",
       "42     WIND  ISBL_0970\n",
       "43     WIND  ISBL_0985\n",
       "44     WIND  ISBL_1015\n",
       "45     WDIR  ISBL_0550\n",
       "46     WDIR  ISBL_0600\n",
       "47     WDIR  ISBL_0650\n",
       "48     WDIR  ISBL_0700\n",
       "49     WDIR  ISBL_0750\n",
       "50     WDIR  ISBL_0800\n",
       "51     WDIR  ISBL_0850\n",
       "52     WDIR  ISBL_0875\n",
       "53     WDIR  ISBL_0900\n",
       "54     WDIR  ISBL_0925\n",
       "55     WDIR  ISBL_0950\n",
       "56     WDIR  ISBL_0970\n",
       "57     WDIR  ISBL_0985\n",
       "58     WDIR  ISBL_1015"
      ]
     },
     "execution_count": 4,
     "metadata": {},
     "output_type": "execute_result"
    }
   ],
   "source": [
    "# make a list of the variables we need and at which levels\n",
    "df = pd.DataFrame(columns=[\"variable\", \"level\"])\n",
    "\n",
    "for variable in config[\"variables\"]:\n",
    "    for level in config[\"levels\"][config[\"variables\"][variable]]:\n",
    "        _df = pd.DataFrame({\"variable\":[variable], \"level\":[level]})\n",
    "        df = pd.concat([df, _df]) \n",
    "        \n",
    "df = df.reset_index(drop=True)\n",
    "\n",
    "# get indices of each variable\n",
    "list(df[df[\"variable\"] == \"TMP\"].index)\n",
    "df"
   ]
  },
  {
   "cell_type": "code",
   "execution_count": 25,
   "id": "f3a4a48e",
   "metadata": {},
   "outputs": [],
   "source": [
    "# set up templates for each location\n",
    "locations = {loc: [None]*len(df) for loc in config[\"locations\"].keys()}\n",
    "#locations = {loc: np.zeros(len(df)) for loc in config[\"locations\"].keys()} # can this be vectorized?"
   ]
  },
  {
   "cell_type": "code",
   "execution_count": 15,
   "id": "2288e501",
   "metadata": {},
   "outputs": [],
   "source": [
    "def get_timestep(i):\n",
    "    \"\"\"\n",
    "    gets variables specified in config for timestep i, dumps them into \"locations\" \n",
    "    dict at the same index i\n",
    "    \"\"\"\n",
    "    # grab a slice\n",
    "    ds = Herbie(recent,\n",
    "                model=\"hrdps\",\n",
    "                fxx=0,\n",
    "                product=\"continental/2.5km\",\n",
    "                variable=df[\"variable\"].iloc[i],\n",
    "                level=df[\"level\"].iloc[i]\n",
    "               ).xarray()\n",
    "\n",
    "    # if the variable name is unknown, assign it\n",
    "    if \"unknown\" in ds:\n",
    "        ds = ds.rename({\"unknown\":df[\"variable\"].iloc[i]})\n",
    "\n",
    "    # punch out locations\n",
    "    for loc in config[\"locations\"]:\n",
    "        locations[loc][i] = ds.sel((((ds.longitude - config[\"locations\"][loc][\"longitude\"]) ** 2 \n",
    "                            + (ds.latitude - config[\"locations\"][loc][\"latitude\"]) ** 2) ** 0.5).argmin(dim=[\"x\", \"y\"]))\n",
    "\n",
    "    # purge the data directory\n",
    "    for filename in os.listdir(data_dir):\n",
    "        file_path = os.path.join(data_dir, filename)\n",
    "        try:\n",
    "            if os.path.isfile(file_path) or os.path.islink(file_path):\n",
    "                os.unlink(file_path)\n",
    "            elif os.path.isdir(file_path):\n",
    "                shutil.rmtree(file_path)\n",
    "        except Exception as e:\n",
    "            print('Failed to delete %s. Reason: %s' % (file_path, e))\n",
    "    \n",
    "    return None"
   ]
  },
  {
   "cell_type": "code",
   "execution_count": 16,
   "id": "554820a8",
   "metadata": {},
   "outputs": [
    {
     "name": "stdout",
     "output_type": "stream",
     "text": [
      "✅ Found ┊ model=hrdps ┊ \u001b[3mproduct=continental/2.5km\u001b[0m ┊ \u001b[38;2;41;130;13m2024-Dec-09 00:00 UTC\u001b[92m F00\u001b[0m ┊ \u001b[38;2;255;153;0m\u001b[3mGRIB2 @ msc\u001b[0m ┊ \u001b[38;2;255;153;0m\u001b[3mIDX @ None\u001b[0m\n"
     ]
    },
    {
     "name": "stderr",
     "output_type": "stream",
     "text": [
      "/opt/miniconda3/envs/herbie/lib/python3.13/site-packages/herbie/core.py:1117: UserWarning: Will not remove GRIB file because Herbie will only remove subsetted files (not full files).\n",
      "  warnings.warn(\n"
     ]
    },
    {
     "name": "stdout",
     "output_type": "stream",
     "text": [
      "✅ Found ┊ model=hrdps ┊ \u001b[3mproduct=continental/2.5km\u001b[0m ┊ \u001b[38;2;41;130;13m2024-Dec-09 00:00 UTC\u001b[92m F00\u001b[0m ┊ \u001b[38;2;255;153;0m\u001b[3mGRIB2 @ msc\u001b[0m ┊ \u001b[38;2;255;153;0m\u001b[3mIDX @ None\u001b[0m\n",
      "👨🏻‍🏭 Created directory: [/Users/andrew/data/hrdps/20241209]\n"
     ]
    },
    {
     "name": "stderr",
     "output_type": "stream",
     "text": [
      "/opt/miniconda3/envs/herbie/lib/python3.13/site-packages/herbie/core.py:1117: UserWarning: Will not remove GRIB file because Herbie will only remove subsetted files (not full files).\n",
      "  warnings.warn(\n"
     ]
    },
    {
     "name": "stdout",
     "output_type": "stream",
     "text": [
      "✅ Found ┊ model=hrdps ┊ \u001b[3mproduct=continental/2.5km\u001b[0m ┊ \u001b[38;2;41;130;13m2024-Dec-09 00:00 UTC\u001b[92m F00\u001b[0m ┊ \u001b[38;2;255;153;0m\u001b[3mGRIB2 @ msc\u001b[0m ┊ \u001b[38;2;255;153;0m\u001b[3mIDX @ None\u001b[0m\n",
      "👨🏻‍🏭 Created directory: [/Users/andrew/data/hrdps/20241209]\n"
     ]
    },
    {
     "name": "stderr",
     "output_type": "stream",
     "text": [
      "/opt/miniconda3/envs/herbie/lib/python3.13/site-packages/herbie/core.py:1117: UserWarning: Will not remove GRIB file because Herbie will only remove subsetted files (not full files).\n",
      "  warnings.warn(\n"
     ]
    },
    {
     "name": "stdout",
     "output_type": "stream",
     "text": [
      "✅ Found ┊ model=hrdps ┊ \u001b[3mproduct=continental/2.5km\u001b[0m ┊ \u001b[38;2;41;130;13m2024-Dec-09 00:00 UTC\u001b[92m F00\u001b[0m ┊ \u001b[38;2;255;153;0m\u001b[3mGRIB2 @ msc\u001b[0m ┊ \u001b[38;2;255;153;0m\u001b[3mIDX @ None\u001b[0m\n",
      "👨🏻‍🏭 Created directory: [/Users/andrew/data/hrdps/20241209]\n"
     ]
    },
    {
     "name": "stderr",
     "output_type": "stream",
     "text": [
      "/opt/miniconda3/envs/herbie/lib/python3.13/site-packages/herbie/core.py:1117: UserWarning: Will not remove GRIB file because Herbie will only remove subsetted files (not full files).\n",
      "  warnings.warn(\n"
     ]
    },
    {
     "name": "stdout",
     "output_type": "stream",
     "text": [
      "✅ Found ┊ model=hrdps ┊ \u001b[3mproduct=continental/2.5km\u001b[0m ┊ \u001b[38;2;41;130;13m2024-Dec-09 00:00 UTC\u001b[92m F00\u001b[0m ┊ \u001b[38;2;255;153;0m\u001b[3mGRIB2 @ msc\u001b[0m ┊ \u001b[38;2;255;153;0m\u001b[3mIDX @ None\u001b[0m\n",
      "👨🏻‍🏭 Created directory: [/Users/andrew/data/hrdps/20241209]\n"
     ]
    },
    {
     "name": "stderr",
     "output_type": "stream",
     "text": [
      "/opt/miniconda3/envs/herbie/lib/python3.13/site-packages/herbie/core.py:1117: UserWarning: Will not remove GRIB file because Herbie will only remove subsetted files (not full files).\n",
      "  warnings.warn(\n"
     ]
    },
    {
     "name": "stdout",
     "output_type": "stream",
     "text": [
      "✅ Found ┊ model=hrdps ┊ \u001b[3mproduct=continental/2.5km\u001b[0m ┊ \u001b[38;2;41;130;13m2024-Dec-09 00:00 UTC\u001b[92m F00\u001b[0m ┊ \u001b[38;2;255;153;0m\u001b[3mGRIB2 @ msc\u001b[0m ┊ \u001b[38;2;255;153;0m\u001b[3mIDX @ None\u001b[0m\n",
      "👨🏻‍🏭 Created directory: [/Users/andrew/data/hrdps/20241209]\n"
     ]
    },
    {
     "name": "stderr",
     "output_type": "stream",
     "text": [
      "/opt/miniconda3/envs/herbie/lib/python3.13/site-packages/herbie/core.py:1117: UserWarning: Will not remove GRIB file because Herbie will only remove subsetted files (not full files).\n",
      "  warnings.warn(\n"
     ]
    },
    {
     "name": "stdout",
     "output_type": "stream",
     "text": [
      "✅ Found ┊ model=hrdps ┊ \u001b[3mproduct=continental/2.5km\u001b[0m ┊ \u001b[38;2;41;130;13m2024-Dec-09 00:00 UTC\u001b[92m F00\u001b[0m ┊ \u001b[38;2;255;153;0m\u001b[3mGRIB2 @ msc\u001b[0m ┊ \u001b[38;2;255;153;0m\u001b[3mIDX @ None\u001b[0m\n",
      "👨🏻‍🏭 Created directory: [/Users/andrew/data/hrdps/20241209]\n"
     ]
    },
    {
     "name": "stderr",
     "output_type": "stream",
     "text": [
      "/opt/miniconda3/envs/herbie/lib/python3.13/site-packages/herbie/core.py:1117: UserWarning: Will not remove GRIB file because Herbie will only remove subsetted files (not full files).\n",
      "  warnings.warn(\n"
     ]
    },
    {
     "name": "stdout",
     "output_type": "stream",
     "text": [
      "✅ Found ┊ model=hrdps ┊ \u001b[3mproduct=continental/2.5km\u001b[0m ┊ \u001b[38;2;41;130;13m2024-Dec-09 00:00 UTC\u001b[92m F00\u001b[0m ┊ \u001b[38;2;255;153;0m\u001b[3mGRIB2 @ msc\u001b[0m ┊ \u001b[38;2;255;153;0m\u001b[3mIDX @ None\u001b[0m\n",
      "👨🏻‍🏭 Created directory: [/Users/andrew/data/hrdps/20241209]\n"
     ]
    },
    {
     "name": "stderr",
     "output_type": "stream",
     "text": [
      "/opt/miniconda3/envs/herbie/lib/python3.13/site-packages/herbie/core.py:1117: UserWarning: Will not remove GRIB file because Herbie will only remove subsetted files (not full files).\n",
      "  warnings.warn(\n"
     ]
    },
    {
     "name": "stdout",
     "output_type": "stream",
     "text": [
      "✅ Found ┊ model=hrdps ┊ \u001b[3mproduct=continental/2.5km\u001b[0m ┊ \u001b[38;2;41;130;13m2024-Dec-09 00:00 UTC\u001b[92m F00\u001b[0m ┊ \u001b[38;2;255;153;0m\u001b[3mGRIB2 @ msc\u001b[0m ┊ \u001b[38;2;255;153;0m\u001b[3mIDX @ None\u001b[0m\n",
      "👨🏻‍🏭 Created directory: [/Users/andrew/data/hrdps/20241209]\n"
     ]
    },
    {
     "name": "stderr",
     "output_type": "stream",
     "text": [
      "/opt/miniconda3/envs/herbie/lib/python3.13/site-packages/herbie/core.py:1117: UserWarning: Will not remove GRIB file because Herbie will only remove subsetted files (not full files).\n",
      "  warnings.warn(\n"
     ]
    },
    {
     "name": "stdout",
     "output_type": "stream",
     "text": [
      "✅ Found ┊ model=hrdps ┊ \u001b[3mproduct=continental/2.5km\u001b[0m ┊ \u001b[38;2;41;130;13m2024-Dec-09 00:00 UTC\u001b[92m F00\u001b[0m ┊ \u001b[38;2;255;153;0m\u001b[3mGRIB2 @ msc\u001b[0m ┊ \u001b[38;2;255;153;0m\u001b[3mIDX @ None\u001b[0m\n",
      "👨🏻‍🏭 Created directory: [/Users/andrew/data/hrdps/20241209]\n"
     ]
    },
    {
     "name": "stderr",
     "output_type": "stream",
     "text": [
      "/opt/miniconda3/envs/herbie/lib/python3.13/site-packages/herbie/core.py:1117: UserWarning: Will not remove GRIB file because Herbie will only remove subsetted files (not full files).\n",
      "  warnings.warn(\n"
     ]
    },
    {
     "name": "stdout",
     "output_type": "stream",
     "text": [
      "✅ Found ┊ model=hrdps ┊ \u001b[3mproduct=continental/2.5km\u001b[0m ┊ \u001b[38;2;41;130;13m2024-Dec-09 00:00 UTC\u001b[92m F00\u001b[0m ┊ \u001b[38;2;255;153;0m\u001b[3mGRIB2 @ msc\u001b[0m ┊ \u001b[38;2;255;153;0m\u001b[3mIDX @ None\u001b[0m\n",
      "👨🏻‍🏭 Created directory: [/Users/andrew/data/hrdps/20241209]\n"
     ]
    },
    {
     "name": "stderr",
     "output_type": "stream",
     "text": [
      "/opt/miniconda3/envs/herbie/lib/python3.13/site-packages/herbie/core.py:1117: UserWarning: Will not remove GRIB file because Herbie will only remove subsetted files (not full files).\n",
      "  warnings.warn(\n"
     ]
    },
    {
     "name": "stdout",
     "output_type": "stream",
     "text": [
      "✅ Found ┊ model=hrdps ┊ \u001b[3mproduct=continental/2.5km\u001b[0m ┊ \u001b[38;2;41;130;13m2024-Dec-09 00:00 UTC\u001b[92m F00\u001b[0m ┊ \u001b[38;2;255;153;0m\u001b[3mGRIB2 @ msc\u001b[0m ┊ \u001b[38;2;255;153;0m\u001b[3mIDX @ None\u001b[0m\n",
      "👨🏻‍🏭 Created directory: [/Users/andrew/data/hrdps/20241209]\n"
     ]
    },
    {
     "name": "stderr",
     "output_type": "stream",
     "text": [
      "/opt/miniconda3/envs/herbie/lib/python3.13/site-packages/herbie/core.py:1117: UserWarning: Will not remove GRIB file because Herbie will only remove subsetted files (not full files).\n",
      "  warnings.warn(\n"
     ]
    },
    {
     "name": "stdout",
     "output_type": "stream",
     "text": [
      "✅ Found ┊ model=hrdps ┊ \u001b[3mproduct=continental/2.5km\u001b[0m ┊ \u001b[38;2;41;130;13m2024-Dec-09 00:00 UTC\u001b[92m F00\u001b[0m ┊ \u001b[38;2;255;153;0m\u001b[3mGRIB2 @ msc\u001b[0m ┊ \u001b[38;2;255;153;0m\u001b[3mIDX @ None\u001b[0m\n",
      "👨🏻‍🏭 Created directory: [/Users/andrew/data/hrdps/20241209]\n"
     ]
    },
    {
     "name": "stderr",
     "output_type": "stream",
     "text": [
      "/opt/miniconda3/envs/herbie/lib/python3.13/site-packages/herbie/core.py:1117: UserWarning: Will not remove GRIB file because Herbie will only remove subsetted files (not full files).\n",
      "  warnings.warn(\n"
     ]
    },
    {
     "name": "stdout",
     "output_type": "stream",
     "text": [
      "✅ Found ┊ model=hrdps ┊ \u001b[3mproduct=continental/2.5km\u001b[0m ┊ \u001b[38;2;41;130;13m2024-Dec-09 00:00 UTC\u001b[92m F00\u001b[0m ┊ \u001b[38;2;255;153;0m\u001b[3mGRIB2 @ msc\u001b[0m ┊ \u001b[38;2;255;153;0m\u001b[3mIDX @ None\u001b[0m\n",
      "👨🏻‍🏭 Created directory: [/Users/andrew/data/hrdps/20241209]\n"
     ]
    },
    {
     "name": "stderr",
     "output_type": "stream",
     "text": [
      "/opt/miniconda3/envs/herbie/lib/python3.13/site-packages/herbie/core.py:1117: UserWarning: Will not remove GRIB file because Herbie will only remove subsetted files (not full files).\n",
      "  warnings.warn(\n"
     ]
    },
    {
     "name": "stdout",
     "output_type": "stream",
     "text": [
      "✅ Found ┊ model=hrdps ┊ \u001b[3mproduct=continental/2.5km\u001b[0m ┊ \u001b[38;2;41;130;13m2024-Dec-09 00:00 UTC\u001b[92m F00\u001b[0m ┊ \u001b[38;2;255;153;0m\u001b[3mGRIB2 @ msc\u001b[0m ┊ \u001b[38;2;255;153;0m\u001b[3mIDX @ None\u001b[0m\n",
      "👨🏻‍🏭 Created directory: [/Users/andrew/data/hrdps/20241209]\n"
     ]
    },
    {
     "name": "stderr",
     "output_type": "stream",
     "text": [
      "/opt/miniconda3/envs/herbie/lib/python3.13/site-packages/herbie/core.py:1117: UserWarning: Will not remove GRIB file because Herbie will only remove subsetted files (not full files).\n",
      "  warnings.warn(\n"
     ]
    },
    {
     "name": "stdout",
     "output_type": "stream",
     "text": [
      "✅ Found ┊ model=hrdps ┊ \u001b[3mproduct=continental/2.5km\u001b[0m ┊ \u001b[38;2;41;130;13m2024-Dec-09 00:00 UTC\u001b[92m F00\u001b[0m ┊ \u001b[38;2;255;153;0m\u001b[3mGRIB2 @ msc\u001b[0m ┊ \u001b[38;2;255;153;0m\u001b[3mIDX @ None\u001b[0m\n",
      "👨🏻‍🏭 Created directory: [/Users/andrew/data/hrdps/20241209]\n"
     ]
    },
    {
     "name": "stderr",
     "output_type": "stream",
     "text": [
      "/opt/miniconda3/envs/herbie/lib/python3.13/site-packages/herbie/core.py:1117: UserWarning: Will not remove GRIB file because Herbie will only remove subsetted files (not full files).\n",
      "  warnings.warn(\n"
     ]
    },
    {
     "name": "stdout",
     "output_type": "stream",
     "text": [
      "✅ Found ┊ model=hrdps ┊ \u001b[3mproduct=continental/2.5km\u001b[0m ┊ \u001b[38;2;41;130;13m2024-Dec-09 00:00 UTC\u001b[92m F00\u001b[0m ┊ \u001b[38;2;255;153;0m\u001b[3mGRIB2 @ msc\u001b[0m ┊ \u001b[38;2;255;153;0m\u001b[3mIDX @ None\u001b[0m\n",
      "👨🏻‍🏭 Created directory: [/Users/andrew/data/hrdps/20241209]\n"
     ]
    },
    {
     "name": "stderr",
     "output_type": "stream",
     "text": [
      "/opt/miniconda3/envs/herbie/lib/python3.13/site-packages/herbie/core.py:1117: UserWarning: Will not remove GRIB file because Herbie will only remove subsetted files (not full files).\n",
      "  warnings.warn(\n"
     ]
    },
    {
     "name": "stdout",
     "output_type": "stream",
     "text": [
      "✅ Found ┊ model=hrdps ┊ \u001b[3mproduct=continental/2.5km\u001b[0m ┊ \u001b[38;2;41;130;13m2024-Dec-09 00:00 UTC\u001b[92m F00\u001b[0m ┊ \u001b[38;2;255;153;0m\u001b[3mGRIB2 @ msc\u001b[0m ┊ \u001b[38;2;255;153;0m\u001b[3mIDX @ None\u001b[0m\n",
      "👨🏻‍🏭 Created directory: [/Users/andrew/data/hrdps/20241209]\n"
     ]
    },
    {
     "name": "stderr",
     "output_type": "stream",
     "text": [
      "/opt/miniconda3/envs/herbie/lib/python3.13/site-packages/herbie/core.py:1117: UserWarning: Will not remove GRIB file because Herbie will only remove subsetted files (not full files).\n",
      "  warnings.warn(\n"
     ]
    },
    {
     "name": "stdout",
     "output_type": "stream",
     "text": [
      "✅ Found ┊ model=hrdps ┊ \u001b[3mproduct=continental/2.5km\u001b[0m ┊ \u001b[38;2;41;130;13m2024-Dec-09 00:00 UTC\u001b[92m F00\u001b[0m ┊ \u001b[38;2;255;153;0m\u001b[3mGRIB2 @ msc\u001b[0m ┊ \u001b[38;2;255;153;0m\u001b[3mIDX @ None\u001b[0m\n",
      "👨🏻‍🏭 Created directory: [/Users/andrew/data/hrdps/20241209]\n"
     ]
    },
    {
     "name": "stderr",
     "output_type": "stream",
     "text": [
      "/opt/miniconda3/envs/herbie/lib/python3.13/site-packages/herbie/core.py:1117: UserWarning: Will not remove GRIB file because Herbie will only remove subsetted files (not full files).\n",
      "  warnings.warn(\n"
     ]
    },
    {
     "name": "stdout",
     "output_type": "stream",
     "text": [
      "✅ Found ┊ model=hrdps ┊ \u001b[3mproduct=continental/2.5km\u001b[0m ┊ \u001b[38;2;41;130;13m2024-Dec-09 00:00 UTC\u001b[92m F00\u001b[0m ┊ \u001b[38;2;255;153;0m\u001b[3mGRIB2 @ msc\u001b[0m ┊ \u001b[38;2;255;153;0m\u001b[3mIDX @ None\u001b[0m\n",
      "👨🏻‍🏭 Created directory: [/Users/andrew/data/hrdps/20241209]\n"
     ]
    },
    {
     "name": "stderr",
     "output_type": "stream",
     "text": [
      "/opt/miniconda3/envs/herbie/lib/python3.13/site-packages/herbie/core.py:1117: UserWarning: Will not remove GRIB file because Herbie will only remove subsetted files (not full files).\n",
      "  warnings.warn(\n"
     ]
    },
    {
     "name": "stdout",
     "output_type": "stream",
     "text": [
      "✅ Found ┊ model=hrdps ┊ \u001b[3mproduct=continental/2.5km\u001b[0m ┊ \u001b[38;2;41;130;13m2024-Dec-09 00:00 UTC\u001b[92m F00\u001b[0m ┊ \u001b[38;2;255;153;0m\u001b[3mGRIB2 @ msc\u001b[0m ┊ \u001b[38;2;255;153;0m\u001b[3mIDX @ None\u001b[0m\n",
      "👨🏻‍🏭 Created directory: [/Users/andrew/data/hrdps/20241209]\n"
     ]
    },
    {
     "name": "stderr",
     "output_type": "stream",
     "text": [
      "/opt/miniconda3/envs/herbie/lib/python3.13/site-packages/herbie/core.py:1117: UserWarning: Will not remove GRIB file because Herbie will only remove subsetted files (not full files).\n",
      "  warnings.warn(\n"
     ]
    },
    {
     "name": "stdout",
     "output_type": "stream",
     "text": [
      "✅ Found ┊ model=hrdps ┊ \u001b[3mproduct=continental/2.5km\u001b[0m ┊ \u001b[38;2;41;130;13m2024-Dec-09 00:00 UTC\u001b[92m F00\u001b[0m ┊ \u001b[38;2;255;153;0m\u001b[3mGRIB2 @ msc\u001b[0m ┊ \u001b[38;2;255;153;0m\u001b[3mIDX @ None\u001b[0m\n",
      "👨🏻‍🏭 Created directory: [/Users/andrew/data/hrdps/20241209]\n"
     ]
    },
    {
     "name": "stderr",
     "output_type": "stream",
     "text": [
      "/opt/miniconda3/envs/herbie/lib/python3.13/site-packages/herbie/core.py:1117: UserWarning: Will not remove GRIB file because Herbie will only remove subsetted files (not full files).\n",
      "  warnings.warn(\n"
     ]
    },
    {
     "name": "stdout",
     "output_type": "stream",
     "text": [
      "✅ Found ┊ model=hrdps ┊ \u001b[3mproduct=continental/2.5km\u001b[0m ┊ \u001b[38;2;41;130;13m2024-Dec-09 00:00 UTC\u001b[92m F00\u001b[0m ┊ \u001b[38;2;255;153;0m\u001b[3mGRIB2 @ msc\u001b[0m ┊ \u001b[38;2;255;153;0m\u001b[3mIDX @ None\u001b[0m\n",
      "👨🏻‍🏭 Created directory: [/Users/andrew/data/hrdps/20241209]\n"
     ]
    },
    {
     "name": "stderr",
     "output_type": "stream",
     "text": [
      "/opt/miniconda3/envs/herbie/lib/python3.13/site-packages/herbie/core.py:1117: UserWarning: Will not remove GRIB file because Herbie will only remove subsetted files (not full files).\n",
      "  warnings.warn(\n"
     ]
    },
    {
     "name": "stdout",
     "output_type": "stream",
     "text": [
      "✅ Found ┊ model=hrdps ┊ \u001b[3mproduct=continental/2.5km\u001b[0m ┊ \u001b[38;2;41;130;13m2024-Dec-09 00:00 UTC\u001b[92m F00\u001b[0m ┊ \u001b[38;2;255;153;0m\u001b[3mGRIB2 @ msc\u001b[0m ┊ \u001b[38;2;255;153;0m\u001b[3mIDX @ None\u001b[0m\n",
      "👨🏻‍🏭 Created directory: [/Users/andrew/data/hrdps/20241209]\n"
     ]
    },
    {
     "name": "stderr",
     "output_type": "stream",
     "text": [
      "/opt/miniconda3/envs/herbie/lib/python3.13/site-packages/herbie/core.py:1117: UserWarning: Will not remove GRIB file because Herbie will only remove subsetted files (not full files).\n",
      "  warnings.warn(\n"
     ]
    },
    {
     "name": "stdout",
     "output_type": "stream",
     "text": [
      "✅ Found ┊ model=hrdps ┊ \u001b[3mproduct=continental/2.5km\u001b[0m ┊ \u001b[38;2;41;130;13m2024-Dec-09 00:00 UTC\u001b[92m F00\u001b[0m ┊ \u001b[38;2;255;153;0m\u001b[3mGRIB2 @ msc\u001b[0m ┊ \u001b[38;2;255;153;0m\u001b[3mIDX @ None\u001b[0m\n",
      "👨🏻‍🏭 Created directory: [/Users/andrew/data/hrdps/20241209]\n"
     ]
    },
    {
     "name": "stderr",
     "output_type": "stream",
     "text": [
      "/opt/miniconda3/envs/herbie/lib/python3.13/site-packages/herbie/core.py:1117: UserWarning: Will not remove GRIB file because Herbie will only remove subsetted files (not full files).\n",
      "  warnings.warn(\n"
     ]
    },
    {
     "name": "stdout",
     "output_type": "stream",
     "text": [
      "✅ Found ┊ model=hrdps ┊ \u001b[3mproduct=continental/2.5km\u001b[0m ┊ \u001b[38;2;41;130;13m2024-Dec-09 00:00 UTC\u001b[92m F00\u001b[0m ┊ \u001b[38;2;255;153;0m\u001b[3mGRIB2 @ msc\u001b[0m ┊ \u001b[38;2;255;153;0m\u001b[3mIDX @ None\u001b[0m\n",
      "👨🏻‍🏭 Created directory: [/Users/andrew/data/hrdps/20241209]\n"
     ]
    },
    {
     "name": "stderr",
     "output_type": "stream",
     "text": [
      "/opt/miniconda3/envs/herbie/lib/python3.13/site-packages/herbie/core.py:1117: UserWarning: Will not remove GRIB file because Herbie will only remove subsetted files (not full files).\n",
      "  warnings.warn(\n"
     ]
    },
    {
     "name": "stdout",
     "output_type": "stream",
     "text": [
      "✅ Found ┊ model=hrdps ┊ \u001b[3mproduct=continental/2.5km\u001b[0m ┊ \u001b[38;2;41;130;13m2024-Dec-09 00:00 UTC\u001b[92m F00\u001b[0m ┊ \u001b[38;2;255;153;0m\u001b[3mGRIB2 @ msc\u001b[0m ┊ \u001b[38;2;255;153;0m\u001b[3mIDX @ None\u001b[0m\n",
      "👨🏻‍🏭 Created directory: [/Users/andrew/data/hrdps/20241209]\n"
     ]
    },
    {
     "name": "stderr",
     "output_type": "stream",
     "text": [
      "/opt/miniconda3/envs/herbie/lib/python3.13/site-packages/herbie/core.py:1117: UserWarning: Will not remove GRIB file because Herbie will only remove subsetted files (not full files).\n",
      "  warnings.warn(\n"
     ]
    },
    {
     "name": "stdout",
     "output_type": "stream",
     "text": [
      "✅ Found ┊ model=hrdps ┊ \u001b[3mproduct=continental/2.5km\u001b[0m ┊ \u001b[38;2;41;130;13m2024-Dec-09 00:00 UTC\u001b[92m F00\u001b[0m ┊ \u001b[38;2;255;153;0m\u001b[3mGRIB2 @ msc\u001b[0m ┊ \u001b[38;2;255;153;0m\u001b[3mIDX @ None\u001b[0m\n",
      "👨🏻‍🏭 Created directory: [/Users/andrew/data/hrdps/20241209]\n"
     ]
    },
    {
     "name": "stderr",
     "output_type": "stream",
     "text": [
      "/opt/miniconda3/envs/herbie/lib/python3.13/site-packages/herbie/core.py:1117: UserWarning: Will not remove GRIB file because Herbie will only remove subsetted files (not full files).\n",
      "  warnings.warn(\n"
     ]
    },
    {
     "name": "stdout",
     "output_type": "stream",
     "text": [
      "✅ Found ┊ model=hrdps ┊ \u001b[3mproduct=continental/2.5km\u001b[0m ┊ \u001b[38;2;41;130;13m2024-Dec-09 00:00 UTC\u001b[92m F00\u001b[0m ┊ \u001b[38;2;255;153;0m\u001b[3mGRIB2 @ msc\u001b[0m ┊ \u001b[38;2;255;153;0m\u001b[3mIDX @ None\u001b[0m\n",
      "👨🏻‍🏭 Created directory: [/Users/andrew/data/hrdps/20241209]\n"
     ]
    },
    {
     "name": "stderr",
     "output_type": "stream",
     "text": [
      "/opt/miniconda3/envs/herbie/lib/python3.13/site-packages/herbie/core.py:1117: UserWarning: Will not remove GRIB file because Herbie will only remove subsetted files (not full files).\n",
      "  warnings.warn(\n"
     ]
    },
    {
     "name": "stdout",
     "output_type": "stream",
     "text": [
      "✅ Found ┊ model=hrdps ┊ \u001b[3mproduct=continental/2.5km\u001b[0m ┊ \u001b[38;2;41;130;13m2024-Dec-09 00:00 UTC\u001b[92m F00\u001b[0m ┊ \u001b[38;2;255;153;0m\u001b[3mGRIB2 @ msc\u001b[0m ┊ \u001b[38;2;255;153;0m\u001b[3mIDX @ None\u001b[0m\n",
      "👨🏻‍🏭 Created directory: [/Users/andrew/data/hrdps/20241209]\n"
     ]
    },
    {
     "name": "stderr",
     "output_type": "stream",
     "text": [
      "/opt/miniconda3/envs/herbie/lib/python3.13/site-packages/herbie/core.py:1117: UserWarning: Will not remove GRIB file because Herbie will only remove subsetted files (not full files).\n",
      "  warnings.warn(\n"
     ]
    },
    {
     "name": "stdout",
     "output_type": "stream",
     "text": [
      "✅ Found ┊ model=hrdps ┊ \u001b[3mproduct=continental/2.5km\u001b[0m ┊ \u001b[38;2;41;130;13m2024-Dec-09 00:00 UTC\u001b[92m F00\u001b[0m ┊ \u001b[38;2;255;153;0m\u001b[3mGRIB2 @ msc\u001b[0m ┊ \u001b[38;2;255;153;0m\u001b[3mIDX @ None\u001b[0m\n",
      "👨🏻‍🏭 Created directory: [/Users/andrew/data/hrdps/20241209]\n"
     ]
    },
    {
     "name": "stderr",
     "output_type": "stream",
     "text": [
      "/opt/miniconda3/envs/herbie/lib/python3.13/site-packages/herbie/core.py:1117: UserWarning: Will not remove GRIB file because Herbie will only remove subsetted files (not full files).\n",
      "  warnings.warn(\n"
     ]
    },
    {
     "name": "stdout",
     "output_type": "stream",
     "text": [
      "✅ Found ┊ model=hrdps ┊ \u001b[3mproduct=continental/2.5km\u001b[0m ┊ \u001b[38;2;41;130;13m2024-Dec-09 00:00 UTC\u001b[92m F00\u001b[0m ┊ \u001b[38;2;255;153;0m\u001b[3mGRIB2 @ msc\u001b[0m ┊ \u001b[38;2;255;153;0m\u001b[3mIDX @ None\u001b[0m\n",
      "👨🏻‍🏭 Created directory: [/Users/andrew/data/hrdps/20241209]\n"
     ]
    },
    {
     "name": "stderr",
     "output_type": "stream",
     "text": [
      "/opt/miniconda3/envs/herbie/lib/python3.13/site-packages/herbie/core.py:1117: UserWarning: Will not remove GRIB file because Herbie will only remove subsetted files (not full files).\n",
      "  warnings.warn(\n"
     ]
    },
    {
     "name": "stdout",
     "output_type": "stream",
     "text": [
      "✅ Found ┊ model=hrdps ┊ \u001b[3mproduct=continental/2.5km\u001b[0m ┊ \u001b[38;2;41;130;13m2024-Dec-09 00:00 UTC\u001b[92m F00\u001b[0m ┊ \u001b[38;2;255;153;0m\u001b[3mGRIB2 @ msc\u001b[0m ┊ \u001b[38;2;255;153;0m\u001b[3mIDX @ None\u001b[0m\n",
      "👨🏻‍🏭 Created directory: [/Users/andrew/data/hrdps/20241209]\n"
     ]
    },
    {
     "name": "stderr",
     "output_type": "stream",
     "text": [
      "/opt/miniconda3/envs/herbie/lib/python3.13/site-packages/herbie/core.py:1117: UserWarning: Will not remove GRIB file because Herbie will only remove subsetted files (not full files).\n",
      "  warnings.warn(\n"
     ]
    },
    {
     "name": "stdout",
     "output_type": "stream",
     "text": [
      "✅ Found ┊ model=hrdps ┊ \u001b[3mproduct=continental/2.5km\u001b[0m ┊ \u001b[38;2;41;130;13m2024-Dec-09 00:00 UTC\u001b[92m F00\u001b[0m ┊ \u001b[38;2;255;153;0m\u001b[3mGRIB2 @ msc\u001b[0m ┊ \u001b[38;2;255;153;0m\u001b[3mIDX @ None\u001b[0m\n",
      "👨🏻‍🏭 Created directory: [/Users/andrew/data/hrdps/20241209]\n"
     ]
    },
    {
     "name": "stderr",
     "output_type": "stream",
     "text": [
      "/opt/miniconda3/envs/herbie/lib/python3.13/site-packages/herbie/core.py:1117: UserWarning: Will not remove GRIB file because Herbie will only remove subsetted files (not full files).\n",
      "  warnings.warn(\n"
     ]
    },
    {
     "name": "stdout",
     "output_type": "stream",
     "text": [
      "✅ Found ┊ model=hrdps ┊ \u001b[3mproduct=continental/2.5km\u001b[0m ┊ \u001b[38;2;41;130;13m2024-Dec-09 00:00 UTC\u001b[92m F00\u001b[0m ┊ \u001b[38;2;255;153;0m\u001b[3mGRIB2 @ msc\u001b[0m ┊ \u001b[38;2;255;153;0m\u001b[3mIDX @ None\u001b[0m\n",
      "👨🏻‍🏭 Created directory: [/Users/andrew/data/hrdps/20241209]\n"
     ]
    },
    {
     "name": "stderr",
     "output_type": "stream",
     "text": [
      "/opt/miniconda3/envs/herbie/lib/python3.13/site-packages/herbie/core.py:1117: UserWarning: Will not remove GRIB file because Herbie will only remove subsetted files (not full files).\n",
      "  warnings.warn(\n"
     ]
    },
    {
     "name": "stdout",
     "output_type": "stream",
     "text": [
      "✅ Found ┊ model=hrdps ┊ \u001b[3mproduct=continental/2.5km\u001b[0m ┊ \u001b[38;2;41;130;13m2024-Dec-09 00:00 UTC\u001b[92m F00\u001b[0m ┊ \u001b[38;2;255;153;0m\u001b[3mGRIB2 @ msc\u001b[0m ┊ \u001b[38;2;255;153;0m\u001b[3mIDX @ None\u001b[0m\n",
      "👨🏻‍🏭 Created directory: [/Users/andrew/data/hrdps/20241209]\n"
     ]
    },
    {
     "name": "stderr",
     "output_type": "stream",
     "text": [
      "/opt/miniconda3/envs/herbie/lib/python3.13/site-packages/herbie/core.py:1117: UserWarning: Will not remove GRIB file because Herbie will only remove subsetted files (not full files).\n",
      "  warnings.warn(\n"
     ]
    },
    {
     "name": "stdout",
     "output_type": "stream",
     "text": [
      "✅ Found ┊ model=hrdps ┊ \u001b[3mproduct=continental/2.5km\u001b[0m ┊ \u001b[38;2;41;130;13m2024-Dec-09 00:00 UTC\u001b[92m F00\u001b[0m ┊ \u001b[38;2;255;153;0m\u001b[3mGRIB2 @ msc\u001b[0m ┊ \u001b[38;2;255;153;0m\u001b[3mIDX @ None\u001b[0m\n",
      "👨🏻‍🏭 Created directory: [/Users/andrew/data/hrdps/20241209]\n"
     ]
    },
    {
     "name": "stderr",
     "output_type": "stream",
     "text": [
      "/opt/miniconda3/envs/herbie/lib/python3.13/site-packages/herbie/core.py:1117: UserWarning: Will not remove GRIB file because Herbie will only remove subsetted files (not full files).\n",
      "  warnings.warn(\n"
     ]
    },
    {
     "name": "stdout",
     "output_type": "stream",
     "text": [
      "✅ Found ┊ model=hrdps ┊ \u001b[3mproduct=continental/2.5km\u001b[0m ┊ \u001b[38;2;41;130;13m2024-Dec-09 00:00 UTC\u001b[92m F00\u001b[0m ┊ \u001b[38;2;255;153;0m\u001b[3mGRIB2 @ msc\u001b[0m ┊ \u001b[38;2;255;153;0m\u001b[3mIDX @ None\u001b[0m\n",
      "👨🏻‍🏭 Created directory: [/Users/andrew/data/hrdps/20241209]\n"
     ]
    },
    {
     "name": "stderr",
     "output_type": "stream",
     "text": [
      "/opt/miniconda3/envs/herbie/lib/python3.13/site-packages/herbie/core.py:1117: UserWarning: Will not remove GRIB file because Herbie will only remove subsetted files (not full files).\n",
      "  warnings.warn(\n"
     ]
    },
    {
     "name": "stdout",
     "output_type": "stream",
     "text": [
      "✅ Found ┊ model=hrdps ┊ \u001b[3mproduct=continental/2.5km\u001b[0m ┊ \u001b[38;2;41;130;13m2024-Dec-09 00:00 UTC\u001b[92m F00\u001b[0m ┊ \u001b[38;2;255;153;0m\u001b[3mGRIB2 @ msc\u001b[0m ┊ \u001b[38;2;255;153;0m\u001b[3mIDX @ None\u001b[0m\n",
      "👨🏻‍🏭 Created directory: [/Users/andrew/data/hrdps/20241209]\n"
     ]
    },
    {
     "name": "stderr",
     "output_type": "stream",
     "text": [
      "/opt/miniconda3/envs/herbie/lib/python3.13/site-packages/herbie/core.py:1117: UserWarning: Will not remove GRIB file because Herbie will only remove subsetted files (not full files).\n",
      "  warnings.warn(\n"
     ]
    },
    {
     "name": "stdout",
     "output_type": "stream",
     "text": [
      "✅ Found ┊ model=hrdps ┊ \u001b[3mproduct=continental/2.5km\u001b[0m ┊ \u001b[38;2;41;130;13m2024-Dec-09 00:00 UTC\u001b[92m F00\u001b[0m ┊ \u001b[38;2;255;153;0m\u001b[3mGRIB2 @ msc\u001b[0m ┊ \u001b[38;2;255;153;0m\u001b[3mIDX @ None\u001b[0m\n",
      "👨🏻‍🏭 Created directory: [/Users/andrew/data/hrdps/20241209]\n"
     ]
    },
    {
     "name": "stderr",
     "output_type": "stream",
     "text": [
      "/opt/miniconda3/envs/herbie/lib/python3.13/site-packages/herbie/core.py:1117: UserWarning: Will not remove GRIB file because Herbie will only remove subsetted files (not full files).\n",
      "  warnings.warn(\n"
     ]
    },
    {
     "name": "stdout",
     "output_type": "stream",
     "text": [
      "✅ Found ┊ model=hrdps ┊ \u001b[3mproduct=continental/2.5km\u001b[0m ┊ \u001b[38;2;41;130;13m2024-Dec-09 00:00 UTC\u001b[92m F00\u001b[0m ┊ \u001b[38;2;255;153;0m\u001b[3mGRIB2 @ msc\u001b[0m ┊ \u001b[38;2;255;153;0m\u001b[3mIDX @ None\u001b[0m\n",
      "👨🏻‍🏭 Created directory: [/Users/andrew/data/hrdps/20241209]\n"
     ]
    },
    {
     "name": "stderr",
     "output_type": "stream",
     "text": [
      "/opt/miniconda3/envs/herbie/lib/python3.13/site-packages/herbie/core.py:1117: UserWarning: Will not remove GRIB file because Herbie will only remove subsetted files (not full files).\n",
      "  warnings.warn(\n"
     ]
    },
    {
     "name": "stdout",
     "output_type": "stream",
     "text": [
      "✅ Found ┊ model=hrdps ┊ \u001b[3mproduct=continental/2.5km\u001b[0m ┊ \u001b[38;2;41;130;13m2024-Dec-09 00:00 UTC\u001b[92m F00\u001b[0m ┊ \u001b[38;2;255;153;0m\u001b[3mGRIB2 @ msc\u001b[0m ┊ \u001b[38;2;255;153;0m\u001b[3mIDX @ None\u001b[0m\n",
      "👨🏻‍🏭 Created directory: [/Users/andrew/data/hrdps/20241209]\n"
     ]
    },
    {
     "name": "stderr",
     "output_type": "stream",
     "text": [
      "/opt/miniconda3/envs/herbie/lib/python3.13/site-packages/herbie/core.py:1117: UserWarning: Will not remove GRIB file because Herbie will only remove subsetted files (not full files).\n",
      "  warnings.warn(\n"
     ]
    },
    {
     "name": "stdout",
     "output_type": "stream",
     "text": [
      "✅ Found ┊ model=hrdps ┊ \u001b[3mproduct=continental/2.5km\u001b[0m ┊ \u001b[38;2;41;130;13m2024-Dec-09 00:00 UTC\u001b[92m F00\u001b[0m ┊ \u001b[38;2;255;153;0m\u001b[3mGRIB2 @ msc\u001b[0m ┊ \u001b[38;2;255;153;0m\u001b[3mIDX @ None\u001b[0m\n",
      "👨🏻‍🏭 Created directory: [/Users/andrew/data/hrdps/20241209]\n"
     ]
    },
    {
     "name": "stderr",
     "output_type": "stream",
     "text": [
      "/opt/miniconda3/envs/herbie/lib/python3.13/site-packages/herbie/core.py:1117: UserWarning: Will not remove GRIB file because Herbie will only remove subsetted files (not full files).\n",
      "  warnings.warn(\n"
     ]
    },
    {
     "name": "stdout",
     "output_type": "stream",
     "text": [
      "✅ Found ┊ model=hrdps ┊ \u001b[3mproduct=continental/2.5km\u001b[0m ┊ \u001b[38;2;41;130;13m2024-Dec-09 00:00 UTC\u001b[92m F00\u001b[0m ┊ \u001b[38;2;255;153;0m\u001b[3mGRIB2 @ msc\u001b[0m ┊ \u001b[38;2;255;153;0m\u001b[3mIDX @ None\u001b[0m\n",
      "👨🏻‍🏭 Created directory: [/Users/andrew/data/hrdps/20241209]\n"
     ]
    },
    {
     "name": "stderr",
     "output_type": "stream",
     "text": [
      "/opt/miniconda3/envs/herbie/lib/python3.13/site-packages/herbie/core.py:1117: UserWarning: Will not remove GRIB file because Herbie will only remove subsetted files (not full files).\n",
      "  warnings.warn(\n"
     ]
    },
    {
     "name": "stdout",
     "output_type": "stream",
     "text": [
      "✅ Found ┊ model=hrdps ┊ \u001b[3mproduct=continental/2.5km\u001b[0m ┊ \u001b[38;2;41;130;13m2024-Dec-09 00:00 UTC\u001b[92m F00\u001b[0m ┊ \u001b[38;2;255;153;0m\u001b[3mGRIB2 @ msc\u001b[0m ┊ \u001b[38;2;255;153;0m\u001b[3mIDX @ None\u001b[0m\n",
      "👨🏻‍🏭 Created directory: [/Users/andrew/data/hrdps/20241209]\n"
     ]
    },
    {
     "name": "stderr",
     "output_type": "stream",
     "text": [
      "/opt/miniconda3/envs/herbie/lib/python3.13/site-packages/herbie/core.py:1117: UserWarning: Will not remove GRIB file because Herbie will only remove subsetted files (not full files).\n",
      "  warnings.warn(\n"
     ]
    },
    {
     "name": "stdout",
     "output_type": "stream",
     "text": [
      "✅ Found ┊ model=hrdps ┊ \u001b[3mproduct=continental/2.5km\u001b[0m ┊ \u001b[38;2;41;130;13m2024-Dec-09 00:00 UTC\u001b[92m F00\u001b[0m ┊ \u001b[38;2;255;153;0m\u001b[3mGRIB2 @ msc\u001b[0m ┊ \u001b[38;2;255;153;0m\u001b[3mIDX @ None\u001b[0m\n",
      "👨🏻‍🏭 Created directory: [/Users/andrew/data/hrdps/20241209]\n"
     ]
    },
    {
     "name": "stderr",
     "output_type": "stream",
     "text": [
      "/opt/miniconda3/envs/herbie/lib/python3.13/site-packages/herbie/core.py:1117: UserWarning: Will not remove GRIB file because Herbie will only remove subsetted files (not full files).\n",
      "  warnings.warn(\n"
     ]
    },
    {
     "name": "stdout",
     "output_type": "stream",
     "text": [
      "✅ Found ┊ model=hrdps ┊ \u001b[3mproduct=continental/2.5km\u001b[0m ┊ \u001b[38;2;41;130;13m2024-Dec-09 00:00 UTC\u001b[92m F00\u001b[0m ┊ \u001b[38;2;255;153;0m\u001b[3mGRIB2 @ msc\u001b[0m ┊ \u001b[38;2;255;153;0m\u001b[3mIDX @ None\u001b[0m\n",
      "👨🏻‍🏭 Created directory: [/Users/andrew/data/hrdps/20241209]\n"
     ]
    },
    {
     "name": "stderr",
     "output_type": "stream",
     "text": [
      "/opt/miniconda3/envs/herbie/lib/python3.13/site-packages/herbie/core.py:1117: UserWarning: Will not remove GRIB file because Herbie will only remove subsetted files (not full files).\n",
      "  warnings.warn(\n"
     ]
    },
    {
     "name": "stdout",
     "output_type": "stream",
     "text": [
      "✅ Found ┊ model=hrdps ┊ \u001b[3mproduct=continental/2.5km\u001b[0m ┊ \u001b[38;2;41;130;13m2024-Dec-09 00:00 UTC\u001b[92m F00\u001b[0m ┊ \u001b[38;2;255;153;0m\u001b[3mGRIB2 @ msc\u001b[0m ┊ \u001b[38;2;255;153;0m\u001b[3mIDX @ None\u001b[0m\n",
      "👨🏻‍🏭 Created directory: [/Users/andrew/data/hrdps/20241209]\n"
     ]
    },
    {
     "name": "stderr",
     "output_type": "stream",
     "text": [
      "/opt/miniconda3/envs/herbie/lib/python3.13/site-packages/herbie/core.py:1117: UserWarning: Will not remove GRIB file because Herbie will only remove subsetted files (not full files).\n",
      "  warnings.warn(\n"
     ]
    },
    {
     "name": "stdout",
     "output_type": "stream",
     "text": [
      "✅ Found ┊ model=hrdps ┊ \u001b[3mproduct=continental/2.5km\u001b[0m ┊ \u001b[38;2;41;130;13m2024-Dec-09 00:00 UTC\u001b[92m F00\u001b[0m ┊ \u001b[38;2;255;153;0m\u001b[3mGRIB2 @ msc\u001b[0m ┊ \u001b[38;2;255;153;0m\u001b[3mIDX @ None\u001b[0m\n",
      "👨🏻‍🏭 Created directory: [/Users/andrew/data/hrdps/20241209]\n"
     ]
    },
    {
     "name": "stderr",
     "output_type": "stream",
     "text": [
      "/opt/miniconda3/envs/herbie/lib/python3.13/site-packages/herbie/core.py:1117: UserWarning: Will not remove GRIB file because Herbie will only remove subsetted files (not full files).\n",
      "  warnings.warn(\n"
     ]
    },
    {
     "name": "stdout",
     "output_type": "stream",
     "text": [
      "✅ Found ┊ model=hrdps ┊ \u001b[3mproduct=continental/2.5km\u001b[0m ┊ \u001b[38;2;41;130;13m2024-Dec-09 00:00 UTC\u001b[92m F00\u001b[0m ┊ \u001b[38;2;255;153;0m\u001b[3mGRIB2 @ msc\u001b[0m ┊ \u001b[38;2;255;153;0m\u001b[3mIDX @ None\u001b[0m\n",
      "👨🏻‍🏭 Created directory: [/Users/andrew/data/hrdps/20241209]\n"
     ]
    },
    {
     "name": "stderr",
     "output_type": "stream",
     "text": [
      "/opt/miniconda3/envs/herbie/lib/python3.13/site-packages/herbie/core.py:1117: UserWarning: Will not remove GRIB file because Herbie will only remove subsetted files (not full files).\n",
      "  warnings.warn(\n"
     ]
    },
    {
     "name": "stdout",
     "output_type": "stream",
     "text": [
      "✅ Found ┊ model=hrdps ┊ \u001b[3mproduct=continental/2.5km\u001b[0m ┊ \u001b[38;2;41;130;13m2024-Dec-09 00:00 UTC\u001b[92m F00\u001b[0m ┊ \u001b[38;2;255;153;0m\u001b[3mGRIB2 @ msc\u001b[0m ┊ \u001b[38;2;255;153;0m\u001b[3mIDX @ None\u001b[0m\n",
      "👨🏻‍🏭 Created directory: [/Users/andrew/data/hrdps/20241209]\n"
     ]
    },
    {
     "name": "stderr",
     "output_type": "stream",
     "text": [
      "/opt/miniconda3/envs/herbie/lib/python3.13/site-packages/herbie/core.py:1117: UserWarning: Will not remove GRIB file because Herbie will only remove subsetted files (not full files).\n",
      "  warnings.warn(\n"
     ]
    },
    {
     "name": "stdout",
     "output_type": "stream",
     "text": [
      "✅ Found ┊ model=hrdps ┊ \u001b[3mproduct=continental/2.5km\u001b[0m ┊ \u001b[38;2;41;130;13m2024-Dec-09 00:00 UTC\u001b[92m F00\u001b[0m ┊ \u001b[38;2;255;153;0m\u001b[3mGRIB2 @ msc\u001b[0m ┊ \u001b[38;2;255;153;0m\u001b[3mIDX @ None\u001b[0m\n",
      "👨🏻‍🏭 Created directory: [/Users/andrew/data/hrdps/20241209]\n"
     ]
    },
    {
     "name": "stderr",
     "output_type": "stream",
     "text": [
      "/opt/miniconda3/envs/herbie/lib/python3.13/site-packages/herbie/core.py:1117: UserWarning: Will not remove GRIB file because Herbie will only remove subsetted files (not full files).\n",
      "  warnings.warn(\n"
     ]
    },
    {
     "name": "stdout",
     "output_type": "stream",
     "text": [
      "✅ Found ┊ model=hrdps ┊ \u001b[3mproduct=continental/2.5km\u001b[0m ┊ \u001b[38;2;41;130;13m2024-Dec-09 00:00 UTC\u001b[92m F00\u001b[0m ┊ \u001b[38;2;255;153;0m\u001b[3mGRIB2 @ msc\u001b[0m ┊ \u001b[38;2;255;153;0m\u001b[3mIDX @ None\u001b[0m\n",
      "👨🏻‍🏭 Created directory: [/Users/andrew/data/hrdps/20241209]\n"
     ]
    },
    {
     "name": "stderr",
     "output_type": "stream",
     "text": [
      "/opt/miniconda3/envs/herbie/lib/python3.13/site-packages/herbie/core.py:1117: UserWarning: Will not remove GRIB file because Herbie will only remove subsetted files (not full files).\n",
      "  warnings.warn(\n"
     ]
    },
    {
     "name": "stdout",
     "output_type": "stream",
     "text": [
      "✅ Found ┊ model=hrdps ┊ \u001b[3mproduct=continental/2.5km\u001b[0m ┊ \u001b[38;2;41;130;13m2024-Dec-09 00:00 UTC\u001b[92m F00\u001b[0m ┊ \u001b[38;2;255;153;0m\u001b[3mGRIB2 @ msc\u001b[0m ┊ \u001b[38;2;255;153;0m\u001b[3mIDX @ None\u001b[0m\n",
      "👨🏻‍🏭 Created directory: [/Users/andrew/data/hrdps/20241209]\n"
     ]
    },
    {
     "name": "stderr",
     "output_type": "stream",
     "text": [
      "/opt/miniconda3/envs/herbie/lib/python3.13/site-packages/herbie/core.py:1117: UserWarning: Will not remove GRIB file because Herbie will only remove subsetted files (not full files).\n",
      "  warnings.warn(\n"
     ]
    },
    {
     "name": "stdout",
     "output_type": "stream",
     "text": [
      "✅ Found ┊ model=hrdps ┊ \u001b[3mproduct=continental/2.5km\u001b[0m ┊ \u001b[38;2;41;130;13m2024-Dec-09 00:00 UTC\u001b[92m F00\u001b[0m ┊ \u001b[38;2;255;153;0m\u001b[3mGRIB2 @ msc\u001b[0m ┊ \u001b[38;2;255;153;0m\u001b[3mIDX @ None\u001b[0m\n",
      "👨🏻‍🏭 Created directory: [/Users/andrew/data/hrdps/20241209]\n"
     ]
    },
    {
     "name": "stderr",
     "output_type": "stream",
     "text": [
      "/opt/miniconda3/envs/herbie/lib/python3.13/site-packages/herbie/core.py:1117: UserWarning: Will not remove GRIB file because Herbie will only remove subsetted files (not full files).\n",
      "  warnings.warn(\n"
     ]
    },
    {
     "name": "stdout",
     "output_type": "stream",
     "text": [
      "✅ Found ┊ model=hrdps ┊ \u001b[3mproduct=continental/2.5km\u001b[0m ┊ \u001b[38;2;41;130;13m2024-Dec-09 00:00 UTC\u001b[92m F00\u001b[0m ┊ \u001b[38;2;255;153;0m\u001b[3mGRIB2 @ msc\u001b[0m ┊ \u001b[38;2;255;153;0m\u001b[3mIDX @ None\u001b[0m\n",
      "👨🏻‍🏭 Created directory: [/Users/andrew/data/hrdps/20241209]\n"
     ]
    },
    {
     "name": "stderr",
     "output_type": "stream",
     "text": [
      "/opt/miniconda3/envs/herbie/lib/python3.13/site-packages/herbie/core.py:1117: UserWarning: Will not remove GRIB file because Herbie will only remove subsetted files (not full files).\n",
      "  warnings.warn(\n"
     ]
    },
    {
     "name": "stdout",
     "output_type": "stream",
     "text": [
      "✅ Found ┊ model=hrdps ┊ \u001b[3mproduct=continental/2.5km\u001b[0m ┊ \u001b[38;2;41;130;13m2024-Dec-09 00:00 UTC\u001b[92m F00\u001b[0m ┊ \u001b[38;2;255;153;0m\u001b[3mGRIB2 @ msc\u001b[0m ┊ \u001b[38;2;255;153;0m\u001b[3mIDX @ None\u001b[0m\n",
      "👨🏻‍🏭 Created directory: [/Users/andrew/data/hrdps/20241209]\n"
     ]
    },
    {
     "name": "stderr",
     "output_type": "stream",
     "text": [
      "/opt/miniconda3/envs/herbie/lib/python3.13/site-packages/herbie/core.py:1117: UserWarning: Will not remove GRIB file because Herbie will only remove subsetted files (not full files).\n",
      "  warnings.warn(\n"
     ]
    },
    {
     "name": "stdout",
     "output_type": "stream",
     "text": [
      "✅ Found ┊ model=hrdps ┊ \u001b[3mproduct=continental/2.5km\u001b[0m ┊ \u001b[38;2;41;130;13m2024-Dec-09 00:00 UTC\u001b[92m F00\u001b[0m ┊ \u001b[38;2;255;153;0m\u001b[3mGRIB2 @ msc\u001b[0m ┊ \u001b[38;2;255;153;0m\u001b[3mIDX @ None\u001b[0m\n",
      "👨🏻‍🏭 Created directory: [/Users/andrew/data/hrdps/20241209]\n"
     ]
    },
    {
     "name": "stderr",
     "output_type": "stream",
     "text": [
      "/opt/miniconda3/envs/herbie/lib/python3.13/site-packages/herbie/core.py:1117: UserWarning: Will not remove GRIB file because Herbie will only remove subsetted files (not full files).\n",
      "  warnings.warn(\n"
     ]
    },
    {
     "name": "stdout",
     "output_type": "stream",
     "text": [
      "✅ Found ┊ model=hrdps ┊ \u001b[3mproduct=continental/2.5km\u001b[0m ┊ \u001b[38;2;41;130;13m2024-Dec-09 00:00 UTC\u001b[92m F00\u001b[0m ┊ \u001b[38;2;255;153;0m\u001b[3mGRIB2 @ msc\u001b[0m ┊ \u001b[38;2;255;153;0m\u001b[3mIDX @ None\u001b[0m\n",
      "👨🏻‍🏭 Created directory: [/Users/andrew/data/hrdps/20241209]\n"
     ]
    },
    {
     "name": "stderr",
     "output_type": "stream",
     "text": [
      "/opt/miniconda3/envs/herbie/lib/python3.13/site-packages/herbie/core.py:1117: UserWarning: Will not remove GRIB file because Herbie will only remove subsetted files (not full files).\n",
      "  warnings.warn(\n"
     ]
    },
    {
     "data": {
      "text/plain": [
       "[None,\n",
       " None,\n",
       " None,\n",
       " None,\n",
       " None,\n",
       " None,\n",
       " None,\n",
       " None,\n",
       " None,\n",
       " None,\n",
       " None,\n",
       " None,\n",
       " None,\n",
       " None,\n",
       " None,\n",
       " None,\n",
       " None,\n",
       " None,\n",
       " None,\n",
       " None,\n",
       " None,\n",
       " None,\n",
       " None,\n",
       " None,\n",
       " None,\n",
       " None,\n",
       " None,\n",
       " None,\n",
       " None,\n",
       " None,\n",
       " None,\n",
       " None,\n",
       " None,\n",
       " None,\n",
       " None,\n",
       " None,\n",
       " None,\n",
       " None,\n",
       " None,\n",
       " None,\n",
       " None,\n",
       " None,\n",
       " None,\n",
       " None,\n",
       " None,\n",
       " None,\n",
       " None,\n",
       " None,\n",
       " None,\n",
       " None,\n",
       " None,\n",
       " None,\n",
       " None,\n",
       " None,\n",
       " None,\n",
       " None,\n",
       " None,\n",
       " None,\n",
       " None]"
      ]
     },
     "execution_count": 16,
     "metadata": {},
     "output_type": "execute_result"
    }
   ],
   "source": [
    "# do the big loop to get the data\n",
    "[get_timestep(i) for i in range(len(df))]"
   ]
  },
  {
   "cell_type": "code",
   "execution_count": 37,
   "id": "6c20b1fe",
   "metadata": {},
   "outputs": [
    {
     "data": {
      "text/plain": [
       "[3,\n",
       " 4,\n",
       " 5,\n",
       " 6,\n",
       " 7,\n",
       " 8,\n",
       " 9,\n",
       " 10,\n",
       " 11,\n",
       " 12,\n",
       " 13,\n",
       " 14,\n",
       " 15,\n",
       " 16,\n",
       " 17,\n",
       " 18,\n",
       " 19,\n",
       " 20,\n",
       " 21,\n",
       " 22,\n",
       " 23,\n",
       " 24,\n",
       " 25,\n",
       " 26,\n",
       " 27,\n",
       " 28,\n",
       " 29,\n",
       " 30,\n",
       " 31,\n",
       " 32,\n",
       " 33,\n",
       " 34,\n",
       " 35,\n",
       " 36,\n",
       " 37,\n",
       " 38,\n",
       " 39,\n",
       " 40,\n",
       " 41,\n",
       " 42,\n",
       " 43,\n",
       " 44,\n",
       " 45,\n",
       " 46,\n",
       " 47,\n",
       " 48,\n",
       " 49,\n",
       " 50,\n",
       " 51,\n",
       " 52,\n",
       " 53,\n",
       " 54,\n",
       " 55,\n",
       " 56,\n",
       " 57,\n",
       " 58]"
      ]
     },
     "execution_count": 37,
     "metadata": {},
     "output_type": "execute_result"
    }
   ],
   "source": [
    "list(df[df[\"level\"] != \"Sfc\"].index)"
   ]
  },
  {
   "cell_type": "code",
   "execution_count": null,
   "id": "f840751a",
   "metadata": {},
   "outputs": [],
   "source": []
  },
  {
   "cell_type": "code",
   "execution_count": null,
   "id": "f6258cda",
   "metadata": {},
   "outputs": [],
   "source": []
  },
  {
   "cell_type": "code",
   "execution_count": null,
   "id": "eb4336d2",
   "metadata": {},
   "outputs": [],
   "source": []
  },
  {
   "cell_type": "code",
   "execution_count": 20,
   "id": "4f399928",
   "metadata": {},
   "outputs": [
    {
     "data": {
      "text/html": [
       "<div><svg style=\"position: absolute; width: 0; height: 0; overflow: hidden\">\n",
       "<defs>\n",
       "<symbol id=\"icon-database\" viewBox=\"0 0 32 32\">\n",
       "<path d=\"M16 0c-8.837 0-16 2.239-16 5v4c0 2.761 7.163 5 16 5s16-2.239 16-5v-4c0-2.761-7.163-5-16-5z\"></path>\n",
       "<path d=\"M16 17c-8.837 0-16-2.239-16-5v6c0 2.761 7.163 5 16 5s16-2.239 16-5v-6c0 2.761-7.163 5-16 5z\"></path>\n",
       "<path d=\"M16 26c-8.837 0-16-2.239-16-5v6c0 2.761 7.163 5 16 5s16-2.239 16-5v-6c0 2.761-7.163 5-16 5z\"></path>\n",
       "</symbol>\n",
       "<symbol id=\"icon-file-text2\" viewBox=\"0 0 32 32\">\n",
       "<path d=\"M28.681 7.159c-0.694-0.947-1.662-2.053-2.724-3.116s-2.169-2.030-3.116-2.724c-1.612-1.182-2.393-1.319-2.841-1.319h-15.5c-1.378 0-2.5 1.121-2.5 2.5v27c0 1.378 1.122 2.5 2.5 2.5h23c1.378 0 2.5-1.122 2.5-2.5v-19.5c0-0.448-0.137-1.23-1.319-2.841zM24.543 5.457c0.959 0.959 1.712 1.825 2.268 2.543h-4.811v-4.811c0.718 0.556 1.584 1.309 2.543 2.268zM28 29.5c0 0.271-0.229 0.5-0.5 0.5h-23c-0.271 0-0.5-0.229-0.5-0.5v-27c0-0.271 0.229-0.5 0.5-0.5 0 0 15.499-0 15.5 0v7c0 0.552 0.448 1 1 1h7v19.5z\"></path>\n",
       "<path d=\"M23 26h-14c-0.552 0-1-0.448-1-1s0.448-1 1-1h14c0.552 0 1 0.448 1 1s-0.448 1-1 1z\"></path>\n",
       "<path d=\"M23 22h-14c-0.552 0-1-0.448-1-1s0.448-1 1-1h14c0.552 0 1 0.448 1 1s-0.448 1-1 1z\"></path>\n",
       "<path d=\"M23 18h-14c-0.552 0-1-0.448-1-1s0.448-1 1-1h14c0.552 0 1 0.448 1 1s-0.448 1-1 1z\"></path>\n",
       "</symbol>\n",
       "</defs>\n",
       "</svg>\n",
       "<style>/* CSS stylesheet for displaying xarray objects in jupyterlab.\n",
       " *\n",
       " */\n",
       "\n",
       ":root {\n",
       "  --xr-font-color0: var(--jp-content-font-color0, rgba(0, 0, 0, 1));\n",
       "  --xr-font-color2: var(--jp-content-font-color2, rgba(0, 0, 0, 0.54));\n",
       "  --xr-font-color3: var(--jp-content-font-color3, rgba(0, 0, 0, 0.38));\n",
       "  --xr-border-color: var(--jp-border-color2, #e0e0e0);\n",
       "  --xr-disabled-color: var(--jp-layout-color3, #bdbdbd);\n",
       "  --xr-background-color: var(--jp-layout-color0, white);\n",
       "  --xr-background-color-row-even: var(--jp-layout-color1, white);\n",
       "  --xr-background-color-row-odd: var(--jp-layout-color2, #eeeeee);\n",
       "}\n",
       "\n",
       "html[theme=dark],\n",
       "html[data-theme=dark],\n",
       "body[data-theme=dark],\n",
       "body.vscode-dark {\n",
       "  --xr-font-color0: rgba(255, 255, 255, 1);\n",
       "  --xr-font-color2: rgba(255, 255, 255, 0.54);\n",
       "  --xr-font-color3: rgba(255, 255, 255, 0.38);\n",
       "  --xr-border-color: #1F1F1F;\n",
       "  --xr-disabled-color: #515151;\n",
       "  --xr-background-color: #111111;\n",
       "  --xr-background-color-row-even: #111111;\n",
       "  --xr-background-color-row-odd: #313131;\n",
       "}\n",
       "\n",
       ".xr-wrap {\n",
       "  display: block !important;\n",
       "  min-width: 300px;\n",
       "  max-width: 700px;\n",
       "}\n",
       "\n",
       ".xr-text-repr-fallback {\n",
       "  /* fallback to plain text repr when CSS is not injected (untrusted notebook) */\n",
       "  display: none;\n",
       "}\n",
       "\n",
       ".xr-header {\n",
       "  padding-top: 6px;\n",
       "  padding-bottom: 6px;\n",
       "  margin-bottom: 4px;\n",
       "  border-bottom: solid 1px var(--xr-border-color);\n",
       "}\n",
       "\n",
       ".xr-header > div,\n",
       ".xr-header > ul {\n",
       "  display: inline;\n",
       "  margin-top: 0;\n",
       "  margin-bottom: 0;\n",
       "}\n",
       "\n",
       ".xr-obj-type,\n",
       ".xr-array-name {\n",
       "  margin-left: 2px;\n",
       "  margin-right: 10px;\n",
       "}\n",
       "\n",
       ".xr-obj-type {\n",
       "  color: var(--xr-font-color2);\n",
       "}\n",
       "\n",
       ".xr-sections {\n",
       "  padding-left: 0 !important;\n",
       "  display: grid;\n",
       "  grid-template-columns: 150px auto auto 1fr 0 20px 0 20px;\n",
       "}\n",
       "\n",
       ".xr-section-item {\n",
       "  display: contents;\n",
       "}\n",
       "\n",
       ".xr-section-item input {\n",
       "  display: inline-block;\n",
       "  opacity: 0;\n",
       "}\n",
       "\n",
       ".xr-section-item input + label {\n",
       "  color: var(--xr-disabled-color);\n",
       "}\n",
       "\n",
       ".xr-section-item input:enabled + label {\n",
       "  cursor: pointer;\n",
       "  color: var(--xr-font-color2);\n",
       "}\n",
       "\n",
       ".xr-section-item input:focus + label {\n",
       "  border: 2px solid var(--xr-font-color0);\n",
       "}\n",
       "\n",
       ".xr-section-item input:enabled + label:hover {\n",
       "  color: var(--xr-font-color0);\n",
       "}\n",
       "\n",
       ".xr-section-summary {\n",
       "  grid-column: 1;\n",
       "  color: var(--xr-font-color2);\n",
       "  font-weight: 500;\n",
       "}\n",
       "\n",
       ".xr-section-summary > span {\n",
       "  display: inline-block;\n",
       "  padding-left: 0.5em;\n",
       "}\n",
       "\n",
       ".xr-section-summary-in:disabled + label {\n",
       "  color: var(--xr-font-color2);\n",
       "}\n",
       "\n",
       ".xr-section-summary-in + label:before {\n",
       "  display: inline-block;\n",
       "  content: '►';\n",
       "  font-size: 11px;\n",
       "  width: 15px;\n",
       "  text-align: center;\n",
       "}\n",
       "\n",
       ".xr-section-summary-in:disabled + label:before {\n",
       "  color: var(--xr-disabled-color);\n",
       "}\n",
       "\n",
       ".xr-section-summary-in:checked + label:before {\n",
       "  content: '▼';\n",
       "}\n",
       "\n",
       ".xr-section-summary-in:checked + label > span {\n",
       "  display: none;\n",
       "}\n",
       "\n",
       ".xr-section-summary,\n",
       ".xr-section-inline-details {\n",
       "  padding-top: 4px;\n",
       "  padding-bottom: 4px;\n",
       "}\n",
       "\n",
       ".xr-section-inline-details {\n",
       "  grid-column: 2 / -1;\n",
       "}\n",
       "\n",
       ".xr-section-details {\n",
       "  display: none;\n",
       "  grid-column: 1 / -1;\n",
       "  margin-bottom: 5px;\n",
       "}\n",
       "\n",
       ".xr-section-summary-in:checked ~ .xr-section-details {\n",
       "  display: contents;\n",
       "}\n",
       "\n",
       ".xr-array-wrap {\n",
       "  grid-column: 1 / -1;\n",
       "  display: grid;\n",
       "  grid-template-columns: 20px auto;\n",
       "}\n",
       "\n",
       ".xr-array-wrap > label {\n",
       "  grid-column: 1;\n",
       "  vertical-align: top;\n",
       "}\n",
       "\n",
       ".xr-preview {\n",
       "  color: var(--xr-font-color3);\n",
       "}\n",
       "\n",
       ".xr-array-preview,\n",
       ".xr-array-data {\n",
       "  padding: 0 5px !important;\n",
       "  grid-column: 2;\n",
       "}\n",
       "\n",
       ".xr-array-data,\n",
       ".xr-array-in:checked ~ .xr-array-preview {\n",
       "  display: none;\n",
       "}\n",
       "\n",
       ".xr-array-in:checked ~ .xr-array-data,\n",
       ".xr-array-preview {\n",
       "  display: inline-block;\n",
       "}\n",
       "\n",
       ".xr-dim-list {\n",
       "  display: inline-block !important;\n",
       "  list-style: none;\n",
       "  padding: 0 !important;\n",
       "  margin: 0;\n",
       "}\n",
       "\n",
       ".xr-dim-list li {\n",
       "  display: inline-block;\n",
       "  padding: 0;\n",
       "  margin: 0;\n",
       "}\n",
       "\n",
       ".xr-dim-list:before {\n",
       "  content: '(';\n",
       "}\n",
       "\n",
       ".xr-dim-list:after {\n",
       "  content: ')';\n",
       "}\n",
       "\n",
       ".xr-dim-list li:not(:last-child):after {\n",
       "  content: ',';\n",
       "  padding-right: 5px;\n",
       "}\n",
       "\n",
       ".xr-has-index {\n",
       "  font-weight: bold;\n",
       "}\n",
       "\n",
       ".xr-var-list,\n",
       ".xr-var-item {\n",
       "  display: contents;\n",
       "}\n",
       "\n",
       ".xr-var-item > div,\n",
       ".xr-var-item label,\n",
       ".xr-var-item > .xr-var-name span {\n",
       "  background-color: var(--xr-background-color-row-even);\n",
       "  margin-bottom: 0;\n",
       "}\n",
       "\n",
       ".xr-var-item > .xr-var-name:hover span {\n",
       "  padding-right: 5px;\n",
       "}\n",
       "\n",
       ".xr-var-list > li:nth-child(odd) > div,\n",
       ".xr-var-list > li:nth-child(odd) > label,\n",
       ".xr-var-list > li:nth-child(odd) > .xr-var-name span {\n",
       "  background-color: var(--xr-background-color-row-odd);\n",
       "}\n",
       "\n",
       ".xr-var-name {\n",
       "  grid-column: 1;\n",
       "}\n",
       "\n",
       ".xr-var-dims {\n",
       "  grid-column: 2;\n",
       "}\n",
       "\n",
       ".xr-var-dtype {\n",
       "  grid-column: 3;\n",
       "  text-align: right;\n",
       "  color: var(--xr-font-color2);\n",
       "}\n",
       "\n",
       ".xr-var-preview {\n",
       "  grid-column: 4;\n",
       "}\n",
       "\n",
       ".xr-index-preview {\n",
       "  grid-column: 2 / 5;\n",
       "  color: var(--xr-font-color2);\n",
       "}\n",
       "\n",
       ".xr-var-name,\n",
       ".xr-var-dims,\n",
       ".xr-var-dtype,\n",
       ".xr-preview,\n",
       ".xr-attrs dt {\n",
       "  white-space: nowrap;\n",
       "  overflow: hidden;\n",
       "  text-overflow: ellipsis;\n",
       "  padding-right: 10px;\n",
       "}\n",
       "\n",
       ".xr-var-name:hover,\n",
       ".xr-var-dims:hover,\n",
       ".xr-var-dtype:hover,\n",
       ".xr-attrs dt:hover {\n",
       "  overflow: visible;\n",
       "  width: auto;\n",
       "  z-index: 1;\n",
       "}\n",
       "\n",
       ".xr-var-attrs,\n",
       ".xr-var-data,\n",
       ".xr-index-data {\n",
       "  display: none;\n",
       "  background-color: var(--xr-background-color) !important;\n",
       "  padding-bottom: 5px !important;\n",
       "}\n",
       "\n",
       ".xr-var-attrs-in:checked ~ .xr-var-attrs,\n",
       ".xr-var-data-in:checked ~ .xr-var-data,\n",
       ".xr-index-data-in:checked ~ .xr-index-data {\n",
       "  display: block;\n",
       "}\n",
       "\n",
       ".xr-var-data > table {\n",
       "  float: right;\n",
       "}\n",
       "\n",
       ".xr-var-name span,\n",
       ".xr-var-data,\n",
       ".xr-index-name div,\n",
       ".xr-index-data,\n",
       ".xr-attrs {\n",
       "  padding-left: 25px !important;\n",
       "}\n",
       "\n",
       ".xr-attrs,\n",
       ".xr-var-attrs,\n",
       ".xr-var-data,\n",
       ".xr-index-data {\n",
       "  grid-column: 1 / -1;\n",
       "}\n",
       "\n",
       "dl.xr-attrs {\n",
       "  padding: 0;\n",
       "  margin: 0;\n",
       "  display: grid;\n",
       "  grid-template-columns: 125px auto;\n",
       "}\n",
       "\n",
       ".xr-attrs dt,\n",
       ".xr-attrs dd {\n",
       "  padding: 0;\n",
       "  margin: 0;\n",
       "  float: left;\n",
       "  padding-right: 10px;\n",
       "  width: auto;\n",
       "}\n",
       "\n",
       ".xr-attrs dt {\n",
       "  font-weight: normal;\n",
       "  grid-column: 1;\n",
       "}\n",
       "\n",
       ".xr-attrs dt:hover span {\n",
       "  display: inline-block;\n",
       "  background: var(--xr-background-color);\n",
       "  padding-right: 10px;\n",
       "}\n",
       "\n",
       ".xr-attrs dd {\n",
       "  grid-column: 2;\n",
       "  white-space: pre-wrap;\n",
       "  word-break: break-all;\n",
       "}\n",
       "\n",
       ".xr-icon-database,\n",
       ".xr-icon-file-text2,\n",
       ".xr-no-icon {\n",
       "  display: inline-block;\n",
       "  vertical-align: middle;\n",
       "  width: 1em;\n",
       "  height: 1.5em !important;\n",
       "  stroke-width: 0;\n",
       "  stroke: currentColor;\n",
       "  fill: currentColor;\n",
       "}\n",
       "</style><pre class='xr-text-repr-fallback'>&lt;xarray.Dataset&gt; Size: 60B\n",
       "Dimensions:              ()\n",
       "Coordinates:\n",
       "    time                 datetime64[ns] 8B 2024-12-09\n",
       "    step                 timedelta64[ns] 8B 00:00:00\n",
       "    isobaricInhPa        float64 8B 875.0\n",
       "    latitude             float64 8B 50.96\n",
       "    longitude            float64 8B -118.1\n",
       "    valid_time           datetime64[ns] 8B ...\n",
       "    gribfile_projection  object 8B None\n",
       "Data variables:\n",
       "    gh                   float32 4B ...\n",
       "Attributes:\n",
       "    GRIB_edition:            2\n",
       "    GRIB_centre:             cwao\n",
       "    GRIB_centreDescription:  Canadian Meteorological Service - Montreal\n",
       "    GRIB_subCentre:          0\n",
       "    Conventions:             CF-1.7\n",
       "    institution:             Canadian Meteorological Service - Montreal\n",
       "    model:                   hrdps\n",
       "    product:                 continental/2.5km\n",
       "    description:             Canada&#x27;s High Resolution Deterministic Predictio...\n",
       "    remote_grib:             /Users/andrew/data/hrdps/20241209/20241209T00Z_M...\n",
       "    local_grib:              /Users/andrew/data/hrdps/20241209/20241209T00Z_M...\n",
       "    search:                  None</pre><div class='xr-wrap' style='display:none'><div class='xr-header'><div class='xr-obj-type'>xarray.Dataset</div></div><ul class='xr-sections'><li class='xr-section-item'><input id='section-293cae4d-fb5c-4731-a87b-ce017b4e9665' class='xr-section-summary-in' type='checkbox' disabled ><label for='section-293cae4d-fb5c-4731-a87b-ce017b4e9665' class='xr-section-summary'  title='Expand/collapse section'>Dimensions:</label><div class='xr-section-inline-details'></div><div class='xr-section-details'></div></li><li class='xr-section-item'><input id='section-b295ea02-f621-4728-95ec-402faf1ae494' class='xr-section-summary-in' type='checkbox'  checked><label for='section-b295ea02-f621-4728-95ec-402faf1ae494' class='xr-section-summary' >Coordinates: <span>(7)</span></label><div class='xr-section-inline-details'></div><div class='xr-section-details'><ul class='xr-var-list'><li class='xr-var-item'><div class='xr-var-name'><span>time</span></div><div class='xr-var-dims'>()</div><div class='xr-var-dtype'>datetime64[ns]</div><div class='xr-var-preview xr-preview'>2024-12-09</div><input id='attrs-23153fbf-6a31-4a3e-a867-602c9e7f4a22' class='xr-var-attrs-in' type='checkbox' ><label for='attrs-23153fbf-6a31-4a3e-a867-602c9e7f4a22' title='Show/Hide attributes'><svg class='icon xr-icon-file-text2'><use xlink:href='#icon-file-text2'></use></svg></label><input id='data-e6442dd5-8f20-4247-a7b9-55e544731b8e' class='xr-var-data-in' type='checkbox'><label for='data-e6442dd5-8f20-4247-a7b9-55e544731b8e' title='Show/Hide data repr'><svg class='icon xr-icon-database'><use xlink:href='#icon-database'></use></svg></label><div class='xr-var-attrs'><dl class='xr-attrs'><dt><span>long_name :</span></dt><dd>initial time of forecast</dd><dt><span>standard_name :</span></dt><dd>forecast_reference_time</dd></dl></div><div class='xr-var-data'><pre>array(&#x27;2024-12-09T00:00:00.000000000&#x27;, dtype=&#x27;datetime64[ns]&#x27;)</pre></div></li><li class='xr-var-item'><div class='xr-var-name'><span>step</span></div><div class='xr-var-dims'>()</div><div class='xr-var-dtype'>timedelta64[ns]</div><div class='xr-var-preview xr-preview'>00:00:00</div><input id='attrs-b3c7eca6-6225-4b18-a97b-3a92b97cf8c7' class='xr-var-attrs-in' type='checkbox' ><label for='attrs-b3c7eca6-6225-4b18-a97b-3a92b97cf8c7' title='Show/Hide attributes'><svg class='icon xr-icon-file-text2'><use xlink:href='#icon-file-text2'></use></svg></label><input id='data-5b36a0e2-4c92-4363-b5cd-25bcd231e1a1' class='xr-var-data-in' type='checkbox'><label for='data-5b36a0e2-4c92-4363-b5cd-25bcd231e1a1' title='Show/Hide data repr'><svg class='icon xr-icon-database'><use xlink:href='#icon-database'></use></svg></label><div class='xr-var-attrs'><dl class='xr-attrs'><dt><span>long_name :</span></dt><dd>time since forecast_reference_time</dd><dt><span>standard_name :</span></dt><dd>forecast_period</dd></dl></div><div class='xr-var-data'><pre>array(0, dtype=&#x27;timedelta64[ns]&#x27;)</pre></div></li><li class='xr-var-item'><div class='xr-var-name'><span>isobaricInhPa</span></div><div class='xr-var-dims'>()</div><div class='xr-var-dtype'>float64</div><div class='xr-var-preview xr-preview'>875.0</div><input id='attrs-9cf8678c-2471-43fa-af75-fbb52e9f585c' class='xr-var-attrs-in' type='checkbox' ><label for='attrs-9cf8678c-2471-43fa-af75-fbb52e9f585c' title='Show/Hide attributes'><svg class='icon xr-icon-file-text2'><use xlink:href='#icon-file-text2'></use></svg></label><input id='data-1255b5fc-9f5b-4296-a7c1-52049664a998' class='xr-var-data-in' type='checkbox'><label for='data-1255b5fc-9f5b-4296-a7c1-52049664a998' title='Show/Hide data repr'><svg class='icon xr-icon-database'><use xlink:href='#icon-database'></use></svg></label><div class='xr-var-attrs'><dl class='xr-attrs'><dt><span>long_name :</span></dt><dd>pressure</dd><dt><span>units :</span></dt><dd>hPa</dd><dt><span>positive :</span></dt><dd>down</dd><dt><span>stored_direction :</span></dt><dd>decreasing</dd><dt><span>standard_name :</span></dt><dd>air_pressure</dd></dl></div><div class='xr-var-data'><pre>array(875.)</pre></div></li><li class='xr-var-item'><div class='xr-var-name'><span>latitude</span></div><div class='xr-var-dims'>()</div><div class='xr-var-dtype'>float64</div><div class='xr-var-preview xr-preview'>50.96</div><input id='attrs-849a4eac-8d89-4eb0-b10d-82320915f19b' class='xr-var-attrs-in' type='checkbox' ><label for='attrs-849a4eac-8d89-4eb0-b10d-82320915f19b' title='Show/Hide attributes'><svg class='icon xr-icon-file-text2'><use xlink:href='#icon-file-text2'></use></svg></label><input id='data-6d00c185-87a5-4c72-a8df-22be30c6b2b2' class='xr-var-data-in' type='checkbox'><label for='data-6d00c185-87a5-4c72-a8df-22be30c6b2b2' title='Show/Hide data repr'><svg class='icon xr-icon-database'><use xlink:href='#icon-database'></use></svg></label><div class='xr-var-attrs'><dl class='xr-attrs'><dt><span>units :</span></dt><dd>degrees_north</dd><dt><span>standard_name :</span></dt><dd>latitude</dd><dt><span>long_name :</span></dt><dd>latitude</dd></dl></div><div class='xr-var-data'><pre>array(50.963164)</pre></div></li><li class='xr-var-item'><div class='xr-var-name'><span>longitude</span></div><div class='xr-var-dims'>()</div><div class='xr-var-dtype'>float64</div><div class='xr-var-preview xr-preview'>-118.1</div><input id='attrs-5a177d6a-81d9-4367-8a7f-9b4f53d6bb3b' class='xr-var-attrs-in' type='checkbox' ><label for='attrs-5a177d6a-81d9-4367-8a7f-9b4f53d6bb3b' title='Show/Hide attributes'><svg class='icon xr-icon-file-text2'><use xlink:href='#icon-file-text2'></use></svg></label><input id='data-2223fb84-f19b-4f1a-8074-9e078c08281c' class='xr-var-data-in' type='checkbox'><label for='data-2223fb84-f19b-4f1a-8074-9e078c08281c' title='Show/Hide data repr'><svg class='icon xr-icon-database'><use xlink:href='#icon-database'></use></svg></label><div class='xr-var-attrs'><dl class='xr-attrs'><dt><span>units :</span></dt><dd>degrees_east</dd><dt><span>standard_name :</span></dt><dd>longitude</dd><dt><span>long_name :</span></dt><dd>longitude</dd></dl></div><div class='xr-var-data'><pre>array(-118.075568)</pre></div></li><li class='xr-var-item'><div class='xr-var-name'><span>valid_time</span></div><div class='xr-var-dims'>()</div><div class='xr-var-dtype'>datetime64[ns]</div><div class='xr-var-preview xr-preview'>...</div><input id='attrs-638e1090-c3cb-4317-aeb6-01ed26e20956' class='xr-var-attrs-in' type='checkbox' ><label for='attrs-638e1090-c3cb-4317-aeb6-01ed26e20956' title='Show/Hide attributes'><svg class='icon xr-icon-file-text2'><use xlink:href='#icon-file-text2'></use></svg></label><input id='data-e2fa968b-1f98-4b7b-8aef-a9ae940f6649' class='xr-var-data-in' type='checkbox'><label for='data-e2fa968b-1f98-4b7b-8aef-a9ae940f6649' title='Show/Hide data repr'><svg class='icon xr-icon-database'><use xlink:href='#icon-database'></use></svg></label><div class='xr-var-attrs'><dl class='xr-attrs'><dt><span>standard_name :</span></dt><dd>time</dd><dt><span>long_name :</span></dt><dd>time</dd></dl></div><div class='xr-var-data'><pre>[1 values with dtype=datetime64[ns]]</pre></div></li><li class='xr-var-item'><div class='xr-var-name'><span>gribfile_projection</span></div><div class='xr-var-dims'>()</div><div class='xr-var-dtype'>object</div><div class='xr-var-preview xr-preview'>None</div><input id='attrs-fc45e5df-721a-471c-a62a-1fc018babe10' class='xr-var-attrs-in' type='checkbox' ><label for='attrs-fc45e5df-721a-471c-a62a-1fc018babe10' title='Show/Hide attributes'><svg class='icon xr-icon-file-text2'><use xlink:href='#icon-file-text2'></use></svg></label><input id='data-63c932b1-d9db-41cf-a788-9ca0deb4d181' class='xr-var-data-in' type='checkbox'><label for='data-63c932b1-d9db-41cf-a788-9ca0deb4d181' title='Show/Hide data repr'><svg class='icon xr-icon-database'><use xlink:href='#icon-database'></use></svg></label><div class='xr-var-attrs'><dl class='xr-attrs'><dt><span>crs_wkt :</span></dt><dd>GEOGCRS[&quot;unnamed&quot;,BASEGEOGCRS[&quot;unknown&quot;,DATUM[&quot;unknown&quot;,ELLIPSOID[&quot;unknown&quot;,6371229,0,LENGTHUNIT[&quot;metre&quot;,1,ID[&quot;EPSG&quot;,9001]]]],PRIMEM[&quot;Greenwich&quot;,0,ANGLEUNIT[&quot;degree&quot;,0.0174532925199433],ID[&quot;EPSG&quot;,8901]]],DERIVINGCONVERSION[&quot;unknown&quot;,METHOD[&quot;PROJ ob_tran o_proj=longlat&quot;],PARAMETER[&quot;o_lat_p&quot;,36.08852,ANGLEUNIT[&quot;degree&quot;,0.0174532925199433,ID[&quot;EPSG&quot;,9122]]],PARAMETER[&quot;o_lon_p&quot;,0,ANGLEUNIT[&quot;degree&quot;,0.0174532925199433,ID[&quot;EPSG&quot;,9122]]],PARAMETER[&quot;lon_0&quot;,245.305142,ANGLEUNIT[&quot;degree&quot;,0.0174532925199433,ID[&quot;EPSG&quot;,9122]]]],CS[ellipsoidal,2],AXIS[&quot;longitude&quot;,east,ORDER[1],ANGLEUNIT[&quot;degree&quot;,0.0174532925199433,ID[&quot;EPSG&quot;,9122]]],AXIS[&quot;latitude&quot;,north,ORDER[2],ANGLEUNIT[&quot;degree&quot;,0.0174532925199433,ID[&quot;EPSG&quot;,9122]]]]</dd><dt><span>semi_major_axis :</span></dt><dd>6371229.0</dd><dt><span>semi_minor_axis :</span></dt><dd>6371229.0</dd><dt><span>inverse_flattening :</span></dt><dd>0.0</dd><dt><span>reference_ellipsoid_name :</span></dt><dd>unknown</dd><dt><span>longitude_of_prime_meridian :</span></dt><dd>0.0</dd><dt><span>prime_meridian_name :</span></dt><dd>Greenwich</dd><dt><span>geographic_crs_name :</span></dt><dd>unnamed</dd><dt><span>horizontal_datum_name :</span></dt><dd>unknown</dd><dt><span>grid_mapping_name :</span></dt><dd>rotated_latitude_longitude</dd><dt><span>grid_north_pole_latitude :</span></dt><dd>36.08852</dd><dt><span>grid_north_pole_longitude :</span></dt><dd>65.30514199999999</dd><dt><span>north_pole_grid_longitude :</span></dt><dd>0.0</dd><dt><span>long_name :</span></dt><dd>HRDPS model grid projection</dd></dl></div><div class='xr-var-data'><pre>array(None, dtype=object)</pre></div></li></ul></div></li><li class='xr-section-item'><input id='section-88655b6d-a5df-474b-ab1d-df28a1c34ec7' class='xr-section-summary-in' type='checkbox'  checked><label for='section-88655b6d-a5df-474b-ab1d-df28a1c34ec7' class='xr-section-summary' >Data variables: <span>(1)</span></label><div class='xr-section-inline-details'></div><div class='xr-section-details'><ul class='xr-var-list'><li class='xr-var-item'><div class='xr-var-name'><span>gh</span></div><div class='xr-var-dims'>()</div><div class='xr-var-dtype'>float32</div><div class='xr-var-preview xr-preview'>...</div><input id='attrs-e1e854dc-2ccd-483d-8d82-1c11f8f1b43b' class='xr-var-attrs-in' type='checkbox' ><label for='attrs-e1e854dc-2ccd-483d-8d82-1c11f8f1b43b' title='Show/Hide attributes'><svg class='icon xr-icon-file-text2'><use xlink:href='#icon-file-text2'></use></svg></label><input id='data-3ccff5c8-d111-4185-a5c3-3ae78c7f5283' class='xr-var-data-in' type='checkbox'><label for='data-3ccff5c8-d111-4185-a5c3-3ae78c7f5283' title='Show/Hide data repr'><svg class='icon xr-icon-database'><use xlink:href='#icon-database'></use></svg></label><div class='xr-var-attrs'><dl class='xr-attrs'><dt><span>GRIB_paramId :</span></dt><dd>156</dd><dt><span>GRIB_dataType :</span></dt><dd>af</dd><dt><span>GRIB_numberOfPoints :</span></dt><dd>3276600</dd><dt><span>GRIB_typeOfLevel :</span></dt><dd>isobaricInhPa</dd><dt><span>GRIB_stepUnits :</span></dt><dd>1</dd><dt><span>GRIB_stepType :</span></dt><dd>instant</dd><dt><span>GRIB_gridType :</span></dt><dd>rotated_ll</dd><dt><span>GRIB_uvRelativeToGrid :</span></dt><dd>1</dd><dt><span>GRIB_NV :</span></dt><dd>0</dd><dt><span>GRIB_Nx :</span></dt><dd>2540</dd><dt><span>GRIB_Ny :</span></dt><dd>1290</dd><dt><span>GRIB_angleOfRotationInDegrees :</span></dt><dd>0.0</dd><dt><span>GRIB_cfName :</span></dt><dd>geopotential_height</dd><dt><span>GRIB_cfVarName :</span></dt><dd>gh</dd><dt><span>GRIB_gridDefinitionDescription :</span></dt><dd>Rotated latitude/longitude</dd><dt><span>GRIB_iDirectionIncrementInDegrees :</span></dt><dd>0.0225</dd><dt><span>GRIB_iScansNegatively :</span></dt><dd>0</dd><dt><span>GRIB_jDirectionIncrementInDegrees :</span></dt><dd>0.0225</dd><dt><span>GRIB_jPointsAreConsecutive :</span></dt><dd>0</dd><dt><span>GRIB_jScansPositively :</span></dt><dd>1</dd><dt><span>GRIB_latitudeOfFirstGridPointInDegrees :</span></dt><dd>-12.302501</dd><dt><span>GRIB_latitudeOfLastGridPointInDegrees :</span></dt><dd>16.700001</dd><dt><span>GRIB_latitudeOfSouthernPoleInDegrees :</span></dt><dd>-36.08852</dd><dt><span>GRIB_longitudeOfFirstGridPointInDegrees :</span></dt><dd>345.17878</dd><dt><span>GRIB_longitudeOfLastGridPointInDegrees :</span></dt><dd>42.306283</dd><dt><span>GRIB_longitudeOfSouthernPoleInDegrees :</span></dt><dd>245.305142</dd><dt><span>GRIB_missingValue :</span></dt><dd>3.4028234663852886e+38</dd><dt><span>GRIB_name :</span></dt><dd>Geopotential height</dd><dt><span>GRIB_parameterName :</span></dt><dd>Geopotential height</dd><dt><span>GRIB_parameterUnits :</span></dt><dd>gpm</dd><dt><span>GRIB_shortName :</span></dt><dd>gh</dd><dt><span>GRIB_stepRange :</span></dt><dd>0m</dd><dt><span>GRIB_units :</span></dt><dd>gpm</dd><dt><span>long_name :</span></dt><dd>Geopotential height</dd><dt><span>units :</span></dt><dd>gpm</dd><dt><span>standard_name :</span></dt><dd>geopotential_height</dd><dt><span>grid_mapping :</span></dt><dd>gribfile_projection</dd></dl></div><div class='xr-var-data'><pre>[1 values with dtype=float32]</pre></div></li></ul></div></li><li class='xr-section-item'><input id='section-fec50164-67bb-406d-9893-bc72556ce5da' class='xr-section-summary-in' type='checkbox' disabled ><label for='section-fec50164-67bb-406d-9893-bc72556ce5da' class='xr-section-summary'  title='Expand/collapse section'>Indexes: <span>(0)</span></label><div class='xr-section-inline-details'></div><div class='xr-section-details'><ul class='xr-var-list'></ul></div></li><li class='xr-section-item'><input id='section-8673b8c9-6a36-4381-98ad-d81ee6e9337e' class='xr-section-summary-in' type='checkbox'  ><label for='section-8673b8c9-6a36-4381-98ad-d81ee6e9337e' class='xr-section-summary' >Attributes: <span>(12)</span></label><div class='xr-section-inline-details'></div><div class='xr-section-details'><dl class='xr-attrs'><dt><span>GRIB_edition :</span></dt><dd>2</dd><dt><span>GRIB_centre :</span></dt><dd>cwao</dd><dt><span>GRIB_centreDescription :</span></dt><dd>Canadian Meteorological Service - Montreal</dd><dt><span>GRIB_subCentre :</span></dt><dd>0</dd><dt><span>Conventions :</span></dt><dd>CF-1.7</dd><dt><span>institution :</span></dt><dd>Canadian Meteorological Service - Montreal</dd><dt><span>model :</span></dt><dd>hrdps</dd><dt><span>product :</span></dt><dd>continental/2.5km</dd><dt><span>description :</span></dt><dd>Canada&#x27;s High Resolution Deterministic Prediction System (HRDPS)</dd><dt><span>remote_grib :</span></dt><dd>/Users/andrew/data/hrdps/20241209/20241209T00Z_MSC_HRDPS_HGT_ISBL_0875_RLatLon0.0225_PT000H.grib2</dd><dt><span>local_grib :</span></dt><dd>/Users/andrew/data/hrdps/20241209/20241209T00Z_MSC_HRDPS_HGT_ISBL_0875_RLatLon0.0225_PT000H.grib2</dd><dt><span>search :</span></dt><dd>None</dd></dl></div></li></ul></div></div>"
      ],
      "text/plain": [
       "<xarray.Dataset> Size: 60B\n",
       "Dimensions:              ()\n",
       "Coordinates:\n",
       "    time                 datetime64[ns] 8B 2024-12-09\n",
       "    step                 timedelta64[ns] 8B 00:00:00\n",
       "    isobaricInhPa        float64 8B 875.0\n",
       "    latitude             float64 8B 50.96\n",
       "    longitude            float64 8B -118.1\n",
       "    valid_time           datetime64[ns] 8B ...\n",
       "    gribfile_projection  object 8B None\n",
       "Data variables:\n",
       "    gh                   float32 4B ...\n",
       "Attributes:\n",
       "    GRIB_edition:            2\n",
       "    GRIB_centre:             cwao\n",
       "    GRIB_centreDescription:  Canadian Meteorological Service - Montreal\n",
       "    GRIB_subCentre:          0\n",
       "    Conventions:             CF-1.7\n",
       "    institution:             Canadian Meteorological Service - Montreal\n",
       "    model:                   hrdps\n",
       "    product:                 continental/2.5km\n",
       "    description:             Canada's High Resolution Deterministic Predictio...\n",
       "    remote_grib:             /Users/andrew/data/hrdps/20241209/20241209T00Z_M...\n",
       "    local_grib:              /Users/andrew/data/hrdps/20241209/20241209T00Z_M...\n",
       "    search:                  None"
      ]
     },
     "execution_count": 20,
     "metadata": {},
     "output_type": "execute_result"
    }
   ],
   "source": [
    "locations[\"revelstoke\"][10]"
   ]
  },
  {
   "cell_type": "code",
   "execution_count": 8,
   "id": "4b71d191",
   "metadata": {},
   "outputs": [
    {
     "data": {
      "text/plain": [
       "['HGT', 'TMP', 'WIND', 'WDIR']"
      ]
     },
     "execution_count": 8,
     "metadata": {},
     "output_type": "execute_result"
    }
   ],
   "source": [
    "[variable for variable in config[\"variables\"] if config[\"variables\"][variable] == \"ISBL\"]"
   ]
  },
  {
   "cell_type": "code",
   "execution_count": 9,
   "id": "946f7fad",
   "metadata": {},
   "outputs": [
    {
     "name": "stdout",
     "output_type": "stream",
     "text": [
      "✅ Found ┊ model=hrdps ┊ \u001b[3mproduct=continental/2.5km\u001b[0m ┊ \u001b[38;2;41;130;13m2024-Dec-09 00:00 UTC\u001b[92m F01\u001b[0m ┊ \u001b[38;2;255;153;0m\u001b[3mGRIB2 @ msc\u001b[0m ┊ \u001b[38;2;255;153;0m\u001b[3mIDX @ None\u001b[0m\n",
      "👨🏻‍🏭 Created directory: [/Users/andrew/data/hrdps/20241209]\n"
     ]
    },
    {
     "name": "stderr",
     "output_type": "stream",
     "text": [
      "/opt/miniconda3/envs/herbie/lib/python3.13/site-packages/herbie/core.py:1117: UserWarning: Will not remove GRIB file because Herbie will only remove subsetted files (not full files).\n",
      "  warnings.warn(\n"
     ]
    }
   ],
   "source": [
    "_ds = Herbie(recent,\n",
    "             model=\"hrdps\",\n",
    "             fxx=1,\n",
    "             product=\"continental/2.5km\",\n",
    "             variable=\"HGT\",\n",
    "             level=\"ISBL_0500\"\n",
    "            ).xarray()"
   ]
  },
  {
   "cell_type": "code",
   "execution_count": 10,
   "id": "bf3fe744",
   "metadata": {},
   "outputs": [
    {
     "data": {
      "text/html": [
       "<div><svg style=\"position: absolute; width: 0; height: 0; overflow: hidden\">\n",
       "<defs>\n",
       "<symbol id=\"icon-database\" viewBox=\"0 0 32 32\">\n",
       "<path d=\"M16 0c-8.837 0-16 2.239-16 5v4c0 2.761 7.163 5 16 5s16-2.239 16-5v-4c0-2.761-7.163-5-16-5z\"></path>\n",
       "<path d=\"M16 17c-8.837 0-16-2.239-16-5v6c0 2.761 7.163 5 16 5s16-2.239 16-5v-6c0 2.761-7.163 5-16 5z\"></path>\n",
       "<path d=\"M16 26c-8.837 0-16-2.239-16-5v6c0 2.761 7.163 5 16 5s16-2.239 16-5v-6c0 2.761-7.163 5-16 5z\"></path>\n",
       "</symbol>\n",
       "<symbol id=\"icon-file-text2\" viewBox=\"0 0 32 32\">\n",
       "<path d=\"M28.681 7.159c-0.694-0.947-1.662-2.053-2.724-3.116s-2.169-2.030-3.116-2.724c-1.612-1.182-2.393-1.319-2.841-1.319h-15.5c-1.378 0-2.5 1.121-2.5 2.5v27c0 1.378 1.122 2.5 2.5 2.5h23c1.378 0 2.5-1.122 2.5-2.5v-19.5c0-0.448-0.137-1.23-1.319-2.841zM24.543 5.457c0.959 0.959 1.712 1.825 2.268 2.543h-4.811v-4.811c0.718 0.556 1.584 1.309 2.543 2.268zM28 29.5c0 0.271-0.229 0.5-0.5 0.5h-23c-0.271 0-0.5-0.229-0.5-0.5v-27c0-0.271 0.229-0.5 0.5-0.5 0 0 15.499-0 15.5 0v7c0 0.552 0.448 1 1 1h7v19.5z\"></path>\n",
       "<path d=\"M23 26h-14c-0.552 0-1-0.448-1-1s0.448-1 1-1h14c0.552 0 1 0.448 1 1s-0.448 1-1 1z\"></path>\n",
       "<path d=\"M23 22h-14c-0.552 0-1-0.448-1-1s0.448-1 1-1h14c0.552 0 1 0.448 1 1s-0.448 1-1 1z\"></path>\n",
       "<path d=\"M23 18h-14c-0.552 0-1-0.448-1-1s0.448-1 1-1h14c0.552 0 1 0.448 1 1s-0.448 1-1 1z\"></path>\n",
       "</symbol>\n",
       "</defs>\n",
       "</svg>\n",
       "<style>/* CSS stylesheet for displaying xarray objects in jupyterlab.\n",
       " *\n",
       " */\n",
       "\n",
       ":root {\n",
       "  --xr-font-color0: var(--jp-content-font-color0, rgba(0, 0, 0, 1));\n",
       "  --xr-font-color2: var(--jp-content-font-color2, rgba(0, 0, 0, 0.54));\n",
       "  --xr-font-color3: var(--jp-content-font-color3, rgba(0, 0, 0, 0.38));\n",
       "  --xr-border-color: var(--jp-border-color2, #e0e0e0);\n",
       "  --xr-disabled-color: var(--jp-layout-color3, #bdbdbd);\n",
       "  --xr-background-color: var(--jp-layout-color0, white);\n",
       "  --xr-background-color-row-even: var(--jp-layout-color1, white);\n",
       "  --xr-background-color-row-odd: var(--jp-layout-color2, #eeeeee);\n",
       "}\n",
       "\n",
       "html[theme=dark],\n",
       "html[data-theme=dark],\n",
       "body[data-theme=dark],\n",
       "body.vscode-dark {\n",
       "  --xr-font-color0: rgba(255, 255, 255, 1);\n",
       "  --xr-font-color2: rgba(255, 255, 255, 0.54);\n",
       "  --xr-font-color3: rgba(255, 255, 255, 0.38);\n",
       "  --xr-border-color: #1F1F1F;\n",
       "  --xr-disabled-color: #515151;\n",
       "  --xr-background-color: #111111;\n",
       "  --xr-background-color-row-even: #111111;\n",
       "  --xr-background-color-row-odd: #313131;\n",
       "}\n",
       "\n",
       ".xr-wrap {\n",
       "  display: block !important;\n",
       "  min-width: 300px;\n",
       "  max-width: 700px;\n",
       "}\n",
       "\n",
       ".xr-text-repr-fallback {\n",
       "  /* fallback to plain text repr when CSS is not injected (untrusted notebook) */\n",
       "  display: none;\n",
       "}\n",
       "\n",
       ".xr-header {\n",
       "  padding-top: 6px;\n",
       "  padding-bottom: 6px;\n",
       "  margin-bottom: 4px;\n",
       "  border-bottom: solid 1px var(--xr-border-color);\n",
       "}\n",
       "\n",
       ".xr-header > div,\n",
       ".xr-header > ul {\n",
       "  display: inline;\n",
       "  margin-top: 0;\n",
       "  margin-bottom: 0;\n",
       "}\n",
       "\n",
       ".xr-obj-type,\n",
       ".xr-array-name {\n",
       "  margin-left: 2px;\n",
       "  margin-right: 10px;\n",
       "}\n",
       "\n",
       ".xr-obj-type {\n",
       "  color: var(--xr-font-color2);\n",
       "}\n",
       "\n",
       ".xr-sections {\n",
       "  padding-left: 0 !important;\n",
       "  display: grid;\n",
       "  grid-template-columns: 150px auto auto 1fr 0 20px 0 20px;\n",
       "}\n",
       "\n",
       ".xr-section-item {\n",
       "  display: contents;\n",
       "}\n",
       "\n",
       ".xr-section-item input {\n",
       "  display: inline-block;\n",
       "  opacity: 0;\n",
       "}\n",
       "\n",
       ".xr-section-item input + label {\n",
       "  color: var(--xr-disabled-color);\n",
       "}\n",
       "\n",
       ".xr-section-item input:enabled + label {\n",
       "  cursor: pointer;\n",
       "  color: var(--xr-font-color2);\n",
       "}\n",
       "\n",
       ".xr-section-item input:focus + label {\n",
       "  border: 2px solid var(--xr-font-color0);\n",
       "}\n",
       "\n",
       ".xr-section-item input:enabled + label:hover {\n",
       "  color: var(--xr-font-color0);\n",
       "}\n",
       "\n",
       ".xr-section-summary {\n",
       "  grid-column: 1;\n",
       "  color: var(--xr-font-color2);\n",
       "  font-weight: 500;\n",
       "}\n",
       "\n",
       ".xr-section-summary > span {\n",
       "  display: inline-block;\n",
       "  padding-left: 0.5em;\n",
       "}\n",
       "\n",
       ".xr-section-summary-in:disabled + label {\n",
       "  color: var(--xr-font-color2);\n",
       "}\n",
       "\n",
       ".xr-section-summary-in + label:before {\n",
       "  display: inline-block;\n",
       "  content: '►';\n",
       "  font-size: 11px;\n",
       "  width: 15px;\n",
       "  text-align: center;\n",
       "}\n",
       "\n",
       ".xr-section-summary-in:disabled + label:before {\n",
       "  color: var(--xr-disabled-color);\n",
       "}\n",
       "\n",
       ".xr-section-summary-in:checked + label:before {\n",
       "  content: '▼';\n",
       "}\n",
       "\n",
       ".xr-section-summary-in:checked + label > span {\n",
       "  display: none;\n",
       "}\n",
       "\n",
       ".xr-section-summary,\n",
       ".xr-section-inline-details {\n",
       "  padding-top: 4px;\n",
       "  padding-bottom: 4px;\n",
       "}\n",
       "\n",
       ".xr-section-inline-details {\n",
       "  grid-column: 2 / -1;\n",
       "}\n",
       "\n",
       ".xr-section-details {\n",
       "  display: none;\n",
       "  grid-column: 1 / -1;\n",
       "  margin-bottom: 5px;\n",
       "}\n",
       "\n",
       ".xr-section-summary-in:checked ~ .xr-section-details {\n",
       "  display: contents;\n",
       "}\n",
       "\n",
       ".xr-array-wrap {\n",
       "  grid-column: 1 / -1;\n",
       "  display: grid;\n",
       "  grid-template-columns: 20px auto;\n",
       "}\n",
       "\n",
       ".xr-array-wrap > label {\n",
       "  grid-column: 1;\n",
       "  vertical-align: top;\n",
       "}\n",
       "\n",
       ".xr-preview {\n",
       "  color: var(--xr-font-color3);\n",
       "}\n",
       "\n",
       ".xr-array-preview,\n",
       ".xr-array-data {\n",
       "  padding: 0 5px !important;\n",
       "  grid-column: 2;\n",
       "}\n",
       "\n",
       ".xr-array-data,\n",
       ".xr-array-in:checked ~ .xr-array-preview {\n",
       "  display: none;\n",
       "}\n",
       "\n",
       ".xr-array-in:checked ~ .xr-array-data,\n",
       ".xr-array-preview {\n",
       "  display: inline-block;\n",
       "}\n",
       "\n",
       ".xr-dim-list {\n",
       "  display: inline-block !important;\n",
       "  list-style: none;\n",
       "  padding: 0 !important;\n",
       "  margin: 0;\n",
       "}\n",
       "\n",
       ".xr-dim-list li {\n",
       "  display: inline-block;\n",
       "  padding: 0;\n",
       "  margin: 0;\n",
       "}\n",
       "\n",
       ".xr-dim-list:before {\n",
       "  content: '(';\n",
       "}\n",
       "\n",
       ".xr-dim-list:after {\n",
       "  content: ')';\n",
       "}\n",
       "\n",
       ".xr-dim-list li:not(:last-child):after {\n",
       "  content: ',';\n",
       "  padding-right: 5px;\n",
       "}\n",
       "\n",
       ".xr-has-index {\n",
       "  font-weight: bold;\n",
       "}\n",
       "\n",
       ".xr-var-list,\n",
       ".xr-var-item {\n",
       "  display: contents;\n",
       "}\n",
       "\n",
       ".xr-var-item > div,\n",
       ".xr-var-item label,\n",
       ".xr-var-item > .xr-var-name span {\n",
       "  background-color: var(--xr-background-color-row-even);\n",
       "  margin-bottom: 0;\n",
       "}\n",
       "\n",
       ".xr-var-item > .xr-var-name:hover span {\n",
       "  padding-right: 5px;\n",
       "}\n",
       "\n",
       ".xr-var-list > li:nth-child(odd) > div,\n",
       ".xr-var-list > li:nth-child(odd) > label,\n",
       ".xr-var-list > li:nth-child(odd) > .xr-var-name span {\n",
       "  background-color: var(--xr-background-color-row-odd);\n",
       "}\n",
       "\n",
       ".xr-var-name {\n",
       "  grid-column: 1;\n",
       "}\n",
       "\n",
       ".xr-var-dims {\n",
       "  grid-column: 2;\n",
       "}\n",
       "\n",
       ".xr-var-dtype {\n",
       "  grid-column: 3;\n",
       "  text-align: right;\n",
       "  color: var(--xr-font-color2);\n",
       "}\n",
       "\n",
       ".xr-var-preview {\n",
       "  grid-column: 4;\n",
       "}\n",
       "\n",
       ".xr-index-preview {\n",
       "  grid-column: 2 / 5;\n",
       "  color: var(--xr-font-color2);\n",
       "}\n",
       "\n",
       ".xr-var-name,\n",
       ".xr-var-dims,\n",
       ".xr-var-dtype,\n",
       ".xr-preview,\n",
       ".xr-attrs dt {\n",
       "  white-space: nowrap;\n",
       "  overflow: hidden;\n",
       "  text-overflow: ellipsis;\n",
       "  padding-right: 10px;\n",
       "}\n",
       "\n",
       ".xr-var-name:hover,\n",
       ".xr-var-dims:hover,\n",
       ".xr-var-dtype:hover,\n",
       ".xr-attrs dt:hover {\n",
       "  overflow: visible;\n",
       "  width: auto;\n",
       "  z-index: 1;\n",
       "}\n",
       "\n",
       ".xr-var-attrs,\n",
       ".xr-var-data,\n",
       ".xr-index-data {\n",
       "  display: none;\n",
       "  background-color: var(--xr-background-color) !important;\n",
       "  padding-bottom: 5px !important;\n",
       "}\n",
       "\n",
       ".xr-var-attrs-in:checked ~ .xr-var-attrs,\n",
       ".xr-var-data-in:checked ~ .xr-var-data,\n",
       ".xr-index-data-in:checked ~ .xr-index-data {\n",
       "  display: block;\n",
       "}\n",
       "\n",
       ".xr-var-data > table {\n",
       "  float: right;\n",
       "}\n",
       "\n",
       ".xr-var-name span,\n",
       ".xr-var-data,\n",
       ".xr-index-name div,\n",
       ".xr-index-data,\n",
       ".xr-attrs {\n",
       "  padding-left: 25px !important;\n",
       "}\n",
       "\n",
       ".xr-attrs,\n",
       ".xr-var-attrs,\n",
       ".xr-var-data,\n",
       ".xr-index-data {\n",
       "  grid-column: 1 / -1;\n",
       "}\n",
       "\n",
       "dl.xr-attrs {\n",
       "  padding: 0;\n",
       "  margin: 0;\n",
       "  display: grid;\n",
       "  grid-template-columns: 125px auto;\n",
       "}\n",
       "\n",
       ".xr-attrs dt,\n",
       ".xr-attrs dd {\n",
       "  padding: 0;\n",
       "  margin: 0;\n",
       "  float: left;\n",
       "  padding-right: 10px;\n",
       "  width: auto;\n",
       "}\n",
       "\n",
       ".xr-attrs dt {\n",
       "  font-weight: normal;\n",
       "  grid-column: 1;\n",
       "}\n",
       "\n",
       ".xr-attrs dt:hover span {\n",
       "  display: inline-block;\n",
       "  background: var(--xr-background-color);\n",
       "  padding-right: 10px;\n",
       "}\n",
       "\n",
       ".xr-attrs dd {\n",
       "  grid-column: 2;\n",
       "  white-space: pre-wrap;\n",
       "  word-break: break-all;\n",
       "}\n",
       "\n",
       ".xr-icon-database,\n",
       ".xr-icon-file-text2,\n",
       ".xr-no-icon {\n",
       "  display: inline-block;\n",
       "  vertical-align: middle;\n",
       "  width: 1em;\n",
       "  height: 1.5em !important;\n",
       "  stroke-width: 0;\n",
       "  stroke: currentColor;\n",
       "  fill: currentColor;\n",
       "}\n",
       "</style><pre class='xr-text-repr-fallback'>&lt;xarray.Dataset&gt; Size: 66MB\n",
       "Dimensions:              (y: 1290, x: 2540)\n",
       "Coordinates:\n",
       "    time                 datetime64[ns] 8B 2024-12-09\n",
       "    step                 timedelta64[ns] 8B 01:00:00\n",
       "    isobaricInhPa        float64 8B 500.0\n",
       "    latitude             (y, x) float64 26MB ...\n",
       "    longitude            (y, x) float64 26MB ...\n",
       "    valid_time           datetime64[ns] 8B ...\n",
       "    gribfile_projection  object 8B None\n",
       "Dimensions without coordinates: y, x\n",
       "Data variables:\n",
       "    gh                   (y, x) float32 13MB ...\n",
       "Attributes:\n",
       "    GRIB_edition:            2\n",
       "    GRIB_centre:             cwao\n",
       "    GRIB_centreDescription:  Canadian Meteorological Service - Montreal\n",
       "    GRIB_subCentre:          0\n",
       "    Conventions:             CF-1.7\n",
       "    institution:             Canadian Meteorological Service - Montreal\n",
       "    model:                   hrdps\n",
       "    product:                 continental/2.5km\n",
       "    description:             Canada&#x27;s High Resolution Deterministic Predictio...\n",
       "    remote_grib:             /Users/andrew/data/hrdps/20241209/20241209T00Z_M...\n",
       "    local_grib:              /Users/andrew/data/hrdps/20241209/20241209T00Z_M...\n",
       "    search:                  None</pre><div class='xr-wrap' style='display:none'><div class='xr-header'><div class='xr-obj-type'>xarray.Dataset</div></div><ul class='xr-sections'><li class='xr-section-item'><input id='section-90a86496-7bad-4c19-a1c4-4a696f26320f' class='xr-section-summary-in' type='checkbox' disabled ><label for='section-90a86496-7bad-4c19-a1c4-4a696f26320f' class='xr-section-summary'  title='Expand/collapse section'>Dimensions:</label><div class='xr-section-inline-details'><ul class='xr-dim-list'><li><span>y</span>: 1290</li><li><span>x</span>: 2540</li></ul></div><div class='xr-section-details'></div></li><li class='xr-section-item'><input id='section-b799d9a6-63b4-4601-9cd1-0b4a2555c6f4' class='xr-section-summary-in' type='checkbox'  checked><label for='section-b799d9a6-63b4-4601-9cd1-0b4a2555c6f4' class='xr-section-summary' >Coordinates: <span>(7)</span></label><div class='xr-section-inline-details'></div><div class='xr-section-details'><ul class='xr-var-list'><li class='xr-var-item'><div class='xr-var-name'><span>time</span></div><div class='xr-var-dims'>()</div><div class='xr-var-dtype'>datetime64[ns]</div><div class='xr-var-preview xr-preview'>2024-12-09</div><input id='attrs-972a0dc7-e0d9-4047-9744-469d0a07fb54' class='xr-var-attrs-in' type='checkbox' ><label for='attrs-972a0dc7-e0d9-4047-9744-469d0a07fb54' title='Show/Hide attributes'><svg class='icon xr-icon-file-text2'><use xlink:href='#icon-file-text2'></use></svg></label><input id='data-0b4247ba-96c8-46bb-b48b-197be69dd542' class='xr-var-data-in' type='checkbox'><label for='data-0b4247ba-96c8-46bb-b48b-197be69dd542' title='Show/Hide data repr'><svg class='icon xr-icon-database'><use xlink:href='#icon-database'></use></svg></label><div class='xr-var-attrs'><dl class='xr-attrs'><dt><span>long_name :</span></dt><dd>initial time of forecast</dd><dt><span>standard_name :</span></dt><dd>forecast_reference_time</dd></dl></div><div class='xr-var-data'><pre>array(&#x27;2024-12-09T00:00:00.000000000&#x27;, dtype=&#x27;datetime64[ns]&#x27;)</pre></div></li><li class='xr-var-item'><div class='xr-var-name'><span>step</span></div><div class='xr-var-dims'>()</div><div class='xr-var-dtype'>timedelta64[ns]</div><div class='xr-var-preview xr-preview'>01:00:00</div><input id='attrs-6c5de82d-7401-484c-b8d0-55e250a03c31' class='xr-var-attrs-in' type='checkbox' ><label for='attrs-6c5de82d-7401-484c-b8d0-55e250a03c31' title='Show/Hide attributes'><svg class='icon xr-icon-file-text2'><use xlink:href='#icon-file-text2'></use></svg></label><input id='data-47a68e34-11a4-489f-ae35-a30922e51216' class='xr-var-data-in' type='checkbox'><label for='data-47a68e34-11a4-489f-ae35-a30922e51216' title='Show/Hide data repr'><svg class='icon xr-icon-database'><use xlink:href='#icon-database'></use></svg></label><div class='xr-var-attrs'><dl class='xr-attrs'><dt><span>long_name :</span></dt><dd>time since forecast_reference_time</dd><dt><span>standard_name :</span></dt><dd>forecast_period</dd></dl></div><div class='xr-var-data'><pre>array(3600000000000, dtype=&#x27;timedelta64[ns]&#x27;)</pre></div></li><li class='xr-var-item'><div class='xr-var-name'><span>isobaricInhPa</span></div><div class='xr-var-dims'>()</div><div class='xr-var-dtype'>float64</div><div class='xr-var-preview xr-preview'>500.0</div><input id='attrs-19854ea8-1186-4ddb-8b41-9ad29c7ad13a' class='xr-var-attrs-in' type='checkbox' ><label for='attrs-19854ea8-1186-4ddb-8b41-9ad29c7ad13a' title='Show/Hide attributes'><svg class='icon xr-icon-file-text2'><use xlink:href='#icon-file-text2'></use></svg></label><input id='data-b86d98b8-b0a4-4a9a-80b0-b041b3463ccd' class='xr-var-data-in' type='checkbox'><label for='data-b86d98b8-b0a4-4a9a-80b0-b041b3463ccd' title='Show/Hide data repr'><svg class='icon xr-icon-database'><use xlink:href='#icon-database'></use></svg></label><div class='xr-var-attrs'><dl class='xr-attrs'><dt><span>long_name :</span></dt><dd>pressure</dd><dt><span>units :</span></dt><dd>hPa</dd><dt><span>positive :</span></dt><dd>down</dd><dt><span>stored_direction :</span></dt><dd>decreasing</dd><dt><span>standard_name :</span></dt><dd>air_pressure</dd></dl></div><div class='xr-var-data'><pre>array(500.)</pre></div></li><li class='xr-var-item'><div class='xr-var-name'><span>latitude</span></div><div class='xr-var-dims'>(y, x)</div><div class='xr-var-dtype'>float64</div><div class='xr-var-preview xr-preview'>...</div><input id='attrs-3322a2ee-3fef-4080-ab2c-01fc0e3ef328' class='xr-var-attrs-in' type='checkbox' ><label for='attrs-3322a2ee-3fef-4080-ab2c-01fc0e3ef328' title='Show/Hide attributes'><svg class='icon xr-icon-file-text2'><use xlink:href='#icon-file-text2'></use></svg></label><input id='data-3499cc9c-3c63-41e0-9f46-6efb5e1af985' class='xr-var-data-in' type='checkbox'><label for='data-3499cc9c-3c63-41e0-9f46-6efb5e1af985' title='Show/Hide data repr'><svg class='icon xr-icon-database'><use xlink:href='#icon-database'></use></svg></label><div class='xr-var-attrs'><dl class='xr-attrs'><dt><span>units :</span></dt><dd>degrees_north</dd><dt><span>standard_name :</span></dt><dd>latitude</dd><dt><span>long_name :</span></dt><dd>latitude</dd></dl></div><div class='xr-var-data'><pre>[3276600 values with dtype=float64]</pre></div></li><li class='xr-var-item'><div class='xr-var-name'><span>longitude</span></div><div class='xr-var-dims'>(y, x)</div><div class='xr-var-dtype'>float64</div><div class='xr-var-preview xr-preview'>...</div><input id='attrs-86dba65e-a976-4b0e-a240-147981677738' class='xr-var-attrs-in' type='checkbox' ><label for='attrs-86dba65e-a976-4b0e-a240-147981677738' title='Show/Hide attributes'><svg class='icon xr-icon-file-text2'><use xlink:href='#icon-file-text2'></use></svg></label><input id='data-29c68f3d-d544-43ce-ab43-54e813c106b9' class='xr-var-data-in' type='checkbox'><label for='data-29c68f3d-d544-43ce-ab43-54e813c106b9' title='Show/Hide data repr'><svg class='icon xr-icon-database'><use xlink:href='#icon-database'></use></svg></label><div class='xr-var-attrs'><dl class='xr-attrs'><dt><span>units :</span></dt><dd>degrees_east</dd><dt><span>standard_name :</span></dt><dd>longitude</dd><dt><span>long_name :</span></dt><dd>longitude</dd></dl></div><div class='xr-var-data'><pre>[3276600 values with dtype=float64]</pre></div></li><li class='xr-var-item'><div class='xr-var-name'><span>valid_time</span></div><div class='xr-var-dims'>()</div><div class='xr-var-dtype'>datetime64[ns]</div><div class='xr-var-preview xr-preview'>...</div><input id='attrs-d5d5cfca-7688-4861-8099-939827690753' class='xr-var-attrs-in' type='checkbox' ><label for='attrs-d5d5cfca-7688-4861-8099-939827690753' title='Show/Hide attributes'><svg class='icon xr-icon-file-text2'><use xlink:href='#icon-file-text2'></use></svg></label><input id='data-a7b8e837-c8b0-4347-8d18-64fd5729932c' class='xr-var-data-in' type='checkbox'><label for='data-a7b8e837-c8b0-4347-8d18-64fd5729932c' title='Show/Hide data repr'><svg class='icon xr-icon-database'><use xlink:href='#icon-database'></use></svg></label><div class='xr-var-attrs'><dl class='xr-attrs'><dt><span>standard_name :</span></dt><dd>time</dd><dt><span>long_name :</span></dt><dd>time</dd></dl></div><div class='xr-var-data'><pre>[1 values with dtype=datetime64[ns]]</pre></div></li><li class='xr-var-item'><div class='xr-var-name'><span>gribfile_projection</span></div><div class='xr-var-dims'>()</div><div class='xr-var-dtype'>object</div><div class='xr-var-preview xr-preview'>None</div><input id='attrs-a07bb819-2a87-4c4e-8a14-6353907fb87a' class='xr-var-attrs-in' type='checkbox' ><label for='attrs-a07bb819-2a87-4c4e-8a14-6353907fb87a' title='Show/Hide attributes'><svg class='icon xr-icon-file-text2'><use xlink:href='#icon-file-text2'></use></svg></label><input id='data-68e9350a-921f-4f7f-abaf-f62632d14b83' class='xr-var-data-in' type='checkbox'><label for='data-68e9350a-921f-4f7f-abaf-f62632d14b83' title='Show/Hide data repr'><svg class='icon xr-icon-database'><use xlink:href='#icon-database'></use></svg></label><div class='xr-var-attrs'><dl class='xr-attrs'><dt><span>crs_wkt :</span></dt><dd>GEOGCRS[&quot;unnamed&quot;,BASEGEOGCRS[&quot;unknown&quot;,DATUM[&quot;unknown&quot;,ELLIPSOID[&quot;unknown&quot;,6371229,0,LENGTHUNIT[&quot;metre&quot;,1,ID[&quot;EPSG&quot;,9001]]]],PRIMEM[&quot;Greenwich&quot;,0,ANGLEUNIT[&quot;degree&quot;,0.0174532925199433],ID[&quot;EPSG&quot;,8901]]],DERIVINGCONVERSION[&quot;unknown&quot;,METHOD[&quot;PROJ ob_tran o_proj=longlat&quot;],PARAMETER[&quot;o_lat_p&quot;,36.08852,ANGLEUNIT[&quot;degree&quot;,0.0174532925199433,ID[&quot;EPSG&quot;,9122]]],PARAMETER[&quot;o_lon_p&quot;,0,ANGLEUNIT[&quot;degree&quot;,0.0174532925199433,ID[&quot;EPSG&quot;,9122]]],PARAMETER[&quot;lon_0&quot;,245.305142,ANGLEUNIT[&quot;degree&quot;,0.0174532925199433,ID[&quot;EPSG&quot;,9122]]]],CS[ellipsoidal,2],AXIS[&quot;longitude&quot;,east,ORDER[1],ANGLEUNIT[&quot;degree&quot;,0.0174532925199433,ID[&quot;EPSG&quot;,9122]]],AXIS[&quot;latitude&quot;,north,ORDER[2],ANGLEUNIT[&quot;degree&quot;,0.0174532925199433,ID[&quot;EPSG&quot;,9122]]]]</dd><dt><span>semi_major_axis :</span></dt><dd>6371229.0</dd><dt><span>semi_minor_axis :</span></dt><dd>6371229.0</dd><dt><span>inverse_flattening :</span></dt><dd>0.0</dd><dt><span>reference_ellipsoid_name :</span></dt><dd>unknown</dd><dt><span>longitude_of_prime_meridian :</span></dt><dd>0.0</dd><dt><span>prime_meridian_name :</span></dt><dd>Greenwich</dd><dt><span>geographic_crs_name :</span></dt><dd>unnamed</dd><dt><span>horizontal_datum_name :</span></dt><dd>unknown</dd><dt><span>grid_mapping_name :</span></dt><dd>rotated_latitude_longitude</dd><dt><span>grid_north_pole_latitude :</span></dt><dd>36.08852</dd><dt><span>grid_north_pole_longitude :</span></dt><dd>65.30514199999999</dd><dt><span>north_pole_grid_longitude :</span></dt><dd>0.0</dd><dt><span>long_name :</span></dt><dd>HRDPS model grid projection</dd></dl></div><div class='xr-var-data'><pre>array(None, dtype=object)</pre></div></li></ul></div></li><li class='xr-section-item'><input id='section-80f5ec0a-1307-4435-b96e-e3fd55e77cff' class='xr-section-summary-in' type='checkbox'  checked><label for='section-80f5ec0a-1307-4435-b96e-e3fd55e77cff' class='xr-section-summary' >Data variables: <span>(1)</span></label><div class='xr-section-inline-details'></div><div class='xr-section-details'><ul class='xr-var-list'><li class='xr-var-item'><div class='xr-var-name'><span>gh</span></div><div class='xr-var-dims'>(y, x)</div><div class='xr-var-dtype'>float32</div><div class='xr-var-preview xr-preview'>...</div><input id='attrs-67fdc69d-113c-4d4b-9aa4-e1a9adcf0756' class='xr-var-attrs-in' type='checkbox' ><label for='attrs-67fdc69d-113c-4d4b-9aa4-e1a9adcf0756' title='Show/Hide attributes'><svg class='icon xr-icon-file-text2'><use xlink:href='#icon-file-text2'></use></svg></label><input id='data-060d8141-ae3f-44af-b354-7c190604b5b2' class='xr-var-data-in' type='checkbox'><label for='data-060d8141-ae3f-44af-b354-7c190604b5b2' title='Show/Hide data repr'><svg class='icon xr-icon-database'><use xlink:href='#icon-database'></use></svg></label><div class='xr-var-attrs'><dl class='xr-attrs'><dt><span>GRIB_paramId :</span></dt><dd>156</dd><dt><span>GRIB_dataType :</span></dt><dd>af</dd><dt><span>GRIB_numberOfPoints :</span></dt><dd>3276600</dd><dt><span>GRIB_typeOfLevel :</span></dt><dd>isobaricInhPa</dd><dt><span>GRIB_stepUnits :</span></dt><dd>1</dd><dt><span>GRIB_stepType :</span></dt><dd>instant</dd><dt><span>GRIB_gridType :</span></dt><dd>rotated_ll</dd><dt><span>GRIB_uvRelativeToGrid :</span></dt><dd>1</dd><dt><span>GRIB_NV :</span></dt><dd>0</dd><dt><span>GRIB_Nx :</span></dt><dd>2540</dd><dt><span>GRIB_Ny :</span></dt><dd>1290</dd><dt><span>GRIB_angleOfRotationInDegrees :</span></dt><dd>0.0</dd><dt><span>GRIB_cfName :</span></dt><dd>geopotential_height</dd><dt><span>GRIB_cfVarName :</span></dt><dd>gh</dd><dt><span>GRIB_gridDefinitionDescription :</span></dt><dd>Rotated latitude/longitude</dd><dt><span>GRIB_iDirectionIncrementInDegrees :</span></dt><dd>0.0225</dd><dt><span>GRIB_iScansNegatively :</span></dt><dd>0</dd><dt><span>GRIB_jDirectionIncrementInDegrees :</span></dt><dd>0.0225</dd><dt><span>GRIB_jPointsAreConsecutive :</span></dt><dd>0</dd><dt><span>GRIB_jScansPositively :</span></dt><dd>1</dd><dt><span>GRIB_latitudeOfFirstGridPointInDegrees :</span></dt><dd>-12.302501</dd><dt><span>GRIB_latitudeOfLastGridPointInDegrees :</span></dt><dd>16.700001</dd><dt><span>GRIB_latitudeOfSouthernPoleInDegrees :</span></dt><dd>-36.08852</dd><dt><span>GRIB_longitudeOfFirstGridPointInDegrees :</span></dt><dd>345.17878</dd><dt><span>GRIB_longitudeOfLastGridPointInDegrees :</span></dt><dd>42.306283</dd><dt><span>GRIB_longitudeOfSouthernPoleInDegrees :</span></dt><dd>245.305142</dd><dt><span>GRIB_missingValue :</span></dt><dd>3.4028234663852886e+38</dd><dt><span>GRIB_name :</span></dt><dd>Geopotential height</dd><dt><span>GRIB_parameterName :</span></dt><dd>Geopotential height</dd><dt><span>GRIB_parameterUnits :</span></dt><dd>gpm</dd><dt><span>GRIB_shortName :</span></dt><dd>gh</dd><dt><span>GRIB_stepRange :</span></dt><dd>1</dd><dt><span>GRIB_units :</span></dt><dd>gpm</dd><dt><span>long_name :</span></dt><dd>Geopotential height</dd><dt><span>units :</span></dt><dd>gpm</dd><dt><span>standard_name :</span></dt><dd>geopotential_height</dd><dt><span>grid_mapping :</span></dt><dd>gribfile_projection</dd></dl></div><div class='xr-var-data'><pre>[3276600 values with dtype=float32]</pre></div></li></ul></div></li><li class='xr-section-item'><input id='section-50663cdc-90e9-4db7-b37a-361052244af4' class='xr-section-summary-in' type='checkbox' disabled ><label for='section-50663cdc-90e9-4db7-b37a-361052244af4' class='xr-section-summary'  title='Expand/collapse section'>Indexes: <span>(0)</span></label><div class='xr-section-inline-details'></div><div class='xr-section-details'><ul class='xr-var-list'></ul></div></li><li class='xr-section-item'><input id='section-08d7681f-1c2e-4dbd-8464-c0aa9239b760' class='xr-section-summary-in' type='checkbox'  ><label for='section-08d7681f-1c2e-4dbd-8464-c0aa9239b760' class='xr-section-summary' >Attributes: <span>(12)</span></label><div class='xr-section-inline-details'></div><div class='xr-section-details'><dl class='xr-attrs'><dt><span>GRIB_edition :</span></dt><dd>2</dd><dt><span>GRIB_centre :</span></dt><dd>cwao</dd><dt><span>GRIB_centreDescription :</span></dt><dd>Canadian Meteorological Service - Montreal</dd><dt><span>GRIB_subCentre :</span></dt><dd>0</dd><dt><span>Conventions :</span></dt><dd>CF-1.7</dd><dt><span>institution :</span></dt><dd>Canadian Meteorological Service - Montreal</dd><dt><span>model :</span></dt><dd>hrdps</dd><dt><span>product :</span></dt><dd>continental/2.5km</dd><dt><span>description :</span></dt><dd>Canada&#x27;s High Resolution Deterministic Prediction System (HRDPS)</dd><dt><span>remote_grib :</span></dt><dd>/Users/andrew/data/hrdps/20241209/20241209T00Z_MSC_HRDPS_HGT_ISBL_0500_RLatLon0.0225_PT001H.grib2</dd><dt><span>local_grib :</span></dt><dd>/Users/andrew/data/hrdps/20241209/20241209T00Z_MSC_HRDPS_HGT_ISBL_0500_RLatLon0.0225_PT001H.grib2</dd><dt><span>search :</span></dt><dd>None</dd></dl></div></li></ul></div></div>"
      ],
      "text/plain": [
       "<xarray.Dataset> Size: 66MB\n",
       "Dimensions:              (y: 1290, x: 2540)\n",
       "Coordinates:\n",
       "    time                 datetime64[ns] 8B 2024-12-09\n",
       "    step                 timedelta64[ns] 8B 01:00:00\n",
       "    isobaricInhPa        float64 8B 500.0\n",
       "    latitude             (y, x) float64 26MB ...\n",
       "    longitude            (y, x) float64 26MB ...\n",
       "    valid_time           datetime64[ns] 8B ...\n",
       "    gribfile_projection  object 8B None\n",
       "Dimensions without coordinates: y, x\n",
       "Data variables:\n",
       "    gh                   (y, x) float32 13MB ...\n",
       "Attributes:\n",
       "    GRIB_edition:            2\n",
       "    GRIB_centre:             cwao\n",
       "    GRIB_centreDescription:  Canadian Meteorological Service - Montreal\n",
       "    GRIB_subCentre:          0\n",
       "    Conventions:             CF-1.7\n",
       "    institution:             Canadian Meteorological Service - Montreal\n",
       "    model:                   hrdps\n",
       "    product:                 continental/2.5km\n",
       "    description:             Canada's High Resolution Deterministic Predictio...\n",
       "    remote_grib:             /Users/andrew/data/hrdps/20241209/20241209T00Z_M...\n",
       "    local_grib:              /Users/andrew/data/hrdps/20241209/20241209T00Z_M...\n",
       "    search:                  None"
      ]
     },
     "execution_count": 10,
     "metadata": {},
     "output_type": "execute_result"
    }
   ],
   "source": [
    "_ds"
   ]
  },
  {
   "cell_type": "code",
   "execution_count": 11,
   "id": "af8ab17e",
   "metadata": {},
   "outputs": [
    {
     "data": {
      "text/html": [
       "<div>\n",
       "<style scoped>\n",
       "    .dataframe tbody tr th:only-of-type {\n",
       "        vertical-align: middle;\n",
       "    }\n",
       "\n",
       "    .dataframe tbody tr th {\n",
       "        vertical-align: top;\n",
       "    }\n",
       "\n",
       "    .dataframe thead th {\n",
       "        text-align: right;\n",
       "    }\n",
       "</style>\n",
       "<table border=\"1\" class=\"dataframe\">\n",
       "  <thead>\n",
       "    <tr style=\"text-align: right;\">\n",
       "      <th></th>\n",
       "      <th>variable</th>\n",
       "      <th>level</th>\n",
       "    </tr>\n",
       "  </thead>\n",
       "  <tbody>\n",
       "    <tr>\n",
       "      <th>0</th>\n",
       "      <td>TCDC</td>\n",
       "      <td>Sfc</td>\n",
       "    </tr>\n",
       "    <tr>\n",
       "      <th>1</th>\n",
       "      <td>HPBL</td>\n",
       "      <td>Sfc</td>\n",
       "    </tr>\n",
       "    <tr>\n",
       "      <th>2</th>\n",
       "      <td>PRES</td>\n",
       "      <td>Sfc</td>\n",
       "    </tr>\n",
       "    <tr>\n",
       "      <th>3</th>\n",
       "      <td>HGT</td>\n",
       "      <td>ISBL_0550</td>\n",
       "    </tr>\n",
       "    <tr>\n",
       "      <th>4</th>\n",
       "      <td>HGT</td>\n",
       "      <td>ISBL_0600</td>\n",
       "    </tr>\n",
       "    <tr>\n",
       "      <th>5</th>\n",
       "      <td>HGT</td>\n",
       "      <td>ISBL_0650</td>\n",
       "    </tr>\n",
       "    <tr>\n",
       "      <th>6</th>\n",
       "      <td>HGT</td>\n",
       "      <td>ISBL_0700</td>\n",
       "    </tr>\n",
       "    <tr>\n",
       "      <th>7</th>\n",
       "      <td>HGT</td>\n",
       "      <td>ISBL_0750</td>\n",
       "    </tr>\n",
       "    <tr>\n",
       "      <th>8</th>\n",
       "      <td>HGT</td>\n",
       "      <td>ISBL_0800</td>\n",
       "    </tr>\n",
       "    <tr>\n",
       "      <th>9</th>\n",
       "      <td>HGT</td>\n",
       "      <td>ISBL_0850</td>\n",
       "    </tr>\n",
       "    <tr>\n",
       "      <th>10</th>\n",
       "      <td>HGT</td>\n",
       "      <td>ISBL_0875</td>\n",
       "    </tr>\n",
       "    <tr>\n",
       "      <th>11</th>\n",
       "      <td>HGT</td>\n",
       "      <td>ISBL_0900</td>\n",
       "    </tr>\n",
       "    <tr>\n",
       "      <th>12</th>\n",
       "      <td>HGT</td>\n",
       "      <td>ISBL_0925</td>\n",
       "    </tr>\n",
       "    <tr>\n",
       "      <th>13</th>\n",
       "      <td>HGT</td>\n",
       "      <td>ISBL_0950</td>\n",
       "    </tr>\n",
       "    <tr>\n",
       "      <th>14</th>\n",
       "      <td>HGT</td>\n",
       "      <td>ISBL_0970</td>\n",
       "    </tr>\n",
       "    <tr>\n",
       "      <th>15</th>\n",
       "      <td>HGT</td>\n",
       "      <td>ISBL_0985</td>\n",
       "    </tr>\n",
       "    <tr>\n",
       "      <th>16</th>\n",
       "      <td>HGT</td>\n",
       "      <td>ISBL_1015</td>\n",
       "    </tr>\n",
       "    <tr>\n",
       "      <th>17</th>\n",
       "      <td>TMP</td>\n",
       "      <td>ISBL_0550</td>\n",
       "    </tr>\n",
       "    <tr>\n",
       "      <th>18</th>\n",
       "      <td>TMP</td>\n",
       "      <td>ISBL_0600</td>\n",
       "    </tr>\n",
       "    <tr>\n",
       "      <th>19</th>\n",
       "      <td>TMP</td>\n",
       "      <td>ISBL_0650</td>\n",
       "    </tr>\n",
       "    <tr>\n",
       "      <th>20</th>\n",
       "      <td>TMP</td>\n",
       "      <td>ISBL_0700</td>\n",
       "    </tr>\n",
       "    <tr>\n",
       "      <th>21</th>\n",
       "      <td>TMP</td>\n",
       "      <td>ISBL_0750</td>\n",
       "    </tr>\n",
       "    <tr>\n",
       "      <th>22</th>\n",
       "      <td>TMP</td>\n",
       "      <td>ISBL_0800</td>\n",
       "    </tr>\n",
       "    <tr>\n",
       "      <th>23</th>\n",
       "      <td>TMP</td>\n",
       "      <td>ISBL_0850</td>\n",
       "    </tr>\n",
       "    <tr>\n",
       "      <th>24</th>\n",
       "      <td>TMP</td>\n",
       "      <td>ISBL_0875</td>\n",
       "    </tr>\n",
       "    <tr>\n",
       "      <th>25</th>\n",
       "      <td>TMP</td>\n",
       "      <td>ISBL_0900</td>\n",
       "    </tr>\n",
       "    <tr>\n",
       "      <th>26</th>\n",
       "      <td>TMP</td>\n",
       "      <td>ISBL_0925</td>\n",
       "    </tr>\n",
       "    <tr>\n",
       "      <th>27</th>\n",
       "      <td>TMP</td>\n",
       "      <td>ISBL_0950</td>\n",
       "    </tr>\n",
       "    <tr>\n",
       "      <th>28</th>\n",
       "      <td>TMP</td>\n",
       "      <td>ISBL_0970</td>\n",
       "    </tr>\n",
       "    <tr>\n",
       "      <th>29</th>\n",
       "      <td>TMP</td>\n",
       "      <td>ISBL_0985</td>\n",
       "    </tr>\n",
       "    <tr>\n",
       "      <th>30</th>\n",
       "      <td>TMP</td>\n",
       "      <td>ISBL_1015</td>\n",
       "    </tr>\n",
       "    <tr>\n",
       "      <th>31</th>\n",
       "      <td>WIND</td>\n",
       "      <td>ISBL_0550</td>\n",
       "    </tr>\n",
       "    <tr>\n",
       "      <th>32</th>\n",
       "      <td>WIND</td>\n",
       "      <td>ISBL_0600</td>\n",
       "    </tr>\n",
       "    <tr>\n",
       "      <th>33</th>\n",
       "      <td>WIND</td>\n",
       "      <td>ISBL_0650</td>\n",
       "    </tr>\n",
       "    <tr>\n",
       "      <th>34</th>\n",
       "      <td>WIND</td>\n",
       "      <td>ISBL_0700</td>\n",
       "    </tr>\n",
       "    <tr>\n",
       "      <th>35</th>\n",
       "      <td>WIND</td>\n",
       "      <td>ISBL_0750</td>\n",
       "    </tr>\n",
       "    <tr>\n",
       "      <th>36</th>\n",
       "      <td>WIND</td>\n",
       "      <td>ISBL_0800</td>\n",
       "    </tr>\n",
       "    <tr>\n",
       "      <th>37</th>\n",
       "      <td>WIND</td>\n",
       "      <td>ISBL_0850</td>\n",
       "    </tr>\n",
       "    <tr>\n",
       "      <th>38</th>\n",
       "      <td>WIND</td>\n",
       "      <td>ISBL_0875</td>\n",
       "    </tr>\n",
       "    <tr>\n",
       "      <th>39</th>\n",
       "      <td>WIND</td>\n",
       "      <td>ISBL_0900</td>\n",
       "    </tr>\n",
       "    <tr>\n",
       "      <th>40</th>\n",
       "      <td>WIND</td>\n",
       "      <td>ISBL_0925</td>\n",
       "    </tr>\n",
       "    <tr>\n",
       "      <th>41</th>\n",
       "      <td>WIND</td>\n",
       "      <td>ISBL_0950</td>\n",
       "    </tr>\n",
       "    <tr>\n",
       "      <th>42</th>\n",
       "      <td>WIND</td>\n",
       "      <td>ISBL_0970</td>\n",
       "    </tr>\n",
       "    <tr>\n",
       "      <th>43</th>\n",
       "      <td>WIND</td>\n",
       "      <td>ISBL_0985</td>\n",
       "    </tr>\n",
       "    <tr>\n",
       "      <th>44</th>\n",
       "      <td>WIND</td>\n",
       "      <td>ISBL_1015</td>\n",
       "    </tr>\n",
       "    <tr>\n",
       "      <th>45</th>\n",
       "      <td>WDIR</td>\n",
       "      <td>ISBL_0550</td>\n",
       "    </tr>\n",
       "    <tr>\n",
       "      <th>46</th>\n",
       "      <td>WDIR</td>\n",
       "      <td>ISBL_0600</td>\n",
       "    </tr>\n",
       "    <tr>\n",
       "      <th>47</th>\n",
       "      <td>WDIR</td>\n",
       "      <td>ISBL_0650</td>\n",
       "    </tr>\n",
       "    <tr>\n",
       "      <th>48</th>\n",
       "      <td>WDIR</td>\n",
       "      <td>ISBL_0700</td>\n",
       "    </tr>\n",
       "    <tr>\n",
       "      <th>49</th>\n",
       "      <td>WDIR</td>\n",
       "      <td>ISBL_0750</td>\n",
       "    </tr>\n",
       "    <tr>\n",
       "      <th>50</th>\n",
       "      <td>WDIR</td>\n",
       "      <td>ISBL_0800</td>\n",
       "    </tr>\n",
       "    <tr>\n",
       "      <th>51</th>\n",
       "      <td>WDIR</td>\n",
       "      <td>ISBL_0850</td>\n",
       "    </tr>\n",
       "    <tr>\n",
       "      <th>52</th>\n",
       "      <td>WDIR</td>\n",
       "      <td>ISBL_0875</td>\n",
       "    </tr>\n",
       "    <tr>\n",
       "      <th>53</th>\n",
       "      <td>WDIR</td>\n",
       "      <td>ISBL_0900</td>\n",
       "    </tr>\n",
       "    <tr>\n",
       "      <th>54</th>\n",
       "      <td>WDIR</td>\n",
       "      <td>ISBL_0925</td>\n",
       "    </tr>\n",
       "    <tr>\n",
       "      <th>55</th>\n",
       "      <td>WDIR</td>\n",
       "      <td>ISBL_0950</td>\n",
       "    </tr>\n",
       "    <tr>\n",
       "      <th>56</th>\n",
       "      <td>WDIR</td>\n",
       "      <td>ISBL_0970</td>\n",
       "    </tr>\n",
       "    <tr>\n",
       "      <th>57</th>\n",
       "      <td>WDIR</td>\n",
       "      <td>ISBL_0985</td>\n",
       "    </tr>\n",
       "    <tr>\n",
       "      <th>58</th>\n",
       "      <td>WDIR</td>\n",
       "      <td>ISBL_1015</td>\n",
       "    </tr>\n",
       "  </tbody>\n",
       "</table>\n",
       "</div>"
      ],
      "text/plain": [
       "   variable      level\n",
       "0      TCDC        Sfc\n",
       "1      HPBL        Sfc\n",
       "2      PRES        Sfc\n",
       "3       HGT  ISBL_0550\n",
       "4       HGT  ISBL_0600\n",
       "5       HGT  ISBL_0650\n",
       "6       HGT  ISBL_0700\n",
       "7       HGT  ISBL_0750\n",
       "8       HGT  ISBL_0800\n",
       "9       HGT  ISBL_0850\n",
       "10      HGT  ISBL_0875\n",
       "11      HGT  ISBL_0900\n",
       "12      HGT  ISBL_0925\n",
       "13      HGT  ISBL_0950\n",
       "14      HGT  ISBL_0970\n",
       "15      HGT  ISBL_0985\n",
       "16      HGT  ISBL_1015\n",
       "17      TMP  ISBL_0550\n",
       "18      TMP  ISBL_0600\n",
       "19      TMP  ISBL_0650\n",
       "20      TMP  ISBL_0700\n",
       "21      TMP  ISBL_0750\n",
       "22      TMP  ISBL_0800\n",
       "23      TMP  ISBL_0850\n",
       "24      TMP  ISBL_0875\n",
       "25      TMP  ISBL_0900\n",
       "26      TMP  ISBL_0925\n",
       "27      TMP  ISBL_0950\n",
       "28      TMP  ISBL_0970\n",
       "29      TMP  ISBL_0985\n",
       "30      TMP  ISBL_1015\n",
       "31     WIND  ISBL_0550\n",
       "32     WIND  ISBL_0600\n",
       "33     WIND  ISBL_0650\n",
       "34     WIND  ISBL_0700\n",
       "35     WIND  ISBL_0750\n",
       "36     WIND  ISBL_0800\n",
       "37     WIND  ISBL_0850\n",
       "38     WIND  ISBL_0875\n",
       "39     WIND  ISBL_0900\n",
       "40     WIND  ISBL_0925\n",
       "41     WIND  ISBL_0950\n",
       "42     WIND  ISBL_0970\n",
       "43     WIND  ISBL_0985\n",
       "44     WIND  ISBL_1015\n",
       "45     WDIR  ISBL_0550\n",
       "46     WDIR  ISBL_0600\n",
       "47     WDIR  ISBL_0650\n",
       "48     WDIR  ISBL_0700\n",
       "49     WDIR  ISBL_0750\n",
       "50     WDIR  ISBL_0800\n",
       "51     WDIR  ISBL_0850\n",
       "52     WDIR  ISBL_0875\n",
       "53     WDIR  ISBL_0900\n",
       "54     WDIR  ISBL_0925\n",
       "55     WDIR  ISBL_0950\n",
       "56     WDIR  ISBL_0970\n",
       "57     WDIR  ISBL_0985\n",
       "58     WDIR  ISBL_1015"
      ]
     },
     "execution_count": 11,
     "metadata": {},
     "output_type": "execute_result"
    }
   ],
   "source": [
    "df.reset_index(drop=True)"
   ]
  }
 ],
 "metadata": {
  "kernelspec": {
   "display_name": "Python 3 (ipykernel)",
   "language": "python",
   "name": "python3"
  },
  "language_info": {
   "codemirror_mode": {
    "name": "ipython",
    "version": 3
   },
   "file_extension": ".py",
   "mimetype": "text/x-python",
   "name": "python",
   "nbconvert_exporter": "python",
   "pygments_lexer": "ipython3",
   "version": "3.13.0"
  }
 },
 "nbformat": 4,
 "nbformat_minor": 5
}
