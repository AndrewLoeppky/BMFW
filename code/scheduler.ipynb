{
 "cells": [
  {
   "cell_type": "markdown",
   "id": "f3b124e2",
   "metadata": {},
   "source": [
    "# scheduler\n",
    "\n",
    "This notebook samples datamart for relevant model data and triggers download and generation of new graphics when new model runs become available. For bug reports, suggestions oe inquiries, contact Andrew.Loeppky@gmail.com"
   ]
  },
  {
   "cell_type": "code",
   "execution_count": 32,
   "id": "9b7a6786",
   "metadata": {},
   "outputs": [],
   "source": [
    "import requests\n"
   ]
  },
  {
   "cell_type": "code",
   "execution_count": 33,
   "id": "fb5cdf3e",
   "metadata": {},
   "outputs": [],
   "source": [
    "# GDPS\n",
    "hh = 0\n",
    "gdps_ok = all([requests.get(f\"https://dd.weather.gc.ca/model_gem_global/15km/grib2/lat_lon/{'{:02d}'.format(hh)}/{'{:03d}'.format(fxx)}/\").ok for fxx in range(1, 241)])\n"
   ]
  },
  {
   "cell_type": "code",
   "execution_count": 34,
   "id": "de320b8c",
   "metadata": {},
   "outputs": [],
   "source": [
    "# RDPS\n",
    "hh = 18\n",
    "rdps_ok = all([requests.get(f\"https://dd.weather.gc.ca/model_gem_regional/10km/grib2/{'{:02d}'.format(hh)}/{'{:03d}'.format(fxx)}/\").ok for fxx in range(1, 85)])\n"
   ]
  },
  {
   "cell_type": "code",
   "execution_count": null,
   "id": "d7279fb3",
   "metadata": {},
   "outputs": [],
   "source": [
    "# HRDPS"
   ]
  },
  {
   "cell_type": "code",
   "execution_count": null,
   "id": "fc0d35f8",
   "metadata": {},
   "outputs": [],
   "source": []
  },
  {
   "cell_type": "code",
   "execution_count": null,
   "id": "5fb16213",
   "metadata": {},
   "outputs": [],
   "source": []
  }
 ],
 "metadata": {
  "kernelspec": {
   "display_name": "Python 3 (ipykernel)",
   "language": "python",
   "name": "python3"
  },
  "language_info": {
   "codemirror_mode": {
    "name": "ipython",
    "version": 3
   },
   "file_extension": ".py",
   "mimetype": "text/x-python",
   "name": "python",
   "nbconvert_exporter": "python",
   "pygments_lexer": "ipython3",
   "version": "3.13.0"
  }
 },
 "nbformat": 4,
 "nbformat_minor": 5
}
