{
 "cells": [
  {
   "cell_type": "markdown",
   "id": "f3b124e2",
   "metadata": {},
   "source": [
    "# scheduler\n",
    "\n",
    "This notebook samples datamart for relevant model data and triggers download and generation of new graphics when new model runs become available. For bug reports, suggestions oe inquiries, contact Andrew.Loeppky@gmail.com"
   ]
  },
  {
   "cell_type": "code",
   "execution_count": 1,
   "id": "9b7a6786",
   "metadata": {},
   "outputs": [],
   "source": [
    "import requests\n"
   ]
  },
  {
   "cell_type": "code",
   "execution_count": 2,
   "id": "fb5cdf3e",
   "metadata": {},
   "outputs": [
    {
     "data": {
      "text/plain": [
       "[False,\n",
       " False,\n",
       " False,\n",
       " False,\n",
       " False,\n",
       " False,\n",
       " False,\n",
       " False,\n",
       " False,\n",
       " False,\n",
       " False,\n",
       " False,\n",
       " False,\n",
       " False,\n",
       " False,\n",
       " False,\n",
       " False,\n",
       " False,\n",
       " False,\n",
       " False,\n",
       " False,\n",
       " False,\n",
       " False,\n",
       " False]"
      ]
     },
     "execution_count": 2,
     "metadata": {},
     "output_type": "execute_result"
    }
   ],
   "source": [
    "# GDPS\n",
    "hh = 0\n",
    "gdps_ok = [requests.get(f\"https://dd.weather.gc.ca/model_gem_global/15km/grib2/lat_lon/{'{:02d}'.format(hh)}/{'{:03d}'.format(fxx)}/\").ok for fxx in range(6, 150, 6)]\n",
    "gdps_ok"
   ]
  },
  {
   "cell_type": "code",
   "execution_count": 3,
   "id": "de320b8c",
   "metadata": {},
   "outputs": [
    {
     "ename": "NameError",
     "evalue": "name 'rpds_ok' is not defined",
     "output_type": "error",
     "traceback": [
      "\u001b[0;31m---------------------------------------------------------------------------\u001b[0m",
      "\u001b[0;31mNameError\u001b[0m                                 Traceback (most recent call last)",
      "Cell \u001b[0;32mIn[3], line 4\u001b[0m\n\u001b[1;32m      2\u001b[0m hh \u001b[38;5;241m=\u001b[39m \u001b[38;5;241m0\u001b[39m\n\u001b[1;32m      3\u001b[0m rdps_ok \u001b[38;5;241m=\u001b[39m \u001b[38;5;28mall\u001b[39m([requests\u001b[38;5;241m.\u001b[39mget(\u001b[38;5;124mf\u001b[39m\u001b[38;5;124m\"\u001b[39m\u001b[38;5;124mhttps://dd.weather.gc.ca/model_gem_regional/10km/grib2/\u001b[39m\u001b[38;5;132;01m{\u001b[39;00m\u001b[38;5;124m'\u001b[39m\u001b[38;5;132;01m{:02d}\u001b[39;00m\u001b[38;5;124m'\u001b[39m\u001b[38;5;241m.\u001b[39mformat(hh)\u001b[38;5;132;01m}\u001b[39;00m\u001b[38;5;124m/\u001b[39m\u001b[38;5;132;01m{\u001b[39;00m\u001b[38;5;124m'\u001b[39m\u001b[38;5;132;01m{:03d}\u001b[39;00m\u001b[38;5;124m'\u001b[39m\u001b[38;5;241m.\u001b[39mformat(fxx)\u001b[38;5;132;01m}\u001b[39;00m\u001b[38;5;124m/\u001b[39m\u001b[38;5;124m\"\u001b[39m)\u001b[38;5;241m.\u001b[39mok \u001b[38;5;28;01mfor\u001b[39;00m fxx \u001b[38;5;129;01min\u001b[39;00m \u001b[38;5;28mrange\u001b[39m(\u001b[38;5;241m1\u001b[39m, \u001b[38;5;241m85\u001b[39m)])\n\u001b[0;32m----> 4\u001b[0m \u001b[43mrpds_ok\u001b[49m\n",
      "\u001b[0;31mNameError\u001b[0m: name 'rpds_ok' is not defined"
     ]
    }
   ],
   "source": [
    "# RDPS\n",
    "hh = 0\n",
    "rdps_ok = all([requests.get(f\"https://dd.weather.gc.ca/model_gem_regional/10km/grib2/{'{:02d}'.format(hh)}/{'{:03d}'.format(fxx)}/\").ok for fxx in range(1, 85)])\n",
    "rpds_ok"
   ]
  },
  {
   "cell_type": "code",
   "execution_count": null,
   "id": "d7279fb3",
   "metadata": {},
   "outputs": [],
   "source": [
    "# HRDPS\n",
    "hh = 0\n",
    "hrdps_ok = all([requests.get(f\"https://dd.weather.gc.ca/model_hrdps/continental/2.5km/{'{:02d}'.format(hh)}/{'{:03d}'.format(fxx)}/\").ok for fxx in range(1, 49)])\n",
    "hrdps_ok"
   ]
  },
  {
   "cell_type": "code",
   "execution_count": null,
   "id": "fc0d35f8",
   "metadata": {},
   "outputs": [],
   "source": []
  },
  {
   "cell_type": "code",
   "execution_count": null,
   "id": "5fb16213",
   "metadata": {},
   "outputs": [],
   "source": []
  }
 ],
 "metadata": {
  "kernelspec": {
   "display_name": "Python 3 (ipykernel)",
   "language": "python",
   "name": "python3"
  },
  "language_info": {
   "codemirror_mode": {
    "name": "ipython",
    "version": 3
   },
   "file_extension": ".py",
   "mimetype": "text/x-python",
   "name": "python",
   "nbconvert_exporter": "python",
   "pygments_lexer": "ipython3",
   "version": "3.13.0"
  }
 },
 "nbformat": 4,
 "nbformat_minor": 5
}
