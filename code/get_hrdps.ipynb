{
 "cells": [
  {
   "cell_type": "markdown",
   "id": "31c99f88",
   "metadata": {},
   "source": [
    "# get_hrdps\n",
    "\n",
    "This routine grabs the latest High Resolution Deterministic Prediction System (HRDPS) model data from MSC Datamart and outputs png plots into designated product folders for each ACMWF product.\n",
    "\n",
    "**Datamart:**\n",
    "\n",
    "https://eccc-msc.github.io/open-data/msc-data/nwp_hrdps/readme_hrdps_en/\n",
    "\n",
    "https://dd.weather.gc.ca/model_hrdps/\n",
    "\n",
    "**Outputs:**\n",
    "\n",
    "Hourly Precipitation -> *BC/AB, South Coast, South Interior, Alberta Rockies, Precipitation Type\n",
    "\n",
    "12hr Total Precipitation -> *South Coast, South Interior, Alberta Rockies*\n",
    "\n",
    "Temperatures -> *Surface*\n",
    "\n",
    "\n",
    "**Maintenance:**\n",
    "\n",
    "For bug reports, suggestions, inquiries, contact Andrew.Loeppky@gmail.com"
   ]
  },
  {
   "cell_type": "code",
   "execution_count": 6,
   "id": "0c3df676",
   "metadata": {},
   "outputs": [
    {
     "name": "stdout",
     "output_type": "stream",
     "text": [
      "The jupyter_black extension is already loaded. To reload it, use:\n",
      "  %reload_ext jupyter_black\n"
     ]
    }
   ],
   "source": [
    "from herbie import Herbie\n",
    "import xarray as xr\n",
    "import numpy as np\n",
    "\n",
    "import matplotlib.pyplot as plt\n",
    "\n",
    "plt.rcParams[\"font.family\"] = \"sans-serif\"\n",
    "plt.rcParams[\"font.weight\"] = \"heavy\"\n",
    "from toolbox import EasyMap, pc\n",
    "import cartopy.crs as ccrs\n",
    "import cartopy.feature as feature\n",
    "import pandas as pd\n",
    "\n",
    "from matplotlib.patches import Rectangle\n",
    "import matplotlib as mpl\n",
    "from mpl_toolkits.axes_grid1.inset_locator import inset_axes\n",
    "import pytz\n",
    "import os, shutil\n",
    "import json\n",
    "\n",
    "import warnings\n",
    "\n",
    "# supress because removal of old datafiles is handled outside herbie\n",
    "warnings.filterwarnings(\"ignore\")\n",
    "\n",
    "from bmwflib import clear_directory, get_var, plot_cities, make_basemap\n",
    "\n",
    "%load_ext jupyter_black"
   ]
  },
  {
   "cell_type": "code",
   "execution_count": null,
   "id": "00f2a75c",
   "metadata": {},
   "outputs": [],
   "source": []
  },
  {
   "cell_type": "code",
   "execution_count": null,
   "id": "b7bec0ae",
   "metadata": {},
   "outputs": [],
   "source": []
  },
  {
   "cell_type": "code",
   "execution_count": null,
   "id": "ce720662",
   "metadata": {},
   "outputs": [],
   "source": []
  }
 ],
 "metadata": {
  "kernelspec": {
   "display_name": "Python 3 (ipykernel)",
   "language": "python",
   "name": "python3"
  },
  "language_info": {
   "codemirror_mode": {
    "name": "ipython",
    "version": 3
   },
   "file_extension": ".py",
   "mimetype": "text/x-python",
   "name": "python",
   "nbconvert_exporter": "python",
   "pygments_lexer": "ipython3",
   "version": "3.13.0"
  }
 },
 "nbformat": 4,
 "nbformat_minor": 5
}
