{
 "cells": [
  {
   "cell_type": "markdown",
   "id": "37358984",
   "metadata": {},
   "source": [
    "# get_gdps\n",
    "\n",
    "This routine grabs the latest Global Deterministic Prediction System (GDPS) model data from MSC Datamart and outputs png plots into designated product folders for each ACMWF product.\n",
    "\n",
    "**Datamart:**\n",
    "\n",
    "https://eccc-msc.github.io/open-data/msc-data/nwp_gdps/readme_gdps-datamart_en/#levels\n",
    "\n",
    "https://dd.weather.gc.ca/model_gem_global/\n",
    "\n",
    "**Outputs:**\n",
    "\n",
    "config.json specifies the folder structure in which these figures are saved.\n",
    "\n",
    "Mountain Weather Forecast -> *500 mbar, Surface*\n",
    "\n",
    "Temperatures -> *1500m 0400, 1500m 1600*\n",
    "\n",
    "Surface Maps -> *0-144 Hours* \n",
    "\n",
    "500 mbar & Precipitable Water -> *500 mbar, Precipitable Water* \n",
    "\n",
    "\n",
    "**Maintenance:**\n",
    "\n",
    "For bug reports, suggestions, inquiries, contact Andrew.Loeppky@gmail.com"
   ]
  },
  {
   "cell_type": "code",
   "execution_count": 1,
   "id": "ba5ac59a",
   "metadata": {},
   "outputs": [
    {
     "name": "stdout",
     "output_type": "stream",
     "text": [
      " ╭─\u001b[48;2;255;255;255m\u001b[38;2;136;33;27m▌\u001b[0m\u001b[38;2;12;53;118m\u001b[48;2;240;234;210m▌\u001b[38;2;0;0;0m\u001b[1mHerbie\u001b[0m─────────────────────────────────────────────╮\n",
      " │ WARNING: Unable to create config file               │\n",
      " │ \u001b[38;2;255;153;0m     /Users/andrew/.config/herbie/config.toml     \u001b[0m   │\n",
      " │ Herbie will use standard default settings.           │\n",
      " │ Consider setting env variable HERBIE_CONFIG_PATH.    │\n",
      " ╰──────────────────────────────────────────────────────╯\n",
      "\n"
     ]
    }
   ],
   "source": [
    "from herbie import Herbie\n",
    "import xarray as xr\n",
    "import numpy as np\n",
    "\n",
    "import matplotlib.pyplot as plt\n",
    "# configure text to match AC style\n",
    "plt.rcParams[\"font.family\"] = \"sans-serif\"\n",
    "plt.rcParams[\"font.weight\"] = \"heavy\"\n",
    "from toolbox import EasyMap, pc\n",
    "import cartopy.crs as ccrs\n",
    "import cartopy.feature as feature\n",
    "import pandas as pd\n",
    "\n",
    "from matplotlib.patches import Rectangle\n",
    "import matplotlib as mpl\n",
    "from mpl_toolkits.axes_grid1.inset_locator import inset_axes\n",
    "import pytz\n",
    "import os, shutil\n",
    "import json"
   ]
  },
  {
   "cell_type": "code",
   "execution_count": 2,
   "id": "defaa21e",
   "metadata": {},
   "outputs": [],
   "source": [
    "# time of last model run (0Z and 12Z)\n",
    "now = pd.Timestamp.utcnow().floor(\"24h\").tz_localize(None)\n",
    "\n",
    "# config determines the directories in which to save each graphic\n",
    "with open(\"..//config/gdps_config.json\") as f:\n",
    "    config = json.load(f)\n",
    "\n",
    "# 7 day run (144 hours) with 3 hr spacing\n",
    "tstep = range(3,148,3)\n",
    "tstep = range(3,24,3)\n",
    "\n",
    "\n",
    "# heights to pull geopotentials\n",
    "hgt = [\"ISBL_1000\",\n",
    "       \"ISBL_500\"\n",
    "      ]"
   ]
  },
  {
   "cell_type": "code",
   "execution_count": 3,
   "id": "5cb67522",
   "metadata": {},
   "outputs": [],
   "source": [
    "def clear_directory(path):\n",
    "    \"\"\"\n",
    "    clears all files in a directory\n",
    "    \"\"\"\n",
    "    for name in os.listdir(path):\n",
    "        full_path = os.path.join(path, name)\n",
    "        if os.path.isdir(full_path):\n",
    "            shutil.rmtree(full_path)\n",
    "        else:\n",
    "            os.remove(full_path)\n",
    "    return None"
   ]
  },
  {
   "cell_type": "code",
   "execution_count": 4,
   "id": "a24f3eaf",
   "metadata": {},
   "outputs": [],
   "source": [
    "def get_var(fxx, var, lev):\n",
    "    \"\"\"\n",
    "    helper function to initialize herbie objects in a list comp\n",
    "    \"\"\"\n",
    "    ds = Herbie(\n",
    "            now,\n",
    "            model=\"gdps\",\n",
    "            fxx=fxx,\n",
    "            variable=var,\n",
    "            level=lev,\n",
    "        ).xarray()\n",
    "\n",
    "    # if the variable name is unknown, assign it\n",
    "    if \"unknown\" in ds:\n",
    "        ds = ds.rename({\"unknown\":var})\n",
    "    \n",
    "    return ds"
   ]
  },
  {
   "cell_type": "code",
   "execution_count": 5,
   "id": "b565f8ed",
   "metadata": {},
   "outputs": [],
   "source": [
    "def plot_cities(ax):\n",
    "    \"\"\"\n",
    "    plots and labels cities on map based on JSON file path input \n",
    "    \"\"\"\n",
    "    with open(\"../config/cities.json\", \"r\") as f:\n",
    "        cities = pd.DataFrame.from_dict(json.load(f), orient=\"index\", columns=[\"Latitude\", \"Longitude\"])\n",
    "\n",
    "        \n",
    "    ax.scatter(x=cities.Longitude, \n",
    "               y=cities.Latitude,\n",
    "               color=\"yellow\",\n",
    "               edgecolor=\"black\",\n",
    "               transform=ccrs.PlateCarree()\n",
    "             )\n",
    "    for index, row in cities.iterrows():\n",
    "        ax.text(row.Longitude,\n",
    "                row.Latitude + 0.1,\n",
    "                index,\n",
    "                transform=ccrs.PlateCarree(),\n",
    "                ha=\"center\",\n",
    "                va=\"bottom\",\n",
    "                alpha=0.7,\n",
    "                color=\"white\"\n",
    "               )\n",
    "\n",
    "    return None"
   ]
  },
  {
   "cell_type": "code",
   "execution_count": 6,
   "id": "1e4110e0",
   "metadata": {},
   "outputs": [],
   "source": [
    "def plot_500(ds):\n",
    "    \"\"\"\n",
    "    plots the 500mb figure for the MWF and 500mb pages\n",
    "    \"\"\"\n",
    "    # make a figure\n",
    "    fig = plt.figure(figsize=(15,15))\n",
    "    fig.tight_layout()\n",
    "    ax = fig.add_subplot(1, 1, 1, \n",
    "                         position=(0,0,1,1), \n",
    "                         projection=ccrs.LambertConformal(central_longitude=-150, central_latitude=39.0,))\n",
    "    ax.set_extent([-170, -117, 40, 63])\n",
    "\n",
    "    # basemap\n",
    "    ax.add_feature(feature.LAND)\n",
    "    ax.add_feature(feature.STATES)\n",
    "    ax.add_feature(feature.OCEAN)\n",
    "    ax.add_feature(feature.COASTLINE)\n",
    "\n",
    "    # plot height contours\n",
    "    ht = ax.contour(\n",
    "        ds.longitude,\n",
    "        ds.latitude,\n",
    "        ds.gh.loc[{\"isobaricInhPa\":500}],\n",
    "        colors=\"k\",\n",
    "        transform=pc,\n",
    "        levels=range(0, 6000, 50),\n",
    "    )\n",
    "    ax.clabel(ht, inline=True, fontsize=9)\n",
    "\n",
    "    # plot thickness contours\n",
    "    th_cmap = mpl.colors.ListedColormap(['pink',\n",
    "                                         'blue',\n",
    "                                         'orange',\n",
    "                                        ])\n",
    "    th_bounds = [4800, 5100, 5400, 5700]\n",
    "    th_norm = mpl.colors.BoundaryNorm(th_bounds, th_cmap.N)\n",
    "    ht = ax.contour(\n",
    "        ds.longitude,\n",
    "        ds.latitude,\n",
    "        ds.thick,\n",
    "        cmap=th_cmap, \n",
    "        norm=th_norm,\n",
    "        linestyles=\"dashed\",\n",
    "        transform=pc,\n",
    "        levels=range(4000, 6000, 60),\n",
    "    )\n",
    "    ax.clabel(ht, inline=True, fontsize=9)\n",
    "\n",
    "    # plot cloud cover\n",
    "    cc_cmap = mpl.colors.ListedColormap(['#DCDCDC',\n",
    "                                         '#808080'])\n",
    "    cc_bounds = [60, 80, 100]\n",
    "    cc_norm = mpl.colors.BoundaryNorm(cc_bounds, cc_cmap.N)\n",
    "    cc = ax.pcolormesh(\n",
    "        ds.longitude,\n",
    "        ds.latitude,\n",
    "        ds.TCDC.where(ds.TCDC >= 60),\n",
    "        cmap=cc_cmap,\n",
    "        norm=cc_norm,\n",
    "        antialiased=True,\n",
    "        transform=pc,\n",
    "    )\n",
    "\n",
    "    # plot precip rate\n",
    "    pr_cmap = mpl.colors.ListedColormap(['#90EE90',\n",
    "                                         '#ADFF2F', \n",
    "                                         '#3CB371', \n",
    "                                         '#2E8B57', \n",
    "                                         '#FFFF00',\n",
    "                                         '#FFA500', \n",
    "                                         '#B22222', \n",
    "                                         '#8B008B'])\n",
    "    pr_bounds = [1, 2, 5, 10, 20, 30, 50, 75, 100]\n",
    "    pr_norm = mpl.colors.BoundaryNorm(pr_bounds, pr_cmap.N)\n",
    "    pr = ax.pcolormesh(\n",
    "         ds.longitude,\n",
    "         ds.latitude,\n",
    "         ds.prate.where(ds.prate >= 1),\n",
    "         cmap=pr_cmap,\n",
    "         norm=pr_norm,\n",
    "         antialiased=True,\n",
    "         transform=pc,\n",
    "    )\n",
    "\n",
    "    # shade out legend regions, AC style\n",
    "    ax.add_patch(Rectangle((0, 0), 0.12, 0.85, transform=ax.transAxes, color=\"steelblue\", alpha=0.8))\n",
    "    ax.add_patch(Rectangle((0, 0.85), 1, 1, transform=ax.transAxes, color=\"steelblue\", alpha=0.8))\n",
    "\n",
    "    # precip colorbar\n",
    "    fig.text(0.121, 0.649, \"6hr Pcpn\", color=\"black\", size=10)\n",
    "    fig.text(0.12, 0.65, \"6hr Pcpn\", color=\"white\", size=10)\n",
    "    \n",
    "    fig.text(0.121, 0.639, \"(mm)\", color=\"black\", size=10)\n",
    "    fig.text(0.12, 0.64, \"(mm)\", color=\"white\", size=10)\n",
    "    \n",
    "    pr_cbar = fig.colorbar(\n",
    "                            pr,\n",
    "                            cmap=pr_cmap, \n",
    "                            norm=pr_norm,\n",
    "                            ax=ax,\n",
    "                            spacing='uniform',\n",
    "                            shrink=0.25,\n",
    "                            location=\"left\",\n",
    "                            aspect=10,\n",
    "                            anchor=(0.15,0.55),\n",
    "                            pad=-0.15\n",
    "                           )\n",
    "    pr_cbar.ax.tick_params(labelsize=10, \n",
    "                           labelcolor=\"white\", \n",
    "                           length=0, \n",
    "                           labelright=True,\n",
    "                           labelleft=False,\n",
    "                          ) \n",
    "\n",
    "    # cloud cover colorbar\n",
    "    fig.text(0.121, 0.399, \"Cloud Cover\", color=\"black\", size=10)\n",
    "    fig.text(0.12, 0.40, \"Cloud Cover\", color=\"white\", size=10)\n",
    "    \n",
    "    fig.text(0.121, 0.389, \"(%)\", color=\"black\", size=10)\n",
    "    fig.text(0.12, 0.39, \"(%)\", color=\"white\", size=10)\n",
    "    \n",
    "    \n",
    "    cc_cbar = fig.colorbar(\n",
    "                            cc,\n",
    "                            cmap=cc_cmap, \n",
    "                            norm=cc_norm,\n",
    "                            ax=ax,\n",
    "                            spacing='uniform',\n",
    "                            shrink=0.125,\n",
    "                            location=\"left\",\n",
    "                            aspect=5,\n",
    "                            anchor=(0.15,0.25),\n",
    "                            pad=-0.18\n",
    "                           )\n",
    "    cc_cbar.ax.tick_params(labelsize=10, \n",
    "                           labelcolor=\"white\", \n",
    "                           length=0, \n",
    "                           labelright=True,\n",
    "                           labelleft=False,\n",
    "                          ) \n",
    "\n",
    "    # timestamps\n",
    "    the_date = pd.Timestamp(ds.valid_time.values).tz_localize('UTC').tz_convert('America/Vancouver')\n",
    "    fmt_date = the_date.strftime('%a. %m-%d-%y \\n%H:%M %p')\n",
    "    fig.text(0.501, 0.689, fmt_date, color=\"black\", size=20)\n",
    "    fig.text(0.5, 0.69, fmt_date, color=\"white\", size=20)\n",
    "    \n",
    "    fig.text(0.121, 0.259, f\"{ds.model.upper()} {pd.Timestamp(ds.time.values).strftime(\"%H\")} Z\", color=\"black\", size=10)\n",
    "    fig.text(0.12, 0.26, f\"{ds.model.upper()} {pd.Timestamp(ds.time.values).strftime(\"%H\")} Z\", color=\"white\", size=10)\n",
    "    \n",
    "    # title\n",
    "    fig.text(0.351, 0.689, '500 mb\\nHeight', color=\"black\", size=20)\n",
    "    fig.text(0.35, 0.69, '500 mb\\nHeight', color=\"white\", size=20)\n",
    "    \n",
    "    \n",
    "    # save and close the figure\n",
    "    fig.savefig(os.path.join(config[\"plots\"][\"mwf500\"], f\"mwf_{ds.model}_{now.strftime('%Y_%_h_%d')}_{now.strftime('%H')}Z_P{fxx}\"))\n",
    "    fig.savefig(os.path.join(config[\"plots\"][\"500mb\"], f\"500mb_{ds.model}_{now.strftime('%Y_%_h_%d')}_{now.strftime('%H')}Z_P{fxx}\"))\n",
    "    fig.clf()\n",
    "\n",
    "    return None"
   ]
  },
  {
   "cell_type": "code",
   "execution_count": 7,
   "id": "0464956e",
   "metadata": {},
   "outputs": [],
   "source": [
    "def plot_surf(ds):\n",
    "    \"\"\"\n",
    "    plots the surface figure for mwf day 3-4, surface 0-144h\n",
    "    \"\"\"\n",
    "    # make a figure\n",
    "    fig = plt.figure(figsize=(15,15))\n",
    "    fig.tight_layout()\n",
    "    ax = fig.add_subplot(1, 1, 1, \n",
    "                     position=(0,0,1,1), \n",
    "                     projection=ccrs.LambertConformal(central_longitude=-150, central_latitude=39.0,))\n",
    "    ax.set_extent([-170, -117, 40, 63])\n",
    "\n",
    "    # basemap\n",
    "    ax.add_feature(feature.LAND)\n",
    "    ax.add_feature(feature.STATES)\n",
    "    ax.add_feature(feature.OCEAN)\n",
    "    ax.add_feature(feature.COASTLINE)\n",
    "\n",
    "    # plot height contours\n",
    "    ht = ax.contour(\n",
    "    ds.longitude,\n",
    "    ds.latitude,\n",
    "    ds.prmsl,\n",
    "    colors=\"k\",\n",
    "    transform=pc,\n",
    "    levels=range(900, 1100, 4),\n",
    "    )\n",
    "    ax.clabel(ht, inline=True, fontsize=9)\n",
    "\n",
    "    # plot thickness contours\n",
    "    th_cmap = mpl.colors.ListedColormap(['pink',\n",
    "                                     'blue',\n",
    "                                     'orange',\n",
    "                                    ])\n",
    "    th_bounds = [4800, 5100, 5400, 5700]\n",
    "    th_norm = mpl.colors.BoundaryNorm(th_bounds, th_cmap.N)\n",
    "    ht = ax.contour(\n",
    "    ds.longitude,\n",
    "    ds.latitude,\n",
    "    ds.thick,\n",
    "    cmap=th_cmap, \n",
    "    norm=th_norm,\n",
    "    linestyles=\"dashed\",\n",
    "    transform=pc,\n",
    "    levels=range(4000, 6000, 60),\n",
    "    )\n",
    "    ax.clabel(ht, inline=True, fontsize=9)\n",
    "\n",
    "    # plot cloud cover\n",
    "    cc_cmap = mpl.colors.ListedColormap(['#DCDCDC',\n",
    "                                     '#808080'])\n",
    "    cc_bounds = [60, 80, 100]\n",
    "    cc_norm = mpl.colors.BoundaryNorm(cc_bounds, cc_cmap.N)\n",
    "    cc = ax.pcolormesh(\n",
    "    ds.longitude,\n",
    "    ds.latitude,\n",
    "    ds.TCDC.where(ds.TCDC >= 60),\n",
    "    cmap=cc_cmap,\n",
    "    norm=cc_norm,\n",
    "    antialiased=True,\n",
    "    transform=pc,\n",
    "    )\n",
    "\n",
    "    # plot precip rate\n",
    "    pr_cmap = mpl.colors.ListedColormap(['#90EE90',\n",
    "                                     '#ADFF2F', \n",
    "                                     '#3CB371', \n",
    "                                     '#2E8B57', \n",
    "                                     '#FFFF00',\n",
    "                                     '#FFA500', \n",
    "                                     '#B22222', \n",
    "                                     '#8B008B'])\n",
    "    pr_bounds = [1, 2, 5, 10, 20, 30, 50, 75, 100]\n",
    "    pr_norm = mpl.colors.BoundaryNorm(pr_bounds, pr_cmap.N)\n",
    "    pr = ax.pcolormesh(\n",
    "     ds.longitude,\n",
    "     ds.latitude,\n",
    "     ds.prate.where(ds.prate >= 1),\n",
    "     cmap=pr_cmap,\n",
    "     norm=pr_norm,\n",
    "     antialiased=True,\n",
    "     transform=pc,\n",
    "    )\n",
    "\n",
    "    # shade out legend regions, AC style\n",
    "    ax.add_patch(Rectangle((0, 0), 0.12, 0.85, transform=ax.transAxes, color=\"steelblue\", alpha=0.8))\n",
    "    ax.add_patch(Rectangle((0, 0.85), 1, 1, transform=ax.transAxes, color=\"steelblue\", alpha=0.8))\n",
    "\n",
    "    # precip colorbar\n",
    "    fig.text(0.121, 0.649, \"6hr Pcpn\", color=\"black\", size=10)\n",
    "    fig.text(0.12, 0.65, \"6hr Pcpn\", color=\"white\", size=10)\n",
    "\n",
    "    fig.text(0.121, 0.639, \"(mm)\", color=\"black\", size=10)\n",
    "    fig.text(0.12, 0.64, \"(mm)\", color=\"white\", size=10)\n",
    "\n",
    "    pr_cbar = fig.colorbar(\n",
    "                        pr,\n",
    "                        cmap=pr_cmap, \n",
    "                        norm=pr_norm,\n",
    "                        ax=ax,\n",
    "                        spacing='uniform',\n",
    "                        shrink=0.25,\n",
    "                        location=\"left\",\n",
    "                        aspect=10,\n",
    "                        anchor=(0.15,0.55),\n",
    "                        pad=-0.15\n",
    "                       )\n",
    "    pr_cbar.ax.tick_params(labelsize=10, \n",
    "                       labelcolor=\"white\", \n",
    "                       length=0, \n",
    "                       labelright=True,\n",
    "                       labelleft=False,\n",
    "                      ) \n",
    "\n",
    "    # cloud cover colorbar\n",
    "    fig.text(0.121, 0.399, \"Cloud Cover\", color=\"black\", size=10)\n",
    "    fig.text(0.12, 0.40, \"Cloud Cover\", color=\"white\", size=10)\n",
    "\n",
    "    fig.text(0.121, 0.389, \"(%)\", color=\"black\", size=10)\n",
    "    fig.text(0.12, 0.39, \"(%)\", color=\"white\", size=10)\n",
    "\n",
    "    cc_cbar = fig.colorbar(\n",
    "                        cc,\n",
    "                        cmap=cc_cmap, \n",
    "                        norm=cc_norm,\n",
    "                        ax=ax,\n",
    "                        spacing='uniform',\n",
    "                        shrink=0.125,\n",
    "                        location=\"left\",\n",
    "                        aspect=5,\n",
    "                        anchor=(0.15,0.25),\n",
    "                        pad=-0.18\n",
    "                       )\n",
    "    cc_cbar.ax.tick_params(labelsize=10, \n",
    "                       labelcolor=\"white\", \n",
    "                       length=0, \n",
    "                       labelright=True,\n",
    "                       labelleft=False,\n",
    "                      ) \n",
    "\n",
    "    # timestamps\n",
    "    the_date = pd.Timestamp(ds.valid_time.values).tz_localize('UTC').tz_convert('America/Vancouver')\n",
    "    fmt_date = the_date.strftime('%a. %m-%d-%y \\n%H:%M %p')\n",
    "\n",
    "    fig.text(0.501, 0.689, fmt_date, color=\"black\", size=20)\n",
    "    fig.text(0.5, 0.69, fmt_date, color=\"white\", size=20)\n",
    "    fig.text(0.121, 0.259, f\"{ds.model.upper()} {pd.Timestamp(ds.time.values).strftime(\"%H\")} Z\", color=\"black\", size=10)\n",
    "    fig.text(0.12, 0.26, f\"{ds.model.upper()} {pd.Timestamp(ds.time.values).strftime(\"%H\")} Z\", color=\"white\", size=10)\n",
    "\n",
    "    # title\n",
    "    fig.text(0.351, 0.689, 'Surface', color=\"black\", size=20)\n",
    "    fig.text(0.35, 0.69, 'Surface', color=\"white\", size=20)\n",
    "    \n",
    "    # save and close the figure\n",
    "    if fxx >= 72: # only save mwf maps for day 3+\n",
    "        fig.savefig(os.path.join(config[\"plots\"][\"mwfsurf\"], f\"surf_{ds.model}_{now.strftime('%Y_%_h_%d')}_{now.strftime('%H')}Z_P{fxx}\"))\n",
    "    fig.savefig(os.path.join(config[\"plots\"][\"surf\"], f\"surf_{ds.model}_{now.strftime('%Y_%_h_%d')}_{now.strftime('%H')}Z_P{fxx}\"))\n",
    "    fig.clf()\n",
    "    \n",
    "    return None"
   ]
  },
  {
   "cell_type": "code",
   "execution_count": 8,
   "id": "093144be",
   "metadata": {},
   "outputs": [],
   "source": [
    "def plot_temps(ds):\n",
    "    \"\"\"\n",
    "    plots 1500m temperatures, saves at 0400 and 1600 Pacific\n",
    "    \"\"\"\n",
    "    # make a figure\n",
    "    fig = plt.figure(figsize=(15,15))\n",
    "    fig.tight_layout()\n",
    "    ax = fig.add_subplot(1, 1, 1, \n",
    "                         position=(0,0,1,1), \n",
    "                         projection=ccrs.LambertConformal(central_longitude=-123, central_latitude=54.0,))\n",
    "    ax.set_extent([-140, -110, 46, 65])\n",
    "\n",
    "    # basemap\n",
    "    ax.add_feature(feature.LAKES)\n",
    "    ax.add_feature(feature.STATES)\n",
    "    ax.add_feature(feature.RIVERS)\n",
    "    ax.add_feature(feature.COASTLINE)\n",
    "\n",
    "    # plot 850mb temps\n",
    "    t_cmap = mpl.colors.ListedColormap(['#FFFAFA',\n",
    "                                        '#C0C0C0',\n",
    "                                        '#4B0082',\n",
    "                                        '#8B008B',\n",
    "                                        '#9400D3',\n",
    "                                        '#9370DB',\n",
    "                                        '#0000CD',\n",
    "                                        '#1E90FF',\n",
    "                                        '#00BFFF',\n",
    "                                        '#F0E68C',\n",
    "                                        '#FFFF00',\n",
    "                                        '#FFA500',\n",
    "                                        '#FF4500',\n",
    "                                        '#d62728',\n",
    "                                        '#FF69B4',\n",
    "                                        '#800000',\n",
    "                                        '#000000'\n",
    "                                       ])\n",
    "    t_bounds = [-40, -35, -30, -25, -20, -15, -10, -5, -1, 1, 5, 10, 15, 20, 25, 30, 35, 40]\n",
    "    t_norm = mpl.colors.BoundaryNorm(t_bounds, t_cmap.N)\n",
    "    t = ax.pcolormesh(\n",
    "        ds.longitude,\n",
    "        ds.latitude,\n",
    "        ds.t,\n",
    "        cmap=t_cmap,\n",
    "        norm=t_norm,\n",
    "        antialiased=True,\n",
    "        transform=pc,\n",
    "    )\n",
    "\n",
    "    # shade out legend regions, AC style\n",
    "    ax.add_patch(Rectangle((0, 0), 0.12, 0.85, transform=ax.transAxes, color=\"steelblue\", alpha=0.8))\n",
    "    ax.add_patch(Rectangle((0, 0.85), 1, 1, transform=ax.transAxes, color=\"steelblue\", alpha=0.8))\n",
    "\n",
    "    # 1500m temp colorbar\n",
    "    fig.text(0.141, 0.689, \"($^o$C)\", color=\"black\", size=10)\n",
    "    fig.text(0.14, 0.69, \"($^o$C)\", color=\"white\", size=10)\n",
    "\n",
    "    t_cbar = fig.colorbar(\n",
    "                            t,\n",
    "                            cmap=t_cmap, \n",
    "                            norm=t_norm,\n",
    "                            ax=ax,\n",
    "                            spacing='uniform',\n",
    "                            shrink=0.6,\n",
    "                            location=\"left\",\n",
    "                            aspect=20,\n",
    "                            anchor=(0.15,0.25),\n",
    "                            pad=-0.18\n",
    "                           )\n",
    "    t_cbar.ax.set_yticks(t_bounds)\n",
    "    t_cbar.ax.tick_params(labelsize=10, \n",
    "                           labelcolor=\"white\", \n",
    "                           length=0, \n",
    "                           labelright=True,\n",
    "                           labelleft=False,\n",
    "                          ) \n",
    "\n",
    "    # cities\n",
    "    plot_cities(ax)\n",
    "    \n",
    "    # timestamps\n",
    "    the_date = pd.Timestamp(ds.valid_time.values).tz_localize('UTC').tz_convert('America/Vancouver')\n",
    "    fmt_date = the_date.strftime('%a. %m-%d-%y \\n%H:%M %p')\n",
    "    fig.text(0.501, 0.809, fmt_date, color=\"black\", size=20)\n",
    "    fig.text(0.5, 0.81, fmt_date, color=\"white\", size=20)\n",
    "    fig.text(0.121, 0.159, f\"{ds.model.upper()} {pd.Timestamp(ds.time.values).strftime(\"%H\")} Z\", color=\"black\", size=10)\n",
    "    fig.text(0.12, 0.16, f\"{ds.model.upper()} {pd.Timestamp(ds.time.values).strftime(\"%H\")} Z\", color=\"white\", size=10)\n",
    "\n",
    "    # title\n",
    "    fig.text(0.351, 0.809, 'Temperature\\n1500 meters', color=\"black\", size=20)\n",
    "    fig.text(0.35, 0.81, 'Temperature\\n1500 meters', color=\"white\", size=20)\n",
    "\n",
    "    # only save the plot at 0400 (0500 DST) or 1600 (1700 DST)\n",
    "    if the_date.hour in (4,5):\n",
    "        fig.savefig(os.path.join(config[\"plots\"][\"temp1504\"], f\"temp1500_{ds.model}_{now.strftime('%Y_%_h_%d')}_{now.strftime('%H')}Z_P{fxx}\"))\n",
    "    if the_date.hour in (16,17):\n",
    "        fig.savefig(os.path.join(config[\"plots\"][\"temp1516\"], f\"temp1500_{ds.model}_{now.strftime('%Y_%_h_%d')}_{now.strftime('%H')}Z_P{fxx}\"))\n",
    "    fig.clf()"
   ]
  },
  {
   "cell_type": "code",
   "execution_count": 9,
   "id": "450e5773",
   "metadata": {},
   "outputs": [
    {
     "name": "stdout",
     "output_type": "stream",
     "text": [
      "✅ Found ┊ model=gdps ┊ \u001b[3mproduct=15km/grib2/lat_lon\u001b[0m ┊ \u001b[38;2;41;130;13m2025-Jun-02 00:00 UTC\u001b[92m F03\u001b[0m ┊ \u001b[38;2;255;153;0m\u001b[3mGRIB2 @ msc\u001b[0m ┊ \u001b[38;2;255;153;0m\u001b[3mIDX @ None\u001b[0m\n",
      "👨🏻‍🏭 Created directory: [/Users/andrew/data/gdps/20250602]\n"
     ]
    },
    {
     "name": "stderr",
     "output_type": "stream",
     "text": [
      "/opt/miniconda3/envs/herbie/lib/python3.13/site-packages/herbie/core.py:1117: UserWarning: Will not remove GRIB file because Herbie will only remove subsetted files (not full files).\n",
      "  warnings.warn(\n"
     ]
    },
    {
     "name": "stdout",
     "output_type": "stream",
     "text": [
      "✅ Found ┊ model=gdps ┊ \u001b[3mproduct=15km/grib2/lat_lon\u001b[0m ┊ \u001b[38;2;41;130;13m2025-Jun-02 00:00 UTC\u001b[92m F03\u001b[0m ┊ \u001b[38;2;255;153;0m\u001b[3mGRIB2 @ msc\u001b[0m ┊ \u001b[38;2;255;153;0m\u001b[3mIDX @ None\u001b[0m\n"
     ]
    },
    {
     "name": "stderr",
     "output_type": "stream",
     "text": [
      "/opt/miniconda3/envs/herbie/lib/python3.13/site-packages/herbie/core.py:1117: UserWarning: Will not remove GRIB file because Herbie will only remove subsetted files (not full files).\n",
      "  warnings.warn(\n"
     ]
    },
    {
     "name": "stdout",
     "output_type": "stream",
     "text": [
      "✅ Found ┊ model=gdps ┊ \u001b[3mproduct=15km/grib2/lat_lon\u001b[0m ┊ \u001b[38;2;41;130;13m2025-Jun-02 00:00 UTC\u001b[92m F03\u001b[0m ┊ \u001b[38;2;255;153;0m\u001b[3mGRIB2 @ msc\u001b[0m ┊ \u001b[38;2;255;153;0m\u001b[3mIDX @ None\u001b[0m\n"
     ]
    },
    {
     "name": "stderr",
     "output_type": "stream",
     "text": [
      "/opt/miniconda3/envs/herbie/lib/python3.13/site-packages/herbie/core.py:1117: UserWarning: Will not remove GRIB file because Herbie will only remove subsetted files (not full files).\n",
      "  warnings.warn(\n"
     ]
    },
    {
     "name": "stdout",
     "output_type": "stream",
     "text": [
      "✅ Found ┊ model=gdps ┊ \u001b[3mproduct=15km/grib2/lat_lon\u001b[0m ┊ \u001b[38;2;41;130;13m2025-Jun-02 00:00 UTC\u001b[92m F03\u001b[0m ┊ \u001b[38;2;255;153;0m\u001b[3mGRIB2 @ msc\u001b[0m ┊ \u001b[38;2;255;153;0m\u001b[3mIDX @ None\u001b[0m\n"
     ]
    },
    {
     "name": "stderr",
     "output_type": "stream",
     "text": [
      "/opt/miniconda3/envs/herbie/lib/python3.13/site-packages/herbie/core.py:1117: UserWarning: Will not remove GRIB file because Herbie will only remove subsetted files (not full files).\n",
      "  warnings.warn(\n"
     ]
    },
    {
     "name": "stdout",
     "output_type": "stream",
     "text": [
      "✅ Found ┊ model=gdps ┊ \u001b[3mproduct=15km/grib2/lat_lon\u001b[0m ┊ \u001b[38;2;41;130;13m2025-Jun-02 00:00 UTC\u001b[92m F03\u001b[0m ┊ \u001b[38;2;255;153;0m\u001b[3mGRIB2 @ msc\u001b[0m ┊ \u001b[38;2;255;153;0m\u001b[3mIDX @ None\u001b[0m\n"
     ]
    },
    {
     "name": "stderr",
     "output_type": "stream",
     "text": [
      "/opt/miniconda3/envs/herbie/lib/python3.13/site-packages/herbie/core.py:1117: UserWarning: Will not remove GRIB file because Herbie will only remove subsetted files (not full files).\n",
      "  warnings.warn(\n"
     ]
    },
    {
     "name": "stdout",
     "output_type": "stream",
     "text": [
      "✅ Found ┊ model=gdps ┊ \u001b[3mproduct=15km/grib2/lat_lon\u001b[0m ┊ \u001b[38;2;41;130;13m2025-Jun-02 00:00 UTC\u001b[92m F03\u001b[0m ┊ \u001b[38;2;255;153;0m\u001b[3mGRIB2 @ msc\u001b[0m ┊ \u001b[38;2;255;153;0m\u001b[3mIDX @ None\u001b[0m\n"
     ]
    },
    {
     "name": "stderr",
     "output_type": "stream",
     "text": [
      "/opt/miniconda3/envs/herbie/lib/python3.13/site-packages/herbie/core.py:1117: UserWarning: Will not remove GRIB file because Herbie will only remove subsetted files (not full files).\n",
      "  warnings.warn(\n"
     ]
    },
    {
     "name": "stdout",
     "output_type": "stream",
     "text": [
      "✅ Found ┊ model=gdps ┊ \u001b[3mproduct=15km/grib2/lat_lon\u001b[0m ┊ \u001b[38;2;41;130;13m2025-Jun-02 00:00 UTC\u001b[92m F06\u001b[0m ┊ \u001b[38;2;255;153;0m\u001b[3mGRIB2 @ msc\u001b[0m ┊ \u001b[38;2;255;153;0m\u001b[3mIDX @ None\u001b[0m\n",
      "👨🏻‍🏭 Created directory: [/Users/andrew/data/gdps/20250602]\n"
     ]
    },
    {
     "name": "stderr",
     "output_type": "stream",
     "text": [
      "/opt/miniconda3/envs/herbie/lib/python3.13/site-packages/herbie/core.py:1117: UserWarning: Will not remove GRIB file because Herbie will only remove subsetted files (not full files).\n",
      "  warnings.warn(\n"
     ]
    },
    {
     "name": "stdout",
     "output_type": "stream",
     "text": [
      "✅ Found ┊ model=gdps ┊ \u001b[3mproduct=15km/grib2/lat_lon\u001b[0m ┊ \u001b[38;2;41;130;13m2025-Jun-02 00:00 UTC\u001b[92m F06\u001b[0m ┊ \u001b[38;2;255;153;0m\u001b[3mGRIB2 @ msc\u001b[0m ┊ \u001b[38;2;255;153;0m\u001b[3mIDX @ None\u001b[0m\n"
     ]
    },
    {
     "name": "stderr",
     "output_type": "stream",
     "text": [
      "/opt/miniconda3/envs/herbie/lib/python3.13/site-packages/herbie/core.py:1117: UserWarning: Will not remove GRIB file because Herbie will only remove subsetted files (not full files).\n",
      "  warnings.warn(\n"
     ]
    },
    {
     "name": "stdout",
     "output_type": "stream",
     "text": [
      "✅ Found ┊ model=gdps ┊ \u001b[3mproduct=15km/grib2/lat_lon\u001b[0m ┊ \u001b[38;2;41;130;13m2025-Jun-02 00:00 UTC\u001b[92m F06\u001b[0m ┊ \u001b[38;2;255;153;0m\u001b[3mGRIB2 @ msc\u001b[0m ┊ \u001b[38;2;255;153;0m\u001b[3mIDX @ None\u001b[0m\n"
     ]
    },
    {
     "name": "stderr",
     "output_type": "stream",
     "text": [
      "/opt/miniconda3/envs/herbie/lib/python3.13/site-packages/herbie/core.py:1117: UserWarning: Will not remove GRIB file because Herbie will only remove subsetted files (not full files).\n",
      "  warnings.warn(\n"
     ]
    },
    {
     "name": "stdout",
     "output_type": "stream",
     "text": [
      "✅ Found ┊ model=gdps ┊ \u001b[3mproduct=15km/grib2/lat_lon\u001b[0m ┊ \u001b[38;2;41;130;13m2025-Jun-02 00:00 UTC\u001b[92m F06\u001b[0m ┊ \u001b[38;2;255;153;0m\u001b[3mGRIB2 @ msc\u001b[0m ┊ \u001b[38;2;255;153;0m\u001b[3mIDX @ None\u001b[0m\n"
     ]
    },
    {
     "name": "stderr",
     "output_type": "stream",
     "text": [
      "/opt/miniconda3/envs/herbie/lib/python3.13/site-packages/herbie/core.py:1117: UserWarning: Will not remove GRIB file because Herbie will only remove subsetted files (not full files).\n",
      "  warnings.warn(\n"
     ]
    },
    {
     "name": "stdout",
     "output_type": "stream",
     "text": [
      "✅ Found ┊ model=gdps ┊ \u001b[3mproduct=15km/grib2/lat_lon\u001b[0m ┊ \u001b[38;2;41;130;13m2025-Jun-02 00:00 UTC\u001b[92m F06\u001b[0m ┊ \u001b[38;2;255;153;0m\u001b[3mGRIB2 @ msc\u001b[0m ┊ \u001b[38;2;255;153;0m\u001b[3mIDX @ None\u001b[0m\n"
     ]
    },
    {
     "name": "stderr",
     "output_type": "stream",
     "text": [
      "/opt/miniconda3/envs/herbie/lib/python3.13/site-packages/herbie/core.py:1117: UserWarning: Will not remove GRIB file because Herbie will only remove subsetted files (not full files).\n",
      "  warnings.warn(\n"
     ]
    },
    {
     "name": "stdout",
     "output_type": "stream",
     "text": [
      "✅ Found ┊ model=gdps ┊ \u001b[3mproduct=15km/grib2/lat_lon\u001b[0m ┊ \u001b[38;2;41;130;13m2025-Jun-02 00:00 UTC\u001b[92m F06\u001b[0m ┊ \u001b[38;2;255;153;0m\u001b[3mGRIB2 @ msc\u001b[0m ┊ \u001b[38;2;255;153;0m\u001b[3mIDX @ None\u001b[0m\n"
     ]
    },
    {
     "name": "stderr",
     "output_type": "stream",
     "text": [
      "/opt/miniconda3/envs/herbie/lib/python3.13/site-packages/herbie/core.py:1117: UserWarning: Will not remove GRIB file because Herbie will only remove subsetted files (not full files).\n",
      "  warnings.warn(\n"
     ]
    },
    {
     "name": "stdout",
     "output_type": "stream",
     "text": [
      "✅ Found ┊ model=gdps ┊ \u001b[3mproduct=15km/grib2/lat_lon\u001b[0m ┊ \u001b[38;2;41;130;13m2025-Jun-02 00:00 UTC\u001b[92m F09\u001b[0m ┊ \u001b[38;2;255;153;0m\u001b[3mGRIB2 @ msc\u001b[0m ┊ \u001b[38;2;255;153;0m\u001b[3mIDX @ None\u001b[0m\n",
      "👨🏻‍🏭 Created directory: [/Users/andrew/data/gdps/20250602]\n"
     ]
    },
    {
     "name": "stderr",
     "output_type": "stream",
     "text": [
      "/opt/miniconda3/envs/herbie/lib/python3.13/site-packages/herbie/core.py:1117: UserWarning: Will not remove GRIB file because Herbie will only remove subsetted files (not full files).\n",
      "  warnings.warn(\n"
     ]
    },
    {
     "name": "stdout",
     "output_type": "stream",
     "text": [
      "✅ Found ┊ model=gdps ┊ \u001b[3mproduct=15km/grib2/lat_lon\u001b[0m ┊ \u001b[38;2;41;130;13m2025-Jun-02 00:00 UTC\u001b[92m F09\u001b[0m ┊ \u001b[38;2;255;153;0m\u001b[3mGRIB2 @ msc\u001b[0m ┊ \u001b[38;2;255;153;0m\u001b[3mIDX @ None\u001b[0m\n"
     ]
    },
    {
     "name": "stderr",
     "output_type": "stream",
     "text": [
      "/opt/miniconda3/envs/herbie/lib/python3.13/site-packages/herbie/core.py:1117: UserWarning: Will not remove GRIB file because Herbie will only remove subsetted files (not full files).\n",
      "  warnings.warn(\n"
     ]
    },
    {
     "name": "stdout",
     "output_type": "stream",
     "text": [
      "✅ Found ┊ model=gdps ┊ \u001b[3mproduct=15km/grib2/lat_lon\u001b[0m ┊ \u001b[38;2;41;130;13m2025-Jun-02 00:00 UTC\u001b[92m F09\u001b[0m ┊ \u001b[38;2;255;153;0m\u001b[3mGRIB2 @ msc\u001b[0m ┊ \u001b[38;2;255;153;0m\u001b[3mIDX @ None\u001b[0m\n"
     ]
    },
    {
     "name": "stderr",
     "output_type": "stream",
     "text": [
      "/opt/miniconda3/envs/herbie/lib/python3.13/site-packages/herbie/core.py:1117: UserWarning: Will not remove GRIB file because Herbie will only remove subsetted files (not full files).\n",
      "  warnings.warn(\n"
     ]
    },
    {
     "name": "stdout",
     "output_type": "stream",
     "text": [
      "✅ Found ┊ model=gdps ┊ \u001b[3mproduct=15km/grib2/lat_lon\u001b[0m ┊ \u001b[38;2;41;130;13m2025-Jun-02 00:00 UTC\u001b[92m F09\u001b[0m ┊ \u001b[38;2;255;153;0m\u001b[3mGRIB2 @ msc\u001b[0m ┊ \u001b[38;2;255;153;0m\u001b[3mIDX @ None\u001b[0m\n"
     ]
    },
    {
     "name": "stderr",
     "output_type": "stream",
     "text": [
      "/opt/miniconda3/envs/herbie/lib/python3.13/site-packages/herbie/core.py:1117: UserWarning: Will not remove GRIB file because Herbie will only remove subsetted files (not full files).\n",
      "  warnings.warn(\n"
     ]
    },
    {
     "name": "stdout",
     "output_type": "stream",
     "text": [
      "✅ Found ┊ model=gdps ┊ \u001b[3mproduct=15km/grib2/lat_lon\u001b[0m ┊ \u001b[38;2;41;130;13m2025-Jun-02 00:00 UTC\u001b[92m F09\u001b[0m ┊ \u001b[38;2;255;153;0m\u001b[3mGRIB2 @ msc\u001b[0m ┊ \u001b[38;2;255;153;0m\u001b[3mIDX @ None\u001b[0m\n"
     ]
    },
    {
     "name": "stderr",
     "output_type": "stream",
     "text": [
      "/opt/miniconda3/envs/herbie/lib/python3.13/site-packages/herbie/core.py:1117: UserWarning: Will not remove GRIB file because Herbie will only remove subsetted files (not full files).\n",
      "  warnings.warn(\n"
     ]
    },
    {
     "name": "stdout",
     "output_type": "stream",
     "text": [
      "✅ Found ┊ model=gdps ┊ \u001b[3mproduct=15km/grib2/lat_lon\u001b[0m ┊ \u001b[38;2;41;130;13m2025-Jun-02 00:00 UTC\u001b[92m F09\u001b[0m ┊ \u001b[38;2;255;153;0m\u001b[3mGRIB2 @ msc\u001b[0m ┊ \u001b[38;2;255;153;0m\u001b[3mIDX @ None\u001b[0m\n"
     ]
    },
    {
     "name": "stderr",
     "output_type": "stream",
     "text": [
      "/opt/miniconda3/envs/herbie/lib/python3.13/site-packages/herbie/core.py:1117: UserWarning: Will not remove GRIB file because Herbie will only remove subsetted files (not full files).\n",
      "  warnings.warn(\n"
     ]
    },
    {
     "name": "stdout",
     "output_type": "stream",
     "text": [
      "✅ Found ┊ model=gdps ┊ \u001b[3mproduct=15km/grib2/lat_lon\u001b[0m ┊ \u001b[38;2;41;130;13m2025-Jun-02 00:00 UTC\u001b[92m F12\u001b[0m ┊ \u001b[38;2;255;153;0m\u001b[3mGRIB2 @ msc\u001b[0m ┊ \u001b[38;2;255;153;0m\u001b[3mIDX @ None\u001b[0m\n",
      "👨🏻‍🏭 Created directory: [/Users/andrew/data/gdps/20250602]\n"
     ]
    },
    {
     "name": "stderr",
     "output_type": "stream",
     "text": [
      "/opt/miniconda3/envs/herbie/lib/python3.13/site-packages/herbie/core.py:1117: UserWarning: Will not remove GRIB file because Herbie will only remove subsetted files (not full files).\n",
      "  warnings.warn(\n"
     ]
    },
    {
     "name": "stdout",
     "output_type": "stream",
     "text": [
      "✅ Found ┊ model=gdps ┊ \u001b[3mproduct=15km/grib2/lat_lon\u001b[0m ┊ \u001b[38;2;41;130;13m2025-Jun-02 00:00 UTC\u001b[92m F12\u001b[0m ┊ \u001b[38;2;255;153;0m\u001b[3mGRIB2 @ msc\u001b[0m ┊ \u001b[38;2;255;153;0m\u001b[3mIDX @ None\u001b[0m\n"
     ]
    },
    {
     "name": "stderr",
     "output_type": "stream",
     "text": [
      "/opt/miniconda3/envs/herbie/lib/python3.13/site-packages/herbie/core.py:1117: UserWarning: Will not remove GRIB file because Herbie will only remove subsetted files (not full files).\n",
      "  warnings.warn(\n"
     ]
    },
    {
     "name": "stdout",
     "output_type": "stream",
     "text": [
      "✅ Found ┊ model=gdps ┊ \u001b[3mproduct=15km/grib2/lat_lon\u001b[0m ┊ \u001b[38;2;41;130;13m2025-Jun-02 00:00 UTC\u001b[92m F12\u001b[0m ┊ \u001b[38;2;255;153;0m\u001b[3mGRIB2 @ msc\u001b[0m ┊ \u001b[38;2;255;153;0m\u001b[3mIDX @ None\u001b[0m\n"
     ]
    },
    {
     "name": "stderr",
     "output_type": "stream",
     "text": [
      "/opt/miniconda3/envs/herbie/lib/python3.13/site-packages/herbie/core.py:1117: UserWarning: Will not remove GRIB file because Herbie will only remove subsetted files (not full files).\n",
      "  warnings.warn(\n"
     ]
    },
    {
     "name": "stdout",
     "output_type": "stream",
     "text": [
      "✅ Found ┊ model=gdps ┊ \u001b[3mproduct=15km/grib2/lat_lon\u001b[0m ┊ \u001b[38;2;41;130;13m2025-Jun-02 00:00 UTC\u001b[92m F12\u001b[0m ┊ \u001b[38;2;255;153;0m\u001b[3mGRIB2 @ msc\u001b[0m ┊ \u001b[38;2;255;153;0m\u001b[3mIDX @ None\u001b[0m\n"
     ]
    },
    {
     "name": "stderr",
     "output_type": "stream",
     "text": [
      "/opt/miniconda3/envs/herbie/lib/python3.13/site-packages/herbie/core.py:1117: UserWarning: Will not remove GRIB file because Herbie will only remove subsetted files (not full files).\n",
      "  warnings.warn(\n"
     ]
    },
    {
     "name": "stdout",
     "output_type": "stream",
     "text": [
      "✅ Found ┊ model=gdps ┊ \u001b[3mproduct=15km/grib2/lat_lon\u001b[0m ┊ \u001b[38;2;41;130;13m2025-Jun-02 00:00 UTC\u001b[92m F12\u001b[0m ┊ \u001b[38;2;255;153;0m\u001b[3mGRIB2 @ msc\u001b[0m ┊ \u001b[38;2;255;153;0m\u001b[3mIDX @ None\u001b[0m\n"
     ]
    },
    {
     "name": "stderr",
     "output_type": "stream",
     "text": [
      "/opt/miniconda3/envs/herbie/lib/python3.13/site-packages/herbie/core.py:1117: UserWarning: Will not remove GRIB file because Herbie will only remove subsetted files (not full files).\n",
      "  warnings.warn(\n"
     ]
    },
    {
     "name": "stdout",
     "output_type": "stream",
     "text": [
      "✅ Found ┊ model=gdps ┊ \u001b[3mproduct=15km/grib2/lat_lon\u001b[0m ┊ \u001b[38;2;41;130;13m2025-Jun-02 00:00 UTC\u001b[92m F12\u001b[0m ┊ \u001b[38;2;255;153;0m\u001b[3mGRIB2 @ msc\u001b[0m ┊ \u001b[38;2;255;153;0m\u001b[3mIDX @ None\u001b[0m\n"
     ]
    },
    {
     "name": "stderr",
     "output_type": "stream",
     "text": [
      "/opt/miniconda3/envs/herbie/lib/python3.13/site-packages/herbie/core.py:1117: UserWarning: Will not remove GRIB file because Herbie will only remove subsetted files (not full files).\n",
      "  warnings.warn(\n"
     ]
    },
    {
     "name": "stdout",
     "output_type": "stream",
     "text": [
      "✅ Found ┊ model=gdps ┊ \u001b[3mproduct=15km/grib2/lat_lon\u001b[0m ┊ \u001b[38;2;41;130;13m2025-Jun-02 00:00 UTC\u001b[92m F15\u001b[0m ┊ \u001b[38;2;255;153;0m\u001b[3mGRIB2 @ msc\u001b[0m ┊ \u001b[38;2;255;153;0m\u001b[3mIDX @ None\u001b[0m\n",
      "👨🏻‍🏭 Created directory: [/Users/andrew/data/gdps/20250602]\n"
     ]
    },
    {
     "name": "stderr",
     "output_type": "stream",
     "text": [
      "/opt/miniconda3/envs/herbie/lib/python3.13/site-packages/herbie/core.py:1117: UserWarning: Will not remove GRIB file because Herbie will only remove subsetted files (not full files).\n",
      "  warnings.warn(\n"
     ]
    },
    {
     "name": "stdout",
     "output_type": "stream",
     "text": [
      "✅ Found ┊ model=gdps ┊ \u001b[3mproduct=15km/grib2/lat_lon\u001b[0m ┊ \u001b[38;2;41;130;13m2025-Jun-02 00:00 UTC\u001b[92m F15\u001b[0m ┊ \u001b[38;2;255;153;0m\u001b[3mGRIB2 @ msc\u001b[0m ┊ \u001b[38;2;255;153;0m\u001b[3mIDX @ None\u001b[0m\n"
     ]
    },
    {
     "name": "stderr",
     "output_type": "stream",
     "text": [
      "/opt/miniconda3/envs/herbie/lib/python3.13/site-packages/herbie/core.py:1117: UserWarning: Will not remove GRIB file because Herbie will only remove subsetted files (not full files).\n",
      "  warnings.warn(\n"
     ]
    },
    {
     "name": "stdout",
     "output_type": "stream",
     "text": [
      "✅ Found ┊ model=gdps ┊ \u001b[3mproduct=15km/grib2/lat_lon\u001b[0m ┊ \u001b[38;2;41;130;13m2025-Jun-02 00:00 UTC\u001b[92m F15\u001b[0m ┊ \u001b[38;2;255;153;0m\u001b[3mGRIB2 @ msc\u001b[0m ┊ \u001b[38;2;255;153;0m\u001b[3mIDX @ None\u001b[0m\n"
     ]
    },
    {
     "name": "stderr",
     "output_type": "stream",
     "text": [
      "/opt/miniconda3/envs/herbie/lib/python3.13/site-packages/herbie/core.py:1117: UserWarning: Will not remove GRIB file because Herbie will only remove subsetted files (not full files).\n",
      "  warnings.warn(\n"
     ]
    },
    {
     "name": "stdout",
     "output_type": "stream",
     "text": [
      "✅ Found ┊ model=gdps ┊ \u001b[3mproduct=15km/grib2/lat_lon\u001b[0m ┊ \u001b[38;2;41;130;13m2025-Jun-02 00:00 UTC\u001b[92m F15\u001b[0m ┊ \u001b[38;2;255;153;0m\u001b[3mGRIB2 @ msc\u001b[0m ┊ \u001b[38;2;255;153;0m\u001b[3mIDX @ None\u001b[0m\n"
     ]
    },
    {
     "name": "stderr",
     "output_type": "stream",
     "text": [
      "/opt/miniconda3/envs/herbie/lib/python3.13/site-packages/herbie/core.py:1117: UserWarning: Will not remove GRIB file because Herbie will only remove subsetted files (not full files).\n",
      "  warnings.warn(\n"
     ]
    },
    {
     "name": "stdout",
     "output_type": "stream",
     "text": [
      "✅ Found ┊ model=gdps ┊ \u001b[3mproduct=15km/grib2/lat_lon\u001b[0m ┊ \u001b[38;2;41;130;13m2025-Jun-02 00:00 UTC\u001b[92m F15\u001b[0m ┊ \u001b[38;2;255;153;0m\u001b[3mGRIB2 @ msc\u001b[0m ┊ \u001b[38;2;255;153;0m\u001b[3mIDX @ None\u001b[0m\n"
     ]
    },
    {
     "name": "stderr",
     "output_type": "stream",
     "text": [
      "/opt/miniconda3/envs/herbie/lib/python3.13/site-packages/herbie/core.py:1117: UserWarning: Will not remove GRIB file because Herbie will only remove subsetted files (not full files).\n",
      "  warnings.warn(\n"
     ]
    },
    {
     "name": "stdout",
     "output_type": "stream",
     "text": [
      "✅ Found ┊ model=gdps ┊ \u001b[3mproduct=15km/grib2/lat_lon\u001b[0m ┊ \u001b[38;2;41;130;13m2025-Jun-02 00:00 UTC\u001b[92m F15\u001b[0m ┊ \u001b[38;2;255;153;0m\u001b[3mGRIB2 @ msc\u001b[0m ┊ \u001b[38;2;255;153;0m\u001b[3mIDX @ None\u001b[0m\n"
     ]
    },
    {
     "name": "stderr",
     "output_type": "stream",
     "text": [
      "/opt/miniconda3/envs/herbie/lib/python3.13/site-packages/herbie/core.py:1117: UserWarning: Will not remove GRIB file because Herbie will only remove subsetted files (not full files).\n",
      "  warnings.warn(\n"
     ]
    },
    {
     "name": "stdout",
     "output_type": "stream",
     "text": [
      "✅ Found ┊ model=gdps ┊ \u001b[3mproduct=15km/grib2/lat_lon\u001b[0m ┊ \u001b[38;2;41;130;13m2025-Jun-02 00:00 UTC\u001b[92m F18\u001b[0m ┊ \u001b[38;2;255;153;0m\u001b[3mGRIB2 @ msc\u001b[0m ┊ \u001b[38;2;255;153;0m\u001b[3mIDX @ None\u001b[0m\n",
      "👨🏻‍🏭 Created directory: [/Users/andrew/data/gdps/20250602]\n"
     ]
    },
    {
     "name": "stderr",
     "output_type": "stream",
     "text": [
      "/opt/miniconda3/envs/herbie/lib/python3.13/site-packages/herbie/core.py:1117: UserWarning: Will not remove GRIB file because Herbie will only remove subsetted files (not full files).\n",
      "  warnings.warn(\n"
     ]
    },
    {
     "name": "stdout",
     "output_type": "stream",
     "text": [
      "✅ Found ┊ model=gdps ┊ \u001b[3mproduct=15km/grib2/lat_lon\u001b[0m ┊ \u001b[38;2;41;130;13m2025-Jun-02 00:00 UTC\u001b[92m F18\u001b[0m ┊ \u001b[38;2;255;153;0m\u001b[3mGRIB2 @ msc\u001b[0m ┊ \u001b[38;2;255;153;0m\u001b[3mIDX @ None\u001b[0m\n"
     ]
    },
    {
     "name": "stderr",
     "output_type": "stream",
     "text": [
      "/opt/miniconda3/envs/herbie/lib/python3.13/site-packages/herbie/core.py:1117: UserWarning: Will not remove GRIB file because Herbie will only remove subsetted files (not full files).\n",
      "  warnings.warn(\n"
     ]
    },
    {
     "name": "stdout",
     "output_type": "stream",
     "text": [
      "✅ Found ┊ model=gdps ┊ \u001b[3mproduct=15km/grib2/lat_lon\u001b[0m ┊ \u001b[38;2;41;130;13m2025-Jun-02 00:00 UTC\u001b[92m F18\u001b[0m ┊ \u001b[38;2;255;153;0m\u001b[3mGRIB2 @ msc\u001b[0m ┊ \u001b[38;2;255;153;0m\u001b[3mIDX @ None\u001b[0m\n"
     ]
    },
    {
     "name": "stderr",
     "output_type": "stream",
     "text": [
      "/opt/miniconda3/envs/herbie/lib/python3.13/site-packages/herbie/core.py:1117: UserWarning: Will not remove GRIB file because Herbie will only remove subsetted files (not full files).\n",
      "  warnings.warn(\n"
     ]
    },
    {
     "name": "stdout",
     "output_type": "stream",
     "text": [
      "✅ Found ┊ model=gdps ┊ \u001b[3mproduct=15km/grib2/lat_lon\u001b[0m ┊ \u001b[38;2;41;130;13m2025-Jun-02 00:00 UTC\u001b[92m F18\u001b[0m ┊ \u001b[38;2;255;153;0m\u001b[3mGRIB2 @ msc\u001b[0m ┊ \u001b[38;2;255;153;0m\u001b[3mIDX @ None\u001b[0m\n"
     ]
    },
    {
     "name": "stderr",
     "output_type": "stream",
     "text": [
      "/opt/miniconda3/envs/herbie/lib/python3.13/site-packages/herbie/core.py:1117: UserWarning: Will not remove GRIB file because Herbie will only remove subsetted files (not full files).\n",
      "  warnings.warn(\n"
     ]
    },
    {
     "name": "stdout",
     "output_type": "stream",
     "text": [
      "✅ Found ┊ model=gdps ┊ \u001b[3mproduct=15km/grib2/lat_lon\u001b[0m ┊ \u001b[38;2;41;130;13m2025-Jun-02 00:00 UTC\u001b[92m F18\u001b[0m ┊ \u001b[38;2;255;153;0m\u001b[3mGRIB2 @ msc\u001b[0m ┊ \u001b[38;2;255;153;0m\u001b[3mIDX @ None\u001b[0m\n"
     ]
    },
    {
     "name": "stderr",
     "output_type": "stream",
     "text": [
      "/opt/miniconda3/envs/herbie/lib/python3.13/site-packages/herbie/core.py:1117: UserWarning: Will not remove GRIB file because Herbie will only remove subsetted files (not full files).\n",
      "  warnings.warn(\n"
     ]
    },
    {
     "name": "stdout",
     "output_type": "stream",
     "text": [
      "✅ Found ┊ model=gdps ┊ \u001b[3mproduct=15km/grib2/lat_lon\u001b[0m ┊ \u001b[38;2;41;130;13m2025-Jun-02 00:00 UTC\u001b[92m F18\u001b[0m ┊ \u001b[38;2;255;153;0m\u001b[3mGRIB2 @ msc\u001b[0m ┊ \u001b[38;2;255;153;0m\u001b[3mIDX @ None\u001b[0m\n"
     ]
    },
    {
     "name": "stderr",
     "output_type": "stream",
     "text": [
      "/opt/miniconda3/envs/herbie/lib/python3.13/site-packages/herbie/core.py:1117: UserWarning: Will not remove GRIB file because Herbie will only remove subsetted files (not full files).\n",
      "  warnings.warn(\n"
     ]
    },
    {
     "name": "stdout",
     "output_type": "stream",
     "text": [
      "✅ Found ┊ model=gdps ┊ \u001b[3mproduct=15km/grib2/lat_lon\u001b[0m ┊ \u001b[38;2;41;130;13m2025-Jun-02 00:00 UTC\u001b[92m F21\u001b[0m ┊ \u001b[38;2;255;153;0m\u001b[3mGRIB2 @ msc\u001b[0m ┊ \u001b[38;2;255;153;0m\u001b[3mIDX @ None\u001b[0m\n",
      "👨🏻‍🏭 Created directory: [/Users/andrew/data/gdps/20250602]\n"
     ]
    },
    {
     "name": "stderr",
     "output_type": "stream",
     "text": [
      "/opt/miniconda3/envs/herbie/lib/python3.13/site-packages/herbie/core.py:1117: UserWarning: Will not remove GRIB file because Herbie will only remove subsetted files (not full files).\n",
      "  warnings.warn(\n"
     ]
    },
    {
     "name": "stdout",
     "output_type": "stream",
     "text": [
      "✅ Found ┊ model=gdps ┊ \u001b[3mproduct=15km/grib2/lat_lon\u001b[0m ┊ \u001b[38;2;41;130;13m2025-Jun-02 00:00 UTC\u001b[92m F21\u001b[0m ┊ \u001b[38;2;255;153;0m\u001b[3mGRIB2 @ msc\u001b[0m ┊ \u001b[38;2;255;153;0m\u001b[3mIDX @ None\u001b[0m\n"
     ]
    },
    {
     "name": "stderr",
     "output_type": "stream",
     "text": [
      "/opt/miniconda3/envs/herbie/lib/python3.13/site-packages/herbie/core.py:1117: UserWarning: Will not remove GRIB file because Herbie will only remove subsetted files (not full files).\n",
      "  warnings.warn(\n"
     ]
    },
    {
     "name": "stdout",
     "output_type": "stream",
     "text": [
      "✅ Found ┊ model=gdps ┊ \u001b[3mproduct=15km/grib2/lat_lon\u001b[0m ┊ \u001b[38;2;41;130;13m2025-Jun-02 00:00 UTC\u001b[92m F21\u001b[0m ┊ \u001b[38;2;255;153;0m\u001b[3mGRIB2 @ msc\u001b[0m ┊ \u001b[38;2;255;153;0m\u001b[3mIDX @ None\u001b[0m\n"
     ]
    },
    {
     "name": "stderr",
     "output_type": "stream",
     "text": [
      "/opt/miniconda3/envs/herbie/lib/python3.13/site-packages/herbie/core.py:1117: UserWarning: Will not remove GRIB file because Herbie will only remove subsetted files (not full files).\n",
      "  warnings.warn(\n"
     ]
    },
    {
     "name": "stdout",
     "output_type": "stream",
     "text": [
      "✅ Found ┊ model=gdps ┊ \u001b[3mproduct=15km/grib2/lat_lon\u001b[0m ┊ \u001b[38;2;41;130;13m2025-Jun-02 00:00 UTC\u001b[92m F21\u001b[0m ┊ \u001b[38;2;255;153;0m\u001b[3mGRIB2 @ msc\u001b[0m ┊ \u001b[38;2;255;153;0m\u001b[3mIDX @ None\u001b[0m\n"
     ]
    },
    {
     "name": "stderr",
     "output_type": "stream",
     "text": [
      "/opt/miniconda3/envs/herbie/lib/python3.13/site-packages/herbie/core.py:1117: UserWarning: Will not remove GRIB file because Herbie will only remove subsetted files (not full files).\n",
      "  warnings.warn(\n"
     ]
    },
    {
     "name": "stdout",
     "output_type": "stream",
     "text": [
      "✅ Found ┊ model=gdps ┊ \u001b[3mproduct=15km/grib2/lat_lon\u001b[0m ┊ \u001b[38;2;41;130;13m2025-Jun-02 00:00 UTC\u001b[92m F21\u001b[0m ┊ \u001b[38;2;255;153;0m\u001b[3mGRIB2 @ msc\u001b[0m ┊ \u001b[38;2;255;153;0m\u001b[3mIDX @ None\u001b[0m\n"
     ]
    },
    {
     "name": "stderr",
     "output_type": "stream",
     "text": [
      "/opt/miniconda3/envs/herbie/lib/python3.13/site-packages/herbie/core.py:1117: UserWarning: Will not remove GRIB file because Herbie will only remove subsetted files (not full files).\n",
      "  warnings.warn(\n"
     ]
    },
    {
     "name": "stdout",
     "output_type": "stream",
     "text": [
      "✅ Found ┊ model=gdps ┊ \u001b[3mproduct=15km/grib2/lat_lon\u001b[0m ┊ \u001b[38;2;41;130;13m2025-Jun-02 00:00 UTC\u001b[92m F21\u001b[0m ┊ \u001b[38;2;255;153;0m\u001b[3mGRIB2 @ msc\u001b[0m ┊ \u001b[38;2;255;153;0m\u001b[3mIDX @ None\u001b[0m\n"
     ]
    },
    {
     "name": "stderr",
     "output_type": "stream",
     "text": [
      "/opt/miniconda3/envs/herbie/lib/python3.13/site-packages/herbie/core.py:1117: UserWarning: Will not remove GRIB file because Herbie will only remove subsetted files (not full files).\n",
      "  warnings.warn(\n",
      "/var/folders/gw/d8k1vszn7ws41z7c0209d9500000gn/T/ipykernel_59256/4284069417.py:6: RuntimeWarning: More than 20 figures have been opened. Figures created through the pyplot interface (`matplotlib.pyplot.figure`) are retained until explicitly closed and may consume too much memory. (To control this warning, see the rcParam `figure.max_open_warning`). Consider using `matplotlib.pyplot.close()`.\n",
      "  fig = plt.figure(figsize=(15,15))\n"
     ]
    },
    {
     "data": {
      "text/plain": [
       "<Figure size 1500x1500 with 0 Axes>"
      ]
     },
     "metadata": {},
     "output_type": "display_data"
    },
    {
     "data": {
      "text/plain": [
       "<Figure size 1500x1500 with 0 Axes>"
      ]
     },
     "metadata": {},
     "output_type": "display_data"
    },
    {
     "data": {
      "text/plain": [
       "<Figure size 1500x1500 with 0 Axes>"
      ]
     },
     "metadata": {},
     "output_type": "display_data"
    },
    {
     "data": {
      "text/plain": [
       "<Figure size 1500x1500 with 0 Axes>"
      ]
     },
     "metadata": {},
     "output_type": "display_data"
    },
    {
     "data": {
      "text/plain": [
       "<Figure size 1500x1500 with 0 Axes>"
      ]
     },
     "metadata": {},
     "output_type": "display_data"
    },
    {
     "data": {
      "text/plain": [
       "<Figure size 1500x1500 with 0 Axes>"
      ]
     },
     "metadata": {},
     "output_type": "display_data"
    },
    {
     "data": {
      "text/plain": [
       "<Figure size 1500x1500 with 0 Axes>"
      ]
     },
     "metadata": {},
     "output_type": "display_data"
    },
    {
     "data": {
      "text/plain": [
       "<Figure size 1500x1500 with 0 Axes>"
      ]
     },
     "metadata": {},
     "output_type": "display_data"
    },
    {
     "data": {
      "text/plain": [
       "<Figure size 1500x1500 with 0 Axes>"
      ]
     },
     "metadata": {},
     "output_type": "display_data"
    },
    {
     "data": {
      "text/plain": [
       "<Figure size 1500x1500 with 0 Axes>"
      ]
     },
     "metadata": {},
     "output_type": "display_data"
    },
    {
     "data": {
      "text/plain": [
       "<Figure size 1500x1500 with 0 Axes>"
      ]
     },
     "metadata": {},
     "output_type": "display_data"
    },
    {
     "data": {
      "text/plain": [
       "<Figure size 1500x1500 with 0 Axes>"
      ]
     },
     "metadata": {},
     "output_type": "display_data"
    },
    {
     "data": {
      "text/plain": [
       "<Figure size 1500x1500 with 0 Axes>"
      ]
     },
     "metadata": {},
     "output_type": "display_data"
    },
    {
     "data": {
      "text/plain": [
       "<Figure size 1500x1500 with 0 Axes>"
      ]
     },
     "metadata": {},
     "output_type": "display_data"
    },
    {
     "data": {
      "text/plain": [
       "<Figure size 1500x1500 with 0 Axes>"
      ]
     },
     "metadata": {},
     "output_type": "display_data"
    },
    {
     "data": {
      "text/plain": [
       "<Figure size 1500x1500 with 0 Axes>"
      ]
     },
     "metadata": {},
     "output_type": "display_data"
    },
    {
     "data": {
      "text/plain": [
       "<Figure size 1500x1500 with 0 Axes>"
      ]
     },
     "metadata": {},
     "output_type": "display_data"
    },
    {
     "data": {
      "text/plain": [
       "<Figure size 1500x1500 with 0 Axes>"
      ]
     },
     "metadata": {},
     "output_type": "display_data"
    },
    {
     "data": {
      "text/plain": [
       "<Figure size 1500x1500 with 0 Axes>"
      ]
     },
     "metadata": {},
     "output_type": "display_data"
    },
    {
     "data": {
      "text/plain": [
       "<Figure size 1500x1500 with 0 Axes>"
      ]
     },
     "metadata": {},
     "output_type": "display_data"
    },
    {
     "data": {
      "text/plain": [
       "<Figure size 1500x1500 with 0 Axes>"
      ]
     },
     "metadata": {},
     "output_type": "display_data"
    }
   ],
   "source": [
    "# clear the plot folders depedent on gdps data\n",
    "clear_dir = [clear_directory(file) for file in list(config[\"plots\"].values())]\n",
    "    \n",
    "for fxx in tstep: # change this to if __name__ == __main__: [main(fxx) for fxx in tstep]\n",
    "    # clear the gdps data folder\n",
    "    clear_dir = [clear_directory(file) for file in list(config[\"data\"].values())]\n",
    "    \n",
    "    # get all the data and merge it into one big xarray\n",
    "    temp = get_var(fxx, \"TMP\", \"ISBL_850\")\n",
    "    tcdc = get_var(fxx, \"TCDC\", \"SFC_0\")\n",
    "    prate = get_var(fxx, \"PRATE\", \"SFC_0\")\n",
    "    height = xr.concat([get_var(fxx, \"HGT\", h) for h in hgt], dim=\"isobaricInhPa\")\n",
    "    pres = get_var(fxx, \"PRMSL\", \"MSL_0\")\n",
    "    ds = xr.merge([temp, tcdc, prate, height, pres])\n",
    "    \n",
    "    # slice out only the domain we care about\n",
    "    ds = ds.sel(longitude=slice(-195, -97), latitude=slice(30, 73))\n",
    "\n",
    "    # convert precip from kg/m3/s to mm/6h\n",
    "    ds[\"prate\"] *= (3600 * 6) \n",
    "    \n",
    "    # convert sea level pressure to hPa\n",
    "    ds[\"prmsl\"] /= 100\n",
    "    \n",
    "    # convert temps from kelvin to degC\n",
    "    ds[\"t\"] -= 273.15\n",
    "\n",
    "    # calculate 1000 - 500mb thickness\n",
    "    ds[\"thick\"] = ds.gh.loc[{\"isobaricInhPa\":500}] - ds.gh.loc[{\"isobaricInhPa\":1000}] \n",
    "    \n",
    "    # make the plots\n",
    "    plot_500(ds)\n",
    "    plot_surf(ds)\n",
    "    plot_temps(ds)"
   ]
  },
  {
   "cell_type": "code",
   "execution_count": null,
   "id": "c7b84134",
   "metadata": {},
   "outputs": [],
   "source": []
  }
 ],
 "metadata": {
  "kernelspec": {
   "display_name": "Python 3 (ipykernel)",
   "language": "python",
   "name": "python3"
  },
  "language_info": {
   "codemirror_mode": {
    "name": "ipython",
    "version": 3
   },
   "file_extension": ".py",
   "mimetype": "text/x-python",
   "name": "python",
   "nbconvert_exporter": "python",
   "pygments_lexer": "ipython3",
   "version": "3.13.0"
  }
 },
 "nbformat": 4,
 "nbformat_minor": 5
}
