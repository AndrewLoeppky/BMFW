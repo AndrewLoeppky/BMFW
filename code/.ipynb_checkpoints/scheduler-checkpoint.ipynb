{
 "cells": [
  {
   "cell_type": "markdown",
   "id": "f3b124e2",
   "metadata": {},
   "source": [
    "# scheduler\n",
    "\n",
    "This notebook samples datamart for relevant model data and triggers download and generation of new graphics when new model runs become available. For bug reports, suggestions, inquiries or high fives, contact Andrew.Loeppky@gmail.com"
   ]
  },
  {
   "cell_type": "code",
   "execution_count": 2,
   "id": "9b7a6786",
   "metadata": {},
   "outputs": [
    {
     "data": {
      "text/plain": [
       "False"
      ]
     },
     "execution_count": 2,
     "metadata": {},
     "output_type": "execute_result"
    }
   ],
   "source": [
    "import requests\n",
    "check = requests.get(\"https://dd.weather.gc.ca/model_gem_global/15km\")\n",
    "check.ok"
   ]
  },
  {
   "cell_type": "code",
   "execution_count": null,
   "id": "de320b8c",
   "metadata": {},
   "outputs": [],
   "source": []
  },
  {
   "cell_type": "code",
   "execution_count": null,
   "id": "6c65f150",
   "metadata": {},
   "outputs": [],
   "source": []
  }
 ],
 "metadata": {
  "kernelspec": {
   "display_name": "Python 3 (ipykernel)",
   "language": "python",
   "name": "python3"
  },
  "language_info": {
   "codemirror_mode": {
    "name": "ipython",
    "version": 3
   },
   "file_extension": ".py",
   "mimetype": "text/x-python",
   "name": "python",
   "nbconvert_exporter": "python",
   "pygments_lexer": "ipython3",
   "version": "3.13.0"
  }
 },
 "nbformat": 4,
 "nbformat_minor": 5
}
