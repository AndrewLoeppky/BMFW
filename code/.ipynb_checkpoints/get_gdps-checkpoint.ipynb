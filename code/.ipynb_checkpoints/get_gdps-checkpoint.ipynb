{
 "cells": [
  {
   "cell_type": "markdown",
   "id": "37358984",
   "metadata": {},
   "source": [
    "# get_gdps\n",
    "\n",
    "This routine grabs the latest Global Deterministic Prediction System (GDPS) model data from MSC Datamart and outputs png plots into designated product folders for each ACMWF product.\n",
    "\n",
    "**Datamart:**\n",
    "\n",
    "https://eccc-msc.github.io/open-data/msc-data/nwp_gdps/readme_gdps-datamart_en/#levels\n",
    "\n",
    "https://dd.weather.gc.ca/model_gem_global/\n",
    "\n",
    "**Outputs:**\n",
    "\n",
    "Mountain Weather Forecast -> *500 mbar, Surface* -> ```\"mwf500\"```, ```\"mwfsurf\"```\n",
    "\n",
    "Temperatures -> *1500m 0400, 1500m 1600* -> ```\"temp1504\"```, ```\"temp1516\"```\n",
    "\n",
    "Surface Maps -> *0-144 Hours* -> ```\"surf\"```\n",
    "\n",
    "500 mbar & Precipitable Water -> *500 mbar, Precipitable Water* ```\"mbar500\"```, ```\"pwat\"```\n",
    "\n",
    "**Maintenance:**\n",
    "\n",
    "For bug reports, suggestions, inquiries, contact Andrew.Loeppky@gmail.com"
   ]
  },
  {
   "cell_type": "code",
   "execution_count": 1,
   "id": "ba5ac59a",
   "metadata": {},
   "outputs": [
    {
     "name": "stdout",
     "output_type": "stream",
     "text": [
      " ╭─\u001b[48;2;255;255;255m\u001b[38;2;136;33;27m▌\u001b[0m\u001b[38;2;12;53;118m\u001b[48;2;240;234;210m▌\u001b[38;2;0;0;0m\u001b[1mHerbie\u001b[0m─────────────────────────────────────────────╮\n",
      " │ WARNING: Unable to create config file               │\n",
      " │ \u001b[38;2;255;153;0m     /Users/andrew/.config/herbie/config.toml     \u001b[0m   │\n",
      " │ Herbie will use standard default settings.           │\n",
      " │ Consider setting env variable HERBIE_CONFIG_PATH.    │\n",
      " ╰──────────────────────────────────────────────────────╯\n",
      "\n"
     ]
    }
   ],
   "source": [
    "from herbie import Herbie\n",
    "import xarray as xr\n",
    "import numpy as np\n",
    "\n",
    "import matplotlib.pyplot as plt\n",
    "from toolbox import EasyMap, pc\n",
    "import cartopy.crs as ccrs\n",
    "import cartopy.feature as feature\n",
    "import pandas as pd\n",
    "\n",
    "from matplotlib.patches import Rectangle\n",
    "import matplotlib as mpl\n",
    "from mpl_toolkits.axes_grid1.inset_locator import inset_axes\n",
    "import pytz\n",
    "import os, shutil\n",
    "import json"
   ]
  },
  {
   "cell_type": "code",
   "execution_count": 2,
   "id": "defaa21e",
   "metadata": {},
   "outputs": [
    {
     "data": {
      "text/plain": [
       "{'mwf500': '//Users//andrew//Repos//BMWF//outputs//Mountain Weather Forecast//Synopsis//',\n",
       " 'mwfsurf': '//Users//andrew//Repos//BMWF//outputs//Mountain Weather Forecast//Day 3-4//',\n",
       " 'temp1504': '//Users//andrew//Repos//BMWF//outputs//Temperatures//1500m 0400//',\n",
       " 'temp1516': '//Users//andrew//Repos//BMWF//outputs//Temperatures//1500m 1600//',\n",
       " 'surf': '//Users//andrew//Repos//BMWF//outputs//Surface Maps//0-144 Hours//',\n",
       " 'mbar500': '//Users//andrew//Repos//BMWF//outputs//500 mbar & Precipitable Water//500 mbar//',\n",
       " 'pwat': '//Users//andrew//Repos//BMWF//outputs//500 mbar & Precipitable Water//Precipitable Water//'}"
      ]
     },
     "execution_count": 2,
     "metadata": {},
     "output_type": "execute_result"
    }
   ],
   "source": [
    "# locate the last model run\n",
    "now = pd.Timestamp.utcnow().floor(\"12h\").tz_localize(None)\n",
    "\n",
    "# config determines the directories in which to save each graphic\n",
    "with open(\"..//config/gdps_config.json\") as f:\n",
    "    config = json.load(f)\n",
    "\n",
    "# 10 day run (240 hours) with 3 hr spacing\n",
    "tstep = range(3,243,3)\n",
    "\n",
    "config[\"plots\"]"
   ]
  },
  {
   "cell_type": "code",
   "execution_count": 3,
   "id": "21770889",
   "metadata": {},
   "outputs": [],
   "source": [
    "# clear the plot folder\n",
    "for directory in config[\"plots\"].values():\n",
    "    for filename in os.listdir(directory):\n",
    "        file_path = os.path.join(directory, filename)\n",
    "        try:\n",
    "            if os.path.isfile(file_path) or os.path.islink(file_path):\n",
    "                os.unlink(file_path)\n",
    "            elif os.path.isdir(file_path):\n",
    "                shutil.rmtree(file_path)\n",
    "        except Exception as e:\n",
    "            print('Failed to delete %s. Reason: %s' % (file_path, e))\n"
   ]
  },
  {
   "cell_type": "code",
   "execution_count": 4,
   "id": "1043e275",
   "metadata": {},
   "outputs": [],
   "source": [
    "for i in tstep:\n",
    "    # initialize figures\n",
    "    mwf500, ax0 = plt.subplots()\n",
    "    surf, ax1 = plt.subplots()\n",
    "    \n",
    "    # populate figures\n",
    "    ax0.text(0.5, 0.5, f\"test {i}\")\n",
    "    ax1.text(0.5, 0.5, f\"test {i}\")\n",
    "    \n",
    "    # save figures\n",
    "    mwf500.savefig(f\"{config[\"plots\"][\"mwf500\"]}mwf500_{i}\")\n",
    "    plt.close(fig=mwf500)\n",
    "    \n",
    "    surf.savefig(f\"{config[\"plots\"][\"mwfsurf\"]}mwfsurf{i}\")\n",
    "    plt.close(fig=surf)\n",
    "    \n",
    "    "
   ]
  }
 ],
 "metadata": {
  "kernelspec": {
   "display_name": "Python 3 (ipykernel)",
   "language": "python",
   "name": "python3"
  },
  "language_info": {
   "codemirror_mode": {
    "name": "ipython",
    "version": 3
   },
   "file_extension": ".py",
   "mimetype": "text/x-python",
   "name": "python",
   "nbconvert_exporter": "python",
   "pygments_lexer": "ipython3",
   "version": "3.13.0"
  }
 },
 "nbformat": 4,
 "nbformat_minor": 5
}
