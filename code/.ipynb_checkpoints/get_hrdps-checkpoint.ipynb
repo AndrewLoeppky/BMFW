{
 "cells": [
  {
   "cell_type": "markdown",
   "id": "31c99f88",
   "metadata": {},
   "source": [
    "# get_hrdps\n",
    "\n",
    "This routine grabs the latest High Resolution Deterministic Prediction System (HRDPS) model data from MSC Datamart and outputs png plots into designated product folders for each ACMWF product.\n",
    "\n",
    "**Datamart:**\n",
    "\n",
    "https://eccc-msc.github.io/open-data/msc-data/nwp_hrdps/readme_hrdps_en/\n",
    "\n",
    "https://dd.weather.gc.ca/model_hrdps/\n",
    "\n",
    "**Outputs:**\n",
    "\n",
    "Hourly Precipitation -> *BC/AB, South Coast, South Interior, Alberta Rockies, Precipitation Type*\n",
    "\n",
    "12Hr Precipitation -> *South Coast, South Interior, Alberta Rockies*\n",
    "\n",
    "Temperatures -> *Surface*\n",
    "\n",
    "\n",
    "**Maintenance:**\n",
    "\n",
    "For bug reports, suggestions, inquiries, contact Andrew.Loeppky@gmail.com"
   ]
  },
  {
   "cell_type": "code",
   "execution_count": 1,
   "id": "0c3df676",
   "metadata": {},
   "outputs": [
    {
     "name": "stdout",
     "output_type": "stream",
     "text": [
      " ╭─\u001b[48;2;255;255;255m\u001b[38;2;136;33;27m▌\u001b[0m\u001b[38;2;12;53;118m\u001b[48;2;240;234;210m▌\u001b[38;2;0;0;0m\u001b[1mHerbie\u001b[0m─────────────────────────────────────────────╮\n",
      " │ WARNING: Unable to create config file               │\n",
      " │ \u001b[38;2;255;153;0m     /Users/andrew/.config/herbie/config.toml     \u001b[0m   │\n",
      " │ Herbie will use standard default settings.           │\n",
      " │ Consider setting env variable HERBIE_CONFIG_PATH.    │\n",
      " ╰──────────────────────────────────────────────────────╯\n",
      "\n"
     ]
    }
   ],
   "source": [
    "from herbie import Herbie\n",
    "import xarray as xr\n",
    "import numpy as np\n",
    "\n",
    "import matplotlib.pyplot as plt\n",
    "\n",
    "plt.rcParams[\"font.family\"] = \"sans-serif\"\n",
    "plt.rcParams[\"font.weight\"] = \"heavy\"\n",
    "from toolbox import EasyMap, pc\n",
    "import cartopy.crs as ccrs\n",
    "import cartopy.feature as feature\n",
    "import pandas as pd\n",
    "\n",
    "from matplotlib.patches import Rectangle\n",
    "import matplotlib as mpl\n",
    "from mpl_toolkits.axes_grid1.inset_locator import inset_axes\n",
    "import pytz\n",
    "import os, shutil\n",
    "import json\n",
    "\n",
    "import warnings\n",
    "\n",
    "# supress because removal of old datafiles is handled outside herbie\n",
    "warnings.filterwarnings(\"ignore\")\n",
    "\n",
    "from bmwflib import clear_directory, get_var, plot_cities, make_basemap\n",
    "\n",
    "%load_ext jupyter_black"
   ]
  },
  {
   "cell_type": "code",
   "execution_count": 2,
   "id": "b7bec0ae",
   "metadata": {},
   "outputs": [],
   "source": [
    "def plot_temps(fxx, ds, config):\n",
    "    \"\"\"\n",
    "    plots 2m temperatures, saves hourly\n",
    "    \"\"\"\n",
    "    # make a figure\n",
    "    fig = plt.figure(figsize=(15, 15))\n",
    "    fig.tight_layout()\n",
    "    ax = fig.add_subplot(\n",
    "        1,\n",
    "        1,\n",
    "        1,\n",
    "        position=(0, 0, 1, 1),\n",
    "        projection=ccrs.LambertConformal(\n",
    "            central_longitude=-123,\n",
    "            central_latitude=54.0,\n",
    "        ),\n",
    "    )\n",
    "    ax.set_extent([-140, -110, 46, 65])\n",
    "\n",
    "    # basemap\n",
    "    make_basemap(ax)\n",
    "\n",
    "    # configure colormaps\n",
    "    t_cmap = mpl.colors.ListedColormap(\n",
    "        [\n",
    "            \"#FFFAFA\",\n",
    "            \"#C0C0C0\",\n",
    "            \"#4B0082\",\n",
    "            \"#8B008B\",\n",
    "            \"#9400D3\",\n",
    "            \"#9370DB\",\n",
    "            \"#0000CD\",\n",
    "            \"#1E90FF\",\n",
    "            \"#00BFFF\",\n",
    "            \"#F0E68C\",\n",
    "            \"#FFFF00\",\n",
    "            \"#FFA500\",\n",
    "            \"#FF4500\",\n",
    "            \"#d62728\",\n",
    "            \"#FF69B4\",\n",
    "            \"#800000\",\n",
    "            \"#000000\",\n",
    "        ]\n",
    "    )\n",
    "    t_bounds = [\n",
    "        -40,\n",
    "        -35,\n",
    "        -30,\n",
    "        -25,\n",
    "        -20,\n",
    "        -15,\n",
    "        -10,\n",
    "        -5,\n",
    "        -1,\n",
    "        1,\n",
    "        5,\n",
    "        10,\n",
    "        15,\n",
    "        20,\n",
    "        25,\n",
    "        30,\n",
    "        35,\n",
    "        40,\n",
    "    ]\n",
    "    t_norm = mpl.colors.BoundaryNorm(t_bounds, t_cmap.N)\n",
    "\n",
    "    # plot 2m temperature\n",
    "    t2m = ax.pcolormesh(\n",
    "        ds.longitude,\n",
    "        ds.latitude,\n",
    "        ds.t2m,\n",
    "        cmap=t_cmap,\n",
    "        norm=t_norm,\n",
    "        antialiased=True,\n",
    "        transform=pc,\n",
    "        alpha=0.8,\n",
    "    )\n",
    "\n",
    "    # shade out legend regions, AC style\n",
    "    ax.add_patch(\n",
    "        Rectangle(\n",
    "            (0, 0), 0.12, 0.85, transform=ax.transAxes, color=\"steelblue\", alpha=0.8\n",
    "        )\n",
    "    )\n",
    "    ax.add_patch(\n",
    "        Rectangle((0, 0.85), 1, 1, transform=ax.transAxes, color=\"steelblue\", alpha=0.8)\n",
    "    )\n",
    "\n",
    "    # cities\n",
    "    plot_cities(ax)\n",
    "\n",
    "    # 2m temp colorbar\n",
    "    fig.text(0.141, 0.689, \"($^o$C)\", color=\"black\", size=10)\n",
    "    fig.text(0.14, 0.69, \"($^o$C)\", color=\"white\", size=10)\n",
    "\n",
    "    t_cbar = fig.colorbar(\n",
    "        t2m,\n",
    "        cmap=t_cmap,\n",
    "        norm=t_norm,\n",
    "        ax=ax,\n",
    "        spacing=\"uniform\",\n",
    "        shrink=0.6,\n",
    "        location=\"left\",\n",
    "        aspect=20,\n",
    "        anchor=(0.15, 0.25),\n",
    "        pad=-0.18,\n",
    "    )\n",
    "    t_cbar.ax.set_yticks(t_bounds)\n",
    "    t_cbar.ax.tick_params(\n",
    "        labelsize=10,\n",
    "        labelcolor=\"white\",\n",
    "        length=0,\n",
    "        labelright=True,\n",
    "        labelleft=False,\n",
    "    )\n",
    "\n",
    "    # timestamps\n",
    "    the_date = (\n",
    "        pd.Timestamp(ds.valid_time.values)\n",
    "        .tz_localize(\"UTC\")\n",
    "        .tz_convert(\"America/Vancouver\")\n",
    "    )\n",
    "    fmt_date = the_date.strftime(\"%a. %m-%d-%y \\n%H:%M %p\")\n",
    "    fig.text(0.501, 0.809, fmt_date, color=\"black\", size=20)\n",
    "    fig.text(0.5, 0.81, fmt_date, color=\"white\", size=20)\n",
    "    fig.text(\n",
    "        0.121,\n",
    "        0.159,\n",
    "        f\"{ds.model.upper()} {pd.Timestamp(ds.time.values).strftime(\"%H\")} Z\",\n",
    "        color=\"black\",\n",
    "        size=10,\n",
    "    )\n",
    "    fig.text(\n",
    "        0.12,\n",
    "        0.16,\n",
    "        f\"{ds.model.upper()} {pd.Timestamp(ds.time.values).strftime(\"%H\")} Z\",\n",
    "        color=\"white\",\n",
    "        size=10,\n",
    "    )\n",
    "\n",
    "    # title\n",
    "    fig.text(0.351, 0.809, \"Temperature\\n2 meters\", color=\"black\", size=20)\n",
    "    fig.text(0.35, 0.81, \"Temperature\\n2 meters\", color=\"white\", size=20)\n",
    "\n",
    "    # save and close figure\n",
    "    fig.savefig(\n",
    "        os.path.join(\n",
    "            config[\"plots\"][\"surf_temp\"],\n",
    "            f\"temp2m_{ds.model}_{pd.Timestamp(ds.time.values).strftime('%Y_%_h_%d')}_{pd.Timestamp(ds.time.values).strftime('%H')}Z_P{fxx}\",\n",
    "        )\n",
    "    )\n",
    "    fig.clf()\n",
    "\n",
    "    return None"
   ]
  },
  {
   "cell_type": "code",
   "execution_count": 3,
   "id": "322fc79d",
   "metadata": {},
   "outputs": [],
   "source": [
    "def plot_precip1hr(fxx, ds, config):\n",
    "    \"\"\"\n",
    "    plots 1hr precip, saves hourly to the BC/AB, south coast,\n",
    "    south interior, alberta rockies folders\n",
    "    \"\"\"\n",
    "    # make a figure\n",
    "    fig = plt.figure(figsize=(15, 15))\n",
    "    fig.tight_layout()\n",
    "    ax = fig.add_subplot(\n",
    "        1,\n",
    "        1,\n",
    "        1,\n",
    "        position=(0, 0, 1, 1),\n",
    "        projection=ccrs.LambertConformal(\n",
    "            central_longitude=-123,\n",
    "            central_latitude=54.0,\n",
    "        ),\n",
    "    )\n",
    "\n",
    "    # basemap\n",
    "    make_basemap(ax)\n",
    "\n",
    "    # plot precip rate\n",
    "    pr_cmap = mpl.colors.ListedColormap(\n",
    "        [\n",
    "            \"#90EE90\",\n",
    "            \"#ADFF2F\",\n",
    "            \"#3CB371\",\n",
    "            \"#2E8B57\",\n",
    "            \"#FFFF00\",\n",
    "            \"#FFA500\",\n",
    "            \"#B22222\",\n",
    "            \"#8B008B\",\n",
    "        ]\n",
    "    )\n",
    "    pr_bounds = [0.1, 1, 2, 5, 7.5, 10, 15, 20, 25]\n",
    "    pr_labels = [\"0.1\", \"1\", \"2\", \"5\", \"7.5\", \"10\", \"15\", \"20\", \"25+\"]\n",
    "    pr_norm = mpl.colors.BoundaryNorm(pr_bounds, pr_cmap.N)\n",
    "    pr = ax.pcolormesh(\n",
    "        ds.longitude,\n",
    "        ds.latitude,\n",
    "        ds[\"APCP-Accum1h\"].where(ds[\"APCP-Accum1h\"] >= 0.1),\n",
    "        cmap=pr_cmap,\n",
    "        norm=pr_norm,\n",
    "        antialiased=True,\n",
    "        transform=pc,\n",
    "    )\n",
    "\n",
    "    # shade out legend regions, AC style\n",
    "    ax.add_patch(\n",
    "        Rectangle(\n",
    "            (0, 0), 0.12, 0.85, transform=ax.transAxes, color=\"steelblue\", alpha=0.8\n",
    "        )\n",
    "    )\n",
    "    ax.add_patch(\n",
    "        Rectangle((0, 0.85), 1, 1, transform=ax.transAxes, color=\"steelblue\", alpha=0.8)\n",
    "    )\n",
    "\n",
    "    # precip colorbar\n",
    "    fig.text(0.151, 0.699, \"(mm/h)\", color=\"black\", size=10)\n",
    "    fig.text(0.15, 0.7, \"(mm/h)\", color=\"white\", size=10)\n",
    "\n",
    "    pr_cbar = fig.colorbar(\n",
    "        pr,\n",
    "        cmap=pr_cmap,\n",
    "        norm=pr_norm,\n",
    "        ax=ax,\n",
    "        spacing=\"uniform\",\n",
    "        shrink=0.45,\n",
    "        location=\"left\",\n",
    "        aspect=10,\n",
    "        anchor=(0.15, 0.45),\n",
    "        pad=-0.16,\n",
    "    )\n",
    "    pr_cbar.ax.tick_params(\n",
    "        labelsize=10,\n",
    "        labelcolor=\"white\",\n",
    "        length=0,\n",
    "        labelright=True,\n",
    "        labelleft=False,\n",
    "    )\n",
    "    pr_cbar.ax.set_yticklabels(pr_labels)\n",
    "\n",
    "    # cities\n",
    "    plot_cities(ax)\n",
    "\n",
    "    # timestamps\n",
    "    the_date = (\n",
    "        pd.Timestamp(ds.valid_time.values)\n",
    "        .tz_localize(\"UTC\")\n",
    "        .tz_convert(\"America/Vancouver\")\n",
    "    )\n",
    "    fmt_date = the_date.strftime(\"%a. %m-%d-%y \\n%H:%M %p\")\n",
    "    fig.text(0.551, 0.809, fmt_date, color=\"black\", size=20)\n",
    "    fig.text(0.55, 0.81, fmt_date, color=\"white\", size=20)\n",
    "    fig.text(\n",
    "        0.131,\n",
    "        0.159,\n",
    "        f\"{ds.model.upper()} {pd.Timestamp(ds.time.values).strftime(\"%H\")} Z\",\n",
    "        color=\"black\",\n",
    "        size=10,\n",
    "    )\n",
    "    fig.text(\n",
    "        0.13,\n",
    "        0.16,\n",
    "        f\"{ds.model.upper()} {pd.Timestamp(ds.time.values).strftime(\"%H\")} Z\",\n",
    "        color=\"white\",\n",
    "        size=10,\n",
    "    )\n",
    "\n",
    "    # title\n",
    "    fig.text(0.301, 0.819, \"Hourly Precipitation\", color=\"black\", size=20)\n",
    "    fig.text(0.30, 0.82, \"Hourly Precipitation\", color=\"white\", size=20)\n",
    "\n",
    "    ax.set_extent([-140, -110, 46, 65])\n",
    "\n",
    "    # BC/AB\n",
    "    fig.savefig(\n",
    "        os.path.join(\n",
    "            config[\"plots\"][\"hpcp_bcab\"],\n",
    "            f\"pcp1hr_{ds.model}_{pd.Timestamp(ds.time.values).strftime('%Y_%_h_%d')}_{pd.Timestamp(ds.time.values).strftime('%H')}Z_P{fxx}\",\n",
    "        )\n",
    "    )\n",
    "\n",
    "    # South Coast\n",
    "    ax.set_extent([-129, -120, 47.5, 53])\n",
    "    fig.savefig(\n",
    "        os.path.join(\n",
    "            config[\"plots\"][\"hpcp_southcoast\"],\n",
    "            f\"pcp1hr_{ds.model}_{pd.Timestamp(ds.time.values).strftime('%Y_%_h_%d')}_{pd.Timestamp(ds.time.values).strftime('%H')}Z_P{fxx}\",\n",
    "        )\n",
    "    )\n",
    "\n",
    "    # South Interior\n",
    "    ax.set_extent([-125, -113, 48.5, 56])\n",
    "    fig.savefig(\n",
    "        os.path.join(\n",
    "            config[\"plots\"][\"hpcp_southint\"],\n",
    "            f\"pcp1hr_{ds.model}_{pd.Timestamp(ds.time.values).strftime('%Y_%_h_%d')}_{pd.Timestamp(ds.time.values).strftime('%H')}Z_P{fxx}\",\n",
    "        )\n",
    "    )\n",
    "\n",
    "    # Alberta Rockies\n",
    "    ax.set_extent([-128, -111, 48.5, 59])\n",
    "    fig.savefig(\n",
    "        os.path.join(\n",
    "            config[\"plots\"][\"hpcp_rockies\"],\n",
    "            f\"pcp1hr_{ds.model}_{pd.Timestamp(ds.time.values).strftime('%Y_%_h_%d')}_{pd.Timestamp(ds.time.values).strftime('%H')}Z_P{fxx}\",\n",
    "        )\n",
    "    )\n",
    "    fig.clf()\n",
    "\n",
    "    return None"
   ]
  },
  {
   "cell_type": "code",
   "execution_count": 26,
   "id": "e0d97b83",
   "metadata": {},
   "outputs": [],
   "source": [
    "def plot_precip12hr(fxx, ds, config):\n",
    "    \"\"\"\n",
    "    plots 1hr precip, saves hourly to the BC/AB, south coast,\n",
    "    south interior, alberta rockies folders\n",
    "    \"\"\"\n",
    "    # make a figure\n",
    "    fig = plt.figure(figsize=(15, 15))\n",
    "    fig.tight_layout()\n",
    "    ax = fig.add_subplot(\n",
    "        1,\n",
    "        1,\n",
    "        1,\n",
    "        position=(0, 0, 1, 1),\n",
    "        projection=ccrs.LambertConformal(\n",
    "            central_longitude=-123,\n",
    "            central_latitude=54.0,\n",
    "        ),\n",
    "    )\n",
    "\n",
    "    # basemap\n",
    "    make_basemap(ax)\n",
    "\n",
    "    # plot precip rate\n",
    "    pr_cmap = mpl.colors.ListedColormap(\n",
    "        [\n",
    "            \"#90EE90\",\n",
    "            \"#ADFF2F\",\n",
    "            \"#3CB371\",\n",
    "            \"#2E8B57\",\n",
    "            \"#FFFF00\",\n",
    "            \"#FFA500\",\n",
    "            \"#E9967A\",\n",
    "            \"#B22222\",\n",
    "            \"#8B008B\",\n",
    "        ]\n",
    "    )\n",
    "    pr_bounds = [1, 2.5, 5, 15, 25, 50, 75, 100, 150, 200]\n",
    "    pr_labels = [\"1\", \"2.5\", \"5\", \"15\", \"25\", \"50\", \"75\", \"100\", \"150\", \"200+\"]\n",
    "    pr_norm = mpl.colors.BoundaryNorm(pr_bounds, pr_cmap.N)\n",
    "    pr = ax.pcolormesh(\n",
    "        ds.longitude,\n",
    "        ds.latitude,\n",
    "        ds[\"APCP-Accum12h\"].where(ds[\"APCP-Accum12h\"] >= 1),\n",
    "        cmap=pr_cmap,\n",
    "        norm=pr_norm,\n",
    "        antialiased=True,\n",
    "        transform=pc,\n",
    "    )\n",
    "\n",
    "    # shade out legend regions, AC style\n",
    "    ax.add_patch(\n",
    "        Rectangle(\n",
    "            (0, 0), 0.12, 0.85, transform=ax.transAxes, color=\"steelblue\", alpha=0.8\n",
    "        )\n",
    "    )\n",
    "    ax.add_patch(\n",
    "        Rectangle((0, 0.85), 1, 1, transform=ax.transAxes, color=\"steelblue\", alpha=0.8)\n",
    "    )\n",
    "\n",
    "    # precip colorbar\n",
    "    fig.text(0.151, 0.699, \"(mm)\", color=\"black\", size=10)\n",
    "    fig.text(0.15, 0.7, \"(mm)\", color=\"white\", size=10)\n",
    "\n",
    "    pr_cbar = fig.colorbar(\n",
    "        pr,\n",
    "        cmap=pr_cmap,\n",
    "        norm=pr_norm,\n",
    "        ax=ax,\n",
    "        spacing=\"uniform\",\n",
    "        shrink=0.45,\n",
    "        location=\"left\",\n",
    "        aspect=10,\n",
    "        anchor=(0.15, 0.45),\n",
    "        pad=-0.16,\n",
    "    )\n",
    "    pr_cbar.ax.tick_params(\n",
    "        labelsize=10,\n",
    "        labelcolor=\"white\",\n",
    "        length=0,\n",
    "        labelright=True,\n",
    "        labelleft=False,\n",
    "    )\n",
    "    pr_cbar.ax.set_yticklabels(pr_labels)\n",
    "\n",
    "    # cities\n",
    "    plot_cities(ax)\n",
    "\n",
    "    # timestamps\n",
    "    the_date = (\n",
    "        pd.Timestamp(ds.valid_time.values)\n",
    "        .tz_localize(\"UTC\")\n",
    "        .tz_convert(\"America/Vancouver\")\n",
    "    )\n",
    "    fmt_date = the_date.strftime(\"%a. %m-%d-%y \\n%H:%M %p\")\n",
    "    fig.text(0.551, 0.809, fmt_date, color=\"black\", size=20)\n",
    "    fig.text(0.55, 0.81, fmt_date, color=\"white\", size=20)\n",
    "    fig.text(\n",
    "        0.131,\n",
    "        0.159,\n",
    "        f\"{ds.model.upper()} {pd.Timestamp(ds.time.values).strftime(\"%H\")} Z\",\n",
    "        color=\"black\",\n",
    "        size=10,\n",
    "    )\n",
    "    fig.text(\n",
    "        0.13,\n",
    "        0.16,\n",
    "        f\"{ds.model.upper()} {pd.Timestamp(ds.time.values).strftime(\"%H\")} Z\",\n",
    "        color=\"white\",\n",
    "        size=10,\n",
    "    )\n",
    "\n",
    "    # title\n",
    "    fig.text(0.301, 0.819, \"Total Precip - 12h\", color=\"black\", size=20)\n",
    "    fig.text(0.30, 0.82, \"Total Precip - 12h\", color=\"white\", size=20)\n",
    "\n",
    "    # South Coast\n",
    "    ax.set_extent([-129, -120, 47.5, 53])\n",
    "    fig.savefig(\n",
    "        os.path.join(\n",
    "            config[\"plots\"][\"12hpcp_southcoast\"],\n",
    "            f\"pcp1hr_{ds.model}_{pd.Timestamp(ds.time.values).strftime('%Y_%_h_%d')}_{pd.Timestamp(ds.time.values).strftime('%H')}Z_P{fxx}\",\n",
    "        )\n",
    "    )\n",
    "\n",
    "    # South Interior\n",
    "    ax.set_extent([-125, -113, 48.5, 56])\n",
    "    fig.savefig(\n",
    "        os.path.join(\n",
    "            config[\"plots\"][\"12hpcp_southint\"],\n",
    "            f\"pcp1hr_{ds.model}_{pd.Timestamp(ds.time.values).strftime('%Y_%_h_%d')}_{pd.Timestamp(ds.time.values).strftime('%H')}Z_P{fxx}\",\n",
    "        )\n",
    "    )\n",
    "\n",
    "    # Alberta Rockies\n",
    "    ax.set_extent([-128, -111, 48.5, 59])\n",
    "    fig.savefig(\n",
    "        os.path.join(\n",
    "            config[\"plots\"][\"12hpcp_rockies\"],\n",
    "            f\"pcp1hr_{ds.model}_{pd.Timestamp(ds.time.values).strftime('%Y_%_h_%d')}_{pd.Timestamp(ds.time.values).strftime('%H')}Z_P{fxx}\",\n",
    "        )\n",
    "    )\n",
    "    fig.clf()\n",
    "\n",
    "    return None"
   ]
  },
  {
   "cell_type": "code",
   "execution_count": 22,
   "id": "33ce2f57",
   "metadata": {},
   "outputs": [],
   "source": [
    "def do_hrdps(run, fxx, config):\n",
    "    \"\"\"\n",
    "    creates all hrdps dependent plots for forecast time fxx\n",
    "    \"\"\"\n",
    "    # clear the hrdps data folder\n",
    "    clear_dir = [clear_directory(file) for file in list(config[\"data\"].values())]\n",
    "\n",
    "    temp = get_var(run, \"hrdps\", fxx, \"TMP\", \"AGL-2m\")\n",
    "    pcp1h = get_var(run, \"hrdps\", fxx, \"APCP-Accum1h\", \"Sfc\")\n",
    "    ptype = get_var(run, \"hrdps\", fxx, \"PTYPE\", \"Sfc\")\n",
    "\n",
    "    # plot 12hr accumulation after forecast hour 12 in 6 hr increments\n",
    "    if (fxx >= 12) and (fxx % 6 == 0):\n",
    "        pcp12h = get_var(run, \"hrdps\", fxx, \"APCP-Accum12h\", \"Sfc\")\n",
    "        ds = xr.merge([temp, pcp1h, pcp12h, ptype])\n",
    "        plot_precip12hr(fxx, ds, config)\n",
    "    else:\n",
    "        ds = xr.merge([temp, pcp1h, ptype])\n",
    "\n",
    "    # convert temps from kelvin to degC\n",
    "    ds[\"t2m\"] -= 273.15\n",
    "\n",
    "    # generate plots\n",
    "    plot_temps(fxx, ds, config)\n",
    "    plot_precip1hr(fxx, ds, config)\n",
    "\n",
    "    return None"
   ]
  },
  {
   "cell_type": "code",
   "execution_count": 11,
   "id": "ce720662",
   "metadata": {},
   "outputs": [],
   "source": [
    "def main(tstep=range(1, 49, 1)):\n",
    "    \"\"\"\n",
    "    main function to generate all gdps plots for a forecast run\n",
    "    (default 48h with 1h increments)\n",
    "    \"\"\"\n",
    "    # time of last model run (0000, 0600, 1200, 1800 Z)\n",
    "    now = pd.Timestamp.utcnow().floor(\"6h\").tz_localize(None)\n",
    "\n",
    "    # config determines the directories in which to save each graphic\n",
    "    with open(\"..//config/hrdps_config.json\") as f:\n",
    "        config = json.load(f)\n",
    "\n",
    "    clear_dir = [clear_directory(file) for file in list(config[\"plots\"].values())]\n",
    "    hrdps = [do_hrdps(now, fxx, config) for fxx in tstep]\n",
    "\n",
    "    return None"
   ]
  },
  {
   "cell_type": "code",
   "execution_count": 27,
   "id": "dafef8ae",
   "metadata": {},
   "outputs": [
    {
     "name": "stdout",
     "output_type": "stream",
     "text": [
      "✅ Found ┊ model=hrdps ┊ \u001b[3mproduct=continental/2.5km\u001b[0m ┊ \u001b[38;2;41;130;13m2025-Jun-04 00:00 UTC\u001b[92m F12\u001b[0m ┊ \u001b[38;2;255;153;0m\u001b[3mGRIB2 @ msc\u001b[0m ┊ \u001b[38;2;255;153;0m\u001b[3mIDX @ None\u001b[0m\n",
      "👨🏻‍🏭 Created directory: [/Users/andrew/data/hrdps/20250604]\n",
      "✅ Found ┊ model=hrdps ┊ \u001b[3mproduct=continental/2.5km\u001b[0m ┊ \u001b[38;2;41;130;13m2025-Jun-04 00:00 UTC\u001b[92m F12\u001b[0m ┊ \u001b[38;2;255;153;0m\u001b[3mGRIB2 @ msc\u001b[0m ┊ \u001b[38;2;255;153;0m\u001b[3mIDX @ None\u001b[0m\n",
      "✅ Found ┊ model=hrdps ┊ \u001b[3mproduct=continental/2.5km\u001b[0m ┊ \u001b[38;2;41;130;13m2025-Jun-04 00:00 UTC\u001b[92m F12\u001b[0m ┊ \u001b[38;2;255;153;0m\u001b[3mGRIB2 @ msc\u001b[0m ┊ \u001b[38;2;255;153;0m\u001b[3mIDX @ None\u001b[0m\n",
      "✅ Found ┊ model=hrdps ┊ \u001b[3mproduct=continental/2.5km\u001b[0m ┊ \u001b[38;2;41;130;13m2025-Jun-04 00:00 UTC\u001b[92m F12\u001b[0m ┊ \u001b[38;2;255;153;0m\u001b[3mGRIB2 @ msc\u001b[0m ┊ \u001b[38;2;255;153;0m\u001b[3mIDX @ None\u001b[0m\n",
      "✅ Found ┊ model=hrdps ┊ \u001b[3mproduct=continental/2.5km\u001b[0m ┊ \u001b[38;2;41;130;13m2025-Jun-04 00:00 UTC\u001b[92m F13\u001b[0m ┊ \u001b[38;2;255;153;0m\u001b[3mGRIB2 @ msc\u001b[0m ┊ \u001b[38;2;255;153;0m\u001b[3mIDX @ None\u001b[0m\n",
      "👨🏻‍🏭 Created directory: [/Users/andrew/data/hrdps/20250604]\n",
      "✅ Found ┊ model=hrdps ┊ \u001b[3mproduct=continental/2.5km\u001b[0m ┊ \u001b[38;2;41;130;13m2025-Jun-04 00:00 UTC\u001b[92m F13\u001b[0m ┊ \u001b[38;2;255;153;0m\u001b[3mGRIB2 @ msc\u001b[0m ┊ \u001b[38;2;255;153;0m\u001b[3mIDX @ None\u001b[0m\n",
      "✅ Found ┊ model=hrdps ┊ \u001b[3mproduct=continental/2.5km\u001b[0m ┊ \u001b[38;2;41;130;13m2025-Jun-04 00:00 UTC\u001b[92m F13\u001b[0m ┊ \u001b[38;2;255;153;0m\u001b[3mGRIB2 @ msc\u001b[0m ┊ \u001b[38;2;255;153;0m\u001b[3mIDX @ None\u001b[0m\n",
      "✅ Found ┊ model=hrdps ┊ \u001b[3mproduct=continental/2.5km\u001b[0m ┊ \u001b[38;2;41;130;13m2025-Jun-04 00:00 UTC\u001b[92m F14\u001b[0m ┊ \u001b[38;2;255;153;0m\u001b[3mGRIB2 @ msc\u001b[0m ┊ \u001b[38;2;255;153;0m\u001b[3mIDX @ None\u001b[0m\n",
      "👨🏻‍🏭 Created directory: [/Users/andrew/data/hrdps/20250604]\n",
      "✅ Found ┊ model=hrdps ┊ \u001b[3mproduct=continental/2.5km\u001b[0m ┊ \u001b[38;2;41;130;13m2025-Jun-04 00:00 UTC\u001b[92m F14\u001b[0m ┊ \u001b[38;2;255;153;0m\u001b[3mGRIB2 @ msc\u001b[0m ┊ \u001b[38;2;255;153;0m\u001b[3mIDX @ None\u001b[0m\n",
      "✅ Found ┊ model=hrdps ┊ \u001b[3mproduct=continental/2.5km\u001b[0m ┊ \u001b[38;2;41;130;13m2025-Jun-04 00:00 UTC\u001b[92m F14\u001b[0m ┊ \u001b[38;2;255;153;0m\u001b[3mGRIB2 @ msc\u001b[0m ┊ \u001b[38;2;255;153;0m\u001b[3mIDX @ None\u001b[0m\n",
      "✅ Found ┊ model=hrdps ┊ \u001b[3mproduct=continental/2.5km\u001b[0m ┊ \u001b[38;2;41;130;13m2025-Jun-04 00:00 UTC\u001b[92m F15\u001b[0m ┊ \u001b[38;2;255;153;0m\u001b[3mGRIB2 @ msc\u001b[0m ┊ \u001b[38;2;255;153;0m\u001b[3mIDX @ None\u001b[0m\n",
      "👨🏻‍🏭 Created directory: [/Users/andrew/data/hrdps/20250604]\n",
      "✅ Found ┊ model=hrdps ┊ \u001b[3mproduct=continental/2.5km\u001b[0m ┊ \u001b[38;2;41;130;13m2025-Jun-04 00:00 UTC\u001b[92m F15\u001b[0m ┊ \u001b[38;2;255;153;0m\u001b[3mGRIB2 @ msc\u001b[0m ┊ \u001b[38;2;255;153;0m\u001b[3mIDX @ None\u001b[0m\n",
      "✅ Found ┊ model=hrdps ┊ \u001b[3mproduct=continental/2.5km\u001b[0m ┊ \u001b[38;2;41;130;13m2025-Jun-04 00:00 UTC\u001b[92m F15\u001b[0m ┊ \u001b[38;2;255;153;0m\u001b[3mGRIB2 @ msc\u001b[0m ┊ \u001b[38;2;255;153;0m\u001b[3mIDX @ None\u001b[0m\n",
      "✅ Found ┊ model=hrdps ┊ \u001b[3mproduct=continental/2.5km\u001b[0m ┊ \u001b[38;2;41;130;13m2025-Jun-04 00:00 UTC\u001b[92m F16\u001b[0m ┊ \u001b[38;2;255;153;0m\u001b[3mGRIB2 @ msc\u001b[0m ┊ \u001b[38;2;255;153;0m\u001b[3mIDX @ None\u001b[0m\n",
      "👨🏻‍🏭 Created directory: [/Users/andrew/data/hrdps/20250604]\n",
      "✅ Found ┊ model=hrdps ┊ \u001b[3mproduct=continental/2.5km\u001b[0m ┊ \u001b[38;2;41;130;13m2025-Jun-04 00:00 UTC\u001b[92m F16\u001b[0m ┊ \u001b[38;2;255;153;0m\u001b[3mGRIB2 @ msc\u001b[0m ┊ \u001b[38;2;255;153;0m\u001b[3mIDX @ None\u001b[0m\n",
      "✅ Found ┊ model=hrdps ┊ \u001b[3mproduct=continental/2.5km\u001b[0m ┊ \u001b[38;2;41;130;13m2025-Jun-04 00:00 UTC\u001b[92m F16\u001b[0m ┊ \u001b[38;2;255;153;0m\u001b[3mGRIB2 @ msc\u001b[0m ┊ \u001b[38;2;255;153;0m\u001b[3mIDX @ None\u001b[0m\n",
      "✅ Found ┊ model=hrdps ┊ \u001b[3mproduct=continental/2.5km\u001b[0m ┊ \u001b[38;2;41;130;13m2025-Jun-04 00:00 UTC\u001b[92m F17\u001b[0m ┊ \u001b[38;2;255;153;0m\u001b[3mGRIB2 @ msc\u001b[0m ┊ \u001b[38;2;255;153;0m\u001b[3mIDX @ None\u001b[0m\n",
      "👨🏻‍🏭 Created directory: [/Users/andrew/data/hrdps/20250604]\n",
      "✅ Found ┊ model=hrdps ┊ \u001b[3mproduct=continental/2.5km\u001b[0m ┊ \u001b[38;2;41;130;13m2025-Jun-04 00:00 UTC\u001b[92m F17\u001b[0m ┊ \u001b[38;2;255;153;0m\u001b[3mGRIB2 @ msc\u001b[0m ┊ \u001b[38;2;255;153;0m\u001b[3mIDX @ None\u001b[0m\n",
      "✅ Found ┊ model=hrdps ┊ \u001b[3mproduct=continental/2.5km\u001b[0m ┊ \u001b[38;2;41;130;13m2025-Jun-04 00:00 UTC\u001b[92m F17\u001b[0m ┊ \u001b[38;2;255;153;0m\u001b[3mGRIB2 @ msc\u001b[0m ┊ \u001b[38;2;255;153;0m\u001b[3mIDX @ None\u001b[0m\n",
      "✅ Found ┊ model=hrdps ┊ \u001b[3mproduct=continental/2.5km\u001b[0m ┊ \u001b[38;2;41;130;13m2025-Jun-04 00:00 UTC\u001b[92m F18\u001b[0m ┊ \u001b[38;2;255;153;0m\u001b[3mGRIB2 @ msc\u001b[0m ┊ \u001b[38;2;255;153;0m\u001b[3mIDX @ None\u001b[0m\n",
      "👨🏻‍🏭 Created directory: [/Users/andrew/data/hrdps/20250604]\n",
      "✅ Found ┊ model=hrdps ┊ \u001b[3mproduct=continental/2.5km\u001b[0m ┊ \u001b[38;2;41;130;13m2025-Jun-04 00:00 UTC\u001b[92m F18\u001b[0m ┊ \u001b[38;2;255;153;0m\u001b[3mGRIB2 @ msc\u001b[0m ┊ \u001b[38;2;255;153;0m\u001b[3mIDX @ None\u001b[0m\n",
      "✅ Found ┊ model=hrdps ┊ \u001b[3mproduct=continental/2.5km\u001b[0m ┊ \u001b[38;2;41;130;13m2025-Jun-04 00:00 UTC\u001b[92m F18\u001b[0m ┊ \u001b[38;2;255;153;0m\u001b[3mGRIB2 @ msc\u001b[0m ┊ \u001b[38;2;255;153;0m\u001b[3mIDX @ None\u001b[0m\n",
      "✅ Found ┊ model=hrdps ┊ \u001b[3mproduct=continental/2.5km\u001b[0m ┊ \u001b[38;2;41;130;13m2025-Jun-04 00:00 UTC\u001b[92m F18\u001b[0m ┊ \u001b[38;2;255;153;0m\u001b[3mGRIB2 @ msc\u001b[0m ┊ \u001b[38;2;255;153;0m\u001b[3mIDX @ None\u001b[0m\n",
      "✅ Found ┊ model=hrdps ┊ \u001b[3mproduct=continental/2.5km\u001b[0m ┊ \u001b[38;2;41;130;13m2025-Jun-04 00:00 UTC\u001b[92m F19\u001b[0m ┊ \u001b[38;2;255;153;0m\u001b[3mGRIB2 @ msc\u001b[0m ┊ \u001b[38;2;255;153;0m\u001b[3mIDX @ None\u001b[0m\n",
      "👨🏻‍🏭 Created directory: [/Users/andrew/data/hrdps/20250604]\n",
      "✅ Found ┊ model=hrdps ┊ \u001b[3mproduct=continental/2.5km\u001b[0m ┊ \u001b[38;2;41;130;13m2025-Jun-04 00:00 UTC\u001b[92m F19\u001b[0m ┊ \u001b[38;2;255;153;0m\u001b[3mGRIB2 @ msc\u001b[0m ┊ \u001b[38;2;255;153;0m\u001b[3mIDX @ None\u001b[0m\n",
      "✅ Found ┊ model=hrdps ┊ \u001b[3mproduct=continental/2.5km\u001b[0m ┊ \u001b[38;2;41;130;13m2025-Jun-04 00:00 UTC\u001b[92m F19\u001b[0m ┊ \u001b[38;2;255;153;0m\u001b[3mGRIB2 @ msc\u001b[0m ┊ \u001b[38;2;255;153;0m\u001b[3mIDX @ None\u001b[0m\n",
      "✅ Found ┊ model=hrdps ┊ \u001b[3mproduct=continental/2.5km\u001b[0m ┊ \u001b[38;2;41;130;13m2025-Jun-04 00:00 UTC\u001b[92m F20\u001b[0m ┊ \u001b[38;2;255;153;0m\u001b[3mGRIB2 @ msc\u001b[0m ┊ \u001b[38;2;255;153;0m\u001b[3mIDX @ None\u001b[0m\n",
      "👨🏻‍🏭 Created directory: [/Users/andrew/data/hrdps/20250604]\n",
      "✅ Found ┊ model=hrdps ┊ \u001b[3mproduct=continental/2.5km\u001b[0m ┊ \u001b[38;2;41;130;13m2025-Jun-04 00:00 UTC\u001b[92m F20\u001b[0m ┊ \u001b[38;2;255;153;0m\u001b[3mGRIB2 @ msc\u001b[0m ┊ \u001b[38;2;255;153;0m\u001b[3mIDX @ None\u001b[0m\n",
      "✅ Found ┊ model=hrdps ┊ \u001b[3mproduct=continental/2.5km\u001b[0m ┊ \u001b[38;2;41;130;13m2025-Jun-04 00:00 UTC\u001b[92m F20\u001b[0m ┊ \u001b[38;2;255;153;0m\u001b[3mGRIB2 @ msc\u001b[0m ┊ \u001b[38;2;255;153;0m\u001b[3mIDX @ None\u001b[0m\n",
      "✅ Found ┊ model=hrdps ┊ \u001b[3mproduct=continental/2.5km\u001b[0m ┊ \u001b[38;2;41;130;13m2025-Jun-04 00:00 UTC\u001b[92m F21\u001b[0m ┊ \u001b[38;2;255;153;0m\u001b[3mGRIB2 @ msc\u001b[0m ┊ \u001b[38;2;255;153;0m\u001b[3mIDX @ None\u001b[0m\n",
      "👨🏻‍🏭 Created directory: [/Users/andrew/data/hrdps/20250604]\n",
      "✅ Found ┊ model=hrdps ┊ \u001b[3mproduct=continental/2.5km\u001b[0m ┊ \u001b[38;2;41;130;13m2025-Jun-04 00:00 UTC\u001b[92m F21\u001b[0m ┊ \u001b[38;2;255;153;0m\u001b[3mGRIB2 @ msc\u001b[0m ┊ \u001b[38;2;255;153;0m\u001b[3mIDX @ None\u001b[0m\n",
      "✅ Found ┊ model=hrdps ┊ \u001b[3mproduct=continental/2.5km\u001b[0m ┊ \u001b[38;2;41;130;13m2025-Jun-04 00:00 UTC\u001b[92m F21\u001b[0m ┊ \u001b[38;2;255;153;0m\u001b[3mGRIB2 @ msc\u001b[0m ┊ \u001b[38;2;255;153;0m\u001b[3mIDX @ None\u001b[0m\n",
      "✅ Found ┊ model=hrdps ┊ \u001b[3mproduct=continental/2.5km\u001b[0m ┊ \u001b[38;2;41;130;13m2025-Jun-04 00:00 UTC\u001b[92m F22\u001b[0m ┊ \u001b[38;2;255;153;0m\u001b[3mGRIB2 @ msc\u001b[0m ┊ \u001b[38;2;255;153;0m\u001b[3mIDX @ None\u001b[0m\n",
      "👨🏻‍🏭 Created directory: [/Users/andrew/data/hrdps/20250604]\n",
      "✅ Found ┊ model=hrdps ┊ \u001b[3mproduct=continental/2.5km\u001b[0m ┊ \u001b[38;2;41;130;13m2025-Jun-04 00:00 UTC\u001b[92m F22\u001b[0m ┊ \u001b[38;2;255;153;0m\u001b[3mGRIB2 @ msc\u001b[0m ┊ \u001b[38;2;255;153;0m\u001b[3mIDX @ None\u001b[0m\n",
      "✅ Found ┊ model=hrdps ┊ \u001b[3mproduct=continental/2.5km\u001b[0m ┊ \u001b[38;2;41;130;13m2025-Jun-04 00:00 UTC\u001b[92m F22\u001b[0m ┊ \u001b[38;2;255;153;0m\u001b[3mGRIB2 @ msc\u001b[0m ┊ \u001b[38;2;255;153;0m\u001b[3mIDX @ None\u001b[0m\n",
      "✅ Found ┊ model=hrdps ┊ \u001b[3mproduct=continental/2.5km\u001b[0m ┊ \u001b[38;2;41;130;13m2025-Jun-04 00:00 UTC\u001b[92m F23\u001b[0m ┊ \u001b[38;2;255;153;0m\u001b[3mGRIB2 @ msc\u001b[0m ┊ \u001b[38;2;255;153;0m\u001b[3mIDX @ None\u001b[0m\n",
      "👨🏻‍🏭 Created directory: [/Users/andrew/data/hrdps/20250604]\n",
      "✅ Found ┊ model=hrdps ┊ \u001b[3mproduct=continental/2.5km\u001b[0m ┊ \u001b[38;2;41;130;13m2025-Jun-04 00:00 UTC\u001b[92m F23\u001b[0m ┊ \u001b[38;2;255;153;0m\u001b[3mGRIB2 @ msc\u001b[0m ┊ \u001b[38;2;255;153;0m\u001b[3mIDX @ None\u001b[0m\n",
      "✅ Found ┊ model=hrdps ┊ \u001b[3mproduct=continental/2.5km\u001b[0m ┊ \u001b[38;2;41;130;13m2025-Jun-04 00:00 UTC\u001b[92m F23\u001b[0m ┊ \u001b[38;2;255;153;0m\u001b[3mGRIB2 @ msc\u001b[0m ┊ \u001b[38;2;255;153;0m\u001b[3mIDX @ None\u001b[0m\n",
      "✅ Found ┊ model=hrdps ┊ \u001b[3mproduct=continental/2.5km\u001b[0m ┊ \u001b[38;2;41;130;13m2025-Jun-04 00:00 UTC\u001b[92m F24\u001b[0m ┊ \u001b[38;2;255;153;0m\u001b[3mGRIB2 @ msc\u001b[0m ┊ \u001b[38;2;255;153;0m\u001b[3mIDX @ None\u001b[0m\n",
      "👨🏻‍🏭 Created directory: [/Users/andrew/data/hrdps/20250604]\n",
      "✅ Found ┊ model=hrdps ┊ \u001b[3mproduct=continental/2.5km\u001b[0m ┊ \u001b[38;2;41;130;13m2025-Jun-04 00:00 UTC\u001b[92m F24\u001b[0m ┊ \u001b[38;2;255;153;0m\u001b[3mGRIB2 @ msc\u001b[0m ┊ \u001b[38;2;255;153;0m\u001b[3mIDX @ None\u001b[0m\n"
     ]
    },
    {
     "name": "stdout",
     "output_type": "stream",
     "text": [
      "✅ Found ┊ model=hrdps ┊ \u001b[3mproduct=continental/2.5km\u001b[0m ┊ \u001b[38;2;41;130;13m2025-Jun-04 00:00 UTC\u001b[92m F24\u001b[0m ┊ \u001b[38;2;255;153;0m\u001b[3mGRIB2 @ msc\u001b[0m ┊ \u001b[38;2;255;153;0m\u001b[3mIDX @ None\u001b[0m\n",
      "✅ Found ┊ model=hrdps ┊ \u001b[3mproduct=continental/2.5km\u001b[0m ┊ \u001b[38;2;41;130;13m2025-Jun-04 00:00 UTC\u001b[92m F24\u001b[0m ┊ \u001b[38;2;255;153;0m\u001b[3mGRIB2 @ msc\u001b[0m ┊ \u001b[38;2;255;153;0m\u001b[3mIDX @ None\u001b[0m\n"
     ]
    },
    {
     "data": {
      "text/plain": [
       "<Figure size 1500x1500 with 0 Axes>"
      ]
     },
     "metadata": {},
     "output_type": "display_data"
    },
    {
     "data": {
      "text/plain": [
       "<Figure size 1500x1500 with 0 Axes>"
      ]
     },
     "metadata": {},
     "output_type": "display_data"
    },
    {
     "data": {
      "text/plain": [
       "<Figure size 1500x1500 with 0 Axes>"
      ]
     },
     "metadata": {},
     "output_type": "display_data"
    },
    {
     "data": {
      "text/plain": [
       "<Figure size 1500x1500 with 0 Axes>"
      ]
     },
     "metadata": {},
     "output_type": "display_data"
    },
    {
     "data": {
      "text/plain": [
       "<Figure size 1500x1500 with 0 Axes>"
      ]
     },
     "metadata": {},
     "output_type": "display_data"
    },
    {
     "data": {
      "text/plain": [
       "<Figure size 1500x1500 with 0 Axes>"
      ]
     },
     "metadata": {},
     "output_type": "display_data"
    },
    {
     "data": {
      "text/plain": [
       "<Figure size 1500x1500 with 0 Axes>"
      ]
     },
     "metadata": {},
     "output_type": "display_data"
    },
    {
     "data": {
      "text/plain": [
       "<Figure size 1500x1500 with 0 Axes>"
      ]
     },
     "metadata": {},
     "output_type": "display_data"
    },
    {
     "data": {
      "text/plain": [
       "<Figure size 1500x1500 with 0 Axes>"
      ]
     },
     "metadata": {},
     "output_type": "display_data"
    },
    {
     "data": {
      "text/plain": [
       "<Figure size 1500x1500 with 0 Axes>"
      ]
     },
     "metadata": {},
     "output_type": "display_data"
    },
    {
     "data": {
      "text/plain": [
       "<Figure size 1500x1500 with 0 Axes>"
      ]
     },
     "metadata": {},
     "output_type": "display_data"
    },
    {
     "data": {
      "text/plain": [
       "<Figure size 1500x1500 with 0 Axes>"
      ]
     },
     "metadata": {},
     "output_type": "display_data"
    },
    {
     "data": {
      "text/plain": [
       "<Figure size 1500x1500 with 0 Axes>"
      ]
     },
     "metadata": {},
     "output_type": "display_data"
    },
    {
     "data": {
      "text/plain": [
       "<Figure size 1500x1500 with 0 Axes>"
      ]
     },
     "metadata": {},
     "output_type": "display_data"
    },
    {
     "data": {
      "text/plain": [
       "<Figure size 1500x1500 with 0 Axes>"
      ]
     },
     "metadata": {},
     "output_type": "display_data"
    },
    {
     "data": {
      "text/plain": [
       "<Figure size 1500x1500 with 0 Axes>"
      ]
     },
     "metadata": {},
     "output_type": "display_data"
    },
    {
     "data": {
      "text/plain": [
       "<Figure size 1500x1500 with 0 Axes>"
      ]
     },
     "metadata": {},
     "output_type": "display_data"
    },
    {
     "data": {
      "text/plain": [
       "<Figure size 1500x1500 with 0 Axes>"
      ]
     },
     "metadata": {},
     "output_type": "display_data"
    },
    {
     "data": {
      "text/plain": [
       "<Figure size 1500x1500 with 0 Axes>"
      ]
     },
     "metadata": {},
     "output_type": "display_data"
    },
    {
     "data": {
      "text/plain": [
       "<Figure size 1500x1500 with 0 Axes>"
      ]
     },
     "metadata": {},
     "output_type": "display_data"
    },
    {
     "data": {
      "text/plain": [
       "<Figure size 1500x1500 with 0 Axes>"
      ]
     },
     "metadata": {},
     "output_type": "display_data"
    },
    {
     "data": {
      "text/plain": [
       "<Figure size 1500x1500 with 0 Axes>"
      ]
     },
     "metadata": {},
     "output_type": "display_data"
    },
    {
     "data": {
      "text/plain": [
       "<Figure size 1500x1500 with 0 Axes>"
      ]
     },
     "metadata": {},
     "output_type": "display_data"
    },
    {
     "data": {
      "text/plain": [
       "<Figure size 1500x1500 with 0 Axes>"
      ]
     },
     "metadata": {},
     "output_type": "display_data"
    },
    {
     "data": {
      "text/plain": [
       "<Figure size 1500x1500 with 0 Axes>"
      ]
     },
     "metadata": {},
     "output_type": "display_data"
    },
    {
     "data": {
      "text/plain": [
       "<Figure size 1500x1500 with 0 Axes>"
      ]
     },
     "metadata": {},
     "output_type": "display_data"
    },
    {
     "data": {
      "text/plain": [
       "<Figure size 1500x1500 with 0 Axes>"
      ]
     },
     "metadata": {},
     "output_type": "display_data"
    },
    {
     "data": {
      "text/plain": [
       "<Figure size 1500x1500 with 0 Axes>"
      ]
     },
     "metadata": {},
     "output_type": "display_data"
    },
    {
     "data": {
      "text/plain": [
       "<Figure size 1500x1500 with 0 Axes>"
      ]
     },
     "metadata": {},
     "output_type": "display_data"
    }
   ],
   "source": [
    "if __name__ == \"__main__\":\n",
    "    main(range(12, 25, 1))"
   ]
  },
  {
   "cell_type": "code",
   "execution_count": null,
   "id": "04cb1a59",
   "metadata": {},
   "outputs": [],
   "source": []
  }
 ],
 "metadata": {
  "kernelspec": {
   "display_name": "Python 3 (ipykernel)",
   "language": "python",
   "name": "python3"
  },
  "language_info": {
   "codemirror_mode": {
    "name": "ipython",
    "version": 3
   },
   "file_extension": ".py",
   "mimetype": "text/x-python",
   "name": "python",
   "nbconvert_exporter": "python",
   "pygments_lexer": "ipython3",
   "version": "3.13.0"
  }
 },
 "nbformat": 4,
 "nbformat_minor": 5
}
