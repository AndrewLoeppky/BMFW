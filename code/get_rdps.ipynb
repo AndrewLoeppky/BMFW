{
 "cells": [
  {
   "cell_type": "markdown",
   "id": "4bf04450",
   "metadata": {},
   "source": [
    "# get_rdps\n",
    "\n",
    "This routine grabs the latest Regional Deterministic Prediction System (RDPS) model data from MSC Datamart and outputs png plots into designated product folders for each ACMWF product.\n",
    "\n",
    "**Datamart:**\n",
    "\n",
    "https://eccc-msc.github.io/open-data/msc-data/nwp_rdps/readme_rdps_en/\n",
    "\n",
    "https://dd.weather.gc.ca/model_gem_regional/\n",
    "\n",
    "**Outputs:**\n",
    "\n",
    "12hr Total Precipitation -> *BC/AB*\n",
    "\n",
    "Winds -> *Surface R, 1500m, 2500m*\n",
    "\n",
    "Surface Maps -> 0-48 Hours\n",
    "\n",
    "Temperatures -> Freezing Level R\n",
    "\n",
    "**Maintenance:**\n",
    "\n",
    "For bug reports, suggestions, inquiries, contact Andrew.Loeppky@gmail.com"
   ]
  },
  {
   "cell_type": "code",
   "execution_count": 1,
   "id": "969e55b2",
   "metadata": {},
   "outputs": [
    {
     "name": "stdout",
     "output_type": "stream",
     "text": [
      " ╭─\u001b[48;2;255;255;255m\u001b[38;2;136;33;27m▌\u001b[0m\u001b[38;2;12;53;118m\u001b[48;2;240;234;210m▌\u001b[38;2;0;0;0m\u001b[1mHerbie\u001b[0m─────────────────────────────────────────────╮\n",
      " │ WARNING: Unable to create config file               │\n",
      " │ \u001b[38;2;255;153;0m     /Users/andrew/.config/herbie/config.toml     \u001b[0m   │\n",
      " │ Herbie will use standard default settings.           │\n",
      " │ Consider setting env variable HERBIE_CONFIG_PATH.    │\n",
      " ╰──────────────────────────────────────────────────────╯\n",
      "\n"
     ]
    }
   ],
   "source": [
    "from herbie import Herbie\n",
    "import xarray as xr\n",
    "import numpy as np\n",
    "\n",
    "import matplotlib.pyplot as plt\n",
    "\n",
    "plt.rcParams[\"font.family\"] = \"sans-serif\"\n",
    "plt.rcParams[\"font.weight\"] = \"heavy\"\n",
    "from toolbox import EasyMap, pc\n",
    "import cartopy.crs as ccrs\n",
    "import cartopy.feature as feature\n",
    "import pandas as pd\n",
    "\n",
    "from matplotlib.patches import Rectangle\n",
    "import matplotlib as mpl\n",
    "from mpl_toolkits.axes_grid1.inset_locator import inset_axes\n",
    "import pytz\n",
    "import os, shutil\n",
    "import json\n",
    "\n",
    "import warnings\n",
    "\n",
    "# supress because removal of old datafiles is handled outside herbie\n",
    "warnings.filterwarnings(\"ignore\")\n",
    "\n",
    "from bmwflib import (\n",
    "    clear_directory,\n",
    "    get_var,\n",
    "    plot_cities,\n",
    "    make_figure,\n",
    "    make_title,\n",
    "    plot_pressure,\n",
    "    find_pressure_centres,\n",
    ")\n",
    "\n",
    "%load_ext jupyter_black"
   ]
  },
  {
   "cell_type": "code",
   "execution_count": 2,
   "id": "b1b4711f",
   "metadata": {},
   "outputs": [],
   "source": [
    "def plot_precip12hr(fxx, ds, config):\n",
    "    \"\"\"\n",
    "    plots 12hr precip, saves hourly to the south coast,\n",
    "    south interior, alberta rockies folders\n",
    "    \"\"\"\n",
    "\n",
    "    def do_precip12h(fxx, ds, config, extent, save_path):\n",
    "        \"\"\"\n",
    "        subfunction of plot_precip1hr designed to handle different\n",
    "        map extents\n",
    "        \"\"\"\n",
    "        fig, ax = make_figure(extent=extent)\n",
    "\n",
    "        # plot precip rate\n",
    "        pr_cmap = mpl.colors.ListedColormap(\n",
    "            [\n",
    "                \"#CDFFCC\",\n",
    "                \"#13F08C\",\n",
    "                \"#05CC35\",\n",
    "                \"#009901\",\n",
    "                \"#FEFF65\",\n",
    "                \"#FF9935\",\n",
    "                \"#FE6666\",\n",
    "                \"#FE0000\",\n",
    "                \"#990001\",\n",
    "                \"#9900CC\",\n",
    "            ]\n",
    "        )\n",
    "        pr_bounds = [1, 2.5, 5, 15, 25, 50, 75, 100, 150, 200]\n",
    "        pr_labels = [\"1\", \"2.5\", \"5\", \"15\", \"25\", \"50\", \"75\", \"100\", \"150\", \"200+\"]\n",
    "        pr_norm = mpl.colors.BoundaryNorm(pr_bounds, pr_cmap.N)\n",
    "        pr = ax.pcolormesh(\n",
    "            ds.longitude,\n",
    "            ds.latitude,\n",
    "            ds[\"APCP-Accum12h\"].where(ds[\"APCP-Accum12h\"] >= 1),\n",
    "            cmap=pr_cmap,\n",
    "            norm=pr_norm,\n",
    "            antialiased=True,\n",
    "            transform=pc,\n",
    "        )\n",
    "\n",
    "        # precip colorbar\n",
    "        fig.text(\n",
    "            0.062,\n",
    "            0.848,\n",
    "            \"(mm)\",\n",
    "            color=\"black\",\n",
    "            size=15,\n",
    "            transform=ax.transAxes,\n",
    "            ha=\"center\",\n",
    "        )\n",
    "        fig.text(\n",
    "            0.06,\n",
    "            0.85,\n",
    "            \"(mm)\",\n",
    "            color=\"white\",\n",
    "            size=15,\n",
    "            transform=ax.transAxes,\n",
    "            ha=\"center\",\n",
    "        )\n",
    "        pr_cbar = fig.colorbar(\n",
    "            pr,\n",
    "            cmap=pr_cmap,\n",
    "            norm=pr_norm,\n",
    "            ax=ax,\n",
    "            spacing=\"uniform\",\n",
    "            shrink=0.35,\n",
    "            location=\"left\",\n",
    "            aspect=9,\n",
    "            anchor=(0.13, 0.65),\n",
    "            pad=-0.15,\n",
    "        )\n",
    "        pr_cbar.ax.tick_params(\n",
    "            labelsize=15,\n",
    "            labelcolor=\"white\",\n",
    "            length=0,\n",
    "            labelright=True,\n",
    "            labelleft=False,\n",
    "        )\n",
    "        pr_cbar.ax.set_yticklabels(pr_labels)\n",
    "\n",
    "        # cities\n",
    "        plot_cities(ax, extent=extent)\n",
    "\n",
    "        # title\n",
    "        make_title(fig, ax, ds, \"Total Precip - 12h\")\n",
    "\n",
    "        # save and close\n",
    "        fig.savefig(save_path, bbox_inches=\"tight\", pad_inches=0)\n",
    "        fig.clf()\n",
    "\n",
    "        return None\n",
    "\n",
    "    # BC/AB\n",
    "    path = os.path.join(\n",
    "        config[\"plots\"][\"12hpcp_bcab\"],\n",
    "        f\"pcp12hr_{ds.model}_{pd.Timestamp(ds.time.values).strftime('%Y_%_h_%d')}_{pd.Timestamp(ds.time.values).strftime('%H')}Z_P{fxx}\",\n",
    "    )\n",
    "    do_precip12h(fxx, ds, config, \"BC-AB\", path)\n",
    "\n",
    "    return None"
   ]
  },
  {
   "cell_type": "code",
   "execution_count": 3,
   "id": "b1a07445",
   "metadata": {},
   "outputs": [],
   "source": [
    "def plot_surf(fxx, ds, config):\n",
    "    \"\"\"\n",
    "    plots the surface figure for mwf day 3-4, surface 0-48h\n",
    "    \"\"\"\n",
    "    fig, ax = make_figure(extent=\"BC-AB\")\n",
    "\n",
    "    # plot height contours\n",
    "    #     ht = ax.contour(\n",
    "    #         ds.longitude,\n",
    "    #         ds.latitude,\n",
    "    #         ds.prmsl,\n",
    "    #         colors=\"k\",\n",
    "    #         transform=pc,\n",
    "    #         levels=range(900, 1100, 4),\n",
    "    #     )\n",
    "    #     ax.clabel(ht, inline=True, fontsize=9)\n",
    "    plot_pressure(\n",
    "        ds.prmsl,\n",
    "        ax,\n",
    "        \"BC-AB\",\n",
    "        radius=40,\n",
    "        delrad=10,\n",
    "    )\n",
    "\n",
    "    # plot thickness contours\n",
    "    th_cmap = mpl.colors.ListedColormap(\n",
    "        [\n",
    "            \"pink\",\n",
    "            \"blue\",\n",
    "            \"orange\",\n",
    "        ]\n",
    "    )\n",
    "    th_bounds = [4800, 5100, 5400, 5700]\n",
    "    th_norm = mpl.colors.BoundaryNorm(th_bounds, th_cmap.N)\n",
    "    ht = ax.contour(\n",
    "        ds.longitude,\n",
    "        ds.latitude,\n",
    "        ds.thick,\n",
    "        cmap=th_cmap,\n",
    "        norm=th_norm,\n",
    "        linestyles=\"dashed\",\n",
    "        transform=pc,\n",
    "        levels=range(4000, 6000, 60),\n",
    "    )\n",
    "    ax.clabel(ht, inline=True, fontsize=9)\n",
    "\n",
    "    # plot cloud cover\n",
    "    cc_cmap = mpl.colors.ListedColormap([\"#FFFFFF\", \"#999999\"])\n",
    "    cc_bounds = [60, 80, 100]\n",
    "    cc_norm = mpl.colors.BoundaryNorm(cc_bounds, cc_cmap.N)\n",
    "    cc = ax.pcolormesh(\n",
    "        ds.longitude,\n",
    "        ds.latitude,\n",
    "        ds.TCDC.where(ds.TCDC >= 60),\n",
    "        cmap=cc_cmap,\n",
    "        norm=cc_norm,\n",
    "        antialiased=True,\n",
    "        transform=pc,\n",
    "    )\n",
    "\n",
    "    # plot precip rate\n",
    "    pr_cmap = mpl.colors.ListedColormap(\n",
    "        [\n",
    "            \"#99FF99\",\n",
    "            \"#33FE35\",\n",
    "            \"#33FE35\",\n",
    "            \"#008001\",\n",
    "            \"#FEFF00\",\n",
    "            \"#FFCC02\",\n",
    "            \"#FF989A\",\n",
    "            \"#FE0000\",\n",
    "            \"#DC0E8C\",\n",
    "            \"#660066\",\n",
    "        ]\n",
    "    )\n",
    "    pr_bounds = [0.2, 1, 2, 5, 10, 15, 20, 30, 45, 60, 80]\n",
    "    pr_labels = [\"0.2\", \"1\", \"2\", \"5\", \"10\", \"15\", \"20\", \"30\", \"45\", \"60\", \"80+\"]\n",
    "    pr_norm = mpl.colors.BoundaryNorm(pr_bounds, pr_cmap.N)\n",
    "    pr = ax.pcolormesh(\n",
    "        ds.longitude,\n",
    "        ds.latitude,\n",
    "        ds.prate.where(ds.prate >= 0.2),\n",
    "        cmap=pr_cmap,\n",
    "        norm=pr_norm,\n",
    "        antialiased=True,\n",
    "        transform=pc,\n",
    "    )\n",
    "\n",
    "    # precip colorbar\n",
    "    fig.text(\n",
    "        0.062,\n",
    "        0.848,\n",
    "        \"3hr Pcpn\",\n",
    "        color=\"black\",\n",
    "        size=15,\n",
    "        transform=ax.transAxes,\n",
    "        ha=\"center\",\n",
    "    )\n",
    "    fig.text(\n",
    "        0.06,\n",
    "        0.85,\n",
    "        \"3hr Pcpn\",\n",
    "        color=\"white\",\n",
    "        size=15,\n",
    "        transform=ax.transAxes,\n",
    "        ha=\"center\",\n",
    "    )\n",
    "\n",
    "    fig.text(\n",
    "        0.062,\n",
    "        0.818,\n",
    "        \"(mm)\",\n",
    "        color=\"black\",\n",
    "        size=15,\n",
    "        transform=ax.transAxes,\n",
    "        ha=\"center\",\n",
    "    )\n",
    "    fig.text(\n",
    "        0.06,\n",
    "        0.82,\n",
    "        \"(mm)\",\n",
    "        color=\"white\",\n",
    "        size=15,\n",
    "        transform=ax.transAxes,\n",
    "        ha=\"center\",\n",
    "    )\n",
    "\n",
    "    pr_cbar = fig.colorbar(\n",
    "        pr,\n",
    "        cmap=pr_cmap,\n",
    "        norm=pr_norm,\n",
    "        ax=ax,\n",
    "        spacing=\"uniform\",\n",
    "        shrink=0.4,\n",
    "        location=\"left\",\n",
    "        aspect=10,\n",
    "        anchor=(0.15, 0.65),\n",
    "        pad=-0.135,\n",
    "    )\n",
    "    pr_cbar.ax.tick_params(\n",
    "        labelsize=15,\n",
    "        labelcolor=\"white\",\n",
    "        length=0,\n",
    "        labelright=True,\n",
    "        labelleft=False,\n",
    "    )\n",
    "    pr_cbar.ax.set_yticklabels(pr_labels)\n",
    "\n",
    "    # cloud cover colorbar\n",
    "    fig.text(\n",
    "        0.062,\n",
    "        0.298,\n",
    "        \"Cloud\\nCover\",\n",
    "        color=\"black\",\n",
    "        size=15,\n",
    "        transform=ax.transAxes,\n",
    "        ha=\"center\",\n",
    "    )\n",
    "    fig.text(\n",
    "        0.06,\n",
    "        0.3,\n",
    "        \"Cloud\\nCover\",\n",
    "        color=\"white\",\n",
    "        size=15,\n",
    "        transform=ax.transAxes,\n",
    "        ha=\"center\",\n",
    "    )\n",
    "\n",
    "    fig.text(\n",
    "        0.062, 0.278, \"(%)\", color=\"black\", size=15, transform=ax.transAxes, ha=\"center\"\n",
    "    )\n",
    "    fig.text(\n",
    "        0.06, 0.28, \"(%)\", color=\"white\", size=15, transform=ax.transAxes, ha=\"center\"\n",
    "    )\n",
    "\n",
    "    cc_cbar = fig.colorbar(\n",
    "        cc,\n",
    "        cmap=cc_cmap,\n",
    "        norm=cc_norm,\n",
    "        ax=ax,\n",
    "        spacing=\"uniform\",\n",
    "        shrink=0.125,\n",
    "        location=\"left\",\n",
    "        aspect=3,\n",
    "        anchor=(0, 0.15),\n",
    "        pad=-0.17,\n",
    "    )\n",
    "    cc_cbar.ax.tick_params(\n",
    "        labelsize=15,\n",
    "        labelcolor=\"white\",\n",
    "        length=0,\n",
    "        labelright=True,\n",
    "        labelleft=False,\n",
    "    )\n",
    "\n",
    "    make_title(fig, ax, ds, \"Surface\")\n",
    "\n",
    "    # save and close the figure\n",
    "    fig.savefig(\n",
    "        os.path.join(\n",
    "            config[\"plots\"][\"surf\"],\n",
    "            f\"surf_{ds.model}_{pd.Timestamp(ds.time.values).strftime('%Y_%_h_%d')}_{pd.Timestamp(ds.time.values).strftime('%H')}Z_P{fxx}\",\n",
    "        ),\n",
    "        bbox_inches=\"tight\",\n",
    "        pad_inches=0,\n",
    "    )\n",
    "    fig.clf()\n",
    "\n",
    "    return None"
   ]
  },
  {
   "cell_type": "code",
   "execution_count": 4,
   "id": "fa186586",
   "metadata": {},
   "outputs": [],
   "source": [
    "def plot_10m_wind(fxx, ds, config):\n",
    "    \"\"\"\n",
    "    plots 10m wind\n",
    "\n",
    "    \"\"\"\n",
    "    fig, ax = make_figure(extent=\"BC-AB\")\n",
    "\n",
    "    # plot wind velocity\n",
    "    w_cmap = mpl.colors.ListedColormap(\n",
    "        [\n",
    "            \"#FFFFFF\",\n",
    "            \"#CCCCCC\",\n",
    "            \"#CD97D0\",\n",
    "            \"#995B99\",\n",
    "            \"#080099\",\n",
    "            \"#3334FF\",\n",
    "            \"#00CC00\",\n",
    "            \"#FEFF00\",\n",
    "            \"#FE9A00\",\n",
    "            \"#CB0000\",\n",
    "            # \"#FF00CC\",\n",
    "        ]\n",
    "    )\n",
    "    w_bounds = [0, 10, 20, 30, 40, 50, 60, 70, 80, 90, 100]\n",
    "    w_labels = [\"0\", \"10\", \"20\", \"30\", \"40\", \"50\", \"60\", \"70\", \"80\", \"90\", \"100+\"]\n",
    "    w_norm = mpl.colors.BoundaryNorm(w_bounds, w_cmap.N)\n",
    "    w = ax.pcolormesh(\n",
    "        ds.longitude,\n",
    "        ds.latitude,\n",
    "        ds.wind,\n",
    "        cmap=w_cmap,\n",
    "        norm=w_norm,\n",
    "        antialiased=True,\n",
    "        transform=pc,\n",
    "    )\n",
    "\n",
    "    # plot pressure contours\n",
    "    ps = ax.contour(\n",
    "        ds.longitude,\n",
    "        ds.latitude,\n",
    "        ds.prmsl,\n",
    "        colors=\"k\",\n",
    "        transform=pc,\n",
    "        levels=range(900, 1100, 4),\n",
    "    )\n",
    "    ax.clabel(ps, inline=True, fontsize=9)\n",
    "\n",
    "    # units\n",
    "    fig.text(\n",
    "        0.062,\n",
    "        0.848,\n",
    "        \"(km/h)\",\n",
    "        color=\"black\",\n",
    "        size=15,\n",
    "        transform=ax.transAxes,\n",
    "        ha=\"center\",\n",
    "    )\n",
    "    fig.text(\n",
    "        0.06,\n",
    "        0.85,\n",
    "        \"(km/h)\",\n",
    "        color=\"white\",\n",
    "        size=15,\n",
    "        transform=ax.transAxes,\n",
    "        ha=\"center\",\n",
    "    )\n",
    "\n",
    "    # wind vel colorbar\n",
    "    w_cbar = fig.colorbar(\n",
    "        w,\n",
    "        cmap=w_cmap,\n",
    "        norm=w_norm,\n",
    "        ax=ax,\n",
    "        spacing=\"uniform\",\n",
    "        shrink=0.55,\n",
    "        location=\"left\",\n",
    "        aspect=14,\n",
    "        anchor=(0.15, 0.55),\n",
    "        pad=-0.15,\n",
    "    )\n",
    "    w_cbar.ax.tick_params(\n",
    "        labelsize=15,\n",
    "        labelcolor=\"white\",\n",
    "        length=0,\n",
    "        labelright=True,\n",
    "        labelleft=False,\n",
    "    )\n",
    "    w_cbar.ax.set_yticklabels(w_labels)\n",
    "\n",
    "    # wind direction arrows\n",
    "    ax.quiver(\n",
    "        ds.longitude,\n",
    "        ds.latitude,\n",
    "        ds.u10 / ds.wind,\n",
    "        ds.v10 / ds.wind,\n",
    "        transform=pc,\n",
    "        regrid_shape=30,\n",
    "        pivot=\"mid\",\n",
    "        width=0.0015,\n",
    "        color=\"white\",\n",
    "    )\n",
    "\n",
    "    make_title(fig, ax, ds, \"Surface Wind\")\n",
    "\n",
    "    # save and close the figure\n",
    "    fig.savefig(\n",
    "        os.path.join(\n",
    "            config[\"plots\"][\"wind_surf\"],\n",
    "            f\"wind10m_{ds.model}_{pd.Timestamp(ds.time.values).strftime('%Y_%_h_%d')}_{pd.Timestamp(ds.time.values).strftime('%H')}Z_P{fxx}\",\n",
    "        ),\n",
    "        bbox_inches=\"tight\",\n",
    "        pad_inches=0,\n",
    "    )\n",
    "    fig.clf()\n",
    "\n",
    "    return None"
   ]
  },
  {
   "cell_type": "code",
   "execution_count": 5,
   "id": "52cca750",
   "metadata": {},
   "outputs": [],
   "source": [
    "def plot_upper_wind(fxx, ds, config, height):\n",
    "    \"\"\"\n",
    "    plots streamline wind figure (1500m and 2500m)\n",
    "    height: either \"1500\" or \"2500\"\n",
    "    \"\"\"\n",
    "    fig, ax = make_figure(extent=\"BC-AB\")\n",
    "\n",
    "    # plot wind velocity\n",
    "    w_cmap = mpl.colors.ListedColormap(\n",
    "        [\n",
    "            \"#E3E6D9\",\n",
    "            \"#BAE591\",\n",
    "            \"#6AB3A0\",\n",
    "            \"#5992B8\",\n",
    "            \"#4A56A2\",\n",
    "        ]\n",
    "    )\n",
    "    w_bounds = [25, 40, 60, 90, 120]\n",
    "    w_labels = [\"25\", \"40\", \"60\", \"90\", \"120+\"]\n",
    "    w_norm = mpl.colors.BoundaryNorm(w_bounds, w_cmap.N)\n",
    "    w = ax.pcolormesh(\n",
    "        ds.longitude,\n",
    "        ds.latitude,\n",
    "        ds.wind.where(ds.wind >= 25),\n",
    "        cmap=w_cmap,\n",
    "        norm=w_norm,\n",
    "        antialiased=True,\n",
    "        transform=pc,\n",
    "    )\n",
    "\n",
    "    fig.text(\n",
    "        0.062,\n",
    "        0.848,\n",
    "        \"(km/h)\",\n",
    "        color=\"black\",\n",
    "        size=15,\n",
    "        transform=ax.transAxes,\n",
    "        ha=\"center\",\n",
    "    )\n",
    "    fig.text(\n",
    "        0.06,\n",
    "        0.85,\n",
    "        \"(km/h)\",\n",
    "        color=\"white\",\n",
    "        size=15,\n",
    "        transform=ax.transAxes,\n",
    "        ha=\"center\",\n",
    "    )\n",
    "\n",
    "    # wind vel colorbar\n",
    "    w_cbar = fig.colorbar(\n",
    "        w,\n",
    "        cmap=w_cmap,\n",
    "        norm=w_norm,\n",
    "        ax=ax,\n",
    "        spacing=\"uniform\",\n",
    "        shrink=0.45,\n",
    "        location=\"left\",\n",
    "        aspect=10,\n",
    "        anchor=(0.15, 0.55),\n",
    "        pad=-0.15,\n",
    "    )\n",
    "    w_cbar.ax.tick_params(\n",
    "        labelsize=15,\n",
    "        labelcolor=\"white\",\n",
    "        length=0,\n",
    "        labelright=True,\n",
    "        labelleft=False,\n",
    "    )\n",
    "    w_cbar.ax.set_yticklabels(w_labels)\n",
    "\n",
    "    # streamplot wind direction\n",
    "    strm = ax.streamplot(\n",
    "        ds.longitude,\n",
    "        ds.latitude,\n",
    "        ds.u,\n",
    "        ds.v,\n",
    "        transform=pc,\n",
    "        color=\"white\",\n",
    "        density=2,\n",
    "        linewidth=0.6,\n",
    "        arrowsize=1.5,\n",
    "    )\n",
    "\n",
    "    make_title(fig, ax, ds, f\"Wind\\n{height} metres\")\n",
    "\n",
    "    # save and close the figure\n",
    "    fig.savefig(\n",
    "        os.path.join(\n",
    "            config[\"plots\"][f\"wind_{height}m\"],\n",
    "            f\"wind{height}m_{ds.model}_{pd.Timestamp(ds.time.values).strftime('%Y_%_h_%d')}_{pd.Timestamp(ds.time.values).strftime('%H')}Z_P{fxx}\",\n",
    "        ),\n",
    "        bbox_inches=\"tight\",\n",
    "        pad_inches=0,\n",
    "    )\n",
    "    fig.clf()\n",
    "\n",
    "    return None"
   ]
  },
  {
   "cell_type": "code",
   "execution_count": 6,
   "id": "331f6f39",
   "metadata": {},
   "outputs": [],
   "source": [
    "def do_wind(run, fxx, config):\n",
    "    \"\"\"\n",
    "    create wind plots in a memory efficient way\n",
    "    \"\"\"\n",
    "    # clear the rdps data folder\n",
    "    clear_dir = [clear_directory(file) for file in list(config[\"data\"].values())]\n",
    "\n",
    "    # get all the 10m wind data and merge it\n",
    "    u10 = get_var(run, \"rdps\", fxx, \"UGRD\", \"TGL_10\")\n",
    "    v10 = get_var(run, \"rdps\", fxx, \"VGRD\", \"TGL_10\")\n",
    "    pres = get_var(run, \"rdps\", fxx, \"PRMSL\", \"MSL_0\")\n",
    "    ds = xr.merge([u10, v10, pres])\n",
    "\n",
    "    # convert sea level pressure to hPa\n",
    "    ds[\"prmsl\"] /= 100\n",
    "\n",
    "    # convert wind from m/s to km/h\n",
    "    ds[\"u10\"] *= 3.6\n",
    "    ds[\"v10\"] *= 3.6\n",
    "\n",
    "    # calculate abs value of windspeed\n",
    "    ds[\"wind\"] = (ds[\"u10\"] ** 2 + ds[\"v10\"] ** 2) ** 0.5\n",
    "\n",
    "    plot_10m_wind(fxx, ds, config)\n",
    "\n",
    "    # do upper winds every 6h\n",
    "    if fxx % 6 == 0:\n",
    "        # clear the rdps data folder again, get 850mb wind for 1500m graphic\n",
    "        clear_dir = [clear_directory(file) for file in list(config[\"data\"].values())]\n",
    "        u850 = get_var(run, \"rdps\", fxx, \"UGRD\", \"ISBL_850\")\n",
    "        v850 = get_var(run, \"rdps\", fxx, \"VGRD\", \"ISBL_850\")\n",
    "        ds = xr.merge([u850, v850])\n",
    "\n",
    "        # convert wind from m/s to km/h\n",
    "        ds[\"u\"] *= 3.6\n",
    "        ds[\"v\"] *= 3.6\n",
    "\n",
    "        # calculate abs value of windspeed\n",
    "        ds[\"wind\"] = (ds[\"u\"] ** 2 + ds[\"v\"] ** 2) ** 0.5\n",
    "\n",
    "        # 1500m graphic\n",
    "        plot_upper_wind(fxx, ds, config, \"1500\")\n",
    "\n",
    "        # clear the rdps data folder again, get 750mb wind for 2500m graphic\n",
    "        clear_dir = [clear_directory(file) for file in list(config[\"data\"].values())]\n",
    "        u750 = get_var(run, \"rdps\", fxx, \"UGRD\", \"ISBL_750\")\n",
    "        v750 = get_var(run, \"rdps\", fxx, \"VGRD\", \"ISBL_750\")\n",
    "        ds = xr.merge([u750, v750])\n",
    "\n",
    "        # convert wind from m/s to km/h\n",
    "        ds[\"u\"] *= 3.6\n",
    "        ds[\"v\"] *= 3.6\n",
    "\n",
    "        # calculate abs value of windspeed\n",
    "        ds[\"wind\"] = (ds[\"u\"] ** 2 + ds[\"v\"] ** 2) ** 0.5\n",
    "\n",
    "        # 2500m graphic\n",
    "        plot_upper_wind(fxx, ds, config, \"2500\")\n",
    "\n",
    "    return None"
   ]
  },
  {
   "cell_type": "code",
   "execution_count": 7,
   "id": "b1f9b45e",
   "metadata": {},
   "outputs": [],
   "source": [
    "def do_rdps(run, fxx, config):\n",
    "    \"\"\"\n",
    "    creates all rdps dependent plots for forecast time fxx\n",
    "    \"\"\"\n",
    "    # clear the rdps data folder\n",
    "    clear_dir = [clear_directory(file) for file in list(config[\"data\"].values())]\n",
    "    # heights to pull geopotentials\n",
    "    hgt = [\"ISBL_1000\", \"ISBL_500\"]\n",
    "\n",
    "    # get all the data and merge it into one big xarray\n",
    "    temp = get_var(run, \"rdps\", fxx, \"TMP\", \"TGL_2\")\n",
    "    height = xr.concat(\n",
    "        [get_var(run, \"rdps\", fxx, \"HGT\", h) for h in hgt], dim=\"isobaricInhPa\"\n",
    "    )\n",
    "    pres = get_var(run, \"rdps\", fxx, \"PRMSL\", \"MSL_0\")\n",
    "    tcdc = get_var(run, \"rdps\", fxx, \"TCDC\", \"SFC_0\")\n",
    "    prate = get_var(run, \"rdps\", fxx, \"PRATE\", \"SFC_0\")\n",
    "\n",
    "    # 12hr accumulation after forecast hour 12 in 6 hr increments\n",
    "    if (fxx >= 12) and (fxx % 6 == 0):\n",
    "        pcp12h = get_var(run, \"rdps\", fxx, \"APCP-Accum12h\", \"SFC_0\")\n",
    "        ds = xr.merge([temp, tcdc, prate, height, pres, pcp12h])\n",
    "    else:\n",
    "        ds = xr.merge([temp, tcdc, prate, height, pres])\n",
    "\n",
    "    # convert precip from kg/m3/s to mm/3h\n",
    "    ds[\"prate\"] *= 3600 * 3\n",
    "\n",
    "    # convert sea level pressure to hPa\n",
    "    ds[\"prmsl\"] /= 100\n",
    "\n",
    "    # convert temps from kelvin to degC\n",
    "    ds[\"t2m\"] -= 273.15\n",
    "\n",
    "    # calculate 1000 - 500mb thickness\n",
    "    ds[\"thick\"] = ds.gh.loc[{\"isobaricInhPa\": 500}] - ds.gh.loc[{\"isobaricInhPa\": 1000}]\n",
    "\n",
    "    # generate plots\n",
    "    plot_surf(fxx, ds, config)\n",
    "    if (fxx >= 12) and (fxx % 6 == 0):\n",
    "        plot_precip12hr(fxx, ds, config)\n",
    "\n",
    "    # run wind function separately to conserve memory\n",
    "    do_wind(run, fxx, config)\n",
    "\n",
    "    return ds"
   ]
  },
  {
   "cell_type": "code",
   "execution_count": 8,
   "id": "0ecf1fda",
   "metadata": {},
   "outputs": [],
   "source": [
    "def main(tstep=range(3, 85, 3)):\n",
    "    \"\"\"\n",
    "    main function to generate all rdps plots for a forecast run\n",
    "    (default 48h with 1h increments)\n",
    "    \"\"\"\n",
    "    # time of last model run (0000, 0600, 1200, 1800 Z)\n",
    "    now = pd.Timestamp.utcnow().floor(\"6h\").tz_localize(None)\n",
    "\n",
    "    # config determines the directories in which to save each graphic\n",
    "    with open(\"..//config/rdps_config.json\") as f:\n",
    "        config = json.load(f)\n",
    "\n",
    "    clear_dir = [clear_directory(file) for file in list(config[\"plots\"].values())]\n",
    "    ds = [do_rdps(now, fxx, config) for fxx in tstep]\n",
    "\n",
    "    return ds"
   ]
  },
  {
   "cell_type": "code",
   "execution_count": 9,
   "id": "25cdbfb1",
   "metadata": {},
   "outputs": [
    {
     "name": "stdout",
     "output_type": "stream",
     "text": [
      "✅ Found ┊ model=rdps ┊ \u001b[3mproduct=10km/grib2/\u001b[0m ┊ \u001b[38;2;41;130;13m2025-Jun-16 00:00 UTC\u001b[92m F03\u001b[0m ┊ \u001b[38;2;255;153;0m\u001b[3mGRIB2 @ msc\u001b[0m ┊ \u001b[38;2;255;153;0m\u001b[3mIDX @ None\u001b[0m\n",
      "👨🏻‍🏭 Created directory: [/Users/andrew/data/rdps/20250616]\n",
      "✅ Found ┊ model=rdps ┊ \u001b[3mproduct=10km/grib2/\u001b[0m ┊ \u001b[38;2;41;130;13m2025-Jun-16 00:00 UTC\u001b[92m F03\u001b[0m ┊ \u001b[38;2;255;153;0m\u001b[3mGRIB2 @ msc\u001b[0m ┊ \u001b[38;2;255;153;0m\u001b[3mIDX @ None\u001b[0m\n",
      "✅ Found ┊ model=rdps ┊ \u001b[3mproduct=10km/grib2/\u001b[0m ┊ \u001b[38;2;41;130;13m2025-Jun-16 00:00 UTC\u001b[92m F03\u001b[0m ┊ \u001b[38;2;255;153;0m\u001b[3mGRIB2 @ msc\u001b[0m ┊ \u001b[38;2;255;153;0m\u001b[3mIDX @ None\u001b[0m\n",
      "✅ Found ┊ model=rdps ┊ \u001b[3mproduct=10km/grib2/\u001b[0m ┊ \u001b[38;2;41;130;13m2025-Jun-16 00:00 UTC\u001b[92m F03\u001b[0m ┊ \u001b[38;2;255;153;0m\u001b[3mGRIB2 @ msc\u001b[0m ┊ \u001b[38;2;255;153;0m\u001b[3mIDX @ None\u001b[0m\n",
      "✅ Found ┊ model=rdps ┊ \u001b[3mproduct=10km/grib2/\u001b[0m ┊ \u001b[38;2;41;130;13m2025-Jun-16 00:00 UTC\u001b[92m F03\u001b[0m ┊ \u001b[38;2;255;153;0m\u001b[3mGRIB2 @ msc\u001b[0m ┊ \u001b[38;2;255;153;0m\u001b[3mIDX @ None\u001b[0m\n",
      "✅ Found ┊ model=rdps ┊ \u001b[3mproduct=10km/grib2/\u001b[0m ┊ \u001b[38;2;41;130;13m2025-Jun-16 00:00 UTC\u001b[92m F03\u001b[0m ┊ \u001b[38;2;255;153;0m\u001b[3mGRIB2 @ msc\u001b[0m ┊ \u001b[38;2;255;153;0m\u001b[3mIDX @ None\u001b[0m\n",
      "✅ Found ┊ model=rdps ┊ \u001b[3mproduct=10km/grib2/\u001b[0m ┊ \u001b[38;2;41;130;13m2025-Jun-16 00:00 UTC\u001b[92m F03\u001b[0m ┊ \u001b[38;2;255;153;0m\u001b[3mGRIB2 @ msc\u001b[0m ┊ \u001b[38;2;255;153;0m\u001b[3mIDX @ None\u001b[0m\n",
      "👨🏻‍🏭 Created directory: [/Users/andrew/data/rdps/20250616]\n",
      "✅ Found ┊ model=rdps ┊ \u001b[3mproduct=10km/grib2/\u001b[0m ┊ \u001b[38;2;41;130;13m2025-Jun-16 00:00 UTC\u001b[92m F03\u001b[0m ┊ \u001b[38;2;255;153;0m\u001b[3mGRIB2 @ msc\u001b[0m ┊ \u001b[38;2;255;153;0m\u001b[3mIDX @ None\u001b[0m\n",
      "✅ Found ┊ model=rdps ┊ \u001b[3mproduct=10km/grib2/\u001b[0m ┊ \u001b[38;2;41;130;13m2025-Jun-16 00:00 UTC\u001b[92m F03\u001b[0m ┊ \u001b[38;2;255;153;0m\u001b[3mGRIB2 @ msc\u001b[0m ┊ \u001b[38;2;255;153;0m\u001b[3mIDX @ None\u001b[0m\n",
      "✅ Found ┊ model=rdps ┊ \u001b[3mproduct=10km/grib2/\u001b[0m ┊ \u001b[38;2;41;130;13m2025-Jun-16 00:00 UTC\u001b[92m F06\u001b[0m ┊ \u001b[38;2;255;153;0m\u001b[3mGRIB2 @ msc\u001b[0m ┊ \u001b[38;2;255;153;0m\u001b[3mIDX @ None\u001b[0m\n",
      "👨🏻‍🏭 Created directory: [/Users/andrew/data/rdps/20250616]\n",
      "✅ Found ┊ model=rdps ┊ \u001b[3mproduct=10km/grib2/\u001b[0m ┊ \u001b[38;2;41;130;13m2025-Jun-16 00:00 UTC\u001b[92m F06\u001b[0m ┊ \u001b[38;2;255;153;0m\u001b[3mGRIB2 @ msc\u001b[0m ┊ \u001b[38;2;255;153;0m\u001b[3mIDX @ None\u001b[0m\n",
      "✅ Found ┊ model=rdps ┊ \u001b[3mproduct=10km/grib2/\u001b[0m ┊ \u001b[38;2;41;130;13m2025-Jun-16 00:00 UTC\u001b[92m F06\u001b[0m ┊ \u001b[38;2;255;153;0m\u001b[3mGRIB2 @ msc\u001b[0m ┊ \u001b[38;2;255;153;0m\u001b[3mIDX @ None\u001b[0m\n",
      "✅ Found ┊ model=rdps ┊ \u001b[3mproduct=10km/grib2/\u001b[0m ┊ \u001b[38;2;41;130;13m2025-Jun-16 00:00 UTC\u001b[92m F06\u001b[0m ┊ \u001b[38;2;255;153;0m\u001b[3mGRIB2 @ msc\u001b[0m ┊ \u001b[38;2;255;153;0m\u001b[3mIDX @ None\u001b[0m\n",
      "✅ Found ┊ model=rdps ┊ \u001b[3mproduct=10km/grib2/\u001b[0m ┊ \u001b[38;2;41;130;13m2025-Jun-16 00:00 UTC\u001b[92m F06\u001b[0m ┊ \u001b[38;2;255;153;0m\u001b[3mGRIB2 @ msc\u001b[0m ┊ \u001b[38;2;255;153;0m\u001b[3mIDX @ None\u001b[0m\n",
      "✅ Found ┊ model=rdps ┊ \u001b[3mproduct=10km/grib2/\u001b[0m ┊ \u001b[38;2;41;130;13m2025-Jun-16 00:00 UTC\u001b[92m F06\u001b[0m ┊ \u001b[38;2;255;153;0m\u001b[3mGRIB2 @ msc\u001b[0m ┊ \u001b[38;2;255;153;0m\u001b[3mIDX @ None\u001b[0m\n",
      "✅ Found ┊ model=rdps ┊ \u001b[3mproduct=10km/grib2/\u001b[0m ┊ \u001b[38;2;41;130;13m2025-Jun-16 00:00 UTC\u001b[92m F06\u001b[0m ┊ \u001b[38;2;255;153;0m\u001b[3mGRIB2 @ msc\u001b[0m ┊ \u001b[38;2;255;153;0m\u001b[3mIDX @ None\u001b[0m\n",
      "👨🏻‍🏭 Created directory: [/Users/andrew/data/rdps/20250616]\n",
      "✅ Found ┊ model=rdps ┊ \u001b[3mproduct=10km/grib2/\u001b[0m ┊ \u001b[38;2;41;130;13m2025-Jun-16 00:00 UTC\u001b[92m F06\u001b[0m ┊ \u001b[38;2;255;153;0m\u001b[3mGRIB2 @ msc\u001b[0m ┊ \u001b[38;2;255;153;0m\u001b[3mIDX @ None\u001b[0m\n",
      "✅ Found ┊ model=rdps ┊ \u001b[3mproduct=10km/grib2/\u001b[0m ┊ \u001b[38;2;41;130;13m2025-Jun-16 00:00 UTC\u001b[92m F06\u001b[0m ┊ \u001b[38;2;255;153;0m\u001b[3mGRIB2 @ msc\u001b[0m ┊ \u001b[38;2;255;153;0m\u001b[3mIDX @ None\u001b[0m\n",
      "✅ Found ┊ model=rdps ┊ \u001b[3mproduct=10km/grib2/\u001b[0m ┊ \u001b[38;2;41;130;13m2025-Jun-16 00:00 UTC\u001b[92m F06\u001b[0m ┊ \u001b[38;2;255;153;0m\u001b[3mGRIB2 @ msc\u001b[0m ┊ \u001b[38;2;255;153;0m\u001b[3mIDX @ None\u001b[0m\n",
      "👨🏻‍🏭 Created directory: [/Users/andrew/data/rdps/20250616]\n",
      "✅ Found ┊ model=rdps ┊ \u001b[3mproduct=10km/grib2/\u001b[0m ┊ \u001b[38;2;41;130;13m2025-Jun-16 00:00 UTC\u001b[92m F06\u001b[0m ┊ \u001b[38;2;255;153;0m\u001b[3mGRIB2 @ msc\u001b[0m ┊ \u001b[38;2;255;153;0m\u001b[3mIDX @ None\u001b[0m\n",
      "✅ Found ┊ model=rdps ┊ \u001b[3mproduct=10km/grib2/\u001b[0m ┊ \u001b[38;2;41;130;13m2025-Jun-16 00:00 UTC\u001b[92m F06\u001b[0m ┊ \u001b[38;2;255;153;0m\u001b[3mGRIB2 @ msc\u001b[0m ┊ \u001b[38;2;255;153;0m\u001b[3mIDX @ None\u001b[0m\n",
      "👨🏻‍🏭 Created directory: [/Users/andrew/data/rdps/20250616]\n",
      "✅ Found ┊ model=rdps ┊ \u001b[3mproduct=10km/grib2/\u001b[0m ┊ \u001b[38;2;41;130;13m2025-Jun-16 00:00 UTC\u001b[92m F06\u001b[0m ┊ \u001b[38;2;255;153;0m\u001b[3mGRIB2 @ msc\u001b[0m ┊ \u001b[38;2;255;153;0m\u001b[3mIDX @ None\u001b[0m\n",
      "✅ Found ┊ model=rdps ┊ \u001b[3mproduct=10km/grib2/\u001b[0m ┊ \u001b[38;2;41;130;13m2025-Jun-16 00:00 UTC\u001b[92m F09\u001b[0m ┊ \u001b[38;2;255;153;0m\u001b[3mGRIB2 @ msc\u001b[0m ┊ \u001b[38;2;255;153;0m\u001b[3mIDX @ None\u001b[0m\n",
      "👨🏻‍🏭 Created directory: [/Users/andrew/data/rdps/20250616]\n",
      "✅ Found ┊ model=rdps ┊ \u001b[3mproduct=10km/grib2/\u001b[0m ┊ \u001b[38;2;41;130;13m2025-Jun-16 00:00 UTC\u001b[92m F09\u001b[0m ┊ \u001b[38;2;255;153;0m\u001b[3mGRIB2 @ msc\u001b[0m ┊ \u001b[38;2;255;153;0m\u001b[3mIDX @ None\u001b[0m\n",
      "✅ Found ┊ model=rdps ┊ \u001b[3mproduct=10km/grib2/\u001b[0m ┊ \u001b[38;2;41;130;13m2025-Jun-16 00:00 UTC\u001b[92m F09\u001b[0m ┊ \u001b[38;2;255;153;0m\u001b[3mGRIB2 @ msc\u001b[0m ┊ \u001b[38;2;255;153;0m\u001b[3mIDX @ None\u001b[0m\n",
      "✅ Found ┊ model=rdps ┊ \u001b[3mproduct=10km/grib2/\u001b[0m ┊ \u001b[38;2;41;130;13m2025-Jun-16 00:00 UTC\u001b[92m F09\u001b[0m ┊ \u001b[38;2;255;153;0m\u001b[3mGRIB2 @ msc\u001b[0m ┊ \u001b[38;2;255;153;0m\u001b[3mIDX @ None\u001b[0m\n",
      "✅ Found ┊ model=rdps ┊ \u001b[3mproduct=10km/grib2/\u001b[0m ┊ \u001b[38;2;41;130;13m2025-Jun-16 00:00 UTC\u001b[92m F09\u001b[0m ┊ \u001b[38;2;255;153;0m\u001b[3mGRIB2 @ msc\u001b[0m ┊ \u001b[38;2;255;153;0m\u001b[3mIDX @ None\u001b[0m\n",
      "✅ Found ┊ model=rdps ┊ \u001b[3mproduct=10km/grib2/\u001b[0m ┊ \u001b[38;2;41;130;13m2025-Jun-16 00:00 UTC\u001b[92m F09\u001b[0m ┊ \u001b[38;2;255;153;0m\u001b[3mGRIB2 @ msc\u001b[0m ┊ \u001b[38;2;255;153;0m\u001b[3mIDX @ None\u001b[0m\n",
      "✅ Found ┊ model=rdps ┊ \u001b[3mproduct=10km/grib2/\u001b[0m ┊ \u001b[38;2;41;130;13m2025-Jun-16 00:00 UTC\u001b[92m F09\u001b[0m ┊ \u001b[38;2;255;153;0m\u001b[3mGRIB2 @ msc\u001b[0m ┊ \u001b[38;2;255;153;0m\u001b[3mIDX @ None\u001b[0m\n",
      "👨🏻‍🏭 Created directory: [/Users/andrew/data/rdps/20250616]\n",
      "✅ Found ┊ model=rdps ┊ \u001b[3mproduct=10km/grib2/\u001b[0m ┊ \u001b[38;2;41;130;13m2025-Jun-16 00:00 UTC\u001b[92m F09\u001b[0m ┊ \u001b[38;2;255;153;0m\u001b[3mGRIB2 @ msc\u001b[0m ┊ \u001b[38;2;255;153;0m\u001b[3mIDX @ None\u001b[0m\n",
      "✅ Found ┊ model=rdps ┊ \u001b[3mproduct=10km/grib2/\u001b[0m ┊ \u001b[38;2;41;130;13m2025-Jun-16 00:00 UTC\u001b[92m F09\u001b[0m ┊ \u001b[38;2;255;153;0m\u001b[3mGRIB2 @ msc\u001b[0m ┊ \u001b[38;2;255;153;0m\u001b[3mIDX @ None\u001b[0m\n",
      "✅ Found ┊ model=rdps ┊ \u001b[3mproduct=10km/grib2/\u001b[0m ┊ \u001b[38;2;41;130;13m2025-Jun-16 00:00 UTC\u001b[92m F12\u001b[0m ┊ \u001b[38;2;255;153;0m\u001b[3mGRIB2 @ msc\u001b[0m ┊ \u001b[38;2;255;153;0m\u001b[3mIDX @ None\u001b[0m\n",
      "👨🏻‍🏭 Created directory: [/Users/andrew/data/rdps/20250616]\n",
      "✅ Found ┊ model=rdps ┊ \u001b[3mproduct=10km/grib2/\u001b[0m ┊ \u001b[38;2;41;130;13m2025-Jun-16 00:00 UTC\u001b[92m F12\u001b[0m ┊ \u001b[38;2;255;153;0m\u001b[3mGRIB2 @ msc\u001b[0m ┊ \u001b[38;2;255;153;0m\u001b[3mIDX @ None\u001b[0m\n",
      "✅ Found ┊ model=rdps ┊ \u001b[3mproduct=10km/grib2/\u001b[0m ┊ \u001b[38;2;41;130;13m2025-Jun-16 00:00 UTC\u001b[92m F12\u001b[0m ┊ \u001b[38;2;255;153;0m\u001b[3mGRIB2 @ msc\u001b[0m ┊ \u001b[38;2;255;153;0m\u001b[3mIDX @ None\u001b[0m\n",
      "✅ Found ┊ model=rdps ┊ \u001b[3mproduct=10km/grib2/\u001b[0m ┊ \u001b[38;2;41;130;13m2025-Jun-16 00:00 UTC\u001b[92m F12\u001b[0m ┊ \u001b[38;2;255;153;0m\u001b[3mGRIB2 @ msc\u001b[0m ┊ \u001b[38;2;255;153;0m\u001b[3mIDX @ None\u001b[0m\n",
      "✅ Found ┊ model=rdps ┊ \u001b[3mproduct=10km/grib2/\u001b[0m ┊ \u001b[38;2;41;130;13m2025-Jun-16 00:00 UTC\u001b[92m F12\u001b[0m ┊ \u001b[38;2;255;153;0m\u001b[3mGRIB2 @ msc\u001b[0m ┊ \u001b[38;2;255;153;0m\u001b[3mIDX @ None\u001b[0m\n",
      "✅ Found ┊ model=rdps ┊ \u001b[3mproduct=10km/grib2/\u001b[0m ┊ \u001b[38;2;41;130;13m2025-Jun-16 00:00 UTC\u001b[92m F12\u001b[0m ┊ \u001b[38;2;255;153;0m\u001b[3mGRIB2 @ msc\u001b[0m ┊ \u001b[38;2;255;153;0m\u001b[3mIDX @ None\u001b[0m\n",
      "✅ Found ┊ model=rdps ┊ \u001b[3mproduct=10km/grib2/\u001b[0m ┊ \u001b[38;2;41;130;13m2025-Jun-16 00:00 UTC\u001b[92m F12\u001b[0m ┊ \u001b[38;2;255;153;0m\u001b[3mGRIB2 @ msc\u001b[0m ┊ \u001b[38;2;255;153;0m\u001b[3mIDX @ None\u001b[0m\n",
      "✅ Found ┊ model=rdps ┊ \u001b[3mproduct=10km/grib2/\u001b[0m ┊ \u001b[38;2;41;130;13m2025-Jun-16 00:00 UTC\u001b[92m F12\u001b[0m ┊ \u001b[38;2;255;153;0m\u001b[3mGRIB2 @ msc\u001b[0m ┊ \u001b[38;2;255;153;0m\u001b[3mIDX @ None\u001b[0m\n",
      "👨🏻‍🏭 Created directory: [/Users/andrew/data/rdps/20250616]\n",
      "✅ Found ┊ model=rdps ┊ \u001b[3mproduct=10km/grib2/\u001b[0m ┊ \u001b[38;2;41;130;13m2025-Jun-16 00:00 UTC\u001b[92m F12\u001b[0m ┊ \u001b[38;2;255;153;0m\u001b[3mGRIB2 @ msc\u001b[0m ┊ \u001b[38;2;255;153;0m\u001b[3mIDX @ None\u001b[0m\n",
      "✅ Found ┊ model=rdps ┊ \u001b[3mproduct=10km/grib2/\u001b[0m ┊ \u001b[38;2;41;130;13m2025-Jun-16 00:00 UTC\u001b[92m F12\u001b[0m ┊ \u001b[38;2;255;153;0m\u001b[3mGRIB2 @ msc\u001b[0m ┊ \u001b[38;2;255;153;0m\u001b[3mIDX @ None\u001b[0m\n",
      "✅ Found ┊ model=rdps ┊ \u001b[3mproduct=10km/grib2/\u001b[0m ┊ \u001b[38;2;41;130;13m2025-Jun-16 00:00 UTC\u001b[92m F12\u001b[0m ┊ \u001b[38;2;255;153;0m\u001b[3mGRIB2 @ msc\u001b[0m ┊ \u001b[38;2;255;153;0m\u001b[3mIDX @ None\u001b[0m\n",
      "👨🏻‍🏭 Created directory: [/Users/andrew/data/rdps/20250616]\n"
     ]
    },
    {
     "name": "stdout",
     "output_type": "stream",
     "text": [
      "✅ Found ┊ model=rdps ┊ \u001b[3mproduct=10km/grib2/\u001b[0m ┊ \u001b[38;2;41;130;13m2025-Jun-16 00:00 UTC\u001b[92m F12\u001b[0m ┊ \u001b[38;2;255;153;0m\u001b[3mGRIB2 @ msc\u001b[0m ┊ \u001b[38;2;255;153;0m\u001b[3mIDX @ None\u001b[0m\n",
      "✅ Found ┊ model=rdps ┊ \u001b[3mproduct=10km/grib2/\u001b[0m ┊ \u001b[38;2;41;130;13m2025-Jun-16 00:00 UTC\u001b[92m F12\u001b[0m ┊ \u001b[38;2;255;153;0m\u001b[3mGRIB2 @ msc\u001b[0m ┊ \u001b[38;2;255;153;0m\u001b[3mIDX @ None\u001b[0m\n",
      "👨🏻‍🏭 Created directory: [/Users/andrew/data/rdps/20250616]\n",
      "✅ Found ┊ model=rdps ┊ \u001b[3mproduct=10km/grib2/\u001b[0m ┊ \u001b[38;2;41;130;13m2025-Jun-16 00:00 UTC\u001b[92m F12\u001b[0m ┊ \u001b[38;2;255;153;0m\u001b[3mGRIB2 @ msc\u001b[0m ┊ \u001b[38;2;255;153;0m\u001b[3mIDX @ None\u001b[0m\n",
      "✅ Found ┊ model=rdps ┊ \u001b[3mproduct=10km/grib2/\u001b[0m ┊ \u001b[38;2;41;130;13m2025-Jun-16 00:00 UTC\u001b[92m F15\u001b[0m ┊ \u001b[38;2;255;153;0m\u001b[3mGRIB2 @ msc\u001b[0m ┊ \u001b[38;2;255;153;0m\u001b[3mIDX @ None\u001b[0m\n",
      "👨🏻‍🏭 Created directory: [/Users/andrew/data/rdps/20250616]\n",
      "✅ Found ┊ model=rdps ┊ \u001b[3mproduct=10km/grib2/\u001b[0m ┊ \u001b[38;2;41;130;13m2025-Jun-16 00:00 UTC\u001b[92m F15\u001b[0m ┊ \u001b[38;2;255;153;0m\u001b[3mGRIB2 @ msc\u001b[0m ┊ \u001b[38;2;255;153;0m\u001b[3mIDX @ None\u001b[0m\n",
      "✅ Found ┊ model=rdps ┊ \u001b[3mproduct=10km/grib2/\u001b[0m ┊ \u001b[38;2;41;130;13m2025-Jun-16 00:00 UTC\u001b[92m F15\u001b[0m ┊ \u001b[38;2;255;153;0m\u001b[3mGRIB2 @ msc\u001b[0m ┊ \u001b[38;2;255;153;0m\u001b[3mIDX @ None\u001b[0m\n",
      "✅ Found ┊ model=rdps ┊ \u001b[3mproduct=10km/grib2/\u001b[0m ┊ \u001b[38;2;41;130;13m2025-Jun-16 00:00 UTC\u001b[92m F15\u001b[0m ┊ \u001b[38;2;255;153;0m\u001b[3mGRIB2 @ msc\u001b[0m ┊ \u001b[38;2;255;153;0m\u001b[3mIDX @ None\u001b[0m\n",
      "✅ Found ┊ model=rdps ┊ \u001b[3mproduct=10km/grib2/\u001b[0m ┊ \u001b[38;2;41;130;13m2025-Jun-16 00:00 UTC\u001b[92m F15\u001b[0m ┊ \u001b[38;2;255;153;0m\u001b[3mGRIB2 @ msc\u001b[0m ┊ \u001b[38;2;255;153;0m\u001b[3mIDX @ None\u001b[0m\n",
      "✅ Found ┊ model=rdps ┊ \u001b[3mproduct=10km/grib2/\u001b[0m ┊ \u001b[38;2;41;130;13m2025-Jun-16 00:00 UTC\u001b[92m F15\u001b[0m ┊ \u001b[38;2;255;153;0m\u001b[3mGRIB2 @ msc\u001b[0m ┊ \u001b[38;2;255;153;0m\u001b[3mIDX @ None\u001b[0m\n",
      "✅ Found ┊ model=rdps ┊ \u001b[3mproduct=10km/grib2/\u001b[0m ┊ \u001b[38;2;41;130;13m2025-Jun-16 00:00 UTC\u001b[92m F15\u001b[0m ┊ \u001b[38;2;255;153;0m\u001b[3mGRIB2 @ msc\u001b[0m ┊ \u001b[38;2;255;153;0m\u001b[3mIDX @ None\u001b[0m\n",
      "👨🏻‍🏭 Created directory: [/Users/andrew/data/rdps/20250616]\n",
      "✅ Found ┊ model=rdps ┊ \u001b[3mproduct=10km/grib2/\u001b[0m ┊ \u001b[38;2;41;130;13m2025-Jun-16 00:00 UTC\u001b[92m F15\u001b[0m ┊ \u001b[38;2;255;153;0m\u001b[3mGRIB2 @ msc\u001b[0m ┊ \u001b[38;2;255;153;0m\u001b[3mIDX @ None\u001b[0m\n",
      "✅ Found ┊ model=rdps ┊ \u001b[3mproduct=10km/grib2/\u001b[0m ┊ \u001b[38;2;41;130;13m2025-Jun-16 00:00 UTC\u001b[92m F15\u001b[0m ┊ \u001b[38;2;255;153;0m\u001b[3mGRIB2 @ msc\u001b[0m ┊ \u001b[38;2;255;153;0m\u001b[3mIDX @ None\u001b[0m\n",
      "✅ Found ┊ model=rdps ┊ \u001b[3mproduct=10km/grib2/\u001b[0m ┊ \u001b[38;2;41;130;13m2025-Jun-16 00:00 UTC\u001b[92m F18\u001b[0m ┊ \u001b[38;2;255;153;0m\u001b[3mGRIB2 @ msc\u001b[0m ┊ \u001b[38;2;255;153;0m\u001b[3mIDX @ None\u001b[0m\n",
      "👨🏻‍🏭 Created directory: [/Users/andrew/data/rdps/20250616]\n",
      "✅ Found ┊ model=rdps ┊ \u001b[3mproduct=10km/grib2/\u001b[0m ┊ \u001b[38;2;41;130;13m2025-Jun-16 00:00 UTC\u001b[92m F18\u001b[0m ┊ \u001b[38;2;255;153;0m\u001b[3mGRIB2 @ msc\u001b[0m ┊ \u001b[38;2;255;153;0m\u001b[3mIDX @ None\u001b[0m\n",
      "✅ Found ┊ model=rdps ┊ \u001b[3mproduct=10km/grib2/\u001b[0m ┊ \u001b[38;2;41;130;13m2025-Jun-16 00:00 UTC\u001b[92m F18\u001b[0m ┊ \u001b[38;2;255;153;0m\u001b[3mGRIB2 @ msc\u001b[0m ┊ \u001b[38;2;255;153;0m\u001b[3mIDX @ None\u001b[0m\n",
      "✅ Found ┊ model=rdps ┊ \u001b[3mproduct=10km/grib2/\u001b[0m ┊ \u001b[38;2;41;130;13m2025-Jun-16 00:00 UTC\u001b[92m F18\u001b[0m ┊ \u001b[38;2;255;153;0m\u001b[3mGRIB2 @ msc\u001b[0m ┊ \u001b[38;2;255;153;0m\u001b[3mIDX @ None\u001b[0m\n",
      "✅ Found ┊ model=rdps ┊ \u001b[3mproduct=10km/grib2/\u001b[0m ┊ \u001b[38;2;41;130;13m2025-Jun-16 00:00 UTC\u001b[92m F18\u001b[0m ┊ \u001b[38;2;255;153;0m\u001b[3mGRIB2 @ msc\u001b[0m ┊ \u001b[38;2;255;153;0m\u001b[3mIDX @ None\u001b[0m\n",
      "✅ Found ┊ model=rdps ┊ \u001b[3mproduct=10km/grib2/\u001b[0m ┊ \u001b[38;2;41;130;13m2025-Jun-16 00:00 UTC\u001b[92m F18\u001b[0m ┊ \u001b[38;2;255;153;0m\u001b[3mGRIB2 @ msc\u001b[0m ┊ \u001b[38;2;255;153;0m\u001b[3mIDX @ None\u001b[0m\n",
      "✅ Found ┊ model=rdps ┊ \u001b[3mproduct=10km/grib2/\u001b[0m ┊ \u001b[38;2;41;130;13m2025-Jun-16 00:00 UTC\u001b[92m F18\u001b[0m ┊ \u001b[38;2;255;153;0m\u001b[3mGRIB2 @ msc\u001b[0m ┊ \u001b[38;2;255;153;0m\u001b[3mIDX @ None\u001b[0m\n",
      "✅ Found ┊ model=rdps ┊ \u001b[3mproduct=10km/grib2/\u001b[0m ┊ \u001b[38;2;41;130;13m2025-Jun-16 00:00 UTC\u001b[92m F18\u001b[0m ┊ \u001b[38;2;255;153;0m\u001b[3mGRIB2 @ msc\u001b[0m ┊ \u001b[38;2;255;153;0m\u001b[3mIDX @ None\u001b[0m\n",
      "👨🏻‍🏭 Created directory: [/Users/andrew/data/rdps/20250616]\n",
      "✅ Found ┊ model=rdps ┊ \u001b[3mproduct=10km/grib2/\u001b[0m ┊ \u001b[38;2;41;130;13m2025-Jun-16 00:00 UTC\u001b[92m F18\u001b[0m ┊ \u001b[38;2;255;153;0m\u001b[3mGRIB2 @ msc\u001b[0m ┊ \u001b[38;2;255;153;0m\u001b[3mIDX @ None\u001b[0m\n",
      "✅ Found ┊ model=rdps ┊ \u001b[3mproduct=10km/grib2/\u001b[0m ┊ \u001b[38;2;41;130;13m2025-Jun-16 00:00 UTC\u001b[92m F18\u001b[0m ┊ \u001b[38;2;255;153;0m\u001b[3mGRIB2 @ msc\u001b[0m ┊ \u001b[38;2;255;153;0m\u001b[3mIDX @ None\u001b[0m\n",
      "✅ Found ┊ model=rdps ┊ \u001b[3mproduct=10km/grib2/\u001b[0m ┊ \u001b[38;2;41;130;13m2025-Jun-16 00:00 UTC\u001b[92m F18\u001b[0m ┊ \u001b[38;2;255;153;0m\u001b[3mGRIB2 @ msc\u001b[0m ┊ \u001b[38;2;255;153;0m\u001b[3mIDX @ None\u001b[0m\n",
      "👨🏻‍🏭 Created directory: [/Users/andrew/data/rdps/20250616]\n",
      "✅ Found ┊ model=rdps ┊ \u001b[3mproduct=10km/grib2/\u001b[0m ┊ \u001b[38;2;41;130;13m2025-Jun-16 00:00 UTC\u001b[92m F18\u001b[0m ┊ \u001b[38;2;255;153;0m\u001b[3mGRIB2 @ msc\u001b[0m ┊ \u001b[38;2;255;153;0m\u001b[3mIDX @ None\u001b[0m\n",
      "✅ Found ┊ model=rdps ┊ \u001b[3mproduct=10km/grib2/\u001b[0m ┊ \u001b[38;2;41;130;13m2025-Jun-16 00:00 UTC\u001b[92m F18\u001b[0m ┊ \u001b[38;2;255;153;0m\u001b[3mGRIB2 @ msc\u001b[0m ┊ \u001b[38;2;255;153;0m\u001b[3mIDX @ None\u001b[0m\n",
      "👨🏻‍🏭 Created directory: [/Users/andrew/data/rdps/20250616]\n",
      "✅ Found ┊ model=rdps ┊ \u001b[3mproduct=10km/grib2/\u001b[0m ┊ \u001b[38;2;41;130;13m2025-Jun-16 00:00 UTC\u001b[92m F18\u001b[0m ┊ \u001b[38;2;255;153;0m\u001b[3mGRIB2 @ msc\u001b[0m ┊ \u001b[38;2;255;153;0m\u001b[3mIDX @ None\u001b[0m\n",
      "✅ Found ┊ model=rdps ┊ \u001b[3mproduct=10km/grib2/\u001b[0m ┊ \u001b[38;2;41;130;13m2025-Jun-16 00:00 UTC\u001b[92m F21\u001b[0m ┊ \u001b[38;2;255;153;0m\u001b[3mGRIB2 @ msc\u001b[0m ┊ \u001b[38;2;255;153;0m\u001b[3mIDX @ None\u001b[0m\n",
      "👨🏻‍🏭 Created directory: [/Users/andrew/data/rdps/20250616]\n",
      "✅ Found ┊ model=rdps ┊ \u001b[3mproduct=10km/grib2/\u001b[0m ┊ \u001b[38;2;41;130;13m2025-Jun-16 00:00 UTC\u001b[92m F21\u001b[0m ┊ \u001b[38;2;255;153;0m\u001b[3mGRIB2 @ msc\u001b[0m ┊ \u001b[38;2;255;153;0m\u001b[3mIDX @ None\u001b[0m\n",
      "✅ Found ┊ model=rdps ┊ \u001b[3mproduct=10km/grib2/\u001b[0m ┊ \u001b[38;2;41;130;13m2025-Jun-16 00:00 UTC\u001b[92m F21\u001b[0m ┊ \u001b[38;2;255;153;0m\u001b[3mGRIB2 @ msc\u001b[0m ┊ \u001b[38;2;255;153;0m\u001b[3mIDX @ None\u001b[0m\n",
      "✅ Found ┊ model=rdps ┊ \u001b[3mproduct=10km/grib2/\u001b[0m ┊ \u001b[38;2;41;130;13m2025-Jun-16 00:00 UTC\u001b[92m F21\u001b[0m ┊ \u001b[38;2;255;153;0m\u001b[3mGRIB2 @ msc\u001b[0m ┊ \u001b[38;2;255;153;0m\u001b[3mIDX @ None\u001b[0m\n",
      "✅ Found ┊ model=rdps ┊ \u001b[3mproduct=10km/grib2/\u001b[0m ┊ \u001b[38;2;41;130;13m2025-Jun-16 00:00 UTC\u001b[92m F21\u001b[0m ┊ \u001b[38;2;255;153;0m\u001b[3mGRIB2 @ msc\u001b[0m ┊ \u001b[38;2;255;153;0m\u001b[3mIDX @ None\u001b[0m\n",
      "✅ Found ┊ model=rdps ┊ \u001b[3mproduct=10km/grib2/\u001b[0m ┊ \u001b[38;2;41;130;13m2025-Jun-16 00:00 UTC\u001b[92m F21\u001b[0m ┊ \u001b[38;2;255;153;0m\u001b[3mGRIB2 @ msc\u001b[0m ┊ \u001b[38;2;255;153;0m\u001b[3mIDX @ None\u001b[0m\n",
      "✅ Found ┊ model=rdps ┊ \u001b[3mproduct=10km/grib2/\u001b[0m ┊ \u001b[38;2;41;130;13m2025-Jun-16 00:00 UTC\u001b[92m F21\u001b[0m ┊ \u001b[38;2;255;153;0m\u001b[3mGRIB2 @ msc\u001b[0m ┊ \u001b[38;2;255;153;0m\u001b[3mIDX @ None\u001b[0m\n",
      "👨🏻‍🏭 Created directory: [/Users/andrew/data/rdps/20250616]\n",
      "✅ Found ┊ model=rdps ┊ \u001b[3mproduct=10km/grib2/\u001b[0m ┊ \u001b[38;2;41;130;13m2025-Jun-16 00:00 UTC\u001b[92m F21\u001b[0m ┊ \u001b[38;2;255;153;0m\u001b[3mGRIB2 @ msc\u001b[0m ┊ \u001b[38;2;255;153;0m\u001b[3mIDX @ None\u001b[0m\n",
      "✅ Found ┊ model=rdps ┊ \u001b[3mproduct=10km/grib2/\u001b[0m ┊ \u001b[38;2;41;130;13m2025-Jun-16 00:00 UTC\u001b[92m F21\u001b[0m ┊ \u001b[38;2;255;153;0m\u001b[3mGRIB2 @ msc\u001b[0m ┊ \u001b[38;2;255;153;0m\u001b[3mIDX @ None\u001b[0m\n",
      "✅ Found ┊ model=rdps ┊ \u001b[3mproduct=10km/grib2/\u001b[0m ┊ \u001b[38;2;41;130;13m2025-Jun-16 00:00 UTC\u001b[92m F24\u001b[0m ┊ \u001b[38;2;255;153;0m\u001b[3mGRIB2 @ msc\u001b[0m ┊ \u001b[38;2;255;153;0m\u001b[3mIDX @ None\u001b[0m\n",
      "👨🏻‍🏭 Created directory: [/Users/andrew/data/rdps/20250616]\n",
      "✅ Found ┊ model=rdps ┊ \u001b[3mproduct=10km/grib2/\u001b[0m ┊ \u001b[38;2;41;130;13m2025-Jun-16 00:00 UTC\u001b[92m F24\u001b[0m ┊ \u001b[38;2;255;153;0m\u001b[3mGRIB2 @ msc\u001b[0m ┊ \u001b[38;2;255;153;0m\u001b[3mIDX @ None\u001b[0m\n",
      "✅ Found ┊ model=rdps ┊ \u001b[3mproduct=10km/grib2/\u001b[0m ┊ \u001b[38;2;41;130;13m2025-Jun-16 00:00 UTC\u001b[92m F24\u001b[0m ┊ \u001b[38;2;255;153;0m\u001b[3mGRIB2 @ msc\u001b[0m ┊ \u001b[38;2;255;153;0m\u001b[3mIDX @ None\u001b[0m\n",
      "✅ Found ┊ model=rdps ┊ \u001b[3mproduct=10km/grib2/\u001b[0m ┊ \u001b[38;2;41;130;13m2025-Jun-16 00:00 UTC\u001b[92m F24\u001b[0m ┊ \u001b[38;2;255;153;0m\u001b[3mGRIB2 @ msc\u001b[0m ┊ \u001b[38;2;255;153;0m\u001b[3mIDX @ None\u001b[0m\n",
      "✅ Found ┊ model=rdps ┊ \u001b[3mproduct=10km/grib2/\u001b[0m ┊ \u001b[38;2;41;130;13m2025-Jun-16 00:00 UTC\u001b[92m F24\u001b[0m ┊ \u001b[38;2;255;153;0m\u001b[3mGRIB2 @ msc\u001b[0m ┊ \u001b[38;2;255;153;0m\u001b[3mIDX @ None\u001b[0m\n",
      "✅ Found ┊ model=rdps ┊ \u001b[3mproduct=10km/grib2/\u001b[0m ┊ \u001b[38;2;41;130;13m2025-Jun-16 00:00 UTC\u001b[92m F24\u001b[0m ┊ \u001b[38;2;255;153;0m\u001b[3mGRIB2 @ msc\u001b[0m ┊ \u001b[38;2;255;153;0m\u001b[3mIDX @ None\u001b[0m\n",
      "✅ Found ┊ model=rdps ┊ \u001b[3mproduct=10km/grib2/\u001b[0m ┊ \u001b[38;2;41;130;13m2025-Jun-16 00:00 UTC\u001b[92m F24\u001b[0m ┊ \u001b[38;2;255;153;0m\u001b[3mGRIB2 @ msc\u001b[0m ┊ \u001b[38;2;255;153;0m\u001b[3mIDX @ None\u001b[0m\n"
     ]
    },
    {
     "name": "stdout",
     "output_type": "stream",
     "text": [
      "✅ Found ┊ model=rdps ┊ \u001b[3mproduct=10km/grib2/\u001b[0m ┊ \u001b[38;2;41;130;13m2025-Jun-16 00:00 UTC\u001b[92m F24\u001b[0m ┊ \u001b[38;2;255;153;0m\u001b[3mGRIB2 @ msc\u001b[0m ┊ \u001b[38;2;255;153;0m\u001b[3mIDX @ None\u001b[0m\n",
      "👨🏻‍🏭 Created directory: [/Users/andrew/data/rdps/20250616]\n",
      "✅ Found ┊ model=rdps ┊ \u001b[3mproduct=10km/grib2/\u001b[0m ┊ \u001b[38;2;41;130;13m2025-Jun-16 00:00 UTC\u001b[92m F24\u001b[0m ┊ \u001b[38;2;255;153;0m\u001b[3mGRIB2 @ msc\u001b[0m ┊ \u001b[38;2;255;153;0m\u001b[3mIDX @ None\u001b[0m\n",
      "✅ Found ┊ model=rdps ┊ \u001b[3mproduct=10km/grib2/\u001b[0m ┊ \u001b[38;2;41;130;13m2025-Jun-16 00:00 UTC\u001b[92m F24\u001b[0m ┊ \u001b[38;2;255;153;0m\u001b[3mGRIB2 @ msc\u001b[0m ┊ \u001b[38;2;255;153;0m\u001b[3mIDX @ None\u001b[0m\n",
      "✅ Found ┊ model=rdps ┊ \u001b[3mproduct=10km/grib2/\u001b[0m ┊ \u001b[38;2;41;130;13m2025-Jun-16 00:00 UTC\u001b[92m F24\u001b[0m ┊ \u001b[38;2;255;153;0m\u001b[3mGRIB2 @ msc\u001b[0m ┊ \u001b[38;2;255;153;0m\u001b[3mIDX @ None\u001b[0m\n",
      "👨🏻‍🏭 Created directory: [/Users/andrew/data/rdps/20250616]\n",
      "✅ Found ┊ model=rdps ┊ \u001b[3mproduct=10km/grib2/\u001b[0m ┊ \u001b[38;2;41;130;13m2025-Jun-16 00:00 UTC\u001b[92m F24\u001b[0m ┊ \u001b[38;2;255;153;0m\u001b[3mGRIB2 @ msc\u001b[0m ┊ \u001b[38;2;255;153;0m\u001b[3mIDX @ None\u001b[0m\n",
      "✅ Found ┊ model=rdps ┊ \u001b[3mproduct=10km/grib2/\u001b[0m ┊ \u001b[38;2;41;130;13m2025-Jun-16 00:00 UTC\u001b[92m F24\u001b[0m ┊ \u001b[38;2;255;153;0m\u001b[3mGRIB2 @ msc\u001b[0m ┊ \u001b[38;2;255;153;0m\u001b[3mIDX @ None\u001b[0m\n",
      "👨🏻‍🏭 Created directory: [/Users/andrew/data/rdps/20250616]\n",
      "✅ Found ┊ model=rdps ┊ \u001b[3mproduct=10km/grib2/\u001b[0m ┊ \u001b[38;2;41;130;13m2025-Jun-16 00:00 UTC\u001b[92m F24\u001b[0m ┊ \u001b[38;2;255;153;0m\u001b[3mGRIB2 @ msc\u001b[0m ┊ \u001b[38;2;255;153;0m\u001b[3mIDX @ None\u001b[0m\n",
      "✅ Found ┊ model=rdps ┊ \u001b[3mproduct=10km/grib2/\u001b[0m ┊ \u001b[38;2;41;130;13m2025-Jun-16 00:00 UTC\u001b[92m F27\u001b[0m ┊ \u001b[38;2;255;153;0m\u001b[3mGRIB2 @ msc\u001b[0m ┊ \u001b[38;2;255;153;0m\u001b[3mIDX @ None\u001b[0m\n",
      "👨🏻‍🏭 Created directory: [/Users/andrew/data/rdps/20250616]\n",
      "✅ Found ┊ model=rdps ┊ \u001b[3mproduct=10km/grib2/\u001b[0m ┊ \u001b[38;2;41;130;13m2025-Jun-16 00:00 UTC\u001b[92m F27\u001b[0m ┊ \u001b[38;2;255;153;0m\u001b[3mGRIB2 @ msc\u001b[0m ┊ \u001b[38;2;255;153;0m\u001b[3mIDX @ None\u001b[0m\n",
      "✅ Found ┊ model=rdps ┊ \u001b[3mproduct=10km/grib2/\u001b[0m ┊ \u001b[38;2;41;130;13m2025-Jun-16 00:00 UTC\u001b[92m F27\u001b[0m ┊ \u001b[38;2;255;153;0m\u001b[3mGRIB2 @ msc\u001b[0m ┊ \u001b[38;2;255;153;0m\u001b[3mIDX @ None\u001b[0m\n",
      "✅ Found ┊ model=rdps ┊ \u001b[3mproduct=10km/grib2/\u001b[0m ┊ \u001b[38;2;41;130;13m2025-Jun-16 00:00 UTC\u001b[92m F27\u001b[0m ┊ \u001b[38;2;255;153;0m\u001b[3mGRIB2 @ msc\u001b[0m ┊ \u001b[38;2;255;153;0m\u001b[3mIDX @ None\u001b[0m\n",
      "✅ Found ┊ model=rdps ┊ \u001b[3mproduct=10km/grib2/\u001b[0m ┊ \u001b[38;2;41;130;13m2025-Jun-16 00:00 UTC\u001b[92m F27\u001b[0m ┊ \u001b[38;2;255;153;0m\u001b[3mGRIB2 @ msc\u001b[0m ┊ \u001b[38;2;255;153;0m\u001b[3mIDX @ None\u001b[0m\n",
      "✅ Found ┊ model=rdps ┊ \u001b[3mproduct=10km/grib2/\u001b[0m ┊ \u001b[38;2;41;130;13m2025-Jun-16 00:00 UTC\u001b[92m F27\u001b[0m ┊ \u001b[38;2;255;153;0m\u001b[3mGRIB2 @ msc\u001b[0m ┊ \u001b[38;2;255;153;0m\u001b[3mIDX @ None\u001b[0m\n",
      "✅ Found ┊ model=rdps ┊ \u001b[3mproduct=10km/grib2/\u001b[0m ┊ \u001b[38;2;41;130;13m2025-Jun-16 00:00 UTC\u001b[92m F27\u001b[0m ┊ \u001b[38;2;255;153;0m\u001b[3mGRIB2 @ msc\u001b[0m ┊ \u001b[38;2;255;153;0m\u001b[3mIDX @ None\u001b[0m\n",
      "👨🏻‍🏭 Created directory: [/Users/andrew/data/rdps/20250616]\n",
      "✅ Found ┊ model=rdps ┊ \u001b[3mproduct=10km/grib2/\u001b[0m ┊ \u001b[38;2;41;130;13m2025-Jun-16 00:00 UTC\u001b[92m F27\u001b[0m ┊ \u001b[38;2;255;153;0m\u001b[3mGRIB2 @ msc\u001b[0m ┊ \u001b[38;2;255;153;0m\u001b[3mIDX @ None\u001b[0m\n",
      "✅ Found ┊ model=rdps ┊ \u001b[3mproduct=10km/grib2/\u001b[0m ┊ \u001b[38;2;41;130;13m2025-Jun-16 00:00 UTC\u001b[92m F27\u001b[0m ┊ \u001b[38;2;255;153;0m\u001b[3mGRIB2 @ msc\u001b[0m ┊ \u001b[38;2;255;153;0m\u001b[3mIDX @ None\u001b[0m\n",
      "✅ Found ┊ model=rdps ┊ \u001b[3mproduct=10km/grib2/\u001b[0m ┊ \u001b[38;2;41;130;13m2025-Jun-16 00:00 UTC\u001b[92m F30\u001b[0m ┊ \u001b[38;2;255;153;0m\u001b[3mGRIB2 @ msc\u001b[0m ┊ \u001b[38;2;255;153;0m\u001b[3mIDX @ None\u001b[0m\n",
      "👨🏻‍🏭 Created directory: [/Users/andrew/data/rdps/20250616]\n",
      "✅ Found ┊ model=rdps ┊ \u001b[3mproduct=10km/grib2/\u001b[0m ┊ \u001b[38;2;41;130;13m2025-Jun-16 00:00 UTC\u001b[92m F30\u001b[0m ┊ \u001b[38;2;255;153;0m\u001b[3mGRIB2 @ msc\u001b[0m ┊ \u001b[38;2;255;153;0m\u001b[3mIDX @ None\u001b[0m\n",
      "✅ Found ┊ model=rdps ┊ \u001b[3mproduct=10km/grib2/\u001b[0m ┊ \u001b[38;2;41;130;13m2025-Jun-16 00:00 UTC\u001b[92m F30\u001b[0m ┊ \u001b[38;2;255;153;0m\u001b[3mGRIB2 @ msc\u001b[0m ┊ \u001b[38;2;255;153;0m\u001b[3mIDX @ None\u001b[0m\n",
      "✅ Found ┊ model=rdps ┊ \u001b[3mproduct=10km/grib2/\u001b[0m ┊ \u001b[38;2;41;130;13m2025-Jun-16 00:00 UTC\u001b[92m F30\u001b[0m ┊ \u001b[38;2;255;153;0m\u001b[3mGRIB2 @ msc\u001b[0m ┊ \u001b[38;2;255;153;0m\u001b[3mIDX @ None\u001b[0m\n",
      "✅ Found ┊ model=rdps ┊ \u001b[3mproduct=10km/grib2/\u001b[0m ┊ \u001b[38;2;41;130;13m2025-Jun-16 00:00 UTC\u001b[92m F30\u001b[0m ┊ \u001b[38;2;255;153;0m\u001b[3mGRIB2 @ msc\u001b[0m ┊ \u001b[38;2;255;153;0m\u001b[3mIDX @ None\u001b[0m\n",
      "✅ Found ┊ model=rdps ┊ \u001b[3mproduct=10km/grib2/\u001b[0m ┊ \u001b[38;2;41;130;13m2025-Jun-16 00:00 UTC\u001b[92m F30\u001b[0m ┊ \u001b[38;2;255;153;0m\u001b[3mGRIB2 @ msc\u001b[0m ┊ \u001b[38;2;255;153;0m\u001b[3mIDX @ None\u001b[0m\n",
      "✅ Found ┊ model=rdps ┊ \u001b[3mproduct=10km/grib2/\u001b[0m ┊ \u001b[38;2;41;130;13m2025-Jun-16 00:00 UTC\u001b[92m F30\u001b[0m ┊ \u001b[38;2;255;153;0m\u001b[3mGRIB2 @ msc\u001b[0m ┊ \u001b[38;2;255;153;0m\u001b[3mIDX @ None\u001b[0m\n",
      "✅ Found ┊ model=rdps ┊ \u001b[3mproduct=10km/grib2/\u001b[0m ┊ \u001b[38;2;41;130;13m2025-Jun-16 00:00 UTC\u001b[92m F30\u001b[0m ┊ \u001b[38;2;255;153;0m\u001b[3mGRIB2 @ msc\u001b[0m ┊ \u001b[38;2;255;153;0m\u001b[3mIDX @ None\u001b[0m\n",
      "👨🏻‍🏭 Created directory: [/Users/andrew/data/rdps/20250616]\n",
      "✅ Found ┊ model=rdps ┊ \u001b[3mproduct=10km/grib2/\u001b[0m ┊ \u001b[38;2;41;130;13m2025-Jun-16 00:00 UTC\u001b[92m F30\u001b[0m ┊ \u001b[38;2;255;153;0m\u001b[3mGRIB2 @ msc\u001b[0m ┊ \u001b[38;2;255;153;0m\u001b[3mIDX @ None\u001b[0m\n",
      "✅ Found ┊ model=rdps ┊ \u001b[3mproduct=10km/grib2/\u001b[0m ┊ \u001b[38;2;41;130;13m2025-Jun-16 00:00 UTC\u001b[92m F30\u001b[0m ┊ \u001b[38;2;255;153;0m\u001b[3mGRIB2 @ msc\u001b[0m ┊ \u001b[38;2;255;153;0m\u001b[3mIDX @ None\u001b[0m\n",
      "✅ Found ┊ model=rdps ┊ \u001b[3mproduct=10km/grib2/\u001b[0m ┊ \u001b[38;2;41;130;13m2025-Jun-16 00:00 UTC\u001b[92m F30\u001b[0m ┊ \u001b[38;2;255;153;0m\u001b[3mGRIB2 @ msc\u001b[0m ┊ \u001b[38;2;255;153;0m\u001b[3mIDX @ None\u001b[0m\n",
      "👨🏻‍🏭 Created directory: [/Users/andrew/data/rdps/20250616]\n",
      "✅ Found ┊ model=rdps ┊ \u001b[3mproduct=10km/grib2/\u001b[0m ┊ \u001b[38;2;41;130;13m2025-Jun-16 00:00 UTC\u001b[92m F30\u001b[0m ┊ \u001b[38;2;255;153;0m\u001b[3mGRIB2 @ msc\u001b[0m ┊ \u001b[38;2;255;153;0m\u001b[3mIDX @ None\u001b[0m\n",
      "✅ Found ┊ model=rdps ┊ \u001b[3mproduct=10km/grib2/\u001b[0m ┊ \u001b[38;2;41;130;13m2025-Jun-16 00:00 UTC\u001b[92m F30\u001b[0m ┊ \u001b[38;2;255;153;0m\u001b[3mGRIB2 @ msc\u001b[0m ┊ \u001b[38;2;255;153;0m\u001b[3mIDX @ None\u001b[0m\n",
      "👨🏻‍🏭 Created directory: [/Users/andrew/data/rdps/20250616]\n",
      "✅ Found ┊ model=rdps ┊ \u001b[3mproduct=10km/grib2/\u001b[0m ┊ \u001b[38;2;41;130;13m2025-Jun-16 00:00 UTC\u001b[92m F30\u001b[0m ┊ \u001b[38;2;255;153;0m\u001b[3mGRIB2 @ msc\u001b[0m ┊ \u001b[38;2;255;153;0m\u001b[3mIDX @ None\u001b[0m\n",
      "✅ Found ┊ model=rdps ┊ \u001b[3mproduct=10km/grib2/\u001b[0m ┊ \u001b[38;2;41;130;13m2025-Jun-16 00:00 UTC\u001b[92m F33\u001b[0m ┊ \u001b[38;2;255;153;0m\u001b[3mGRIB2 @ msc\u001b[0m ┊ \u001b[38;2;255;153;0m\u001b[3mIDX @ None\u001b[0m\n",
      "👨🏻‍🏭 Created directory: [/Users/andrew/data/rdps/20250616]\n",
      "✅ Found ┊ model=rdps ┊ \u001b[3mproduct=10km/grib2/\u001b[0m ┊ \u001b[38;2;41;130;13m2025-Jun-16 00:00 UTC\u001b[92m F33\u001b[0m ┊ \u001b[38;2;255;153;0m\u001b[3mGRIB2 @ msc\u001b[0m ┊ \u001b[38;2;255;153;0m\u001b[3mIDX @ None\u001b[0m\n",
      "✅ Found ┊ model=rdps ┊ \u001b[3mproduct=10km/grib2/\u001b[0m ┊ \u001b[38;2;41;130;13m2025-Jun-16 00:00 UTC\u001b[92m F33\u001b[0m ┊ \u001b[38;2;255;153;0m\u001b[3mGRIB2 @ msc\u001b[0m ┊ \u001b[38;2;255;153;0m\u001b[3mIDX @ None\u001b[0m\n",
      "✅ Found ┊ model=rdps ┊ \u001b[3mproduct=10km/grib2/\u001b[0m ┊ \u001b[38;2;41;130;13m2025-Jun-16 00:00 UTC\u001b[92m F33\u001b[0m ┊ \u001b[38;2;255;153;0m\u001b[3mGRIB2 @ msc\u001b[0m ┊ \u001b[38;2;255;153;0m\u001b[3mIDX @ None\u001b[0m\n",
      "✅ Found ┊ model=rdps ┊ \u001b[3mproduct=10km/grib2/\u001b[0m ┊ \u001b[38;2;41;130;13m2025-Jun-16 00:00 UTC\u001b[92m F33\u001b[0m ┊ \u001b[38;2;255;153;0m\u001b[3mGRIB2 @ msc\u001b[0m ┊ \u001b[38;2;255;153;0m\u001b[3mIDX @ None\u001b[0m\n",
      "✅ Found ┊ model=rdps ┊ \u001b[3mproduct=10km/grib2/\u001b[0m ┊ \u001b[38;2;41;130;13m2025-Jun-16 00:00 UTC\u001b[92m F33\u001b[0m ┊ \u001b[38;2;255;153;0m\u001b[3mGRIB2 @ msc\u001b[0m ┊ \u001b[38;2;255;153;0m\u001b[3mIDX @ None\u001b[0m\n",
      "✅ Found ┊ model=rdps ┊ \u001b[3mproduct=10km/grib2/\u001b[0m ┊ \u001b[38;2;41;130;13m2025-Jun-16 00:00 UTC\u001b[92m F33\u001b[0m ┊ \u001b[38;2;255;153;0m\u001b[3mGRIB2 @ msc\u001b[0m ┊ \u001b[38;2;255;153;0m\u001b[3mIDX @ None\u001b[0m\n",
      "👨🏻‍🏭 Created directory: [/Users/andrew/data/rdps/20250616]\n",
      "✅ Found ┊ model=rdps ┊ \u001b[3mproduct=10km/grib2/\u001b[0m ┊ \u001b[38;2;41;130;13m2025-Jun-16 00:00 UTC\u001b[92m F33\u001b[0m ┊ \u001b[38;2;255;153;0m\u001b[3mGRIB2 @ msc\u001b[0m ┊ \u001b[38;2;255;153;0m\u001b[3mIDX @ None\u001b[0m\n",
      "✅ Found ┊ model=rdps ┊ \u001b[3mproduct=10km/grib2/\u001b[0m ┊ \u001b[38;2;41;130;13m2025-Jun-16 00:00 UTC\u001b[92m F33\u001b[0m ┊ \u001b[38;2;255;153;0m\u001b[3mGRIB2 @ msc\u001b[0m ┊ \u001b[38;2;255;153;0m\u001b[3mIDX @ None\u001b[0m\n",
      "✅ Found ┊ model=rdps ┊ \u001b[3mproduct=10km/grib2/\u001b[0m ┊ \u001b[38;2;41;130;13m2025-Jun-16 00:00 UTC\u001b[92m F36\u001b[0m ┊ \u001b[38;2;255;153;0m\u001b[3mGRIB2 @ msc\u001b[0m ┊ \u001b[38;2;255;153;0m\u001b[3mIDX @ None\u001b[0m\n",
      "👨🏻‍🏭 Created directory: [/Users/andrew/data/rdps/20250616]\n",
      "✅ Found ┊ model=rdps ┊ \u001b[3mproduct=10km/grib2/\u001b[0m ┊ \u001b[38;2;41;130;13m2025-Jun-16 00:00 UTC\u001b[92m F36\u001b[0m ┊ \u001b[38;2;255;153;0m\u001b[3mGRIB2 @ msc\u001b[0m ┊ \u001b[38;2;255;153;0m\u001b[3mIDX @ None\u001b[0m\n"
     ]
    },
    {
     "name": "stdout",
     "output_type": "stream",
     "text": [
      "✅ Found ┊ model=rdps ┊ \u001b[3mproduct=10km/grib2/\u001b[0m ┊ \u001b[38;2;41;130;13m2025-Jun-16 00:00 UTC\u001b[92m F36\u001b[0m ┊ \u001b[38;2;255;153;0m\u001b[3mGRIB2 @ msc\u001b[0m ┊ \u001b[38;2;255;153;0m\u001b[3mIDX @ None\u001b[0m\n",
      "✅ Found ┊ model=rdps ┊ \u001b[3mproduct=10km/grib2/\u001b[0m ┊ \u001b[38;2;41;130;13m2025-Jun-16 00:00 UTC\u001b[92m F36\u001b[0m ┊ \u001b[38;2;255;153;0m\u001b[3mGRIB2 @ msc\u001b[0m ┊ \u001b[38;2;255;153;0m\u001b[3mIDX @ None\u001b[0m\n",
      "✅ Found ┊ model=rdps ┊ \u001b[3mproduct=10km/grib2/\u001b[0m ┊ \u001b[38;2;41;130;13m2025-Jun-16 00:00 UTC\u001b[92m F36\u001b[0m ┊ \u001b[38;2;255;153;0m\u001b[3mGRIB2 @ msc\u001b[0m ┊ \u001b[38;2;255;153;0m\u001b[3mIDX @ None\u001b[0m\n",
      "✅ Found ┊ model=rdps ┊ \u001b[3mproduct=10km/grib2/\u001b[0m ┊ \u001b[38;2;41;130;13m2025-Jun-16 00:00 UTC\u001b[92m F36\u001b[0m ┊ \u001b[38;2;255;153;0m\u001b[3mGRIB2 @ msc\u001b[0m ┊ \u001b[38;2;255;153;0m\u001b[3mIDX @ None\u001b[0m\n",
      "✅ Found ┊ model=rdps ┊ \u001b[3mproduct=10km/grib2/\u001b[0m ┊ \u001b[38;2;41;130;13m2025-Jun-16 00:00 UTC\u001b[92m F36\u001b[0m ┊ \u001b[38;2;255;153;0m\u001b[3mGRIB2 @ msc\u001b[0m ┊ \u001b[38;2;255;153;0m\u001b[3mIDX @ None\u001b[0m\n",
      "✅ Found ┊ model=rdps ┊ \u001b[3mproduct=10km/grib2/\u001b[0m ┊ \u001b[38;2;41;130;13m2025-Jun-16 00:00 UTC\u001b[92m F36\u001b[0m ┊ \u001b[38;2;255;153;0m\u001b[3mGRIB2 @ msc\u001b[0m ┊ \u001b[38;2;255;153;0m\u001b[3mIDX @ None\u001b[0m\n",
      "👨🏻‍🏭 Created directory: [/Users/andrew/data/rdps/20250616]\n",
      "✅ Found ┊ model=rdps ┊ \u001b[3mproduct=10km/grib2/\u001b[0m ┊ \u001b[38;2;41;130;13m2025-Jun-16 00:00 UTC\u001b[92m F36\u001b[0m ┊ \u001b[38;2;255;153;0m\u001b[3mGRIB2 @ msc\u001b[0m ┊ \u001b[38;2;255;153;0m\u001b[3mIDX @ None\u001b[0m\n",
      "✅ Found ┊ model=rdps ┊ \u001b[3mproduct=10km/grib2/\u001b[0m ┊ \u001b[38;2;41;130;13m2025-Jun-16 00:00 UTC\u001b[92m F36\u001b[0m ┊ \u001b[38;2;255;153;0m\u001b[3mGRIB2 @ msc\u001b[0m ┊ \u001b[38;2;255;153;0m\u001b[3mIDX @ None\u001b[0m\n",
      "✅ Found ┊ model=rdps ┊ \u001b[3mproduct=10km/grib2/\u001b[0m ┊ \u001b[38;2;41;130;13m2025-Jun-16 00:00 UTC\u001b[92m F36\u001b[0m ┊ \u001b[38;2;255;153;0m\u001b[3mGRIB2 @ msc\u001b[0m ┊ \u001b[38;2;255;153;0m\u001b[3mIDX @ None\u001b[0m\n",
      "👨🏻‍🏭 Created directory: [/Users/andrew/data/rdps/20250616]\n",
      "✅ Found ┊ model=rdps ┊ \u001b[3mproduct=10km/grib2/\u001b[0m ┊ \u001b[38;2;41;130;13m2025-Jun-16 00:00 UTC\u001b[92m F36\u001b[0m ┊ \u001b[38;2;255;153;0m\u001b[3mGRIB2 @ msc\u001b[0m ┊ \u001b[38;2;255;153;0m\u001b[3mIDX @ None\u001b[0m\n",
      "✅ Found ┊ model=rdps ┊ \u001b[3mproduct=10km/grib2/\u001b[0m ┊ \u001b[38;2;41;130;13m2025-Jun-16 00:00 UTC\u001b[92m F36\u001b[0m ┊ \u001b[38;2;255;153;0m\u001b[3mGRIB2 @ msc\u001b[0m ┊ \u001b[38;2;255;153;0m\u001b[3mIDX @ None\u001b[0m\n",
      "👨🏻‍🏭 Created directory: [/Users/andrew/data/rdps/20250616]\n",
      "✅ Found ┊ model=rdps ┊ \u001b[3mproduct=10km/grib2/\u001b[0m ┊ \u001b[38;2;41;130;13m2025-Jun-16 00:00 UTC\u001b[92m F36\u001b[0m ┊ \u001b[38;2;255;153;0m\u001b[3mGRIB2 @ msc\u001b[0m ┊ \u001b[38;2;255;153;0m\u001b[3mIDX @ None\u001b[0m\n",
      "✅ Found ┊ model=rdps ┊ \u001b[3mproduct=10km/grib2/\u001b[0m ┊ \u001b[38;2;41;130;13m2025-Jun-16 00:00 UTC\u001b[92m F39\u001b[0m ┊ \u001b[38;2;255;153;0m\u001b[3mGRIB2 @ msc\u001b[0m ┊ \u001b[38;2;255;153;0m\u001b[3mIDX @ None\u001b[0m\n",
      "👨🏻‍🏭 Created directory: [/Users/andrew/data/rdps/20250616]\n",
      "✅ Found ┊ model=rdps ┊ \u001b[3mproduct=10km/grib2/\u001b[0m ┊ \u001b[38;2;41;130;13m2025-Jun-16 00:00 UTC\u001b[92m F39\u001b[0m ┊ \u001b[38;2;255;153;0m\u001b[3mGRIB2 @ msc\u001b[0m ┊ \u001b[38;2;255;153;0m\u001b[3mIDX @ None\u001b[0m\n",
      "✅ Found ┊ model=rdps ┊ \u001b[3mproduct=10km/grib2/\u001b[0m ┊ \u001b[38;2;41;130;13m2025-Jun-16 00:00 UTC\u001b[92m F39\u001b[0m ┊ \u001b[38;2;255;153;0m\u001b[3mGRIB2 @ msc\u001b[0m ┊ \u001b[38;2;255;153;0m\u001b[3mIDX @ None\u001b[0m\n",
      "✅ Found ┊ model=rdps ┊ \u001b[3mproduct=10km/grib2/\u001b[0m ┊ \u001b[38;2;41;130;13m2025-Jun-16 00:00 UTC\u001b[92m F39\u001b[0m ┊ \u001b[38;2;255;153;0m\u001b[3mGRIB2 @ msc\u001b[0m ┊ \u001b[38;2;255;153;0m\u001b[3mIDX @ None\u001b[0m\n",
      "✅ Found ┊ model=rdps ┊ \u001b[3mproduct=10km/grib2/\u001b[0m ┊ \u001b[38;2;41;130;13m2025-Jun-16 00:00 UTC\u001b[92m F39\u001b[0m ┊ \u001b[38;2;255;153;0m\u001b[3mGRIB2 @ msc\u001b[0m ┊ \u001b[38;2;255;153;0m\u001b[3mIDX @ None\u001b[0m\n",
      "✅ Found ┊ model=rdps ┊ \u001b[3mproduct=10km/grib2/\u001b[0m ┊ \u001b[38;2;41;130;13m2025-Jun-16 00:00 UTC\u001b[92m F39\u001b[0m ┊ \u001b[38;2;255;153;0m\u001b[3mGRIB2 @ msc\u001b[0m ┊ \u001b[38;2;255;153;0m\u001b[3mIDX @ None\u001b[0m\n",
      "✅ Found ┊ model=rdps ┊ \u001b[3mproduct=10km/grib2/\u001b[0m ┊ \u001b[38;2;41;130;13m2025-Jun-16 00:00 UTC\u001b[92m F39\u001b[0m ┊ \u001b[38;2;255;153;0m\u001b[3mGRIB2 @ msc\u001b[0m ┊ \u001b[38;2;255;153;0m\u001b[3mIDX @ None\u001b[0m\n",
      "👨🏻‍🏭 Created directory: [/Users/andrew/data/rdps/20250616]\n",
      "✅ Found ┊ model=rdps ┊ \u001b[3mproduct=10km/grib2/\u001b[0m ┊ \u001b[38;2;41;130;13m2025-Jun-16 00:00 UTC\u001b[92m F39\u001b[0m ┊ \u001b[38;2;255;153;0m\u001b[3mGRIB2 @ msc\u001b[0m ┊ \u001b[38;2;255;153;0m\u001b[3mIDX @ None\u001b[0m\n",
      "✅ Found ┊ model=rdps ┊ \u001b[3mproduct=10km/grib2/\u001b[0m ┊ \u001b[38;2;41;130;13m2025-Jun-16 00:00 UTC\u001b[92m F39\u001b[0m ┊ \u001b[38;2;255;153;0m\u001b[3mGRIB2 @ msc\u001b[0m ┊ \u001b[38;2;255;153;0m\u001b[3mIDX @ None\u001b[0m\n",
      "✅ Found ┊ model=rdps ┊ \u001b[3mproduct=10km/grib2/\u001b[0m ┊ \u001b[38;2;41;130;13m2025-Jun-16 00:00 UTC\u001b[92m F42\u001b[0m ┊ \u001b[38;2;255;153;0m\u001b[3mGRIB2 @ msc\u001b[0m ┊ \u001b[38;2;255;153;0m\u001b[3mIDX @ None\u001b[0m\n",
      "👨🏻‍🏭 Created directory: [/Users/andrew/data/rdps/20250616]\n",
      "✅ Found ┊ model=rdps ┊ \u001b[3mproduct=10km/grib2/\u001b[0m ┊ \u001b[38;2;41;130;13m2025-Jun-16 00:00 UTC\u001b[92m F42\u001b[0m ┊ \u001b[38;2;255;153;0m\u001b[3mGRIB2 @ msc\u001b[0m ┊ \u001b[38;2;255;153;0m\u001b[3mIDX @ None\u001b[0m\n",
      "✅ Found ┊ model=rdps ┊ \u001b[3mproduct=10km/grib2/\u001b[0m ┊ \u001b[38;2;41;130;13m2025-Jun-16 00:00 UTC\u001b[92m F42\u001b[0m ┊ \u001b[38;2;255;153;0m\u001b[3mGRIB2 @ msc\u001b[0m ┊ \u001b[38;2;255;153;0m\u001b[3mIDX @ None\u001b[0m\n",
      "✅ Found ┊ model=rdps ┊ \u001b[3mproduct=10km/grib2/\u001b[0m ┊ \u001b[38;2;41;130;13m2025-Jun-16 00:00 UTC\u001b[92m F42\u001b[0m ┊ \u001b[38;2;255;153;0m\u001b[3mGRIB2 @ msc\u001b[0m ┊ \u001b[38;2;255;153;0m\u001b[3mIDX @ None\u001b[0m\n",
      "✅ Found ┊ model=rdps ┊ \u001b[3mproduct=10km/grib2/\u001b[0m ┊ \u001b[38;2;41;130;13m2025-Jun-16 00:00 UTC\u001b[92m F42\u001b[0m ┊ \u001b[38;2;255;153;0m\u001b[3mGRIB2 @ msc\u001b[0m ┊ \u001b[38;2;255;153;0m\u001b[3mIDX @ None\u001b[0m\n",
      "✅ Found ┊ model=rdps ┊ \u001b[3mproduct=10km/grib2/\u001b[0m ┊ \u001b[38;2;41;130;13m2025-Jun-16 00:00 UTC\u001b[92m F42\u001b[0m ┊ \u001b[38;2;255;153;0m\u001b[3mGRIB2 @ msc\u001b[0m ┊ \u001b[38;2;255;153;0m\u001b[3mIDX @ None\u001b[0m\n",
      "✅ Found ┊ model=rdps ┊ \u001b[3mproduct=10km/grib2/\u001b[0m ┊ \u001b[38;2;41;130;13m2025-Jun-16 00:00 UTC\u001b[92m F42\u001b[0m ┊ \u001b[38;2;255;153;0m\u001b[3mGRIB2 @ msc\u001b[0m ┊ \u001b[38;2;255;153;0m\u001b[3mIDX @ None\u001b[0m\n",
      "✅ Found ┊ model=rdps ┊ \u001b[3mproduct=10km/grib2/\u001b[0m ┊ \u001b[38;2;41;130;13m2025-Jun-16 00:00 UTC\u001b[92m F42\u001b[0m ┊ \u001b[38;2;255;153;0m\u001b[3mGRIB2 @ msc\u001b[0m ┊ \u001b[38;2;255;153;0m\u001b[3mIDX @ None\u001b[0m\n",
      "👨🏻‍🏭 Created directory: [/Users/andrew/data/rdps/20250616]\n",
      "✅ Found ┊ model=rdps ┊ \u001b[3mproduct=10km/grib2/\u001b[0m ┊ \u001b[38;2;41;130;13m2025-Jun-16 00:00 UTC\u001b[92m F42\u001b[0m ┊ \u001b[38;2;255;153;0m\u001b[3mGRIB2 @ msc\u001b[0m ┊ \u001b[38;2;255;153;0m\u001b[3mIDX @ None\u001b[0m\n",
      "✅ Found ┊ model=rdps ┊ \u001b[3mproduct=10km/grib2/\u001b[0m ┊ \u001b[38;2;41;130;13m2025-Jun-16 00:00 UTC\u001b[92m F42\u001b[0m ┊ \u001b[38;2;255;153;0m\u001b[3mGRIB2 @ msc\u001b[0m ┊ \u001b[38;2;255;153;0m\u001b[3mIDX @ None\u001b[0m\n",
      "✅ Found ┊ model=rdps ┊ \u001b[3mproduct=10km/grib2/\u001b[0m ┊ \u001b[38;2;41;130;13m2025-Jun-16 00:00 UTC\u001b[92m F42\u001b[0m ┊ \u001b[38;2;255;153;0m\u001b[3mGRIB2 @ msc\u001b[0m ┊ \u001b[38;2;255;153;0m\u001b[3mIDX @ None\u001b[0m\n",
      "👨🏻‍🏭 Created directory: [/Users/andrew/data/rdps/20250616]\n",
      "✅ Found ┊ model=rdps ┊ \u001b[3mproduct=10km/grib2/\u001b[0m ┊ \u001b[38;2;41;130;13m2025-Jun-16 00:00 UTC\u001b[92m F42\u001b[0m ┊ \u001b[38;2;255;153;0m\u001b[3mGRIB2 @ msc\u001b[0m ┊ \u001b[38;2;255;153;0m\u001b[3mIDX @ None\u001b[0m\n",
      "✅ Found ┊ model=rdps ┊ \u001b[3mproduct=10km/grib2/\u001b[0m ┊ \u001b[38;2;41;130;13m2025-Jun-16 00:00 UTC\u001b[92m F42\u001b[0m ┊ \u001b[38;2;255;153;0m\u001b[3mGRIB2 @ msc\u001b[0m ┊ \u001b[38;2;255;153;0m\u001b[3mIDX @ None\u001b[0m\n",
      "👨🏻‍🏭 Created directory: [/Users/andrew/data/rdps/20250616]\n",
      "✅ Found ┊ model=rdps ┊ \u001b[3mproduct=10km/grib2/\u001b[0m ┊ \u001b[38;2;41;130;13m2025-Jun-16 00:00 UTC\u001b[92m F42\u001b[0m ┊ \u001b[38;2;255;153;0m\u001b[3mGRIB2 @ msc\u001b[0m ┊ \u001b[38;2;255;153;0m\u001b[3mIDX @ None\u001b[0m\n",
      "✅ Found ┊ model=rdps ┊ \u001b[3mproduct=10km/grib2/\u001b[0m ┊ \u001b[38;2;41;130;13m2025-Jun-16 00:00 UTC\u001b[92m F45\u001b[0m ┊ \u001b[38;2;255;153;0m\u001b[3mGRIB2 @ msc\u001b[0m ┊ \u001b[38;2;255;153;0m\u001b[3mIDX @ None\u001b[0m\n",
      "👨🏻‍🏭 Created directory: [/Users/andrew/data/rdps/20250616]\n",
      "✅ Found ┊ model=rdps ┊ \u001b[3mproduct=10km/grib2/\u001b[0m ┊ \u001b[38;2;41;130;13m2025-Jun-16 00:00 UTC\u001b[92m F45\u001b[0m ┊ \u001b[38;2;255;153;0m\u001b[3mGRIB2 @ msc\u001b[0m ┊ \u001b[38;2;255;153;0m\u001b[3mIDX @ None\u001b[0m\n",
      "✅ Found ┊ model=rdps ┊ \u001b[3mproduct=10km/grib2/\u001b[0m ┊ \u001b[38;2;41;130;13m2025-Jun-16 00:00 UTC\u001b[92m F45\u001b[0m ┊ \u001b[38;2;255;153;0m\u001b[3mGRIB2 @ msc\u001b[0m ┊ \u001b[38;2;255;153;0m\u001b[3mIDX @ None\u001b[0m\n",
      "✅ Found ┊ model=rdps ┊ \u001b[3mproduct=10km/grib2/\u001b[0m ┊ \u001b[38;2;41;130;13m2025-Jun-16 00:00 UTC\u001b[92m F45\u001b[0m ┊ \u001b[38;2;255;153;0m\u001b[3mGRIB2 @ msc\u001b[0m ┊ \u001b[38;2;255;153;0m\u001b[3mIDX @ None\u001b[0m\n",
      "✅ Found ┊ model=rdps ┊ \u001b[3mproduct=10km/grib2/\u001b[0m ┊ \u001b[38;2;41;130;13m2025-Jun-16 00:00 UTC\u001b[92m F45\u001b[0m ┊ \u001b[38;2;255;153;0m\u001b[3mGRIB2 @ msc\u001b[0m ┊ \u001b[38;2;255;153;0m\u001b[3mIDX @ None\u001b[0m\n",
      "✅ Found ┊ model=rdps ┊ \u001b[3mproduct=10km/grib2/\u001b[0m ┊ \u001b[38;2;41;130;13m2025-Jun-16 00:00 UTC\u001b[92m F45\u001b[0m ┊ \u001b[38;2;255;153;0m\u001b[3mGRIB2 @ msc\u001b[0m ┊ \u001b[38;2;255;153;0m\u001b[3mIDX @ None\u001b[0m\n",
      "✅ Found ┊ model=rdps ┊ \u001b[3mproduct=10km/grib2/\u001b[0m ┊ \u001b[38;2;41;130;13m2025-Jun-16 00:00 UTC\u001b[92m F45\u001b[0m ┊ \u001b[38;2;255;153;0m\u001b[3mGRIB2 @ msc\u001b[0m ┊ \u001b[38;2;255;153;0m\u001b[3mIDX @ None\u001b[0m\n",
      "👨🏻‍🏭 Created directory: [/Users/andrew/data/rdps/20250616]\n"
     ]
    },
    {
     "name": "stdout",
     "output_type": "stream",
     "text": [
      "✅ Found ┊ model=rdps ┊ \u001b[3mproduct=10km/grib2/\u001b[0m ┊ \u001b[38;2;41;130;13m2025-Jun-16 00:00 UTC\u001b[92m F45\u001b[0m ┊ \u001b[38;2;255;153;0m\u001b[3mGRIB2 @ msc\u001b[0m ┊ \u001b[38;2;255;153;0m\u001b[3mIDX @ None\u001b[0m\n",
      "✅ Found ┊ model=rdps ┊ \u001b[3mproduct=10km/grib2/\u001b[0m ┊ \u001b[38;2;41;130;13m2025-Jun-16 00:00 UTC\u001b[92m F45\u001b[0m ┊ \u001b[38;2;255;153;0m\u001b[3mGRIB2 @ msc\u001b[0m ┊ \u001b[38;2;255;153;0m\u001b[3mIDX @ None\u001b[0m\n",
      "✅ Found ┊ model=rdps ┊ \u001b[3mproduct=10km/grib2/\u001b[0m ┊ \u001b[38;2;41;130;13m2025-Jun-16 00:00 UTC\u001b[92m F48\u001b[0m ┊ \u001b[38;2;255;153;0m\u001b[3mGRIB2 @ msc\u001b[0m ┊ \u001b[38;2;255;153;0m\u001b[3mIDX @ None\u001b[0m\n",
      "👨🏻‍🏭 Created directory: [/Users/andrew/data/rdps/20250616]\n",
      "✅ Found ┊ model=rdps ┊ \u001b[3mproduct=10km/grib2/\u001b[0m ┊ \u001b[38;2;41;130;13m2025-Jun-16 00:00 UTC\u001b[92m F48\u001b[0m ┊ \u001b[38;2;255;153;0m\u001b[3mGRIB2 @ msc\u001b[0m ┊ \u001b[38;2;255;153;0m\u001b[3mIDX @ None\u001b[0m\n",
      "✅ Found ┊ model=rdps ┊ \u001b[3mproduct=10km/grib2/\u001b[0m ┊ \u001b[38;2;41;130;13m2025-Jun-16 00:00 UTC\u001b[92m F48\u001b[0m ┊ \u001b[38;2;255;153;0m\u001b[3mGRIB2 @ msc\u001b[0m ┊ \u001b[38;2;255;153;0m\u001b[3mIDX @ None\u001b[0m\n",
      "✅ Found ┊ model=rdps ┊ \u001b[3mproduct=10km/grib2/\u001b[0m ┊ \u001b[38;2;41;130;13m2025-Jun-16 00:00 UTC\u001b[92m F48\u001b[0m ┊ \u001b[38;2;255;153;0m\u001b[3mGRIB2 @ msc\u001b[0m ┊ \u001b[38;2;255;153;0m\u001b[3mIDX @ None\u001b[0m\n",
      "✅ Found ┊ model=rdps ┊ \u001b[3mproduct=10km/grib2/\u001b[0m ┊ \u001b[38;2;41;130;13m2025-Jun-16 00:00 UTC\u001b[92m F48\u001b[0m ┊ \u001b[38;2;255;153;0m\u001b[3mGRIB2 @ msc\u001b[0m ┊ \u001b[38;2;255;153;0m\u001b[3mIDX @ None\u001b[0m\n",
      "✅ Found ┊ model=rdps ┊ \u001b[3mproduct=10km/grib2/\u001b[0m ┊ \u001b[38;2;41;130;13m2025-Jun-16 00:00 UTC\u001b[92m F48\u001b[0m ┊ \u001b[38;2;255;153;0m\u001b[3mGRIB2 @ msc\u001b[0m ┊ \u001b[38;2;255;153;0m\u001b[3mIDX @ None\u001b[0m\n",
      "✅ Found ┊ model=rdps ┊ \u001b[3mproduct=10km/grib2/\u001b[0m ┊ \u001b[38;2;41;130;13m2025-Jun-16 00:00 UTC\u001b[92m F48\u001b[0m ┊ \u001b[38;2;255;153;0m\u001b[3mGRIB2 @ msc\u001b[0m ┊ \u001b[38;2;255;153;0m\u001b[3mIDX @ None\u001b[0m\n",
      "✅ Found ┊ model=rdps ┊ \u001b[3mproduct=10km/grib2/\u001b[0m ┊ \u001b[38;2;41;130;13m2025-Jun-16 00:00 UTC\u001b[92m F48\u001b[0m ┊ \u001b[38;2;255;153;0m\u001b[3mGRIB2 @ msc\u001b[0m ┊ \u001b[38;2;255;153;0m\u001b[3mIDX @ None\u001b[0m\n",
      "👨🏻‍🏭 Created directory: [/Users/andrew/data/rdps/20250616]\n",
      "✅ Found ┊ model=rdps ┊ \u001b[3mproduct=10km/grib2/\u001b[0m ┊ \u001b[38;2;41;130;13m2025-Jun-16 00:00 UTC\u001b[92m F48\u001b[0m ┊ \u001b[38;2;255;153;0m\u001b[3mGRIB2 @ msc\u001b[0m ┊ \u001b[38;2;255;153;0m\u001b[3mIDX @ None\u001b[0m\n",
      "✅ Found ┊ model=rdps ┊ \u001b[3mproduct=10km/grib2/\u001b[0m ┊ \u001b[38;2;41;130;13m2025-Jun-16 00:00 UTC\u001b[92m F48\u001b[0m ┊ \u001b[38;2;255;153;0m\u001b[3mGRIB2 @ msc\u001b[0m ┊ \u001b[38;2;255;153;0m\u001b[3mIDX @ None\u001b[0m\n",
      "✅ Found ┊ model=rdps ┊ \u001b[3mproduct=10km/grib2/\u001b[0m ┊ \u001b[38;2;41;130;13m2025-Jun-16 00:00 UTC\u001b[92m F48\u001b[0m ┊ \u001b[38;2;255;153;0m\u001b[3mGRIB2 @ msc\u001b[0m ┊ \u001b[38;2;255;153;0m\u001b[3mIDX @ None\u001b[0m\n",
      "👨🏻‍🏭 Created directory: [/Users/andrew/data/rdps/20250616]\n",
      "✅ Found ┊ model=rdps ┊ \u001b[3mproduct=10km/grib2/\u001b[0m ┊ \u001b[38;2;41;130;13m2025-Jun-16 00:00 UTC\u001b[92m F48\u001b[0m ┊ \u001b[38;2;255;153;0m\u001b[3mGRIB2 @ msc\u001b[0m ┊ \u001b[38;2;255;153;0m\u001b[3mIDX @ None\u001b[0m\n",
      "✅ Found ┊ model=rdps ┊ \u001b[3mproduct=10km/grib2/\u001b[0m ┊ \u001b[38;2;41;130;13m2025-Jun-16 00:00 UTC\u001b[92m F48\u001b[0m ┊ \u001b[38;2;255;153;0m\u001b[3mGRIB2 @ msc\u001b[0m ┊ \u001b[38;2;255;153;0m\u001b[3mIDX @ None\u001b[0m\n",
      "👨🏻‍🏭 Created directory: [/Users/andrew/data/rdps/20250616]\n",
      "✅ Found ┊ model=rdps ┊ \u001b[3mproduct=10km/grib2/\u001b[0m ┊ \u001b[38;2;41;130;13m2025-Jun-16 00:00 UTC\u001b[92m F48\u001b[0m ┊ \u001b[38;2;255;153;0m\u001b[3mGRIB2 @ msc\u001b[0m ┊ \u001b[38;2;255;153;0m\u001b[3mIDX @ None\u001b[0m\n",
      "✅ Found ┊ model=rdps ┊ \u001b[3mproduct=10km/grib2/\u001b[0m ┊ \u001b[38;2;41;130;13m2025-Jun-16 00:00 UTC\u001b[92m F51\u001b[0m ┊ \u001b[38;2;255;153;0m\u001b[3mGRIB2 @ msc\u001b[0m ┊ \u001b[38;2;255;153;0m\u001b[3mIDX @ None\u001b[0m\n",
      "👨🏻‍🏭 Created directory: [/Users/andrew/data/rdps/20250616]\n",
      "✅ Found ┊ model=rdps ┊ \u001b[3mproduct=10km/grib2/\u001b[0m ┊ \u001b[38;2;41;130;13m2025-Jun-16 00:00 UTC\u001b[92m F51\u001b[0m ┊ \u001b[38;2;255;153;0m\u001b[3mGRIB2 @ msc\u001b[0m ┊ \u001b[38;2;255;153;0m\u001b[3mIDX @ None\u001b[0m\n",
      "✅ Found ┊ model=rdps ┊ \u001b[3mproduct=10km/grib2/\u001b[0m ┊ \u001b[38;2;41;130;13m2025-Jun-16 00:00 UTC\u001b[92m F51\u001b[0m ┊ \u001b[38;2;255;153;0m\u001b[3mGRIB2 @ msc\u001b[0m ┊ \u001b[38;2;255;153;0m\u001b[3mIDX @ None\u001b[0m\n",
      "✅ Found ┊ model=rdps ┊ \u001b[3mproduct=10km/grib2/\u001b[0m ┊ \u001b[38;2;41;130;13m2025-Jun-16 00:00 UTC\u001b[92m F51\u001b[0m ┊ \u001b[38;2;255;153;0m\u001b[3mGRIB2 @ msc\u001b[0m ┊ \u001b[38;2;255;153;0m\u001b[3mIDX @ None\u001b[0m\n",
      "✅ Found ┊ model=rdps ┊ \u001b[3mproduct=10km/grib2/\u001b[0m ┊ \u001b[38;2;41;130;13m2025-Jun-16 00:00 UTC\u001b[92m F51\u001b[0m ┊ \u001b[38;2;255;153;0m\u001b[3mGRIB2 @ msc\u001b[0m ┊ \u001b[38;2;255;153;0m\u001b[3mIDX @ None\u001b[0m\n",
      "✅ Found ┊ model=rdps ┊ \u001b[3mproduct=10km/grib2/\u001b[0m ┊ \u001b[38;2;41;130;13m2025-Jun-16 00:00 UTC\u001b[92m F51\u001b[0m ┊ \u001b[38;2;255;153;0m\u001b[3mGRIB2 @ msc\u001b[0m ┊ \u001b[38;2;255;153;0m\u001b[3mIDX @ None\u001b[0m\n",
      "✅ Found ┊ model=rdps ┊ \u001b[3mproduct=10km/grib2/\u001b[0m ┊ \u001b[38;2;41;130;13m2025-Jun-16 00:00 UTC\u001b[92m F51\u001b[0m ┊ \u001b[38;2;255;153;0m\u001b[3mGRIB2 @ msc\u001b[0m ┊ \u001b[38;2;255;153;0m\u001b[3mIDX @ None\u001b[0m\n",
      "👨🏻‍🏭 Created directory: [/Users/andrew/data/rdps/20250616]\n",
      "✅ Found ┊ model=rdps ┊ \u001b[3mproduct=10km/grib2/\u001b[0m ┊ \u001b[38;2;41;130;13m2025-Jun-16 00:00 UTC\u001b[92m F51\u001b[0m ┊ \u001b[38;2;255;153;0m\u001b[3mGRIB2 @ msc\u001b[0m ┊ \u001b[38;2;255;153;0m\u001b[3mIDX @ None\u001b[0m\n",
      "✅ Found ┊ model=rdps ┊ \u001b[3mproduct=10km/grib2/\u001b[0m ┊ \u001b[38;2;41;130;13m2025-Jun-16 00:00 UTC\u001b[92m F51\u001b[0m ┊ \u001b[38;2;255;153;0m\u001b[3mGRIB2 @ msc\u001b[0m ┊ \u001b[38;2;255;153;0m\u001b[3mIDX @ None\u001b[0m\n",
      "✅ Found ┊ model=rdps ┊ \u001b[3mproduct=10km/grib2/\u001b[0m ┊ \u001b[38;2;41;130;13m2025-Jun-16 00:00 UTC\u001b[92m F54\u001b[0m ┊ \u001b[38;2;255;153;0m\u001b[3mGRIB2 @ msc\u001b[0m ┊ \u001b[38;2;255;153;0m\u001b[3mIDX @ None\u001b[0m\n",
      "👨🏻‍🏭 Created directory: [/Users/andrew/data/rdps/20250616]\n",
      "✅ Found ┊ model=rdps ┊ \u001b[3mproduct=10km/grib2/\u001b[0m ┊ \u001b[38;2;41;130;13m2025-Jun-16 00:00 UTC\u001b[92m F54\u001b[0m ┊ \u001b[38;2;255;153;0m\u001b[3mGRIB2 @ msc\u001b[0m ┊ \u001b[38;2;255;153;0m\u001b[3mIDX @ None\u001b[0m\n",
      "✅ Found ┊ model=rdps ┊ \u001b[3mproduct=10km/grib2/\u001b[0m ┊ \u001b[38;2;41;130;13m2025-Jun-16 00:00 UTC\u001b[92m F54\u001b[0m ┊ \u001b[38;2;255;153;0m\u001b[3mGRIB2 @ msc\u001b[0m ┊ \u001b[38;2;255;153;0m\u001b[3mIDX @ None\u001b[0m\n",
      "✅ Found ┊ model=rdps ┊ \u001b[3mproduct=10km/grib2/\u001b[0m ┊ \u001b[38;2;41;130;13m2025-Jun-16 00:00 UTC\u001b[92m F54\u001b[0m ┊ \u001b[38;2;255;153;0m\u001b[3mGRIB2 @ msc\u001b[0m ┊ \u001b[38;2;255;153;0m\u001b[3mIDX @ None\u001b[0m\n",
      "✅ Found ┊ model=rdps ┊ \u001b[3mproduct=10km/grib2/\u001b[0m ┊ \u001b[38;2;41;130;13m2025-Jun-16 00:00 UTC\u001b[92m F54\u001b[0m ┊ \u001b[38;2;255;153;0m\u001b[3mGRIB2 @ msc\u001b[0m ┊ \u001b[38;2;255;153;0m\u001b[3mIDX @ None\u001b[0m\n",
      "✅ Found ┊ model=rdps ┊ \u001b[3mproduct=10km/grib2/\u001b[0m ┊ \u001b[38;2;41;130;13m2025-Jun-16 00:00 UTC\u001b[92m F54\u001b[0m ┊ \u001b[38;2;255;153;0m\u001b[3mGRIB2 @ msc\u001b[0m ┊ \u001b[38;2;255;153;0m\u001b[3mIDX @ None\u001b[0m\n",
      "✅ Found ┊ model=rdps ┊ \u001b[3mproduct=10km/grib2/\u001b[0m ┊ \u001b[38;2;41;130;13m2025-Jun-16 00:00 UTC\u001b[92m F54\u001b[0m ┊ \u001b[38;2;255;153;0m\u001b[3mGRIB2 @ msc\u001b[0m ┊ \u001b[38;2;255;153;0m\u001b[3mIDX @ None\u001b[0m\n",
      "✅ Found ┊ model=rdps ┊ \u001b[3mproduct=10km/grib2/\u001b[0m ┊ \u001b[38;2;41;130;13m2025-Jun-16 00:00 UTC\u001b[92m F54\u001b[0m ┊ \u001b[38;2;255;153;0m\u001b[3mGRIB2 @ msc\u001b[0m ┊ \u001b[38;2;255;153;0m\u001b[3mIDX @ None\u001b[0m\n",
      "👨🏻‍🏭 Created directory: [/Users/andrew/data/rdps/20250616]\n",
      "✅ Found ┊ model=rdps ┊ \u001b[3mproduct=10km/grib2/\u001b[0m ┊ \u001b[38;2;41;130;13m2025-Jun-16 00:00 UTC\u001b[92m F54\u001b[0m ┊ \u001b[38;2;255;153;0m\u001b[3mGRIB2 @ msc\u001b[0m ┊ \u001b[38;2;255;153;0m\u001b[3mIDX @ None\u001b[0m\n",
      "✅ Found ┊ model=rdps ┊ \u001b[3mproduct=10km/grib2/\u001b[0m ┊ \u001b[38;2;41;130;13m2025-Jun-16 00:00 UTC\u001b[92m F54\u001b[0m ┊ \u001b[38;2;255;153;0m\u001b[3mGRIB2 @ msc\u001b[0m ┊ \u001b[38;2;255;153;0m\u001b[3mIDX @ None\u001b[0m\n",
      "✅ Found ┊ model=rdps ┊ \u001b[3mproduct=10km/grib2/\u001b[0m ┊ \u001b[38;2;41;130;13m2025-Jun-16 00:00 UTC\u001b[92m F54\u001b[0m ┊ \u001b[38;2;255;153;0m\u001b[3mGRIB2 @ msc\u001b[0m ┊ \u001b[38;2;255;153;0m\u001b[3mIDX @ None\u001b[0m\n",
      "👨🏻‍🏭 Created directory: [/Users/andrew/data/rdps/20250616]\n",
      "✅ Found ┊ model=rdps ┊ \u001b[3mproduct=10km/grib2/\u001b[0m ┊ \u001b[38;2;41;130;13m2025-Jun-16 00:00 UTC\u001b[92m F54\u001b[0m ┊ \u001b[38;2;255;153;0m\u001b[3mGRIB2 @ msc\u001b[0m ┊ \u001b[38;2;255;153;0m\u001b[3mIDX @ None\u001b[0m\n",
      "✅ Found ┊ model=rdps ┊ \u001b[3mproduct=10km/grib2/\u001b[0m ┊ \u001b[38;2;41;130;13m2025-Jun-16 00:00 UTC\u001b[92m F54\u001b[0m ┊ \u001b[38;2;255;153;0m\u001b[3mGRIB2 @ msc\u001b[0m ┊ \u001b[38;2;255;153;0m\u001b[3mIDX @ None\u001b[0m\n",
      "👨🏻‍🏭 Created directory: [/Users/andrew/data/rdps/20250616]\n",
      "✅ Found ┊ model=rdps ┊ \u001b[3mproduct=10km/grib2/\u001b[0m ┊ \u001b[38;2;41;130;13m2025-Jun-16 00:00 UTC\u001b[92m F54\u001b[0m ┊ \u001b[38;2;255;153;0m\u001b[3mGRIB2 @ msc\u001b[0m ┊ \u001b[38;2;255;153;0m\u001b[3mIDX @ None\u001b[0m\n",
      "✅ Found ┊ model=rdps ┊ \u001b[3mproduct=10km/grib2/\u001b[0m ┊ \u001b[38;2;41;130;13m2025-Jun-16 00:00 UTC\u001b[92m F57\u001b[0m ┊ \u001b[38;2;255;153;0m\u001b[3mGRIB2 @ msc\u001b[0m ┊ \u001b[38;2;255;153;0m\u001b[3mIDX @ None\u001b[0m\n",
      "👨🏻‍🏭 Created directory: [/Users/andrew/data/rdps/20250616]\n",
      "✅ Found ┊ model=rdps ┊ \u001b[3mproduct=10km/grib2/\u001b[0m ┊ \u001b[38;2;41;130;13m2025-Jun-16 00:00 UTC\u001b[92m F57\u001b[0m ┊ \u001b[38;2;255;153;0m\u001b[3mGRIB2 @ msc\u001b[0m ┊ \u001b[38;2;255;153;0m\u001b[3mIDX @ None\u001b[0m\n",
      "✅ Found ┊ model=rdps ┊ \u001b[3mproduct=10km/grib2/\u001b[0m ┊ \u001b[38;2;41;130;13m2025-Jun-16 00:00 UTC\u001b[92m F57\u001b[0m ┊ \u001b[38;2;255;153;0m\u001b[3mGRIB2 @ msc\u001b[0m ┊ \u001b[38;2;255;153;0m\u001b[3mIDX @ None\u001b[0m\n"
     ]
    },
    {
     "name": "stdout",
     "output_type": "stream",
     "text": [
      "✅ Found ┊ model=rdps ┊ \u001b[3mproduct=10km/grib2/\u001b[0m ┊ \u001b[38;2;41;130;13m2025-Jun-16 00:00 UTC\u001b[92m F57\u001b[0m ┊ \u001b[38;2;255;153;0m\u001b[3mGRIB2 @ msc\u001b[0m ┊ \u001b[38;2;255;153;0m\u001b[3mIDX @ None\u001b[0m\n",
      "✅ Found ┊ model=rdps ┊ \u001b[3mproduct=10km/grib2/\u001b[0m ┊ \u001b[38;2;41;130;13m2025-Jun-16 00:00 UTC\u001b[92m F57\u001b[0m ┊ \u001b[38;2;255;153;0m\u001b[3mGRIB2 @ msc\u001b[0m ┊ \u001b[38;2;255;153;0m\u001b[3mIDX @ None\u001b[0m\n",
      "✅ Found ┊ model=rdps ┊ \u001b[3mproduct=10km/grib2/\u001b[0m ┊ \u001b[38;2;41;130;13m2025-Jun-16 00:00 UTC\u001b[92m F57\u001b[0m ┊ \u001b[38;2;255;153;0m\u001b[3mGRIB2 @ msc\u001b[0m ┊ \u001b[38;2;255;153;0m\u001b[3mIDX @ None\u001b[0m\n",
      "✅ Found ┊ model=rdps ┊ \u001b[3mproduct=10km/grib2/\u001b[0m ┊ \u001b[38;2;41;130;13m2025-Jun-16 00:00 UTC\u001b[92m F57\u001b[0m ┊ \u001b[38;2;255;153;0m\u001b[3mGRIB2 @ msc\u001b[0m ┊ \u001b[38;2;255;153;0m\u001b[3mIDX @ None\u001b[0m\n",
      "👨🏻‍🏭 Created directory: [/Users/andrew/data/rdps/20250616]\n",
      "✅ Found ┊ model=rdps ┊ \u001b[3mproduct=10km/grib2/\u001b[0m ┊ \u001b[38;2;41;130;13m2025-Jun-16 00:00 UTC\u001b[92m F57\u001b[0m ┊ \u001b[38;2;255;153;0m\u001b[3mGRIB2 @ msc\u001b[0m ┊ \u001b[38;2;255;153;0m\u001b[3mIDX @ None\u001b[0m\n",
      "✅ Found ┊ model=rdps ┊ \u001b[3mproduct=10km/grib2/\u001b[0m ┊ \u001b[38;2;41;130;13m2025-Jun-16 00:00 UTC\u001b[92m F57\u001b[0m ┊ \u001b[38;2;255;153;0m\u001b[3mGRIB2 @ msc\u001b[0m ┊ \u001b[38;2;255;153;0m\u001b[3mIDX @ None\u001b[0m\n",
      "✅ Found ┊ model=rdps ┊ \u001b[3mproduct=10km/grib2/\u001b[0m ┊ \u001b[38;2;41;130;13m2025-Jun-16 00:00 UTC\u001b[92m F60\u001b[0m ┊ \u001b[38;2;255;153;0m\u001b[3mGRIB2 @ msc\u001b[0m ┊ \u001b[38;2;255;153;0m\u001b[3mIDX @ None\u001b[0m\n",
      "👨🏻‍🏭 Created directory: [/Users/andrew/data/rdps/20250616]\n",
      "✅ Found ┊ model=rdps ┊ \u001b[3mproduct=10km/grib2/\u001b[0m ┊ \u001b[38;2;41;130;13m2025-Jun-16 00:00 UTC\u001b[92m F60\u001b[0m ┊ \u001b[38;2;255;153;0m\u001b[3mGRIB2 @ msc\u001b[0m ┊ \u001b[38;2;255;153;0m\u001b[3mIDX @ None\u001b[0m\n",
      "✅ Found ┊ model=rdps ┊ \u001b[3mproduct=10km/grib2/\u001b[0m ┊ \u001b[38;2;41;130;13m2025-Jun-16 00:00 UTC\u001b[92m F60\u001b[0m ┊ \u001b[38;2;255;153;0m\u001b[3mGRIB2 @ msc\u001b[0m ┊ \u001b[38;2;255;153;0m\u001b[3mIDX @ None\u001b[0m\n",
      "✅ Found ┊ model=rdps ┊ \u001b[3mproduct=10km/grib2/\u001b[0m ┊ \u001b[38;2;41;130;13m2025-Jun-16 00:00 UTC\u001b[92m F60\u001b[0m ┊ \u001b[38;2;255;153;0m\u001b[3mGRIB2 @ msc\u001b[0m ┊ \u001b[38;2;255;153;0m\u001b[3mIDX @ None\u001b[0m\n",
      "✅ Found ┊ model=rdps ┊ \u001b[3mproduct=10km/grib2/\u001b[0m ┊ \u001b[38;2;41;130;13m2025-Jun-16 00:00 UTC\u001b[92m F60\u001b[0m ┊ \u001b[38;2;255;153;0m\u001b[3mGRIB2 @ msc\u001b[0m ┊ \u001b[38;2;255;153;0m\u001b[3mIDX @ None\u001b[0m\n",
      "✅ Found ┊ model=rdps ┊ \u001b[3mproduct=10km/grib2/\u001b[0m ┊ \u001b[38;2;41;130;13m2025-Jun-16 00:00 UTC\u001b[92m F60\u001b[0m ┊ \u001b[38;2;255;153;0m\u001b[3mGRIB2 @ msc\u001b[0m ┊ \u001b[38;2;255;153;0m\u001b[3mIDX @ None\u001b[0m\n",
      "✅ Found ┊ model=rdps ┊ \u001b[3mproduct=10km/grib2/\u001b[0m ┊ \u001b[38;2;41;130;13m2025-Jun-16 00:00 UTC\u001b[92m F60\u001b[0m ┊ \u001b[38;2;255;153;0m\u001b[3mGRIB2 @ msc\u001b[0m ┊ \u001b[38;2;255;153;0m\u001b[3mIDX @ None\u001b[0m\n",
      "✅ Found ┊ model=rdps ┊ \u001b[3mproduct=10km/grib2/\u001b[0m ┊ \u001b[38;2;41;130;13m2025-Jun-16 00:00 UTC\u001b[92m F60\u001b[0m ┊ \u001b[38;2;255;153;0m\u001b[3mGRIB2 @ msc\u001b[0m ┊ \u001b[38;2;255;153;0m\u001b[3mIDX @ None\u001b[0m\n",
      "👨🏻‍🏭 Created directory: [/Users/andrew/data/rdps/20250616]\n",
      "✅ Found ┊ model=rdps ┊ \u001b[3mproduct=10km/grib2/\u001b[0m ┊ \u001b[38;2;41;130;13m2025-Jun-16 00:00 UTC\u001b[92m F60\u001b[0m ┊ \u001b[38;2;255;153;0m\u001b[3mGRIB2 @ msc\u001b[0m ┊ \u001b[38;2;255;153;0m\u001b[3mIDX @ None\u001b[0m\n",
      "✅ Found ┊ model=rdps ┊ \u001b[3mproduct=10km/grib2/\u001b[0m ┊ \u001b[38;2;41;130;13m2025-Jun-16 00:00 UTC\u001b[92m F60\u001b[0m ┊ \u001b[38;2;255;153;0m\u001b[3mGRIB2 @ msc\u001b[0m ┊ \u001b[38;2;255;153;0m\u001b[3mIDX @ None\u001b[0m\n",
      "✅ Found ┊ model=rdps ┊ \u001b[3mproduct=10km/grib2/\u001b[0m ┊ \u001b[38;2;41;130;13m2025-Jun-16 00:00 UTC\u001b[92m F60\u001b[0m ┊ \u001b[38;2;255;153;0m\u001b[3mGRIB2 @ msc\u001b[0m ┊ \u001b[38;2;255;153;0m\u001b[3mIDX @ None\u001b[0m\n",
      "👨🏻‍🏭 Created directory: [/Users/andrew/data/rdps/20250616]\n",
      "✅ Found ┊ model=rdps ┊ \u001b[3mproduct=10km/grib2/\u001b[0m ┊ \u001b[38;2;41;130;13m2025-Jun-16 00:00 UTC\u001b[92m F60\u001b[0m ┊ \u001b[38;2;255;153;0m\u001b[3mGRIB2 @ msc\u001b[0m ┊ \u001b[38;2;255;153;0m\u001b[3mIDX @ None\u001b[0m\n",
      "✅ Found ┊ model=rdps ┊ \u001b[3mproduct=10km/grib2/\u001b[0m ┊ \u001b[38;2;41;130;13m2025-Jun-16 00:00 UTC\u001b[92m F60\u001b[0m ┊ \u001b[38;2;255;153;0m\u001b[3mGRIB2 @ msc\u001b[0m ┊ \u001b[38;2;255;153;0m\u001b[3mIDX @ None\u001b[0m\n",
      "👨🏻‍🏭 Created directory: [/Users/andrew/data/rdps/20250616]\n",
      "✅ Found ┊ model=rdps ┊ \u001b[3mproduct=10km/grib2/\u001b[0m ┊ \u001b[38;2;41;130;13m2025-Jun-16 00:00 UTC\u001b[92m F60\u001b[0m ┊ \u001b[38;2;255;153;0m\u001b[3mGRIB2 @ msc\u001b[0m ┊ \u001b[38;2;255;153;0m\u001b[3mIDX @ None\u001b[0m\n",
      "✅ Found ┊ model=rdps ┊ \u001b[3mproduct=10km/grib2/\u001b[0m ┊ \u001b[38;2;41;130;13m2025-Jun-16 00:00 UTC\u001b[92m F63\u001b[0m ┊ \u001b[38;2;255;153;0m\u001b[3mGRIB2 @ msc\u001b[0m ┊ \u001b[38;2;255;153;0m\u001b[3mIDX @ None\u001b[0m\n",
      "👨🏻‍🏭 Created directory: [/Users/andrew/data/rdps/20250616]\n",
      "✅ Found ┊ model=rdps ┊ \u001b[3mproduct=10km/grib2/\u001b[0m ┊ \u001b[38;2;41;130;13m2025-Jun-16 00:00 UTC\u001b[92m F63\u001b[0m ┊ \u001b[38;2;255;153;0m\u001b[3mGRIB2 @ msc\u001b[0m ┊ \u001b[38;2;255;153;0m\u001b[3mIDX @ None\u001b[0m\n",
      "✅ Found ┊ model=rdps ┊ \u001b[3mproduct=10km/grib2/\u001b[0m ┊ \u001b[38;2;41;130;13m2025-Jun-16 00:00 UTC\u001b[92m F63\u001b[0m ┊ \u001b[38;2;255;153;0m\u001b[3mGRIB2 @ msc\u001b[0m ┊ \u001b[38;2;255;153;0m\u001b[3mIDX @ None\u001b[0m\n",
      "✅ Found ┊ model=rdps ┊ \u001b[3mproduct=10km/grib2/\u001b[0m ┊ \u001b[38;2;41;130;13m2025-Jun-16 00:00 UTC\u001b[92m F63\u001b[0m ┊ \u001b[38;2;255;153;0m\u001b[3mGRIB2 @ msc\u001b[0m ┊ \u001b[38;2;255;153;0m\u001b[3mIDX @ None\u001b[0m\n",
      "✅ Found ┊ model=rdps ┊ \u001b[3mproduct=10km/grib2/\u001b[0m ┊ \u001b[38;2;41;130;13m2025-Jun-16 00:00 UTC\u001b[92m F63\u001b[0m ┊ \u001b[38;2;255;153;0m\u001b[3mGRIB2 @ msc\u001b[0m ┊ \u001b[38;2;255;153;0m\u001b[3mIDX @ None\u001b[0m\n",
      "✅ Found ┊ model=rdps ┊ \u001b[3mproduct=10km/grib2/\u001b[0m ┊ \u001b[38;2;41;130;13m2025-Jun-16 00:00 UTC\u001b[92m F63\u001b[0m ┊ \u001b[38;2;255;153;0m\u001b[3mGRIB2 @ msc\u001b[0m ┊ \u001b[38;2;255;153;0m\u001b[3mIDX @ None\u001b[0m\n",
      "✅ Found ┊ model=rdps ┊ \u001b[3mproduct=10km/grib2/\u001b[0m ┊ \u001b[38;2;41;130;13m2025-Jun-16 00:00 UTC\u001b[92m F63\u001b[0m ┊ \u001b[38;2;255;153;0m\u001b[3mGRIB2 @ msc\u001b[0m ┊ \u001b[38;2;255;153;0m\u001b[3mIDX @ None\u001b[0m\n",
      "👨🏻‍🏭 Created directory: [/Users/andrew/data/rdps/20250616]\n",
      "✅ Found ┊ model=rdps ┊ \u001b[3mproduct=10km/grib2/\u001b[0m ┊ \u001b[38;2;41;130;13m2025-Jun-16 00:00 UTC\u001b[92m F63\u001b[0m ┊ \u001b[38;2;255;153;0m\u001b[3mGRIB2 @ msc\u001b[0m ┊ \u001b[38;2;255;153;0m\u001b[3mIDX @ None\u001b[0m\n",
      "✅ Found ┊ model=rdps ┊ \u001b[3mproduct=10km/grib2/\u001b[0m ┊ \u001b[38;2;41;130;13m2025-Jun-16 00:00 UTC\u001b[92m F63\u001b[0m ┊ \u001b[38;2;255;153;0m\u001b[3mGRIB2 @ msc\u001b[0m ┊ \u001b[38;2;255;153;0m\u001b[3mIDX @ None\u001b[0m\n",
      "✅ Found ┊ model=rdps ┊ \u001b[3mproduct=10km/grib2/\u001b[0m ┊ \u001b[38;2;41;130;13m2025-Jun-16 00:00 UTC\u001b[92m F66\u001b[0m ┊ \u001b[38;2;255;153;0m\u001b[3mGRIB2 @ msc\u001b[0m ┊ \u001b[38;2;255;153;0m\u001b[3mIDX @ None\u001b[0m\n",
      "👨🏻‍🏭 Created directory: [/Users/andrew/data/rdps/20250616]\n",
      "✅ Found ┊ model=rdps ┊ \u001b[3mproduct=10km/grib2/\u001b[0m ┊ \u001b[38;2;41;130;13m2025-Jun-16 00:00 UTC\u001b[92m F66\u001b[0m ┊ \u001b[38;2;255;153;0m\u001b[3mGRIB2 @ msc\u001b[0m ┊ \u001b[38;2;255;153;0m\u001b[3mIDX @ None\u001b[0m\n",
      "✅ Found ┊ model=rdps ┊ \u001b[3mproduct=10km/grib2/\u001b[0m ┊ \u001b[38;2;41;130;13m2025-Jun-16 00:00 UTC\u001b[92m F66\u001b[0m ┊ \u001b[38;2;255;153;0m\u001b[3mGRIB2 @ msc\u001b[0m ┊ \u001b[38;2;255;153;0m\u001b[3mIDX @ None\u001b[0m\n",
      "✅ Found ┊ model=rdps ┊ \u001b[3mproduct=10km/grib2/\u001b[0m ┊ \u001b[38;2;41;130;13m2025-Jun-16 00:00 UTC\u001b[92m F66\u001b[0m ┊ \u001b[38;2;255;153;0m\u001b[3mGRIB2 @ msc\u001b[0m ┊ \u001b[38;2;255;153;0m\u001b[3mIDX @ None\u001b[0m\n",
      "✅ Found ┊ model=rdps ┊ \u001b[3mproduct=10km/grib2/\u001b[0m ┊ \u001b[38;2;41;130;13m2025-Jun-16 00:00 UTC\u001b[92m F66\u001b[0m ┊ \u001b[38;2;255;153;0m\u001b[3mGRIB2 @ msc\u001b[0m ┊ \u001b[38;2;255;153;0m\u001b[3mIDX @ None\u001b[0m\n",
      "✅ Found ┊ model=rdps ┊ \u001b[3mproduct=10km/grib2/\u001b[0m ┊ \u001b[38;2;41;130;13m2025-Jun-16 00:00 UTC\u001b[92m F66\u001b[0m ┊ \u001b[38;2;255;153;0m\u001b[3mGRIB2 @ msc\u001b[0m ┊ \u001b[38;2;255;153;0m\u001b[3mIDX @ None\u001b[0m\n",
      "✅ Found ┊ model=rdps ┊ \u001b[3mproduct=10km/grib2/\u001b[0m ┊ \u001b[38;2;41;130;13m2025-Jun-16 00:00 UTC\u001b[92m F66\u001b[0m ┊ \u001b[38;2;255;153;0m\u001b[3mGRIB2 @ msc\u001b[0m ┊ \u001b[38;2;255;153;0m\u001b[3mIDX @ None\u001b[0m\n",
      "✅ Found ┊ model=rdps ┊ \u001b[3mproduct=10km/grib2/\u001b[0m ┊ \u001b[38;2;41;130;13m2025-Jun-16 00:00 UTC\u001b[92m F66\u001b[0m ┊ \u001b[38;2;255;153;0m\u001b[3mGRIB2 @ msc\u001b[0m ┊ \u001b[38;2;255;153;0m\u001b[3mIDX @ None\u001b[0m\n",
      "👨🏻‍🏭 Created directory: [/Users/andrew/data/rdps/20250616]\n",
      "✅ Found ┊ model=rdps ┊ \u001b[3mproduct=10km/grib2/\u001b[0m ┊ \u001b[38;2;41;130;13m2025-Jun-16 00:00 UTC\u001b[92m F66\u001b[0m ┊ \u001b[38;2;255;153;0m\u001b[3mGRIB2 @ msc\u001b[0m ┊ \u001b[38;2;255;153;0m\u001b[3mIDX @ None\u001b[0m\n",
      "✅ Found ┊ model=rdps ┊ \u001b[3mproduct=10km/grib2/\u001b[0m ┊ \u001b[38;2;41;130;13m2025-Jun-16 00:00 UTC\u001b[92m F66\u001b[0m ┊ \u001b[38;2;255;153;0m\u001b[3mGRIB2 @ msc\u001b[0m ┊ \u001b[38;2;255;153;0m\u001b[3mIDX @ None\u001b[0m\n",
      "✅ Found ┊ model=rdps ┊ \u001b[3mproduct=10km/grib2/\u001b[0m ┊ \u001b[38;2;41;130;13m2025-Jun-16 00:00 UTC\u001b[92m F66\u001b[0m ┊ \u001b[38;2;255;153;0m\u001b[3mGRIB2 @ msc\u001b[0m ┊ \u001b[38;2;255;153;0m\u001b[3mIDX @ None\u001b[0m\n",
      "👨🏻‍🏭 Created directory: [/Users/andrew/data/rdps/20250616]\n",
      "✅ Found ┊ model=rdps ┊ \u001b[3mproduct=10km/grib2/\u001b[0m ┊ \u001b[38;2;41;130;13m2025-Jun-16 00:00 UTC\u001b[92m F66\u001b[0m ┊ \u001b[38;2;255;153;0m\u001b[3mGRIB2 @ msc\u001b[0m ┊ \u001b[38;2;255;153;0m\u001b[3mIDX @ None\u001b[0m\n",
      "✅ Found ┊ model=rdps ┊ \u001b[3mproduct=10km/grib2/\u001b[0m ┊ \u001b[38;2;41;130;13m2025-Jun-16 00:00 UTC\u001b[92m F66\u001b[0m ┊ \u001b[38;2;255;153;0m\u001b[3mGRIB2 @ msc\u001b[0m ┊ \u001b[38;2;255;153;0m\u001b[3mIDX @ None\u001b[0m\n",
      "👨🏻‍🏭 Created directory: [/Users/andrew/data/rdps/20250616]\n"
     ]
    },
    {
     "name": "stdout",
     "output_type": "stream",
     "text": [
      "✅ Found ┊ model=rdps ┊ \u001b[3mproduct=10km/grib2/\u001b[0m ┊ \u001b[38;2;41;130;13m2025-Jun-16 00:00 UTC\u001b[92m F66\u001b[0m ┊ \u001b[38;2;255;153;0m\u001b[3mGRIB2 @ msc\u001b[0m ┊ \u001b[38;2;255;153;0m\u001b[3mIDX @ None\u001b[0m\n",
      "✅ Found ┊ model=rdps ┊ \u001b[3mproduct=10km/grib2/\u001b[0m ┊ \u001b[38;2;41;130;13m2025-Jun-16 00:00 UTC\u001b[92m F69\u001b[0m ┊ \u001b[38;2;255;153;0m\u001b[3mGRIB2 @ msc\u001b[0m ┊ \u001b[38;2;255;153;0m\u001b[3mIDX @ None\u001b[0m\n",
      "👨🏻‍🏭 Created directory: [/Users/andrew/data/rdps/20250616]\n",
      "✅ Found ┊ model=rdps ┊ \u001b[3mproduct=10km/grib2/\u001b[0m ┊ \u001b[38;2;41;130;13m2025-Jun-16 00:00 UTC\u001b[92m F69\u001b[0m ┊ \u001b[38;2;255;153;0m\u001b[3mGRIB2 @ msc\u001b[0m ┊ \u001b[38;2;255;153;0m\u001b[3mIDX @ None\u001b[0m\n",
      "✅ Found ┊ model=rdps ┊ \u001b[3mproduct=10km/grib2/\u001b[0m ┊ \u001b[38;2;41;130;13m2025-Jun-16 00:00 UTC\u001b[92m F69\u001b[0m ┊ \u001b[38;2;255;153;0m\u001b[3mGRIB2 @ msc\u001b[0m ┊ \u001b[38;2;255;153;0m\u001b[3mIDX @ None\u001b[0m\n",
      "✅ Found ┊ model=rdps ┊ \u001b[3mproduct=10km/grib2/\u001b[0m ┊ \u001b[38;2;41;130;13m2025-Jun-16 00:00 UTC\u001b[92m F69\u001b[0m ┊ \u001b[38;2;255;153;0m\u001b[3mGRIB2 @ msc\u001b[0m ┊ \u001b[38;2;255;153;0m\u001b[3mIDX @ None\u001b[0m\n",
      "✅ Found ┊ model=rdps ┊ \u001b[3mproduct=10km/grib2/\u001b[0m ┊ \u001b[38;2;41;130;13m2025-Jun-16 00:00 UTC\u001b[92m F69\u001b[0m ┊ \u001b[38;2;255;153;0m\u001b[3mGRIB2 @ msc\u001b[0m ┊ \u001b[38;2;255;153;0m\u001b[3mIDX @ None\u001b[0m\n",
      "✅ Found ┊ model=rdps ┊ \u001b[3mproduct=10km/grib2/\u001b[0m ┊ \u001b[38;2;41;130;13m2025-Jun-16 00:00 UTC\u001b[92m F69\u001b[0m ┊ \u001b[38;2;255;153;0m\u001b[3mGRIB2 @ msc\u001b[0m ┊ \u001b[38;2;255;153;0m\u001b[3mIDX @ None\u001b[0m\n",
      "✅ Found ┊ model=rdps ┊ \u001b[3mproduct=10km/grib2/\u001b[0m ┊ \u001b[38;2;41;130;13m2025-Jun-16 00:00 UTC\u001b[92m F69\u001b[0m ┊ \u001b[38;2;255;153;0m\u001b[3mGRIB2 @ msc\u001b[0m ┊ \u001b[38;2;255;153;0m\u001b[3mIDX @ None\u001b[0m\n",
      "👨🏻‍🏭 Created directory: [/Users/andrew/data/rdps/20250616]\n",
      "✅ Found ┊ model=rdps ┊ \u001b[3mproduct=10km/grib2/\u001b[0m ┊ \u001b[38;2;41;130;13m2025-Jun-16 00:00 UTC\u001b[92m F69\u001b[0m ┊ \u001b[38;2;255;153;0m\u001b[3mGRIB2 @ msc\u001b[0m ┊ \u001b[38;2;255;153;0m\u001b[3mIDX @ None\u001b[0m\n",
      "✅ Found ┊ model=rdps ┊ \u001b[3mproduct=10km/grib2/\u001b[0m ┊ \u001b[38;2;41;130;13m2025-Jun-16 00:00 UTC\u001b[92m F69\u001b[0m ┊ \u001b[38;2;255;153;0m\u001b[3mGRIB2 @ msc\u001b[0m ┊ \u001b[38;2;255;153;0m\u001b[3mIDX @ None\u001b[0m\n",
      "✅ Found ┊ model=rdps ┊ \u001b[3mproduct=10km/grib2/\u001b[0m ┊ \u001b[38;2;41;130;13m2025-Jun-16 00:00 UTC\u001b[92m F72\u001b[0m ┊ \u001b[38;2;255;153;0m\u001b[3mGRIB2 @ msc\u001b[0m ┊ \u001b[38;2;255;153;0m\u001b[3mIDX @ None\u001b[0m\n",
      "👨🏻‍🏭 Created directory: [/Users/andrew/data/rdps/20250616]\n",
      "✅ Found ┊ model=rdps ┊ \u001b[3mproduct=10km/grib2/\u001b[0m ┊ \u001b[38;2;41;130;13m2025-Jun-16 00:00 UTC\u001b[92m F72\u001b[0m ┊ \u001b[38;2;255;153;0m\u001b[3mGRIB2 @ msc\u001b[0m ┊ \u001b[38;2;255;153;0m\u001b[3mIDX @ None\u001b[0m\n",
      "✅ Found ┊ model=rdps ┊ \u001b[3mproduct=10km/grib2/\u001b[0m ┊ \u001b[38;2;41;130;13m2025-Jun-16 00:00 UTC\u001b[92m F72\u001b[0m ┊ \u001b[38;2;255;153;0m\u001b[3mGRIB2 @ msc\u001b[0m ┊ \u001b[38;2;255;153;0m\u001b[3mIDX @ None\u001b[0m\n",
      "✅ Found ┊ model=rdps ┊ \u001b[3mproduct=10km/grib2/\u001b[0m ┊ \u001b[38;2;41;130;13m2025-Jun-16 00:00 UTC\u001b[92m F72\u001b[0m ┊ \u001b[38;2;255;153;0m\u001b[3mGRIB2 @ msc\u001b[0m ┊ \u001b[38;2;255;153;0m\u001b[3mIDX @ None\u001b[0m\n",
      "✅ Found ┊ model=rdps ┊ \u001b[3mproduct=10km/grib2/\u001b[0m ┊ \u001b[38;2;41;130;13m2025-Jun-16 00:00 UTC\u001b[92m F72\u001b[0m ┊ \u001b[38;2;255;153;0m\u001b[3mGRIB2 @ msc\u001b[0m ┊ \u001b[38;2;255;153;0m\u001b[3mIDX @ None\u001b[0m\n",
      "✅ Found ┊ model=rdps ┊ \u001b[3mproduct=10km/grib2/\u001b[0m ┊ \u001b[38;2;41;130;13m2025-Jun-16 00:00 UTC\u001b[92m F72\u001b[0m ┊ \u001b[38;2;255;153;0m\u001b[3mGRIB2 @ msc\u001b[0m ┊ \u001b[38;2;255;153;0m\u001b[3mIDX @ None\u001b[0m\n",
      "✅ Found ┊ model=rdps ┊ \u001b[3mproduct=10km/grib2/\u001b[0m ┊ \u001b[38;2;41;130;13m2025-Jun-16 00:00 UTC\u001b[92m F72\u001b[0m ┊ \u001b[38;2;255;153;0m\u001b[3mGRIB2 @ msc\u001b[0m ┊ \u001b[38;2;255;153;0m\u001b[3mIDX @ None\u001b[0m\n",
      "✅ Found ┊ model=rdps ┊ \u001b[3mproduct=10km/grib2/\u001b[0m ┊ \u001b[38;2;41;130;13m2025-Jun-16 00:00 UTC\u001b[92m F72\u001b[0m ┊ \u001b[38;2;255;153;0m\u001b[3mGRIB2 @ msc\u001b[0m ┊ \u001b[38;2;255;153;0m\u001b[3mIDX @ None\u001b[0m\n",
      "👨🏻‍🏭 Created directory: [/Users/andrew/data/rdps/20250616]\n",
      "✅ Found ┊ model=rdps ┊ \u001b[3mproduct=10km/grib2/\u001b[0m ┊ \u001b[38;2;41;130;13m2025-Jun-16 00:00 UTC\u001b[92m F72\u001b[0m ┊ \u001b[38;2;255;153;0m\u001b[3mGRIB2 @ msc\u001b[0m ┊ \u001b[38;2;255;153;0m\u001b[3mIDX @ None\u001b[0m\n",
      "✅ Found ┊ model=rdps ┊ \u001b[3mproduct=10km/grib2/\u001b[0m ┊ \u001b[38;2;41;130;13m2025-Jun-16 00:00 UTC\u001b[92m F72\u001b[0m ┊ \u001b[38;2;255;153;0m\u001b[3mGRIB2 @ msc\u001b[0m ┊ \u001b[38;2;255;153;0m\u001b[3mIDX @ None\u001b[0m\n",
      "✅ Found ┊ model=rdps ┊ \u001b[3mproduct=10km/grib2/\u001b[0m ┊ \u001b[38;2;41;130;13m2025-Jun-16 00:00 UTC\u001b[92m F72\u001b[0m ┊ \u001b[38;2;255;153;0m\u001b[3mGRIB2 @ msc\u001b[0m ┊ \u001b[38;2;255;153;0m\u001b[3mIDX @ None\u001b[0m\n",
      "👨🏻‍🏭 Created directory: [/Users/andrew/data/rdps/20250616]\n",
      "✅ Found ┊ model=rdps ┊ \u001b[3mproduct=10km/grib2/\u001b[0m ┊ \u001b[38;2;41;130;13m2025-Jun-16 00:00 UTC\u001b[92m F72\u001b[0m ┊ \u001b[38;2;255;153;0m\u001b[3mGRIB2 @ msc\u001b[0m ┊ \u001b[38;2;255;153;0m\u001b[3mIDX @ None\u001b[0m\n",
      "✅ Found ┊ model=rdps ┊ \u001b[3mproduct=10km/grib2/\u001b[0m ┊ \u001b[38;2;41;130;13m2025-Jun-16 00:00 UTC\u001b[92m F72\u001b[0m ┊ \u001b[38;2;255;153;0m\u001b[3mGRIB2 @ msc\u001b[0m ┊ \u001b[38;2;255;153;0m\u001b[3mIDX @ None\u001b[0m\n",
      "👨🏻‍🏭 Created directory: [/Users/andrew/data/rdps/20250616]\n",
      "✅ Found ┊ model=rdps ┊ \u001b[3mproduct=10km/grib2/\u001b[0m ┊ \u001b[38;2;41;130;13m2025-Jun-16 00:00 UTC\u001b[92m F72\u001b[0m ┊ \u001b[38;2;255;153;0m\u001b[3mGRIB2 @ msc\u001b[0m ┊ \u001b[38;2;255;153;0m\u001b[3mIDX @ None\u001b[0m\n",
      "✅ Found ┊ model=rdps ┊ \u001b[3mproduct=10km/grib2/\u001b[0m ┊ \u001b[38;2;41;130;13m2025-Jun-16 00:00 UTC\u001b[92m F75\u001b[0m ┊ \u001b[38;2;255;153;0m\u001b[3mGRIB2 @ msc\u001b[0m ┊ \u001b[38;2;255;153;0m\u001b[3mIDX @ None\u001b[0m\n",
      "👨🏻‍🏭 Created directory: [/Users/andrew/data/rdps/20250616]\n",
      "✅ Found ┊ model=rdps ┊ \u001b[3mproduct=10km/grib2/\u001b[0m ┊ \u001b[38;2;41;130;13m2025-Jun-16 00:00 UTC\u001b[92m F75\u001b[0m ┊ \u001b[38;2;255;153;0m\u001b[3mGRIB2 @ msc\u001b[0m ┊ \u001b[38;2;255;153;0m\u001b[3mIDX @ None\u001b[0m\n",
      "✅ Found ┊ model=rdps ┊ \u001b[3mproduct=10km/grib2/\u001b[0m ┊ \u001b[38;2;41;130;13m2025-Jun-16 00:00 UTC\u001b[92m F75\u001b[0m ┊ \u001b[38;2;255;153;0m\u001b[3mGRIB2 @ msc\u001b[0m ┊ \u001b[38;2;255;153;0m\u001b[3mIDX @ None\u001b[0m\n",
      "✅ Found ┊ model=rdps ┊ \u001b[3mproduct=10km/grib2/\u001b[0m ┊ \u001b[38;2;41;130;13m2025-Jun-16 00:00 UTC\u001b[92m F75\u001b[0m ┊ \u001b[38;2;255;153;0m\u001b[3mGRIB2 @ msc\u001b[0m ┊ \u001b[38;2;255;153;0m\u001b[3mIDX @ None\u001b[0m\n",
      "✅ Found ┊ model=rdps ┊ \u001b[3mproduct=10km/grib2/\u001b[0m ┊ \u001b[38;2;41;130;13m2025-Jun-16 00:00 UTC\u001b[92m F75\u001b[0m ┊ \u001b[38;2;255;153;0m\u001b[3mGRIB2 @ msc\u001b[0m ┊ \u001b[38;2;255;153;0m\u001b[3mIDX @ None\u001b[0m\n",
      "✅ Found ┊ model=rdps ┊ \u001b[3mproduct=10km/grib2/\u001b[0m ┊ \u001b[38;2;41;130;13m2025-Jun-16 00:00 UTC\u001b[92m F75\u001b[0m ┊ \u001b[38;2;255;153;0m\u001b[3mGRIB2 @ msc\u001b[0m ┊ \u001b[38;2;255;153;0m\u001b[3mIDX @ None\u001b[0m\n",
      "✅ Found ┊ model=rdps ┊ \u001b[3mproduct=10km/grib2/\u001b[0m ┊ \u001b[38;2;41;130;13m2025-Jun-16 00:00 UTC\u001b[92m F75\u001b[0m ┊ \u001b[38;2;255;153;0m\u001b[3mGRIB2 @ msc\u001b[0m ┊ \u001b[38;2;255;153;0m\u001b[3mIDX @ None\u001b[0m\n",
      "👨🏻‍🏭 Created directory: [/Users/andrew/data/rdps/20250616]\n",
      "✅ Found ┊ model=rdps ┊ \u001b[3mproduct=10km/grib2/\u001b[0m ┊ \u001b[38;2;41;130;13m2025-Jun-16 00:00 UTC\u001b[92m F75\u001b[0m ┊ \u001b[38;2;255;153;0m\u001b[3mGRIB2 @ msc\u001b[0m ┊ \u001b[38;2;255;153;0m\u001b[3mIDX @ None\u001b[0m\n",
      "✅ Found ┊ model=rdps ┊ \u001b[3mproduct=10km/grib2/\u001b[0m ┊ \u001b[38;2;41;130;13m2025-Jun-16 00:00 UTC\u001b[92m F75\u001b[0m ┊ \u001b[38;2;255;153;0m\u001b[3mGRIB2 @ msc\u001b[0m ┊ \u001b[38;2;255;153;0m\u001b[3mIDX @ None\u001b[0m\n",
      "✅ Found ┊ model=rdps ┊ \u001b[3mproduct=10km/grib2/\u001b[0m ┊ \u001b[38;2;41;130;13m2025-Jun-16 00:00 UTC\u001b[92m F78\u001b[0m ┊ \u001b[38;2;255;153;0m\u001b[3mGRIB2 @ msc\u001b[0m ┊ \u001b[38;2;255;153;0m\u001b[3mIDX @ None\u001b[0m\n",
      "👨🏻‍🏭 Created directory: [/Users/andrew/data/rdps/20250616]\n",
      "✅ Found ┊ model=rdps ┊ \u001b[3mproduct=10km/grib2/\u001b[0m ┊ \u001b[38;2;41;130;13m2025-Jun-16 00:00 UTC\u001b[92m F78\u001b[0m ┊ \u001b[38;2;255;153;0m\u001b[3mGRIB2 @ msc\u001b[0m ┊ \u001b[38;2;255;153;0m\u001b[3mIDX @ None\u001b[0m\n",
      "✅ Found ┊ model=rdps ┊ \u001b[3mproduct=10km/grib2/\u001b[0m ┊ \u001b[38;2;41;130;13m2025-Jun-16 00:00 UTC\u001b[92m F78\u001b[0m ┊ \u001b[38;2;255;153;0m\u001b[3mGRIB2 @ msc\u001b[0m ┊ \u001b[38;2;255;153;0m\u001b[3mIDX @ None\u001b[0m\n",
      "✅ Found ┊ model=rdps ┊ \u001b[3mproduct=10km/grib2/\u001b[0m ┊ \u001b[38;2;41;130;13m2025-Jun-16 00:00 UTC\u001b[92m F78\u001b[0m ┊ \u001b[38;2;255;153;0m\u001b[3mGRIB2 @ msc\u001b[0m ┊ \u001b[38;2;255;153;0m\u001b[3mIDX @ None\u001b[0m\n",
      "✅ Found ┊ model=rdps ┊ \u001b[3mproduct=10km/grib2/\u001b[0m ┊ \u001b[38;2;41;130;13m2025-Jun-16 00:00 UTC\u001b[92m F78\u001b[0m ┊ \u001b[38;2;255;153;0m\u001b[3mGRIB2 @ msc\u001b[0m ┊ \u001b[38;2;255;153;0m\u001b[3mIDX @ None\u001b[0m\n",
      "✅ Found ┊ model=rdps ┊ \u001b[3mproduct=10km/grib2/\u001b[0m ┊ \u001b[38;2;41;130;13m2025-Jun-16 00:00 UTC\u001b[92m F78\u001b[0m ┊ \u001b[38;2;255;153;0m\u001b[3mGRIB2 @ msc\u001b[0m ┊ \u001b[38;2;255;153;0m\u001b[3mIDX @ None\u001b[0m\n",
      "✅ Found ┊ model=rdps ┊ \u001b[3mproduct=10km/grib2/\u001b[0m ┊ \u001b[38;2;41;130;13m2025-Jun-16 00:00 UTC\u001b[92m F78\u001b[0m ┊ \u001b[38;2;255;153;0m\u001b[3mGRIB2 @ msc\u001b[0m ┊ \u001b[38;2;255;153;0m\u001b[3mIDX @ None\u001b[0m\n",
      "✅ Found ┊ model=rdps ┊ \u001b[3mproduct=10km/grib2/\u001b[0m ┊ \u001b[38;2;41;130;13m2025-Jun-16 00:00 UTC\u001b[92m F78\u001b[0m ┊ \u001b[38;2;255;153;0m\u001b[3mGRIB2 @ msc\u001b[0m ┊ \u001b[38;2;255;153;0m\u001b[3mIDX @ None\u001b[0m\n",
      "👨🏻‍🏭 Created directory: [/Users/andrew/data/rdps/20250616]\n",
      "✅ Found ┊ model=rdps ┊ \u001b[3mproduct=10km/grib2/\u001b[0m ┊ \u001b[38;2;41;130;13m2025-Jun-16 00:00 UTC\u001b[92m F78\u001b[0m ┊ \u001b[38;2;255;153;0m\u001b[3mGRIB2 @ msc\u001b[0m ┊ \u001b[38;2;255;153;0m\u001b[3mIDX @ None\u001b[0m\n"
     ]
    },
    {
     "name": "stdout",
     "output_type": "stream",
     "text": [
      "✅ Found ┊ model=rdps ┊ \u001b[3mproduct=10km/grib2/\u001b[0m ┊ \u001b[38;2;41;130;13m2025-Jun-16 00:00 UTC\u001b[92m F78\u001b[0m ┊ \u001b[38;2;255;153;0m\u001b[3mGRIB2 @ msc\u001b[0m ┊ \u001b[38;2;255;153;0m\u001b[3mIDX @ None\u001b[0m\n",
      "✅ Found ┊ model=rdps ┊ \u001b[3mproduct=10km/grib2/\u001b[0m ┊ \u001b[38;2;41;130;13m2025-Jun-16 00:00 UTC\u001b[92m F78\u001b[0m ┊ \u001b[38;2;255;153;0m\u001b[3mGRIB2 @ msc\u001b[0m ┊ \u001b[38;2;255;153;0m\u001b[3mIDX @ None\u001b[0m\n",
      "👨🏻‍🏭 Created directory: [/Users/andrew/data/rdps/20250616]\n",
      "✅ Found ┊ model=rdps ┊ \u001b[3mproduct=10km/grib2/\u001b[0m ┊ \u001b[38;2;41;130;13m2025-Jun-16 00:00 UTC\u001b[92m F78\u001b[0m ┊ \u001b[38;2;255;153;0m\u001b[3mGRIB2 @ msc\u001b[0m ┊ \u001b[38;2;255;153;0m\u001b[3mIDX @ None\u001b[0m\n",
      "✅ Found ┊ model=rdps ┊ \u001b[3mproduct=10km/grib2/\u001b[0m ┊ \u001b[38;2;41;130;13m2025-Jun-16 00:00 UTC\u001b[92m F78\u001b[0m ┊ \u001b[38;2;255;153;0m\u001b[3mGRIB2 @ msc\u001b[0m ┊ \u001b[38;2;255;153;0m\u001b[3mIDX @ None\u001b[0m\n",
      "👨🏻‍🏭 Created directory: [/Users/andrew/data/rdps/20250616]\n",
      "✅ Found ┊ model=rdps ┊ \u001b[3mproduct=10km/grib2/\u001b[0m ┊ \u001b[38;2;41;130;13m2025-Jun-16 00:00 UTC\u001b[92m F78\u001b[0m ┊ \u001b[38;2;255;153;0m\u001b[3mGRIB2 @ msc\u001b[0m ┊ \u001b[38;2;255;153;0m\u001b[3mIDX @ None\u001b[0m\n",
      "✅ Found ┊ model=rdps ┊ \u001b[3mproduct=10km/grib2/\u001b[0m ┊ \u001b[38;2;41;130;13m2025-Jun-16 00:00 UTC\u001b[92m F81\u001b[0m ┊ \u001b[38;2;255;153;0m\u001b[3mGRIB2 @ msc\u001b[0m ┊ \u001b[38;2;255;153;0m\u001b[3mIDX @ None\u001b[0m\n",
      "👨🏻‍🏭 Created directory: [/Users/andrew/data/rdps/20250616]\n",
      "✅ Found ┊ model=rdps ┊ \u001b[3mproduct=10km/grib2/\u001b[0m ┊ \u001b[38;2;41;130;13m2025-Jun-16 00:00 UTC\u001b[92m F81\u001b[0m ┊ \u001b[38;2;255;153;0m\u001b[3mGRIB2 @ msc\u001b[0m ┊ \u001b[38;2;255;153;0m\u001b[3mIDX @ None\u001b[0m\n",
      "✅ Found ┊ model=rdps ┊ \u001b[3mproduct=10km/grib2/\u001b[0m ┊ \u001b[38;2;41;130;13m2025-Jun-16 00:00 UTC\u001b[92m F81\u001b[0m ┊ \u001b[38;2;255;153;0m\u001b[3mGRIB2 @ msc\u001b[0m ┊ \u001b[38;2;255;153;0m\u001b[3mIDX @ None\u001b[0m\n",
      "✅ Found ┊ model=rdps ┊ \u001b[3mproduct=10km/grib2/\u001b[0m ┊ \u001b[38;2;41;130;13m2025-Jun-16 00:00 UTC\u001b[92m F81\u001b[0m ┊ \u001b[38;2;255;153;0m\u001b[3mGRIB2 @ msc\u001b[0m ┊ \u001b[38;2;255;153;0m\u001b[3mIDX @ None\u001b[0m\n",
      "✅ Found ┊ model=rdps ┊ \u001b[3mproduct=10km/grib2/\u001b[0m ┊ \u001b[38;2;41;130;13m2025-Jun-16 00:00 UTC\u001b[92m F81\u001b[0m ┊ \u001b[38;2;255;153;0m\u001b[3mGRIB2 @ msc\u001b[0m ┊ \u001b[38;2;255;153;0m\u001b[3mIDX @ None\u001b[0m\n",
      "✅ Found ┊ model=rdps ┊ \u001b[3mproduct=10km/grib2/\u001b[0m ┊ \u001b[38;2;41;130;13m2025-Jun-16 00:00 UTC\u001b[92m F81\u001b[0m ┊ \u001b[38;2;255;153;0m\u001b[3mGRIB2 @ msc\u001b[0m ┊ \u001b[38;2;255;153;0m\u001b[3mIDX @ None\u001b[0m\n",
      "✅ Found ┊ model=rdps ┊ \u001b[3mproduct=10km/grib2/\u001b[0m ┊ \u001b[38;2;41;130;13m2025-Jun-16 00:00 UTC\u001b[92m F81\u001b[0m ┊ \u001b[38;2;255;153;0m\u001b[3mGRIB2 @ msc\u001b[0m ┊ \u001b[38;2;255;153;0m\u001b[3mIDX @ None\u001b[0m\n",
      "👨🏻‍🏭 Created directory: [/Users/andrew/data/rdps/20250616]\n",
      "✅ Found ┊ model=rdps ┊ \u001b[3mproduct=10km/grib2/\u001b[0m ┊ \u001b[38;2;41;130;13m2025-Jun-16 00:00 UTC\u001b[92m F81\u001b[0m ┊ \u001b[38;2;255;153;0m\u001b[3mGRIB2 @ msc\u001b[0m ┊ \u001b[38;2;255;153;0m\u001b[3mIDX @ None\u001b[0m\n",
      "✅ Found ┊ model=rdps ┊ \u001b[3mproduct=10km/grib2/\u001b[0m ┊ \u001b[38;2;41;130;13m2025-Jun-16 00:00 UTC\u001b[92m F81\u001b[0m ┊ \u001b[38;2;255;153;0m\u001b[3mGRIB2 @ msc\u001b[0m ┊ \u001b[38;2;255;153;0m\u001b[3mIDX @ None\u001b[0m\n",
      "✅ Found ┊ model=rdps ┊ \u001b[3mproduct=10km/grib2/\u001b[0m ┊ \u001b[38;2;41;130;13m2025-Jun-16 00:00 UTC\u001b[92m F84\u001b[0m ┊ \u001b[38;2;255;153;0m\u001b[3mGRIB2 @ msc\u001b[0m ┊ \u001b[38;2;255;153;0m\u001b[3mIDX @ None\u001b[0m\n",
      "👨🏻‍🏭 Created directory: [/Users/andrew/data/rdps/20250616]\n",
      "✅ Found ┊ model=rdps ┊ \u001b[3mproduct=10km/grib2/\u001b[0m ┊ \u001b[38;2;41;130;13m2025-Jun-16 00:00 UTC\u001b[92m F84\u001b[0m ┊ \u001b[38;2;255;153;0m\u001b[3mGRIB2 @ msc\u001b[0m ┊ \u001b[38;2;255;153;0m\u001b[3mIDX @ None\u001b[0m\n",
      "✅ Found ┊ model=rdps ┊ \u001b[3mproduct=10km/grib2/\u001b[0m ┊ \u001b[38;2;41;130;13m2025-Jun-16 00:00 UTC\u001b[92m F84\u001b[0m ┊ \u001b[38;2;255;153;0m\u001b[3mGRIB2 @ msc\u001b[0m ┊ \u001b[38;2;255;153;0m\u001b[3mIDX @ None\u001b[0m\n",
      "✅ Found ┊ model=rdps ┊ \u001b[3mproduct=10km/grib2/\u001b[0m ┊ \u001b[38;2;41;130;13m2025-Jun-16 00:00 UTC\u001b[92m F84\u001b[0m ┊ \u001b[38;2;255;153;0m\u001b[3mGRIB2 @ msc\u001b[0m ┊ \u001b[38;2;255;153;0m\u001b[3mIDX @ None\u001b[0m\n",
      "✅ Found ┊ model=rdps ┊ \u001b[3mproduct=10km/grib2/\u001b[0m ┊ \u001b[38;2;41;130;13m2025-Jun-16 00:00 UTC\u001b[92m F84\u001b[0m ┊ \u001b[38;2;255;153;0m\u001b[3mGRIB2 @ msc\u001b[0m ┊ \u001b[38;2;255;153;0m\u001b[3mIDX @ None\u001b[0m\n",
      "✅ Found ┊ model=rdps ┊ \u001b[3mproduct=10km/grib2/\u001b[0m ┊ \u001b[38;2;41;130;13m2025-Jun-16 00:00 UTC\u001b[92m F84\u001b[0m ┊ \u001b[38;2;255;153;0m\u001b[3mGRIB2 @ msc\u001b[0m ┊ \u001b[38;2;255;153;0m\u001b[3mIDX @ None\u001b[0m\n",
      "✅ Found ┊ model=rdps ┊ \u001b[3mproduct=10km/grib2/\u001b[0m ┊ \u001b[38;2;41;130;13m2025-Jun-16 00:00 UTC\u001b[92m F84\u001b[0m ┊ \u001b[38;2;255;153;0m\u001b[3mGRIB2 @ msc\u001b[0m ┊ \u001b[38;2;255;153;0m\u001b[3mIDX @ None\u001b[0m\n",
      "✅ Found ┊ model=rdps ┊ \u001b[3mproduct=10km/grib2/\u001b[0m ┊ \u001b[38;2;41;130;13m2025-Jun-16 00:00 UTC\u001b[92m F84\u001b[0m ┊ \u001b[38;2;255;153;0m\u001b[3mGRIB2 @ msc\u001b[0m ┊ \u001b[38;2;255;153;0m\u001b[3mIDX @ None\u001b[0m\n",
      "👨🏻‍🏭 Created directory: [/Users/andrew/data/rdps/20250616]\n",
      "✅ Found ┊ model=rdps ┊ \u001b[3mproduct=10km/grib2/\u001b[0m ┊ \u001b[38;2;41;130;13m2025-Jun-16 00:00 UTC\u001b[92m F84\u001b[0m ┊ \u001b[38;2;255;153;0m\u001b[3mGRIB2 @ msc\u001b[0m ┊ \u001b[38;2;255;153;0m\u001b[3mIDX @ None\u001b[0m\n",
      "✅ Found ┊ model=rdps ┊ \u001b[3mproduct=10km/grib2/\u001b[0m ┊ \u001b[38;2;41;130;13m2025-Jun-16 00:00 UTC\u001b[92m F84\u001b[0m ┊ \u001b[38;2;255;153;0m\u001b[3mGRIB2 @ msc\u001b[0m ┊ \u001b[38;2;255;153;0m\u001b[3mIDX @ None\u001b[0m\n",
      "✅ Found ┊ model=rdps ┊ \u001b[3mproduct=10km/grib2/\u001b[0m ┊ \u001b[38;2;41;130;13m2025-Jun-16 00:00 UTC\u001b[92m F84\u001b[0m ┊ \u001b[38;2;255;153;0m\u001b[3mGRIB2 @ msc\u001b[0m ┊ \u001b[38;2;255;153;0m\u001b[3mIDX @ None\u001b[0m\n",
      "👨🏻‍🏭 Created directory: [/Users/andrew/data/rdps/20250616]\n",
      "✅ Found ┊ model=rdps ┊ \u001b[3mproduct=10km/grib2/\u001b[0m ┊ \u001b[38;2;41;130;13m2025-Jun-16 00:00 UTC\u001b[92m F84\u001b[0m ┊ \u001b[38;2;255;153;0m\u001b[3mGRIB2 @ msc\u001b[0m ┊ \u001b[38;2;255;153;0m\u001b[3mIDX @ None\u001b[0m\n",
      "✅ Found ┊ model=rdps ┊ \u001b[3mproduct=10km/grib2/\u001b[0m ┊ \u001b[38;2;41;130;13m2025-Jun-16 00:00 UTC\u001b[92m F84\u001b[0m ┊ \u001b[38;2;255;153;0m\u001b[3mGRIB2 @ msc\u001b[0m ┊ \u001b[38;2;255;153;0m\u001b[3mIDX @ None\u001b[0m\n",
      "👨🏻‍🏭 Created directory: [/Users/andrew/data/rdps/20250616]\n",
      "✅ Found ┊ model=rdps ┊ \u001b[3mproduct=10km/grib2/\u001b[0m ┊ \u001b[38;2;41;130;13m2025-Jun-16 00:00 UTC\u001b[92m F84\u001b[0m ┊ \u001b[38;2;255;153;0m\u001b[3mGRIB2 @ msc\u001b[0m ┊ \u001b[38;2;255;153;0m\u001b[3mIDX @ None\u001b[0m\n"
     ]
    },
    {
     "data": {
      "text/plain": [
       "<Figure size 1500x1500 with 0 Axes>"
      ]
     },
     "metadata": {},
     "output_type": "display_data"
    },
    {
     "data": {
      "text/plain": [
       "<Figure size 1500x1500 with 0 Axes>"
      ]
     },
     "metadata": {},
     "output_type": "display_data"
    },
    {
     "data": {
      "text/plain": [
       "<Figure size 1500x1500 with 0 Axes>"
      ]
     },
     "metadata": {},
     "output_type": "display_data"
    },
    {
     "data": {
      "text/plain": [
       "<Figure size 1500x1500 with 0 Axes>"
      ]
     },
     "metadata": {},
     "output_type": "display_data"
    },
    {
     "data": {
      "text/plain": [
       "<Figure size 1500x1500 with 0 Axes>"
      ]
     },
     "metadata": {},
     "output_type": "display_data"
    },
    {
     "data": {
      "text/plain": [
       "<Figure size 1500x1500 with 0 Axes>"
      ]
     },
     "metadata": {},
     "output_type": "display_data"
    },
    {
     "data": {
      "text/plain": [
       "<Figure size 1500x1500 with 0 Axes>"
      ]
     },
     "metadata": {},
     "output_type": "display_data"
    },
    {
     "data": {
      "text/plain": [
       "<Figure size 1500x1500 with 0 Axes>"
      ]
     },
     "metadata": {},
     "output_type": "display_data"
    },
    {
     "data": {
      "text/plain": [
       "<Figure size 1500x1500 with 0 Axes>"
      ]
     },
     "metadata": {},
     "output_type": "display_data"
    },
    {
     "data": {
      "text/plain": [
       "<Figure size 1500x1500 with 0 Axes>"
      ]
     },
     "metadata": {},
     "output_type": "display_data"
    },
    {
     "data": {
      "text/plain": [
       "<Figure size 1500x1500 with 0 Axes>"
      ]
     },
     "metadata": {},
     "output_type": "display_data"
    },
    {
     "data": {
      "text/plain": [
       "<Figure size 1500x1500 with 0 Axes>"
      ]
     },
     "metadata": {},
     "output_type": "display_data"
    },
    {
     "data": {
      "text/plain": [
       "<Figure size 1500x1500 with 0 Axes>"
      ]
     },
     "metadata": {},
     "output_type": "display_data"
    },
    {
     "data": {
      "text/plain": [
       "<Figure size 1500x1500 with 0 Axes>"
      ]
     },
     "metadata": {},
     "output_type": "display_data"
    },
    {
     "data": {
      "text/plain": [
       "<Figure size 1500x1500 with 0 Axes>"
      ]
     },
     "metadata": {},
     "output_type": "display_data"
    },
    {
     "data": {
      "text/plain": [
       "<Figure size 1500x1500 with 0 Axes>"
      ]
     },
     "metadata": {},
     "output_type": "display_data"
    },
    {
     "data": {
      "text/plain": [
       "<Figure size 1500x1500 with 0 Axes>"
      ]
     },
     "metadata": {},
     "output_type": "display_data"
    },
    {
     "data": {
      "text/plain": [
       "<Figure size 1500x1500 with 0 Axes>"
      ]
     },
     "metadata": {},
     "output_type": "display_data"
    },
    {
     "data": {
      "text/plain": [
       "<Figure size 1500x1500 with 0 Axes>"
      ]
     },
     "metadata": {},
     "output_type": "display_data"
    },
    {
     "data": {
      "text/plain": [
       "<Figure size 1500x1500 with 0 Axes>"
      ]
     },
     "metadata": {},
     "output_type": "display_data"
    },
    {
     "data": {
      "text/plain": [
       "<Figure size 1500x1500 with 0 Axes>"
      ]
     },
     "metadata": {},
     "output_type": "display_data"
    },
    {
     "data": {
      "text/plain": [
       "<Figure size 1500x1500 with 0 Axes>"
      ]
     },
     "metadata": {},
     "output_type": "display_data"
    },
    {
     "data": {
      "text/plain": [
       "<Figure size 1500x1500 with 0 Axes>"
      ]
     },
     "metadata": {},
     "output_type": "display_data"
    },
    {
     "data": {
      "text/plain": [
       "<Figure size 1500x1500 with 0 Axes>"
      ]
     },
     "metadata": {},
     "output_type": "display_data"
    },
    {
     "data": {
      "text/plain": [
       "<Figure size 1500x1500 with 0 Axes>"
      ]
     },
     "metadata": {},
     "output_type": "display_data"
    },
    {
     "data": {
      "text/plain": [
       "<Figure size 1500x1500 with 0 Axes>"
      ]
     },
     "metadata": {},
     "output_type": "display_data"
    },
    {
     "data": {
      "text/plain": [
       "<Figure size 1500x1500 with 0 Axes>"
      ]
     },
     "metadata": {},
     "output_type": "display_data"
    },
    {
     "data": {
      "text/plain": [
       "<Figure size 1500x1500 with 0 Axes>"
      ]
     },
     "metadata": {},
     "output_type": "display_data"
    },
    {
     "data": {
      "text/plain": [
       "<Figure size 1500x1500 with 0 Axes>"
      ]
     },
     "metadata": {},
     "output_type": "display_data"
    },
    {
     "data": {
      "text/plain": [
       "<Figure size 1500x1500 with 0 Axes>"
      ]
     },
     "metadata": {},
     "output_type": "display_data"
    },
    {
     "data": {
      "text/plain": [
       "<Figure size 1500x1500 with 0 Axes>"
      ]
     },
     "metadata": {},
     "output_type": "display_data"
    },
    {
     "data": {
      "text/plain": [
       "<Figure size 1500x1500 with 0 Axes>"
      ]
     },
     "metadata": {},
     "output_type": "display_data"
    },
    {
     "data": {
      "text/plain": [
       "<Figure size 1500x1500 with 0 Axes>"
      ]
     },
     "metadata": {},
     "output_type": "display_data"
    },
    {
     "data": {
      "text/plain": [
       "<Figure size 1500x1500 with 0 Axes>"
      ]
     },
     "metadata": {},
     "output_type": "display_data"
    },
    {
     "data": {
      "text/plain": [
       "<Figure size 1500x1500 with 0 Axes>"
      ]
     },
     "metadata": {},
     "output_type": "display_data"
    },
    {
     "data": {
      "text/plain": [
       "<Figure size 1500x1500 with 0 Axes>"
      ]
     },
     "metadata": {},
     "output_type": "display_data"
    },
    {
     "data": {
      "text/plain": [
       "<Figure size 1500x1500 with 0 Axes>"
      ]
     },
     "metadata": {},
     "output_type": "display_data"
    },
    {
     "data": {
      "text/plain": [
       "<Figure size 1500x1500 with 0 Axes>"
      ]
     },
     "metadata": {},
     "output_type": "display_data"
    },
    {
     "data": {
      "text/plain": [
       "<Figure size 1500x1500 with 0 Axes>"
      ]
     },
     "metadata": {},
     "output_type": "display_data"
    },
    {
     "data": {
      "text/plain": [
       "<Figure size 1500x1500 with 0 Axes>"
      ]
     },
     "metadata": {},
     "output_type": "display_data"
    },
    {
     "data": {
      "text/plain": [
       "<Figure size 1500x1500 with 0 Axes>"
      ]
     },
     "metadata": {},
     "output_type": "display_data"
    },
    {
     "data": {
      "text/plain": [
       "<Figure size 1500x1500 with 0 Axes>"
      ]
     },
     "metadata": {},
     "output_type": "display_data"
    },
    {
     "data": {
      "text/plain": [
       "<Figure size 1500x1500 with 0 Axes>"
      ]
     },
     "metadata": {},
     "output_type": "display_data"
    },
    {
     "data": {
      "text/plain": [
       "<Figure size 1500x1500 with 0 Axes>"
      ]
     },
     "metadata": {},
     "output_type": "display_data"
    },
    {
     "data": {
      "text/plain": [
       "<Figure size 1500x1500 with 0 Axes>"
      ]
     },
     "metadata": {},
     "output_type": "display_data"
    },
    {
     "data": {
      "text/plain": [
       "<Figure size 1500x1500 with 0 Axes>"
      ]
     },
     "metadata": {},
     "output_type": "display_data"
    },
    {
     "data": {
      "text/plain": [
       "<Figure size 1500x1500 with 0 Axes>"
      ]
     },
     "metadata": {},
     "output_type": "display_data"
    },
    {
     "data": {
      "text/plain": [
       "<Figure size 1500x1500 with 0 Axes>"
      ]
     },
     "metadata": {},
     "output_type": "display_data"
    },
    {
     "data": {
      "text/plain": [
       "<Figure size 1500x1500 with 0 Axes>"
      ]
     },
     "metadata": {},
     "output_type": "display_data"
    },
    {
     "data": {
      "text/plain": [
       "<Figure size 1500x1500 with 0 Axes>"
      ]
     },
     "metadata": {},
     "output_type": "display_data"
    },
    {
     "data": {
      "text/plain": [
       "<Figure size 1500x1500 with 0 Axes>"
      ]
     },
     "metadata": {},
     "output_type": "display_data"
    },
    {
     "data": {
      "text/plain": [
       "<Figure size 1500x1500 with 0 Axes>"
      ]
     },
     "metadata": {},
     "output_type": "display_data"
    },
    {
     "data": {
      "text/plain": [
       "<Figure size 1500x1500 with 0 Axes>"
      ]
     },
     "metadata": {},
     "output_type": "display_data"
    },
    {
     "data": {
      "text/plain": [
       "<Figure size 1500x1500 with 0 Axes>"
      ]
     },
     "metadata": {},
     "output_type": "display_data"
    },
    {
     "data": {
      "text/plain": [
       "<Figure size 1500x1500 with 0 Axes>"
      ]
     },
     "metadata": {},
     "output_type": "display_data"
    },
    {
     "data": {
      "text/plain": [
       "<Figure size 1500x1500 with 0 Axes>"
      ]
     },
     "metadata": {},
     "output_type": "display_data"
    },
    {
     "data": {
      "text/plain": [
       "<Figure size 1500x1500 with 0 Axes>"
      ]
     },
     "metadata": {},
     "output_type": "display_data"
    },
    {
     "data": {
      "text/plain": [
       "<Figure size 1500x1500 with 0 Axes>"
      ]
     },
     "metadata": {},
     "output_type": "display_data"
    },
    {
     "data": {
      "text/plain": [
       "<Figure size 1500x1500 with 0 Axes>"
      ]
     },
     "metadata": {},
     "output_type": "display_data"
    },
    {
     "data": {
      "text/plain": [
       "<Figure size 1500x1500 with 0 Axes>"
      ]
     },
     "metadata": {},
     "output_type": "display_data"
    },
    {
     "data": {
      "text/plain": [
       "<Figure size 1500x1500 with 0 Axes>"
      ]
     },
     "metadata": {},
     "output_type": "display_data"
    },
    {
     "data": {
      "text/plain": [
       "<Figure size 1500x1500 with 0 Axes>"
      ]
     },
     "metadata": {},
     "output_type": "display_data"
    },
    {
     "data": {
      "text/plain": [
       "<Figure size 1500x1500 with 0 Axes>"
      ]
     },
     "metadata": {},
     "output_type": "display_data"
    },
    {
     "data": {
      "text/plain": [
       "<Figure size 1500x1500 with 0 Axes>"
      ]
     },
     "metadata": {},
     "output_type": "display_data"
    },
    {
     "data": {
      "text/plain": [
       "<Figure size 1500x1500 with 0 Axes>"
      ]
     },
     "metadata": {},
     "output_type": "display_data"
    },
    {
     "data": {
      "text/plain": [
       "<Figure size 1500x1500 with 0 Axes>"
      ]
     },
     "metadata": {},
     "output_type": "display_data"
    },
    {
     "data": {
      "text/plain": [
       "<Figure size 1500x1500 with 0 Axes>"
      ]
     },
     "metadata": {},
     "output_type": "display_data"
    },
    {
     "data": {
      "text/plain": [
       "<Figure size 1500x1500 with 0 Axes>"
      ]
     },
     "metadata": {},
     "output_type": "display_data"
    },
    {
     "data": {
      "text/plain": [
       "<Figure size 1500x1500 with 0 Axes>"
      ]
     },
     "metadata": {},
     "output_type": "display_data"
    },
    {
     "data": {
      "text/plain": [
       "<Figure size 1500x1500 with 0 Axes>"
      ]
     },
     "metadata": {},
     "output_type": "display_data"
    },
    {
     "data": {
      "text/plain": [
       "<Figure size 1500x1500 with 0 Axes>"
      ]
     },
     "metadata": {},
     "output_type": "display_data"
    },
    {
     "data": {
      "text/plain": [
       "<Figure size 1500x1500 with 0 Axes>"
      ]
     },
     "metadata": {},
     "output_type": "display_data"
    },
    {
     "data": {
      "text/plain": [
       "<Figure size 1500x1500 with 0 Axes>"
      ]
     },
     "metadata": {},
     "output_type": "display_data"
    },
    {
     "data": {
      "text/plain": [
       "<Figure size 1500x1500 with 0 Axes>"
      ]
     },
     "metadata": {},
     "output_type": "display_data"
    },
    {
     "data": {
      "text/plain": [
       "<Figure size 1500x1500 with 0 Axes>"
      ]
     },
     "metadata": {},
     "output_type": "display_data"
    },
    {
     "data": {
      "text/plain": [
       "<Figure size 1500x1500 with 0 Axes>"
      ]
     },
     "metadata": {},
     "output_type": "display_data"
    },
    {
     "data": {
      "text/plain": [
       "<Figure size 1500x1500 with 0 Axes>"
      ]
     },
     "metadata": {},
     "output_type": "display_data"
    },
    {
     "data": {
      "text/plain": [
       "<Figure size 1500x1500 with 0 Axes>"
      ]
     },
     "metadata": {},
     "output_type": "display_data"
    },
    {
     "data": {
      "text/plain": [
       "<Figure size 1500x1500 with 0 Axes>"
      ]
     },
     "metadata": {},
     "output_type": "display_data"
    },
    {
     "data": {
      "text/plain": [
       "<Figure size 1500x1500 with 0 Axes>"
      ]
     },
     "metadata": {},
     "output_type": "display_data"
    },
    {
     "data": {
      "text/plain": [
       "<Figure size 1500x1500 with 0 Axes>"
      ]
     },
     "metadata": {},
     "output_type": "display_data"
    },
    {
     "data": {
      "text/plain": [
       "<Figure size 1500x1500 with 0 Axes>"
      ]
     },
     "metadata": {},
     "output_type": "display_data"
    },
    {
     "data": {
      "text/plain": [
       "<Figure size 1500x1500 with 0 Axes>"
      ]
     },
     "metadata": {},
     "output_type": "display_data"
    },
    {
     "data": {
      "text/plain": [
       "<Figure size 1500x1500 with 0 Axes>"
      ]
     },
     "metadata": {},
     "output_type": "display_data"
    },
    {
     "data": {
      "text/plain": [
       "<Figure size 1500x1500 with 0 Axes>"
      ]
     },
     "metadata": {},
     "output_type": "display_data"
    },
    {
     "data": {
      "text/plain": [
       "<Figure size 1500x1500 with 0 Axes>"
      ]
     },
     "metadata": {},
     "output_type": "display_data"
    },
    {
     "data": {
      "text/plain": [
       "<Figure size 1500x1500 with 0 Axes>"
      ]
     },
     "metadata": {},
     "output_type": "display_data"
    },
    {
     "data": {
      "text/plain": [
       "<Figure size 1500x1500 with 0 Axes>"
      ]
     },
     "metadata": {},
     "output_type": "display_data"
    },
    {
     "data": {
      "text/plain": [
       "<Figure size 1500x1500 with 0 Axes>"
      ]
     },
     "metadata": {},
     "output_type": "display_data"
    },
    {
     "data": {
      "text/plain": [
       "<Figure size 1500x1500 with 0 Axes>"
      ]
     },
     "metadata": {},
     "output_type": "display_data"
    },
    {
     "data": {
      "text/plain": [
       "<Figure size 1500x1500 with 0 Axes>"
      ]
     },
     "metadata": {},
     "output_type": "display_data"
    },
    {
     "data": {
      "text/plain": [
       "<Figure size 1500x1500 with 0 Axes>"
      ]
     },
     "metadata": {},
     "output_type": "display_data"
    },
    {
     "data": {
      "text/plain": [
       "<Figure size 1500x1500 with 0 Axes>"
      ]
     },
     "metadata": {},
     "output_type": "display_data"
    },
    {
     "data": {
      "text/plain": [
       "<Figure size 1500x1500 with 0 Axes>"
      ]
     },
     "metadata": {},
     "output_type": "display_data"
    },
    {
     "data": {
      "text/plain": [
       "<Figure size 1500x1500 with 0 Axes>"
      ]
     },
     "metadata": {},
     "output_type": "display_data"
    },
    {
     "data": {
      "text/plain": [
       "<Figure size 1500x1500 with 0 Axes>"
      ]
     },
     "metadata": {},
     "output_type": "display_data"
    },
    {
     "data": {
      "text/plain": [
       "<Figure size 1500x1500 with 0 Axes>"
      ]
     },
     "metadata": {},
     "output_type": "display_data"
    }
   ],
   "source": [
    "if __name__ == \"__main__\":\n",
    "    ds = main()"
   ]
  }
 ],
 "metadata": {
  "kernelspec": {
   "display_name": "Python 3 (ipykernel)",
   "language": "python",
   "name": "python3"
  },
  "language_info": {
   "codemirror_mode": {
    "name": "ipython",
    "version": 3
   },
   "file_extension": ".py",
   "mimetype": "text/x-python",
   "name": "python",
   "nbconvert_exporter": "python",
   "pygments_lexer": "ipython3",
   "version": "3.13.0"
  }
 },
 "nbformat": 4,
 "nbformat_minor": 5
}
