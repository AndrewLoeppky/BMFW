{
 "cells": [
  {
   "cell_type": "markdown",
   "id": "4bf04450",
   "metadata": {},
   "source": [
    "# get_rdps\n",
    "\n",
    "This routine grabs the latest Regional Deterministic Prediction System (RDPS) model data from MSC Datamart and outputs png plots into designated product folders for each ACMWF product.\n",
    "\n",
    "**Datamart:**\n",
    "\n",
    "https://eccc-msc.github.io/open-data/msc-data/nwp_rdps/readme_rdps_en/\n",
    "\n",
    "https://dd.weather.gc.ca/model_gem_regional/\n",
    "\n",
    "**Outputs:**\n",
    "\n",
    "12hr Total Precipitation -> *BC/AB*\n",
    "\n",
    "Winds -> *Surface R, 1500m, 2500m*\n",
    "\n",
    "Surface Maps -> 0-48 Hours\n",
    "\n",
    "**Maintenance:**\n",
    "\n",
    "For bug reports, suggestions, inquiries or high fives, contact Andrew.Loeppky@gmail.com"
   ]
  },
  {
   "cell_type": "code",
   "execution_count": null,
   "id": "969e55b2",
   "metadata": {},
   "outputs": [],
   "source": []
  },
  {
   "cell_type": "code",
   "execution_count": null,
   "id": "ba7a35ce",
   "metadata": {},
   "outputs": [],
   "source": []
  },
  {
   "cell_type": "code",
   "execution_count": null,
   "id": "b1f9b45e",
   "metadata": {},
   "outputs": [],
   "source": []
  }
 ],
 "metadata": {
  "kernelspec": {
   "display_name": "Python 3 (ipykernel)",
   "language": "python",
   "name": "python3"
  },
  "language_info": {
   "codemirror_mode": {
    "name": "ipython",
    "version": 3
   },
   "file_extension": ".py",
   "mimetype": "text/x-python",
   "name": "python",
   "nbconvert_exporter": "python",
   "pygments_lexer": "ipython3",
   "version": "3.13.0"
  }
 },
 "nbformat": 4,
 "nbformat_minor": 5
}
