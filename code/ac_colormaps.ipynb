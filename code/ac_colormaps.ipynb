{
 "cells": [
  {
   "cell_type": "markdown",
   "id": "da8bc0ae",
   "metadata": {},
   "source": [
    "# ac_colormaps\n",
    "\n",
    "This is a repository for custom colormaps associated with the Avalanche Canada Mountain Weather Forecast"
   ]
  },
  {
   "cell_type": "code",
   "execution_count": null,
   "id": "1be3e4b3",
   "metadata": {},
   "outputs": [],
   "source": []
  },
  {
   "cell_type": "code",
   "execution_count": null,
   "id": "acf7aa81",
   "metadata": {},
   "outputs": [],
   "source": []
  },
  {
   "cell_type": "code",
   "execution_count": null,
   "id": "5b84d374",
   "metadata": {},
   "outputs": [],
   "source": []
  }
 ],
 "metadata": {
  "kernelspec": {
   "display_name": "Python 3 (ipykernel)",
   "language": "python",
   "name": "python3"
  },
  "language_info": {
   "codemirror_mode": {
    "name": "ipython",
    "version": 3
   },
   "file_extension": ".py",
   "mimetype": "text/x-python",
   "name": "python",
   "nbconvert_exporter": "python",
   "pygments_lexer": "ipython3",
   "version": "3.13.0"
  }
 },
 "nbformat": 4,
 "nbformat_minor": 5
}
