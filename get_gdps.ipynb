{
 "cells": [
  {
   "cell_type": "markdown",
   "id": "37358984",
   "metadata": {},
   "source": [
    "# get_gdps\n",
    "\n",
    "This routine grabs the latest Global Deterministic Prediction System (GDPS) model data from MSC Datamart and outputs png plots into designated product folders for each ACMWF product.\n",
    "\n",
    "**Datamart:**\n",
    "\n",
    "https://eccc-msc.github.io/open-data/msc-data/nwp_gdps/readme_gdps-datamart_en/#levels\n",
    "\n",
    "https://dd.weather.gc.ca/model_gem_global/\n",
    "\n",
    "**Outputs:**\n",
    "\n",
    "Mountain Weather Forecast -> *500mb and Surface with 6hr precipitation and cloud cover*\n",
    "\n",
    "Temperatures -> *1500m 0400, 1500m 1600*\n",
    "\n",
    "Surface Maps -> *0-144 Hours*\n",
    "\n",
    "500 mbar & Precipitable Water -> *500mbar, Precipitable Water*\n",
    "\n",
    "**Maintenance:**\n",
    "\n",
    "For bug reports, suggestions, inquiries or high fives, contact Andrew.Loeppky@gmail.com"
   ]
  },
  {
   "cell_type": "code",
   "execution_count": 1,
   "id": "ba5ac59a",
   "metadata": {},
   "outputs": [
    {
     "name": "stdout",
     "output_type": "stream",
     "text": [
      " ╭─\u001b[48;2;255;255;255m\u001b[38;2;136;33;27m▌\u001b[0m\u001b[38;2;12;53;118m\u001b[48;2;240;234;210m▌\u001b[38;2;0;0;0m\u001b[1mHerbie\u001b[0m─────────────────────────────────────────────╮\n",
      " │ WARNING: Unable to create config file               │\n",
      " │ \u001b[38;2;255;153;0m     /Users/andrew/.config/herbie/config.toml     \u001b[0m   │\n",
      " │ Herbie will use standard default settings.           │\n",
      " │ Consider setting env variable HERBIE_CONFIG_PATH.    │\n",
      " ╰──────────────────────────────────────────────────────╯\n",
      "\n"
     ]
    }
   ],
   "source": [
    "from herbie import Herbie\n",
    "import xarray as xr\n",
    "import numpy as np\n",
    "\n",
    "import matplotlib.pyplot as plt\n",
    "from toolbox import EasyMap, pc\n",
    "import cartopy.crs as ccrs\n",
    "import cartopy.feature as feature\n",
    "import pandas as pd\n",
    "\n",
    "from matplotlib.patches import Rectangle\n",
    "import matplotlib as mpl\n",
    "from mpl_toolkits.axes_grid1.inset_locator import inset_axes\n",
    "import pytz\n",
    "import os, shutil"
   ]
  },
  {
   "cell_type": "code",
   "execution_count": 2,
   "id": "defaa21e",
   "metadata": {},
   "outputs": [],
   "source": [
    "now = pd.Timestamp.utcnow().floor(\"12h\").tz_localize(None)\n",
    "data_dir = \"/Users/andrew/data/gdps/\"\n",
    "# save_dir = ..."
   ]
  },
  {
   "cell_type": "code",
   "execution_count": 7,
   "id": "169cbf2d",
   "metadata": {},
   "outputs": [],
   "source": [
    "import requests\n",
    "check = requests.get(\"https://dd.weather.gc.ca/model_gem_global/15km/grib2/lat_lon/12/000/CMC_glb_ABSV_ISBL_200_latlon.15x.15_2025052412_P000.grib2\")"
   ]
  },
  {
   "cell_type": "code",
   "execution_count": 12,
   "id": "097bd100",
   "metadata": {},
   "outputs": [
    {
     "data": {
      "text/plain": [
       "True"
      ]
     },
     "execution_count": 12,
     "metadata": {},
     "output_type": "execute_result"
    }
   ],
   "source": [
    "check.ok"
   ]
  },
  {
   "cell_type": "code",
   "execution_count": null,
   "id": "1043e275",
   "metadata": {},
   "outputs": [],
   "source": []
  }
 ],
 "metadata": {
  "kernelspec": {
   "display_name": "Python 3 (ipykernel)",
   "language": "python",
   "name": "python3"
  },
  "language_info": {
   "codemirror_mode": {
    "name": "ipython",
    "version": 3
   },
   "file_extension": ".py",
   "mimetype": "text/x-python",
   "name": "python",
   "nbconvert_exporter": "python",
   "pygments_lexer": "ipython3",
   "version": "3.13.0"
  }
 },
 "nbformat": 4,
 "nbformat_minor": 5
}
