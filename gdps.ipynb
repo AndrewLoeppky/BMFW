{
 "cells": [
  {
   "cell_type": "markdown",
   "id": "bd37e360-d885-4ea8-9623-c72813a68d27",
   "metadata": {},
   "source": [
    "# GDPS 🅱\n",
    "\n",
    "<style>\n",
    "  .beta-badge {\n",
    "    background-color: #f39c12;\n",
    "    color: white;\n",
    "    padding: 4px 8px;\n",
    "    border-radius: 4px;\n",
    "    font-weight: bold;\n",
    "  }\n",
    "</style>\n",
    "\n",
    "<span class=\"beta-badge\">BETA</span>\n",
    "<span class=\"beta-badge\">Requires MetPy >=1.6</span>\n",
    "\n",
    "This demonstrates using data from Canada's GEM Global or Global Deterministic Prediction System (GDPS).\n",
    "\n",
    "[GDPS Model Description](https://eccc-msc.github.io/open-data/msc-data/nwp_gdps/readme_gdps-datamart_en/#data-location)\n",
    "\n",
    "\n",
    "**Data Sources**\n",
    "\n",
    "|`prioriy=`|Data source| Archive Duration|\n",
    "|--|--|--|\n",
    "|`\"mcs\"` | [Meteorological Service of Canada](https://dd.weather.gc.ca/model_gem_global/) | Last 24 hours\n",
    "\n",
    "**Model Initialization**\n",
    "\n",
    "Model cyles every twelve hours.\n",
    "\n",
    "**Forecast Hour**\n",
    "\n",
    "For the most recent version of GDPS...\n",
    "\n",
    "|`fxx=`|Forecast lead time|\n",
    "|--|--|\n",
    "|`0` through `240`, step=3| 3-hourly forecasts available\n",
    "\n",
    "\n",
    "**Products**\n",
    "\n",
    "|`product=`| Product Description |    \n",
    "|--|--|\n",
    "|`\"15km/grib2/lat_lon\"`| Global domain\n",
    "\n",
    "**Variable and Level**\n",
    "\n",
    "You will need to specify the variable and level for each request. \n",
    "\n",
    "<br>\n",
    "\n",
    "\n",
    "> **NOTE:** The organization of these files is different than other NWP products.\n",
    ">\n",
    "> 1. There are no index files provided.\n",
    "> 1. Each GRIB2 file only contains one message. The variable name and level is in the file's name.\n",
    ">\n",
    "> Herbie requires you provide a keyword argument for both `variable` and `level`. Pay special attention to model description (linked above) to understand how the model data is organized. If you don't provide input for `variable` or `level`, Herbie will give you some ideas. For example, `variable=TMP` and `level=TGL_2` will give you the filename that contains\n",
    ">\n",
    "> ```\n",
    "> TMP_TGL_2\n",
    "> ```\n",
    "\n",
    "> **Note:** This requires MetPy version 1.6 or greater which has the capability to parse the _rotated latitude longitude_ map projection type (see [MetPy/#3123](https://github.com/Unidata/MetPy/pull/3123)).\n"
   ]
  },
  {
   "cell_type": "code",
   "execution_count": 1,
   "id": "056322b3",
   "metadata": {},
   "outputs": [
    {
     "name": "stdout",
     "output_type": "stream",
     "text": [
      " ╭─\u001b[48;2;255;255;255m\u001b[38;2;136;33;27m▌\u001b[0m\u001b[38;2;12;53;118m\u001b[48;2;240;234;210m▌\u001b[38;2;0;0;0m\u001b[1mHerbie\u001b[0m─────────────────────────────────────────────╮\n",
      " │ WARNING: Unable to create config file               │\n",
      " │ \u001b[38;2;255;153;0m     /Users/andrew/.config/herbie/config.toml     \u001b[0m   │\n",
      " │ Herbie will use standard default settings.           │\n",
      " │ Consider setting env variable HERBIE_CONFIG_PATH.    │\n",
      " ╰──────────────────────────────────────────────────────╯\n",
      "\n"
     ]
    }
   ],
   "source": [
    "from herbie import Herbie\n",
    "import xarray as xr\n",
    "import numpy as np\n",
    "\n",
    "import matplotlib.pyplot as plt\n",
    "from toolbox import EasyMap, pc\n",
    "import cartopy.crs as ccrs\n",
    "import cartopy.feature as feature\n",
    "import pandas as pd\n",
    "\n",
    "from matplotlib.patches import Rectangle\n",
    "import matplotlib as mpl\n",
    "from mpl_toolkits.axes_grid1.inset_locator import inset_axes\n",
    "import pytz\n",
    "\n",
    "\n",
    "recent = pd.Timestamp(\"now\").floor(\"12h\")# - pd.Timedelta(\"12h\")"
   ]
  },
  {
   "cell_type": "markdown",
   "id": "757609d6",
   "metadata": {},
   "source": [
    "## 500 hPa Geopotential Height and Surface Precipitation"
   ]
  },
  {
   "cell_type": "code",
   "execution_count": 2,
   "id": "1c994023",
   "metadata": {},
   "outputs": [
    {
     "name": "stdout",
     "output_type": "stream",
     "text": [
      "HGT ISBL_500\n",
      "✅ Found ┊ model=gdps ┊ \u001b[3mproduct=15km/grib2/lat_lon\u001b[0m ┊ \u001b[38;2;41;130;13m2024-Nov-21 12:00 UTC\u001b[92m F240\u001b[0m ┊ \u001b[38;2;255;153;0m\u001b[3mGRIB2 @ local\u001b[0m ┊ \u001b[38;2;255;153;0m\u001b[3mIDX @ None\u001b[0m\n"
     ]
    },
    {
     "name": "stderr",
     "output_type": "stream",
     "text": [
      "/opt/miniconda3/envs/herbie/lib/python3.13/site-packages/herbie/core.py:1112: UserWarning: Will not remove GRIB file because it previously existed.\n",
      "  warnings.warn(\"Will not remove GRIB file because it previously existed.\")\n"
     ]
    },
    {
     "name": "stdout",
     "output_type": "stream",
     "text": [
      "HGT ISBL_1000\n",
      "✅ Found ┊ model=gdps ┊ \u001b[3mproduct=15km/grib2/lat_lon\u001b[0m ┊ \u001b[38;2;41;130;13m2024-Nov-21 12:00 UTC\u001b[92m F240\u001b[0m ┊ \u001b[38;2;255;153;0m\u001b[3mGRIB2 @ msc\u001b[0m ┊ \u001b[38;2;255;153;0m\u001b[3mIDX @ None\u001b[0m\n"
     ]
    },
    {
     "name": "stderr",
     "output_type": "stream",
     "text": [
      "/opt/miniconda3/envs/herbie/lib/python3.13/site-packages/herbie/core.py:1117: UserWarning: Will not remove GRIB file because Herbie will only remove subsetted files (not full files).\n",
      "  warnings.warn(\n"
     ]
    },
    {
     "name": "stdout",
     "output_type": "stream",
     "text": [
      "TCDC SFC_0\n",
      "✅ Found ┊ model=gdps ┊ \u001b[3mproduct=15km/grib2/lat_lon\u001b[0m ┊ \u001b[38;2;41;130;13m2024-Nov-21 12:00 UTC\u001b[92m F240\u001b[0m ┊ \u001b[38;2;255;153;0m\u001b[3mGRIB2 @ local\u001b[0m ┊ \u001b[38;2;255;153;0m\u001b[3mIDX @ None\u001b[0m\n"
     ]
    },
    {
     "name": "stderr",
     "output_type": "stream",
     "text": [
      "/opt/miniconda3/envs/herbie/lib/python3.13/site-packages/herbie/core.py:1112: UserWarning: Will not remove GRIB file because it previously existed.\n",
      "  warnings.warn(\"Will not remove GRIB file because it previously existed.\")\n"
     ]
    },
    {
     "name": "stdout",
     "output_type": "stream",
     "text": [
      "PRATE SFC_0\n",
      "✅ Found ┊ model=gdps ┊ \u001b[3mproduct=15km/grib2/lat_lon\u001b[0m ┊ \u001b[38;2;41;130;13m2024-Nov-21 12:00 UTC\u001b[92m F240\u001b[0m ┊ \u001b[38;2;255;153;0m\u001b[3mGRIB2 @ local\u001b[0m ┊ \u001b[38;2;255;153;0m\u001b[3mIDX @ None\u001b[0m\n"
     ]
    },
    {
     "name": "stderr",
     "output_type": "stream",
     "text": [
      "/opt/miniconda3/envs/herbie/lib/python3.13/site-packages/herbie/core.py:1112: UserWarning: Will not remove GRIB file because it previously existed.\n",
      "  warnings.warn(\"Will not remove GRIB file because it previously existed.\")\n"
     ]
    },
    {
     "ename": "MergeError",
     "evalue": "conflicting values for variable 'isobaricInhPa' on objects to be combined. You can skip this check by specifying compat='override'.",
     "output_type": "error",
     "traceback": [
      "\u001b[0;31m---------------------------------------------------------------------------\u001b[0m",
      "\u001b[0;31mMergeError\u001b[0m                                Traceback (most recent call last)",
      "Cell \u001b[0;32mIn[2], line 22\u001b[0m\n\u001b[1;32m     18\u001b[0m         _ds \u001b[38;5;241m=\u001b[39m _ds\u001b[38;5;241m.\u001b[39mrename({\u001b[38;5;124m\"\u001b[39m\u001b[38;5;124munknown\u001b[39m\u001b[38;5;124m\"\u001b[39m:var})\n\u001b[1;32m     20\u001b[0m     store\u001b[38;5;241m.\u001b[39mappend(_ds)\n\u001b[0;32m---> 22\u001b[0m ds \u001b[38;5;241m=\u001b[39m \u001b[43mxr\u001b[49m\u001b[38;5;241;43m.\u001b[39;49m\u001b[43mmerge\u001b[49m\u001b[43m(\u001b[49m\u001b[43mstore\u001b[49m\u001b[43m)\u001b[49m\n",
      "File \u001b[0;32m/opt/miniconda3/envs/herbie/lib/python3.13/site-packages/xarray/core/merge.py:976\u001b[0m, in \u001b[0;36mmerge\u001b[0;34m(objects, compat, join, fill_value, combine_attrs)\u001b[0m\n\u001b[1;32m    973\u001b[0m         obj \u001b[38;5;241m=\u001b[39m obj\u001b[38;5;241m.\u001b[39mto_dataset()\n\u001b[1;32m    974\u001b[0m     dict_like_objects\u001b[38;5;241m.\u001b[39mappend(obj)\n\u001b[0;32m--> 976\u001b[0m merge_result \u001b[38;5;241m=\u001b[39m \u001b[43mmerge_core\u001b[49m\u001b[43m(\u001b[49m\n\u001b[1;32m    977\u001b[0m \u001b[43m    \u001b[49m\u001b[43mdict_like_objects\u001b[49m\u001b[43m,\u001b[49m\n\u001b[1;32m    978\u001b[0m \u001b[43m    \u001b[49m\u001b[43mcompat\u001b[49m\u001b[43m,\u001b[49m\n\u001b[1;32m    979\u001b[0m \u001b[43m    \u001b[49m\u001b[43mjoin\u001b[49m\u001b[43m,\u001b[49m\n\u001b[1;32m    980\u001b[0m \u001b[43m    \u001b[49m\u001b[43mcombine_attrs\u001b[49m\u001b[38;5;241;43m=\u001b[39;49m\u001b[43mcombine_attrs\u001b[49m\u001b[43m,\u001b[49m\n\u001b[1;32m    981\u001b[0m \u001b[43m    \u001b[49m\u001b[43mfill_value\u001b[49m\u001b[38;5;241;43m=\u001b[39;49m\u001b[43mfill_value\u001b[49m\u001b[43m,\u001b[49m\n\u001b[1;32m    982\u001b[0m \u001b[43m\u001b[49m\u001b[43m)\u001b[49m\n\u001b[1;32m    983\u001b[0m \u001b[38;5;28;01mreturn\u001b[39;00m Dataset\u001b[38;5;241m.\u001b[39m_construct_direct(\u001b[38;5;241m*\u001b[39m\u001b[38;5;241m*\u001b[39mmerge_result\u001b[38;5;241m.\u001b[39m_asdict())\n",
      "File \u001b[0;32m/opt/miniconda3/envs/herbie/lib/python3.13/site-packages/xarray/core/merge.py:701\u001b[0m, in \u001b[0;36mmerge_core\u001b[0;34m(objects, compat, join, combine_attrs, priority_arg, explicit_coords, indexes, fill_value, skip_align_args)\u001b[0m\n\u001b[1;32m    699\u001b[0m collected \u001b[38;5;241m=\u001b[39m collect_variables_and_indexes(aligned, indexes\u001b[38;5;241m=\u001b[39mindexes)\n\u001b[1;32m    700\u001b[0m prioritized \u001b[38;5;241m=\u001b[39m _get_priority_vars_and_indexes(aligned, priority_arg, compat\u001b[38;5;241m=\u001b[39mcompat)\n\u001b[0;32m--> 701\u001b[0m variables, out_indexes \u001b[38;5;241m=\u001b[39m \u001b[43mmerge_collected\u001b[49m\u001b[43m(\u001b[49m\n\u001b[1;32m    702\u001b[0m \u001b[43m    \u001b[49m\u001b[43mcollected\u001b[49m\u001b[43m,\u001b[49m\u001b[43m \u001b[49m\u001b[43mprioritized\u001b[49m\u001b[43m,\u001b[49m\u001b[43m \u001b[49m\u001b[43mcompat\u001b[49m\u001b[38;5;241;43m=\u001b[39;49m\u001b[43mcompat\u001b[49m\u001b[43m,\u001b[49m\u001b[43m \u001b[49m\u001b[43mcombine_attrs\u001b[49m\u001b[38;5;241;43m=\u001b[39;49m\u001b[43mcombine_attrs\u001b[49m\n\u001b[1;32m    703\u001b[0m \u001b[43m\u001b[49m\u001b[43m)\u001b[49m\n\u001b[1;32m    705\u001b[0m dims \u001b[38;5;241m=\u001b[39m calculate_dimensions(variables)\n\u001b[1;32m    707\u001b[0m coord_names, noncoord_names \u001b[38;5;241m=\u001b[39m determine_coords(coerced)\n",
      "File \u001b[0;32m/opt/miniconda3/envs/herbie/lib/python3.13/site-packages/xarray/core/merge.py:290\u001b[0m, in \u001b[0;36mmerge_collected\u001b[0;34m(grouped, prioritized, compat, combine_attrs, equals)\u001b[0m\n\u001b[1;32m    288\u001b[0m variables \u001b[38;5;241m=\u001b[39m [variable \u001b[38;5;28;01mfor\u001b[39;00m variable, _ \u001b[38;5;129;01min\u001b[39;00m elements_list]\n\u001b[1;32m    289\u001b[0m \u001b[38;5;28;01mtry\u001b[39;00m:\n\u001b[0;32m--> 290\u001b[0m     merged_vars[name] \u001b[38;5;241m=\u001b[39m \u001b[43munique_variable\u001b[49m\u001b[43m(\u001b[49m\n\u001b[1;32m    291\u001b[0m \u001b[43m        \u001b[49m\u001b[43mname\u001b[49m\u001b[43m,\u001b[49m\u001b[43m \u001b[49m\u001b[43mvariables\u001b[49m\u001b[43m,\u001b[49m\u001b[43m \u001b[49m\u001b[43mcompat\u001b[49m\u001b[43m,\u001b[49m\u001b[43m \u001b[49m\u001b[43mequals\u001b[49m\u001b[38;5;241;43m.\u001b[39;49m\u001b[43mget\u001b[49m\u001b[43m(\u001b[49m\u001b[43mname\u001b[49m\u001b[43m,\u001b[49m\u001b[43m \u001b[49m\u001b[38;5;28;43;01mNone\u001b[39;49;00m\u001b[43m)\u001b[49m\n\u001b[1;32m    292\u001b[0m \u001b[43m    \u001b[49m\u001b[43m)\u001b[49m\n\u001b[1;32m    293\u001b[0m \u001b[38;5;28;01mexcept\u001b[39;00m MergeError:\n\u001b[1;32m    294\u001b[0m     \u001b[38;5;28;01mif\u001b[39;00m compat \u001b[38;5;241m!=\u001b[39m \u001b[38;5;124m\"\u001b[39m\u001b[38;5;124mminimal\u001b[39m\u001b[38;5;124m\"\u001b[39m:\n\u001b[1;32m    295\u001b[0m         \u001b[38;5;66;03m# we need more than \"minimal\" compatibility (for which\u001b[39;00m\n\u001b[1;32m    296\u001b[0m         \u001b[38;5;66;03m# we drop conflicting coordinates)\u001b[39;00m\n",
      "File \u001b[0;32m/opt/miniconda3/envs/herbie/lib/python3.13/site-packages/xarray/core/merge.py:144\u001b[0m, in \u001b[0;36munique_variable\u001b[0;34m(name, variables, compat, equals)\u001b[0m\n\u001b[1;32m    141\u001b[0m                 \u001b[38;5;28;01mbreak\u001b[39;00m\n\u001b[1;32m    143\u001b[0m \u001b[38;5;28;01mif\u001b[39;00m \u001b[38;5;129;01mnot\u001b[39;00m equals:\n\u001b[0;32m--> 144\u001b[0m     \u001b[38;5;28;01mraise\u001b[39;00m MergeError(\n\u001b[1;32m    145\u001b[0m         \u001b[38;5;124mf\u001b[39m\u001b[38;5;124m\"\u001b[39m\u001b[38;5;124mconflicting values for variable \u001b[39m\u001b[38;5;132;01m{\u001b[39;00mname\u001b[38;5;132;01m!r}\u001b[39;00m\u001b[38;5;124m on objects to be combined. \u001b[39m\u001b[38;5;124m\"\u001b[39m\n\u001b[1;32m    146\u001b[0m         \u001b[38;5;124m\"\u001b[39m\u001b[38;5;124mYou can skip this check by specifying compat=\u001b[39m\u001b[38;5;124m'\u001b[39m\u001b[38;5;124moverride\u001b[39m\u001b[38;5;124m'\u001b[39m\u001b[38;5;124m.\u001b[39m\u001b[38;5;124m\"\u001b[39m\n\u001b[1;32m    147\u001b[0m     )\n\u001b[1;32m    149\u001b[0m \u001b[38;5;28;01mif\u001b[39;00m combine_method:\n\u001b[1;32m    150\u001b[0m     \u001b[38;5;28;01mfor\u001b[39;00m var \u001b[38;5;129;01min\u001b[39;00m variables[\u001b[38;5;241m1\u001b[39m:]:\n",
      "\u001b[0;31mMergeError\u001b[0m: conflicting values for variable 'isobaricInhPa' on objects to be combined. You can skip this check by specifying compat='override'."
     ]
    }
   ],
   "source": [
    "# Get the necessary fields and parse into xarrays\n",
    "\n",
    "store = []\n",
    "ds = 0\n",
    "# 500mb height, total cloud cover, precipitation rate\n",
    "for var, lev in zip([\"HGT\", \"HGT\", \"TCDC\", \"PRATE\"], [\"ISBL_500\", \"ISBL_1000\", \"SFC_0\", \"SFC_0\"]):\n",
    "    print(var, lev)\n",
    "    _ds = Herbie(\n",
    "        recent,\n",
    "        model=\"gdps\",\n",
    "        fxx=240,\n",
    "        variable=var,\n",
    "        level=lev,\n",
    "    ).xarray()\n",
    "    \n",
    "    # if the variable name is unknown, assign it\n",
    "    if \"unknown\" in _ds:\n",
    "        _ds = _ds.rename({\"unknown\":var})\n",
    "    \n",
    "    store.append(_ds)\n",
    "\n",
    "ds = xr.merge(store)"
   ]
  },
  {
   "cell_type": "code",
   "execution_count": null,
   "id": "42a234cf",
   "metadata": {},
   "outputs": [],
   "source": [
    "# slice out only the domain we care about\n",
    "ds = ds.sel(longitude=slice(-195, -97), latitude=slice(30, 73))\n",
    "ds[\"prate\"] *= (3600 * 6) # convert from kg/m3/s to mm/6h\n",
    "ds"
   ]
  },
  {
   "cell_type": "code",
   "execution_count": null,
   "id": "3040a674",
   "metadata": {
    "scrolled": false
   },
   "outputs": [],
   "source": [
    "# make a figure\n",
    "fig = plt.figure(figsize=(15,15))\n",
    "fig.tight_layout()\n",
    "ax = fig.add_subplot(1, 1, 1, \n",
    "                     position=(0,0,1,1), \n",
    "                     projection=ccrs.LambertConformal(central_longitude=-150, central_latitude=39.0,))\n",
    "ax.set_extent([-170, -117, 40, 63])\n",
    "\n",
    "# basemap\n",
    "ax.add_feature(feature.LAND)\n",
    "ax.add_feature(feature.STATES)\n",
    "ax.add_feature(feature.OCEAN)\n",
    "ax.add_feature(feature.COASTLINE)\n",
    "\n",
    "# plot height contours\n",
    "ht = ax.contour(\n",
    "    ds.longitude,\n",
    "    ds.latitude,\n",
    "    ds.gh,\n",
    "    colors=\"k\",\n",
    "    transform=pc,\n",
    "    levels=range(0, 6000, 50),\n",
    ")\n",
    "ax.clabel(ht, inline=True, fontsize=9)\n",
    "\n",
    "# plot cloud cover\n",
    "cc_cmap = mpl.colors.ListedColormap(['#DCDCDC',\n",
    "                                     '#808080'])\n",
    "cc_bounds = [60, 80, 100]\n",
    "cc_norm = mpl.colors.BoundaryNorm(cc_bounds, cc_cmap.N)\n",
    "cc = ax.pcolormesh(\n",
    "    ds.longitude,\n",
    "    ds.latitude,\n",
    "    ds.prate.where(ds.TCDC >= 60),\n",
    "    cmap=cc_cmap,\n",
    "    norm=cc_norm,\n",
    "    antialiased=True,\n",
    "    transform=pc,\n",
    ")\n",
    "\n",
    "# plot precip rate\n",
    "pr_cmap = mpl.colors.ListedColormap(['#90EE90',\n",
    "                                     '#ADFF2F', \n",
    "                                     '#3CB371', \n",
    "                                     '#2E8B57', \n",
    "                                     '#FFFF00',\n",
    "                                     '#FFA500', \n",
    "                                     '#B22222', \n",
    "                                     '#8B008B'])\n",
    "pr_bounds = [1, 2, 5, 10, 20, 30, 50, 75, 100]\n",
    "pr_norm = mpl.colors.BoundaryNorm(pr_bounds, pr_cmap.N)\n",
    "pr = ax.pcolormesh(\n",
    "    ds.longitude,\n",
    "    ds.latitude,\n",
    "    ds.prate.where(ds.prate >= 1),\n",
    "    cmap=pr_cmap,\n",
    "    norm=pr_norm,\n",
    "    antialiased=True,\n",
    "    transform=pc,\n",
    ")\n",
    "\n",
    "# labels and such\n",
    "\n",
    "# configure text to match AC style\n",
    "plt.rcParams[\"font.family\"] = \"sans-serif\"\n",
    "plt.rcParams[\"font.weight\"] = \"heavy\"\n",
    "\n",
    "# shade out legend regions, AC style\n",
    "ax.add_patch(Rectangle((0, 0), 0.12, 0.85, transform=ax.transAxes, color=\"steelblue\", alpha=0.8))\n",
    "ax.add_patch(Rectangle((0, 0.85), 1, 1, transform=ax.transAxes, color=\"steelblue\", alpha=0.8))\n",
    "\n",
    "# precip colorbar\n",
    "fig.text(0.12, 0.65, \"6hr Pcpn\", color=\"white\", size=10)\n",
    "fig.text(0.12, 0.64, \"(mm)\", color=\"white\", size=10)\n",
    "pr_cbar = fig.colorbar(\n",
    "                        pr,\n",
    "                        cmap=pr_cmap, \n",
    "                        norm=pr_norm,\n",
    "                        ax=ax,\n",
    "                        spacing='uniform',\n",
    "                        shrink=0.25,\n",
    "                        location=\"left\",\n",
    "                        aspect=10,\n",
    "                        anchor=(0.15,0.55),\n",
    "                        pad=-0.15\n",
    "                       )\n",
    "pr_cbar.ax.tick_params(labelsize=10, \n",
    "                       labelcolor=\"white\", \n",
    "                       length=0, \n",
    "                       labelright=True,\n",
    "                       labelleft=False,\n",
    "                      ) \n",
    "\n",
    "# cloud cover colorbar\n",
    "fig.text(0.12, 0.40, \"Cloud Cover\", color=\"white\", size=10)\n",
    "fig.text(0.12, 0.39, \"(%)\", color=\"white\", size=10)\n",
    "cc_cbar = fig.colorbar(\n",
    "                        cc,\n",
    "                        cmap=cc_cmap, \n",
    "                        norm=cc_norm,\n",
    "                        ax=ax,\n",
    "                        spacing='uniform',\n",
    "                        shrink=0.125,\n",
    "                        location=\"left\",\n",
    "                        aspect=5,\n",
    "                        anchor=(0.15,0.25),\n",
    "                        pad=-0.18\n",
    "                       )\n",
    "\n",
    "cc_cbar.ax.tick_params(labelsize=10, \n",
    "                       labelcolor=\"white\", \n",
    "                       length=0, \n",
    "                       labelright=True,\n",
    "                       labelleft=False,\n",
    "                      ) \n",
    "\n",
    "# timestamps\n",
    "the_date = pd.Timestamp(ds.valid_time.values).tz_localize('UTC').tz_convert('America/Vancouver')\n",
    "fmt_date = the_date.strftime('%a. %m-%d-%y \\n%H:%M %p')\n",
    "fig.text(0.5, 0.69, fmt_date, color=\"white\", size=20)\n",
    "fig.text(0.12, 0.26, f\"{ds.model.upper()} {pd.Timestamp(ds.time.values).strftime(\"%H\")} Z\", color=\"white\", size=10)\n",
    "\n",
    "# title\n",
    "fig.text(0.35, 0.69, '500 mb\\nHeight', color=\"white\", size=20)\n",
    "\n"
   ]
  }
 ],
 "metadata": {
  "kernelspec": {
   "display_name": "Python 3 (ipykernel)",
   "language": "python",
   "name": "python3"
  },
  "language_info": {
   "codemirror_mode": {
    "name": "ipython",
    "version": 3
   },
   "file_extension": ".py",
   "mimetype": "text/x-python",
   "name": "python",
   "nbconvert_exporter": "python",
   "pygments_lexer": "ipython3",
   "version": "3.13.0"
  },
  "vscode": {
   "interpreter": {
    "hash": "ac511961bc6976a3d289cde8fc247e6b0e9298cf513cb762aa0a7df646d192ed"
   }
  }
 },
 "nbformat": 4,
 "nbformat_minor": 5
}
