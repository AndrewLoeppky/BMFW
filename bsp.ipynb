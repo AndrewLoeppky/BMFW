{
 "cells": [
  {
   "cell_type": "markdown",
   "id": "51bad336",
   "metadata": {},
   "source": [
    "# Blondy's Soaring Prediction\n",
    "\n",
    "Use herbie to build out a windgram, copying all the functionality of RASP by Andrew Berkley and Peter Spear"
   ]
  },
  {
   "cell_type": "code",
   "execution_count": 1,
   "id": "4021e36e",
   "metadata": {},
   "outputs": [
    {
     "name": "stdout",
     "output_type": "stream",
     "text": [
      " ╭─\u001b[48;2;255;255;255m\u001b[38;2;136;33;27m▌\u001b[0m\u001b[38;2;12;53;118m\u001b[48;2;240;234;210m▌\u001b[38;2;0;0;0m\u001b[1mHerbie\u001b[0m─────────────────────────────────────────────╮\n",
      " │ WARNING: Unable to create config file               │\n",
      " │ \u001b[38;2;255;153;0m     /Users/andrew/.config/herbie/config.toml     \u001b[0m   │\n",
      " │ Herbie will use standard default settings.           │\n",
      " │ Consider setting env variable HERBIE_CONFIG_PATH.    │\n",
      " ╰──────────────────────────────────────────────────────╯\n",
      "\n"
     ]
    }
   ],
   "source": [
    "from herbie import Herbie\n",
    "import xarray as xr\n",
    "import numpy as np\n",
    "\n",
    "import matplotlib.pyplot as plt\n",
    "from herbie.toolbox import EasyMap, pc\n",
    "import cartopy.crs as ccrs\n",
    "import cartopy.feature as feature\n",
    "import pandas as pd\n",
    "\n",
    "recent = pd.Timestamp(\"now\").floor(\"6h\") #- pd.Timedelta(\"6H\")"
   ]
  },
  {
   "cell_type": "code",
   "execution_count": 2,
   "id": "eaa667a3",
   "metadata": {},
   "outputs": [],
   "source": [
    "# select locations to plot (lumby, revelstoke) by specifying their location in decimal degrees (E, N)\n",
    "locations = {\"coopers\":{\"longitude\":-118.986010, \"latitude\":50.285681},\n",
    "             \"revelstoke\":{\"longitude\":-118.092554,\"latitude\":50.959530},\n",
    "            }\n"
   ]
  },
  {
   "cell_type": "code",
   "execution_count": 5,
   "id": "1eec55d9",
   "metadata": {},
   "outputs": [],
   "source": [
    "# pick out the variables we need for rasp and their respective levels\n",
    "variables = {\"TCDC\":\"Sfc\", # total cloud cover\n",
    "             \"HGT\":\"ISBL_0700\", # height of pressure contour - get for all levels surf - 4000m\n",
    "             \"HGT\":\"ISBL_0750\",\n",
    "             \"HGT\":\"ISBL_0800\",\n",
    "             \"HGT\":\"ISBL_0850\",\n",
    "             \"HGT\":\"ISBL_0875\",\n",
    "             \"HGT\":\"ISBL_0900\",\n",
    "             \"HGT\":\"ISBL_0925\",\n",
    "             \"HGT\":\"ISBL_0950\",\n",
    "             \"HGT\":\"ISBL_0970\",\n",
    "             \"HGT\":\"ISBL_0985\",\n",
    "             \"HGT\":\"ISBL_1000\",\n",
    "             \"HGT\":\"ISBL_1015\",\n",
    "             \"TMP\":\"ISBL_0700\", # temperature at height - get for all levels surf - 4000m\n",
    "             \"TMP\":\"ISBL_0750\",\n",
    "             \"TMP\":\"ISBL_0800\",\n",
    "             \"TMP\":\"ISBL_0850\",\n",
    "             \"TMP\":\"ISBL_0875\",\n",
    "             \"TMP\":\"ISBL_0900\",\n",
    "             \"TMP\":\"ISBL_0925\",\n",
    "             \"TMP\":\"ISBL_0950\",\n",
    "             \"TMP\":\"ISBL_0970\",\n",
    "             \"TMP\":\"ISBL_0985\",\n",
    "             \"WIND\":\"ISBL_0700\", # wind speed (m/s) - get for all levels surf - 4000m\n",
    "             \"WIND\":\"ISBL_0750\",\n",
    "             \"WIND\":\"ISBL_0800\",\n",
    "             \"WIND\":\"ISBL_0850\",\n",
    "             \"WIND\":\"ISBL_0875\",\n",
    "             \"WIND\":\"ISBL_0900\",\n",
    "             \"WIND\":\"ISBL_0925\",\n",
    "             \"WIND\":\"ISBL_0950\",\n",
    "             \"WIND\":\"ISBL_0970\",\n",
    "             \"WIND\":\"ISBL_0985\",\n",
    "             \"WIND\":\"ISBL_1000\",\n",
    "             \"WIND\":\"ISBL_1015\",\n",
    "             \"WDIR\":\"ISBL_0700\", # wind dir (deg TN) - get for all levels surf - 4000m\n",
    "             \"WDIR\":\"ISBL_0750\",\n",
    "             \"WDIR\":\"ISBL_0800\",\n",
    "             \"WDIR\":\"ISBL_0850\",\n",
    "             \"WDIR\":\"ISBL_0875\",\n",
    "             \"WDIR\":\"ISBL_0900\",\n",
    "             \"WDIR\":\"ISBL_0925\",\n",
    "             \"WDIR\":\"ISBL_0950\",\n",
    "             \"WDIR\":\"ISBL_0970\",\n",
    "             \"WDIR\":\"ISBL_0985\",\n",
    "             \"WDIR\":\"ISBL_1000\", \n",
    "             \"WDIR\":\"ISBL_1015\", \n",
    "            }\n",
    "             \n",
    "             \n",
    "             \n",
    "leftovers = {\n",
    "             \"UGRD\":1, # u component of wind\n",
    "             \"VGRD\":1, # v component of wind\n",
    "             \"HPBL\":1, # PBL height\n",
    "             \"PRATE\":1, # precipitation rate\n",
    "             \"PRES\":1, # surface pressure\n",
    "             \"ORGPHY\":1, # model elevation\n",
    "            }"
   ]
  },
  {
   "cell_type": "code",
   "execution_count": 6,
   "id": "ac21d7d6",
   "metadata": {},
   "outputs": [
    {
     "name": "stdout",
     "output_type": "stream",
     "text": [
      "✅ Found ┊ model=hrdps ┊ \u001b[3mproduct=continental/2.5km\u001b[0m ┊ \u001b[38;2;41;130;13m2024-Nov-21 18:00 UTC\u001b[92m F01\u001b[0m ┊ \u001b[38;2;255;153;0m\u001b[3mGRIB2 @ local\u001b[0m ┊ \u001b[38;2;255;153;0m\u001b[3mIDX @ None\u001b[0m\n"
     ]
    },
    {
     "name": "stderr",
     "output_type": "stream",
     "text": [
      "/opt/miniconda3/envs/herbie/lib/python3.13/site-packages/herbie/core.py:1112: UserWarning: Will not remove GRIB file because it previously existed.\n",
      "  warnings.warn(\"Will not remove GRIB file because it previously existed.\")\n"
     ]
    },
    {
     "name": "stdout",
     "output_type": "stream",
     "text": [
      "✅ Found ┊ model=hrdps ┊ \u001b[3mproduct=continental/2.5km\u001b[0m ┊ \u001b[38;2;41;130;13m2024-Nov-21 18:00 UTC\u001b[92m F01\u001b[0m ┊ \u001b[38;2;255;153;0m\u001b[3mGRIB2 @ local\u001b[0m ┊ \u001b[38;2;255;153;0m\u001b[3mIDX @ None\u001b[0m\n"
     ]
    },
    {
     "name": "stderr",
     "output_type": "stream",
     "text": [
      "/opt/miniconda3/envs/herbie/lib/python3.13/site-packages/herbie/core.py:1112: UserWarning: Will not remove GRIB file because it previously existed.\n",
      "  warnings.warn(\"Will not remove GRIB file because it previously existed.\")\n"
     ]
    },
    {
     "name": "stdout",
     "output_type": "stream",
     "text": [
      "✅ Found ┊ model=hrdps ┊ \u001b[3mproduct=continental/2.5km\u001b[0m ┊ \u001b[38;2;41;130;13m2024-Nov-21 18:00 UTC\u001b[92m F01\u001b[0m ┊ \u001b[38;2;255;153;0m\u001b[3mGRIB2 @ local\u001b[0m ┊ \u001b[38;2;255;153;0m\u001b[3mIDX @ None\u001b[0m\n"
     ]
    },
    {
     "name": "stderr",
     "output_type": "stream",
     "text": [
      "/opt/miniconda3/envs/herbie/lib/python3.13/site-packages/herbie/core.py:1112: UserWarning: Will not remove GRIB file because it previously existed.\n",
      "  warnings.warn(\"Will not remove GRIB file because it previously existed.\")\n"
     ]
    },
    {
     "name": "stdout",
     "output_type": "stream",
     "text": [
      "✅ Found ┊ model=hrdps ┊ \u001b[3mproduct=continental/2.5km\u001b[0m ┊ \u001b[38;2;41;130;13m2024-Nov-21 18:00 UTC\u001b[92m F01\u001b[0m ┊ \u001b[38;2;255;153;0m\u001b[3mGRIB2 @ msc\u001b[0m ┊ \u001b[38;2;255;153;0m\u001b[3mIDX @ None\u001b[0m\n"
     ]
    },
    {
     "name": "stderr",
     "output_type": "stream",
     "text": [
      "/opt/miniconda3/envs/herbie/lib/python3.13/site-packages/herbie/core.py:1117: UserWarning: Will not remove GRIB file because Herbie will only remove subsetted files (not full files).\n",
      "  warnings.warn(\n"
     ]
    },
    {
     "name": "stdout",
     "output_type": "stream",
     "text": [
      "✅ Found ┊ model=hrdps ┊ \u001b[3mproduct=continental/2.5km\u001b[0m ┊ \u001b[38;2;41;130;13m2024-Nov-21 18:00 UTC\u001b[92m F01\u001b[0m ┊ \u001b[38;2;255;153;0m\u001b[3mGRIB2 @ msc\u001b[0m ┊ \u001b[38;2;255;153;0m\u001b[3mIDX @ None\u001b[0m\n"
     ]
    },
    {
     "name": "stderr",
     "output_type": "stream",
     "text": [
      "/opt/miniconda3/envs/herbie/lib/python3.13/site-packages/herbie/core.py:1117: UserWarning: Will not remove GRIB file because Herbie will only remove subsetted files (not full files).\n",
      "  warnings.warn(\n"
     ]
    },
    {
     "ename": "MergeError",
     "evalue": "conflicting values for variable 'isobaricInhPa' on objects to be combined. You can skip this check by specifying compat='override'.",
     "output_type": "error",
     "traceback": [
      "\u001b[0;31m---------------------------------------------------------------------------\u001b[0m",
      "\u001b[0;31mMergeError\u001b[0m                                Traceback (most recent call last)",
      "Cell \u001b[0;32mIn[6], line 21\u001b[0m\n\u001b[1;32m     16\u001b[0m             _ \u001b[38;5;241m=\u001b[39m _\u001b[38;5;241m.\u001b[39mrename({\u001b[38;5;124m\"\u001b[39m\u001b[38;5;124munknown\u001b[39m\u001b[38;5;124m\"\u001b[39m:var})\n\u001b[1;32m     18\u001b[0m         vstore\u001b[38;5;241m.\u001b[39mappend(_)\n\u001b[0;32m---> 21\u001b[0m     _ds \u001b[38;5;241m=\u001b[39m \u001b[43mxr\u001b[49m\u001b[38;5;241;43m.\u001b[39;49m\u001b[43mmerge\u001b[49m\u001b[43m(\u001b[49m\u001b[43mvstore\u001b[49m\u001b[43m)\u001b[49m \u001b[38;5;66;03m# merge variable types at time t\u001b[39;00m\n\u001b[1;32m     22\u001b[0m     tstore\u001b[38;5;241m.\u001b[39mappend(_ds)\n\u001b[1;32m     23\u001b[0m ds \u001b[38;5;241m=\u001b[39m xr\u001b[38;5;241m.\u001b[39mconcat(tstore, dim\u001b[38;5;241m=\u001b[39m\u001b[38;5;124m\"\u001b[39m\u001b[38;5;124mvalid_time\u001b[39m\u001b[38;5;124m\"\u001b[39m) \u001b[38;5;66;03m# merge timesteps\u001b[39;00m\n",
      "File \u001b[0;32m/opt/miniconda3/envs/herbie/lib/python3.13/site-packages/xarray/core/merge.py:976\u001b[0m, in \u001b[0;36mmerge\u001b[0;34m(objects, compat, join, fill_value, combine_attrs)\u001b[0m\n\u001b[1;32m    973\u001b[0m         obj \u001b[38;5;241m=\u001b[39m obj\u001b[38;5;241m.\u001b[39mto_dataset()\n\u001b[1;32m    974\u001b[0m     dict_like_objects\u001b[38;5;241m.\u001b[39mappend(obj)\n\u001b[0;32m--> 976\u001b[0m merge_result \u001b[38;5;241m=\u001b[39m \u001b[43mmerge_core\u001b[49m\u001b[43m(\u001b[49m\n\u001b[1;32m    977\u001b[0m \u001b[43m    \u001b[49m\u001b[43mdict_like_objects\u001b[49m\u001b[43m,\u001b[49m\n\u001b[1;32m    978\u001b[0m \u001b[43m    \u001b[49m\u001b[43mcompat\u001b[49m\u001b[43m,\u001b[49m\n\u001b[1;32m    979\u001b[0m \u001b[43m    \u001b[49m\u001b[43mjoin\u001b[49m\u001b[43m,\u001b[49m\n\u001b[1;32m    980\u001b[0m \u001b[43m    \u001b[49m\u001b[43mcombine_attrs\u001b[49m\u001b[38;5;241;43m=\u001b[39;49m\u001b[43mcombine_attrs\u001b[49m\u001b[43m,\u001b[49m\n\u001b[1;32m    981\u001b[0m \u001b[43m    \u001b[49m\u001b[43mfill_value\u001b[49m\u001b[38;5;241;43m=\u001b[39;49m\u001b[43mfill_value\u001b[49m\u001b[43m,\u001b[49m\n\u001b[1;32m    982\u001b[0m \u001b[43m\u001b[49m\u001b[43m)\u001b[49m\n\u001b[1;32m    983\u001b[0m \u001b[38;5;28;01mreturn\u001b[39;00m Dataset\u001b[38;5;241m.\u001b[39m_construct_direct(\u001b[38;5;241m*\u001b[39m\u001b[38;5;241m*\u001b[39mmerge_result\u001b[38;5;241m.\u001b[39m_asdict())\n",
      "File \u001b[0;32m/opt/miniconda3/envs/herbie/lib/python3.13/site-packages/xarray/core/merge.py:701\u001b[0m, in \u001b[0;36mmerge_core\u001b[0;34m(objects, compat, join, combine_attrs, priority_arg, explicit_coords, indexes, fill_value, skip_align_args)\u001b[0m\n\u001b[1;32m    699\u001b[0m collected \u001b[38;5;241m=\u001b[39m collect_variables_and_indexes(aligned, indexes\u001b[38;5;241m=\u001b[39mindexes)\n\u001b[1;32m    700\u001b[0m prioritized \u001b[38;5;241m=\u001b[39m _get_priority_vars_and_indexes(aligned, priority_arg, compat\u001b[38;5;241m=\u001b[39mcompat)\n\u001b[0;32m--> 701\u001b[0m variables, out_indexes \u001b[38;5;241m=\u001b[39m \u001b[43mmerge_collected\u001b[49m\u001b[43m(\u001b[49m\n\u001b[1;32m    702\u001b[0m \u001b[43m    \u001b[49m\u001b[43mcollected\u001b[49m\u001b[43m,\u001b[49m\u001b[43m \u001b[49m\u001b[43mprioritized\u001b[49m\u001b[43m,\u001b[49m\u001b[43m \u001b[49m\u001b[43mcompat\u001b[49m\u001b[38;5;241;43m=\u001b[39;49m\u001b[43mcompat\u001b[49m\u001b[43m,\u001b[49m\u001b[43m \u001b[49m\u001b[43mcombine_attrs\u001b[49m\u001b[38;5;241;43m=\u001b[39;49m\u001b[43mcombine_attrs\u001b[49m\n\u001b[1;32m    703\u001b[0m \u001b[43m\u001b[49m\u001b[43m)\u001b[49m\n\u001b[1;32m    705\u001b[0m dims \u001b[38;5;241m=\u001b[39m calculate_dimensions(variables)\n\u001b[1;32m    707\u001b[0m coord_names, noncoord_names \u001b[38;5;241m=\u001b[39m determine_coords(coerced)\n",
      "File \u001b[0;32m/opt/miniconda3/envs/herbie/lib/python3.13/site-packages/xarray/core/merge.py:290\u001b[0m, in \u001b[0;36mmerge_collected\u001b[0;34m(grouped, prioritized, compat, combine_attrs, equals)\u001b[0m\n\u001b[1;32m    288\u001b[0m variables \u001b[38;5;241m=\u001b[39m [variable \u001b[38;5;28;01mfor\u001b[39;00m variable, _ \u001b[38;5;129;01min\u001b[39;00m elements_list]\n\u001b[1;32m    289\u001b[0m \u001b[38;5;28;01mtry\u001b[39;00m:\n\u001b[0;32m--> 290\u001b[0m     merged_vars[name] \u001b[38;5;241m=\u001b[39m \u001b[43munique_variable\u001b[49m\u001b[43m(\u001b[49m\n\u001b[1;32m    291\u001b[0m \u001b[43m        \u001b[49m\u001b[43mname\u001b[49m\u001b[43m,\u001b[49m\u001b[43m \u001b[49m\u001b[43mvariables\u001b[49m\u001b[43m,\u001b[49m\u001b[43m \u001b[49m\u001b[43mcompat\u001b[49m\u001b[43m,\u001b[49m\u001b[43m \u001b[49m\u001b[43mequals\u001b[49m\u001b[38;5;241;43m.\u001b[39;49m\u001b[43mget\u001b[49m\u001b[43m(\u001b[49m\u001b[43mname\u001b[49m\u001b[43m,\u001b[49m\u001b[43m \u001b[49m\u001b[38;5;28;43;01mNone\u001b[39;49;00m\u001b[43m)\u001b[49m\n\u001b[1;32m    292\u001b[0m \u001b[43m    \u001b[49m\u001b[43m)\u001b[49m\n\u001b[1;32m    293\u001b[0m \u001b[38;5;28;01mexcept\u001b[39;00m MergeError:\n\u001b[1;32m    294\u001b[0m     \u001b[38;5;28;01mif\u001b[39;00m compat \u001b[38;5;241m!=\u001b[39m \u001b[38;5;124m\"\u001b[39m\u001b[38;5;124mminimal\u001b[39m\u001b[38;5;124m\"\u001b[39m:\n\u001b[1;32m    295\u001b[0m         \u001b[38;5;66;03m# we need more than \"minimal\" compatibility (for which\u001b[39;00m\n\u001b[1;32m    296\u001b[0m         \u001b[38;5;66;03m# we drop conflicting coordinates)\u001b[39;00m\n",
      "File \u001b[0;32m/opt/miniconda3/envs/herbie/lib/python3.13/site-packages/xarray/core/merge.py:144\u001b[0m, in \u001b[0;36munique_variable\u001b[0;34m(name, variables, compat, equals)\u001b[0m\n\u001b[1;32m    141\u001b[0m                 \u001b[38;5;28;01mbreak\u001b[39;00m\n\u001b[1;32m    143\u001b[0m \u001b[38;5;28;01mif\u001b[39;00m \u001b[38;5;129;01mnot\u001b[39;00m equals:\n\u001b[0;32m--> 144\u001b[0m     \u001b[38;5;28;01mraise\u001b[39;00m MergeError(\n\u001b[1;32m    145\u001b[0m         \u001b[38;5;124mf\u001b[39m\u001b[38;5;124m\"\u001b[39m\u001b[38;5;124mconflicting values for variable \u001b[39m\u001b[38;5;132;01m{\u001b[39;00mname\u001b[38;5;132;01m!r}\u001b[39;00m\u001b[38;5;124m on objects to be combined. \u001b[39m\u001b[38;5;124m\"\u001b[39m\n\u001b[1;32m    146\u001b[0m         \u001b[38;5;124m\"\u001b[39m\u001b[38;5;124mYou can skip this check by specifying compat=\u001b[39m\u001b[38;5;124m'\u001b[39m\u001b[38;5;124moverride\u001b[39m\u001b[38;5;124m'\u001b[39m\u001b[38;5;124m.\u001b[39m\u001b[38;5;124m\"\u001b[39m\n\u001b[1;32m    147\u001b[0m     )\n\u001b[1;32m    149\u001b[0m \u001b[38;5;28;01mif\u001b[39;00m combine_method:\n\u001b[1;32m    150\u001b[0m     \u001b[38;5;28;01mfor\u001b[39;00m var \u001b[38;5;129;01min\u001b[39;00m variables[\u001b[38;5;241m1\u001b[39m:]:\n",
      "\u001b[0;31mMergeError\u001b[0m: conflicting values for variable 'isobaricInhPa' on objects to be combined. You can skip this check by specifying compat='override'."
     ]
    }
   ],
   "source": [
    "# there might be a faster way to do this...\n",
    "tstore = []\n",
    "for fxx in np.arange(1,4): \n",
    "    vstore = []\n",
    "    for var in variables:\n",
    "        _ = Herbie(\n",
    "            recent,\n",
    "            model=\"hrdps\",\n",
    "            fxx=int(fxx),\n",
    "            product=\"continental/2.5km\",\n",
    "            variable=var,\n",
    "            level=variables[var],\n",
    "            ).xarray()\n",
    "        # if the variable name is unknown, assign it\n",
    "        if \"unknown\" in _:\n",
    "            _ = _.rename({\"unknown\":var})\n",
    "        \n",
    "        vstore.append(_)\n",
    "        \n",
    "\n",
    "    _ds = xr.merge(vstore) # merge variable types at time t\n",
    "    tstore.append(_ds)\n",
    "ds = xr.concat(tstore, dim=\"valid_time\") # merge timesteps\n",
    "\n",
    "ds"
   ]
  },
  {
   "cell_type": "code",
   "execution_count": null,
   "id": "d6f78fe6",
   "metadata": {},
   "outputs": [],
   "source": [
    "location=\"revelstoke\"\n",
    "# select the closest pixel to \"revelstoke\"\n",
    "# HRDPS doesnt grid on lat/lon, so this becomes necessary\n",
    "ds.sel((((ds.longitude - locations[location][\"longitude\"]) ** 2 \n",
    "       + (ds.latitude - locations[location][\"latitude\"]) ** 2) ** 0.5).argmin(dim=[\"x\", \"y\"]))"
   ]
  },
  {
   "cell_type": "code",
   "execution_count": null,
   "id": "6d48aa61",
   "metadata": {},
   "outputs": [],
   "source": []
  }
 ],
 "metadata": {
  "kernelspec": {
   "display_name": "Python 3 (ipykernel)",
   "language": "python",
   "name": "python3"
  },
  "language_info": {
   "codemirror_mode": {
    "name": "ipython",
    "version": 3
   },
   "file_extension": ".py",
   "mimetype": "text/x-python",
   "name": "python",
   "nbconvert_exporter": "python",
   "pygments_lexer": "ipython3",
   "version": "3.13.0"
  }
 },
 "nbformat": 4,
 "nbformat_minor": 5
}
